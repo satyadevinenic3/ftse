{
 "cells": [
  {
   "cell_type": "code",
   "execution_count": 61,
   "id": "cf02aafc-c5b9-4e58-b9a6-7c29a3b5e812",
   "metadata": {},
   "outputs": [],
   "source": [
    "## imports\n",
    "from rich.pretty import pprint"
   ]
  },
  {
   "cell_type": "markdown",
   "id": "72aab52d-2c3f-464c-bd8a-e3f5b7656126",
   "metadata": {},
   "source": [
    "## Import and set configs"
   ]
  },
  {
   "cell_type": "code",
   "execution_count": 62,
   "id": "57c3a567-e6b4-476f-9920-01ab3c900813",
   "metadata": {},
   "outputs": [],
   "source": [
    "from ftse.gin.utils import instantiate\n",
    "instantiate();\n",
    "\n",
    "from ftse.data.data_loader import get_datasets"
   ]
  },
  {
   "cell_type": "markdown",
   "id": "c0d59f5c-509d-4b65-bfa4-c3e52872ddc9",
   "metadata": {},
   "source": [
    "## Load datasets"
   ]
  },
  {
   "cell_type": "code",
   "execution_count": 63,
   "id": "ad777e67-695e-4e89-a81a-893b03c18e4b",
   "metadata": {},
   "outputs": [],
   "source": [
    "datasets = get_datasets()"
   ]
  },
  {
   "cell_type": "markdown",
   "id": "631fe9c0-ff08-4434-8e18-09cf0d4ade32",
   "metadata": {},
   "source": [
    "## Print dataset keys"
   ]
  },
  {
   "cell_type": "code",
   "execution_count": 64,
   "id": "8f4544c2-66a4-4151-bb5a-6392bb0bbb25",
   "metadata": {},
   "outputs": [
    {
     "name": "stdout",
     "output_type": "stream",
     "text": [
      "['Appliances energy prediction Data Set', 'Gas sensor array temperature modulation', 'Household Electric Power Consumption', 'Machinery Fault Diagnosis', 'MetroPT-3 Dataset', 'Predictive Maintenance Of Hydraulics System', 'SKAB - Skoltech Anomaly Benchmark', 'Unleashing the Power of Wearables', 'c3server', 'liu', 'NATOPS', 'Epilepsy', 'ArticularyWordRecognition', 'UWaveGestureLibrary', 'SelfRegulationSCP2', 'Cricket', 'ERing', 'CharacterTrajectories', 'FingerMovements', 'SelfRegulationSCP1', 'BasicMotions', 'AtrialFibrillation', 'HandMovementDirection', 'Handwriting', 'Libras', 'LSST', 'RacketSports', 'SpokenArabicDigits', 'weather', 'illness', 'ett']\n"
     ]
    }
   ],
   "source": [
    "print(list(datasets.keys()))"
   ]
  },
  {
   "cell_type": "markdown",
   "id": "b4ffcdc7-ffd0-471c-9281-9e3e9d59b49e",
   "metadata": {},
   "source": [
    "## Access dataset element"
   ]
  },
  {
   "cell_type": "code",
   "execution_count": 20,
   "id": "2eeccf01-45e8-436b-b02c-7a4151000ab7",
   "metadata": {},
   "outputs": [
    {
     "data": {
      "text/plain": [
       "Data(data=tensor([[60.0000, 30.0000, 19.8900,  ...,  7.0000, 63.0000,  5.3000],\n",
       "        [60.0000, 30.0000, 19.8900,  ...,  6.6667, 59.1667,  5.2000],\n",
       "        [50.0000, 30.0000, 19.8900,  ...,  6.3333, 55.3333,  5.1000],\n",
       "        ...,\n",
       "        [50.0000,  0.0000, 20.0000,  ...,  7.8333, 40.0000,  3.9300],\n",
       "        [60.0000,  0.0000, 20.0000,  ...,  8.0000, 40.0000,  3.9000],\n",
       "        [60.0000,  0.0000, 20.0000,  ...,  7.5000, 40.0000,  3.7300]],\n",
       "       dtype=torch.float64), descriptions=['Energy usage of appliance in Wh', 'Energy usage of light fixtures in the house in Wh', 'Temperature in kitchen area in Celsiue', 'Humidity in kitchen area in %', 'Temperature in living room area in Celsius', 'Humidity in living room area in %', 'Temperature in laundry room area', 'Humidity in laundry room area in %', 'Temperature in office room in Celsius', 'Humidity in office room in %', 'Temperature in bathroom in Celsius', 'Humidity in bathroom in %', 'Temperature outside the building (north side) in Celsius', 'Humidity outside the building (north side) in %', 'Temperature in ironing room in Celsius', 'Humidity in ironing room in %', 'Temperature in teenager room 2 in Celsius', 'Humidity in teenager room 2 in %', 'Temperature in parents room in Celsius', 'Humidity in parents room in %', 'Temperature outside in Celsius', 'Pressure in mm Hg', 'Humidity outside in %', 'Wind speed in m/s', 'Visibility in km', 'Dew point temperature in Celsius'], label='No Annotation', dataset_name='Appliances energy prediction Data Set', positions=None)"
      ]
     },
     "execution_count": 20,
     "metadata": {},
     "output_type": "execute_result"
    }
   ],
   "source": [
    "datasets['Appliances energy prediction Data Set'][0]"
   ]
  },
  {
   "cell_type": "code",
   "execution_count": 89,
   "id": "30f2f9da-d14c-481f-9d66-be322637219d",
   "metadata": {},
   "outputs": [],
   "source": [
    "import h5py"
   ]
  },
  {
   "cell_type": "code",
   "execution_count": 97,
   "id": "63af2f51-c00f-47c4-bd77-c87b19d037bf",
   "metadata": {},
   "outputs": [],
   "source": [
    "H5_FILE = '/data/TimeSeriesResearch/datasets/new_time_series_data.h5'"
   ]
  },
  {
   "cell_type": "code",
   "execution_count": 98,
   "id": "b7c7c573-d5b3-4612-a54c-a5db33886bd0",
   "metadata": {},
   "outputs": [],
   "source": [
    "f = h5py.File(H5_FILE, 'r')"
   ]
  },
  {
   "cell_type": "code",
   "execution_count": 100,
   "id": "ad25c865-82ca-45bb-a812-9d9c7808e618",
   "metadata": {
    "scrolled": true
   },
   "outputs": [
    {
     "data": {
      "text/plain": [
       "<KeysViewHDF5 ['Appliances energy prediction Data Set___No Annotation___0', 'Gas sensor array temperature modulation___No Annotation___0', 'Gas sensor array temperature modulation___No Annotation___1', 'Gas sensor array temperature modulation___No Annotation___10', 'Gas sensor array temperature modulation___No Annotation___11', 'Gas sensor array temperature modulation___No Annotation___12', 'Gas sensor array temperature modulation___No Annotation___2', 'Gas sensor array temperature modulation___No Annotation___3', 'Gas sensor array temperature modulation___No Annotation___4', 'Gas sensor array temperature modulation___No Annotation___5', 'Gas sensor array temperature modulation___No Annotation___6', 'Gas sensor array temperature modulation___No Annotation___7', 'Gas sensor array temperature modulation___No Annotation___8', 'Gas sensor array temperature modulation___No Annotation___9', 'Household Electric Power Consumption___No Annotation___0', 'Machinery Fault Diagnosis___horizontal-misalignment-0.5mm___0', 'Machinery Fault Diagnosis___horizontal-misalignment-0.5mm___1', 'Machinery Fault Diagnosis___horizontal-misalignment-0.5mm___10', 'Machinery Fault Diagnosis___horizontal-misalignment-0.5mm___11', 'Machinery Fault Diagnosis___horizontal-misalignment-0.5mm___12', 'Machinery Fault Diagnosis___horizontal-misalignment-0.5mm___13', 'Machinery Fault Diagnosis___horizontal-misalignment-0.5mm___14', 'Machinery Fault Diagnosis___horizontal-misalignment-0.5mm___15', 'Machinery Fault Diagnosis___horizontal-misalignment-0.5mm___16', 'Machinery Fault Diagnosis___horizontal-misalignment-0.5mm___17', 'Machinery Fault Diagnosis___horizontal-misalignment-0.5mm___18', 'Machinery Fault Diagnosis___horizontal-misalignment-0.5mm___19', 'Machinery Fault Diagnosis___horizontal-misalignment-0.5mm___2', 'Machinery Fault Diagnosis___horizontal-misalignment-0.5mm___20', 'Machinery Fault Diagnosis___horizontal-misalignment-0.5mm___21', 'Machinery Fault Diagnosis___horizontal-misalignment-0.5mm___22', 'Machinery Fault Diagnosis___horizontal-misalignment-0.5mm___23', 'Machinery Fault Diagnosis___horizontal-misalignment-0.5mm___24', 'Machinery Fault Diagnosis___horizontal-misalignment-0.5mm___25', 'Machinery Fault Diagnosis___horizontal-misalignment-0.5mm___26', 'Machinery Fault Diagnosis___horizontal-misalignment-0.5mm___27', 'Machinery Fault Diagnosis___horizontal-misalignment-0.5mm___28', 'Machinery Fault Diagnosis___horizontal-misalignment-0.5mm___29', 'Machinery Fault Diagnosis___horizontal-misalignment-0.5mm___3', 'Machinery Fault Diagnosis___horizontal-misalignment-0.5mm___30', 'Machinery Fault Diagnosis___horizontal-misalignment-0.5mm___31', 'Machinery Fault Diagnosis___horizontal-misalignment-0.5mm___32', 'Machinery Fault Diagnosis___horizontal-misalignment-0.5mm___33', 'Machinery Fault Diagnosis___horizontal-misalignment-0.5mm___34', 'Machinery Fault Diagnosis___horizontal-misalignment-0.5mm___35', 'Machinery Fault Diagnosis___horizontal-misalignment-0.5mm___36', 'Machinery Fault Diagnosis___horizontal-misalignment-0.5mm___37', 'Machinery Fault Diagnosis___horizontal-misalignment-0.5mm___38', 'Machinery Fault Diagnosis___horizontal-misalignment-0.5mm___39', 'Machinery Fault Diagnosis___horizontal-misalignment-0.5mm___4', 'Machinery Fault Diagnosis___horizontal-misalignment-0.5mm___40', 'Machinery Fault Diagnosis___horizontal-misalignment-0.5mm___41', 'Machinery Fault Diagnosis___horizontal-misalignment-0.5mm___42', 'Machinery Fault Diagnosis___horizontal-misalignment-0.5mm___43', 'Machinery Fault Diagnosis___horizontal-misalignment-0.5mm___44', 'Machinery Fault Diagnosis___horizontal-misalignment-0.5mm___45', 'Machinery Fault Diagnosis___horizontal-misalignment-0.5mm___46', 'Machinery Fault Diagnosis___horizontal-misalignment-0.5mm___47', 'Machinery Fault Diagnosis___horizontal-misalignment-0.5mm___48', 'Machinery Fault Diagnosis___horizontal-misalignment-0.5mm___49', 'Machinery Fault Diagnosis___horizontal-misalignment-0.5mm___5', 'Machinery Fault Diagnosis___horizontal-misalignment-0.5mm___6', 'Machinery Fault Diagnosis___horizontal-misalignment-0.5mm___7', 'Machinery Fault Diagnosis___horizontal-misalignment-0.5mm___8', 'Machinery Fault Diagnosis___horizontal-misalignment-0.5mm___9', 'Machinery Fault Diagnosis___horizontal-misalignment-1.0mm___0', 'Machinery Fault Diagnosis___horizontal-misalignment-1.0mm___1', 'Machinery Fault Diagnosis___horizontal-misalignment-1.0mm___10', 'Machinery Fault Diagnosis___horizontal-misalignment-1.0mm___11', 'Machinery Fault Diagnosis___horizontal-misalignment-1.0mm___12', 'Machinery Fault Diagnosis___horizontal-misalignment-1.0mm___13', 'Machinery Fault Diagnosis___horizontal-misalignment-1.0mm___14', 'Machinery Fault Diagnosis___horizontal-misalignment-1.0mm___15', 'Machinery Fault Diagnosis___horizontal-misalignment-1.0mm___16', 'Machinery Fault Diagnosis___horizontal-misalignment-1.0mm___17', 'Machinery Fault Diagnosis___horizontal-misalignment-1.0mm___18', 'Machinery Fault Diagnosis___horizontal-misalignment-1.0mm___19', 'Machinery Fault Diagnosis___horizontal-misalignment-1.0mm___2', 'Machinery Fault Diagnosis___horizontal-misalignment-1.0mm___20', 'Machinery Fault Diagnosis___horizontal-misalignment-1.0mm___21', 'Machinery Fault Diagnosis___horizontal-misalignment-1.0mm___22', 'Machinery Fault Diagnosis___horizontal-misalignment-1.0mm___23', 'Machinery Fault Diagnosis___horizontal-misalignment-1.0mm___24', 'Machinery Fault Diagnosis___horizontal-misalignment-1.0mm___25', 'Machinery Fault Diagnosis___horizontal-misalignment-1.0mm___26', 'Machinery Fault Diagnosis___horizontal-misalignment-1.0mm___27', 'Machinery Fault Diagnosis___horizontal-misalignment-1.0mm___28', 'Machinery Fault Diagnosis___horizontal-misalignment-1.0mm___29', 'Machinery Fault Diagnosis___horizontal-misalignment-1.0mm___3', 'Machinery Fault Diagnosis___horizontal-misalignment-1.0mm___30', 'Machinery Fault Diagnosis___horizontal-misalignment-1.0mm___31', 'Machinery Fault Diagnosis___horizontal-misalignment-1.0mm___32', 'Machinery Fault Diagnosis___horizontal-misalignment-1.0mm___33', 'Machinery Fault Diagnosis___horizontal-misalignment-1.0mm___34', 'Machinery Fault Diagnosis___horizontal-misalignment-1.0mm___35', 'Machinery Fault Diagnosis___horizontal-misalignment-1.0mm___36', 'Machinery Fault Diagnosis___horizontal-misalignment-1.0mm___37', 'Machinery Fault Diagnosis___horizontal-misalignment-1.0mm___38', 'Machinery Fault Diagnosis___horizontal-misalignment-1.0mm___39', 'Machinery Fault Diagnosis___horizontal-misalignment-1.0mm___4', 'Machinery Fault Diagnosis___horizontal-misalignment-1.0mm___40', 'Machinery Fault Diagnosis___horizontal-misalignment-1.0mm___41', 'Machinery Fault Diagnosis___horizontal-misalignment-1.0mm___42', 'Machinery Fault Diagnosis___horizontal-misalignment-1.0mm___43', 'Machinery Fault Diagnosis___horizontal-misalignment-1.0mm___44', 'Machinery Fault Diagnosis___horizontal-misalignment-1.0mm___45', 'Machinery Fault Diagnosis___horizontal-misalignment-1.0mm___46', 'Machinery Fault Diagnosis___horizontal-misalignment-1.0mm___47', 'Machinery Fault Diagnosis___horizontal-misalignment-1.0mm___48', 'Machinery Fault Diagnosis___horizontal-misalignment-1.0mm___5', 'Machinery Fault Diagnosis___horizontal-misalignment-1.0mm___6', 'Machinery Fault Diagnosis___horizontal-misalignment-1.0mm___7', 'Machinery Fault Diagnosis___horizontal-misalignment-1.0mm___8', 'Machinery Fault Diagnosis___horizontal-misalignment-1.0mm___9', 'Machinery Fault Diagnosis___horizontal-misalignment-1.5mm___0', 'Machinery Fault Diagnosis___horizontal-misalignment-1.5mm___1', 'Machinery Fault Diagnosis___horizontal-misalignment-1.5mm___10', 'Machinery Fault Diagnosis___horizontal-misalignment-1.5mm___11', 'Machinery Fault Diagnosis___horizontal-misalignment-1.5mm___12', 'Machinery Fault Diagnosis___horizontal-misalignment-1.5mm___13', 'Machinery Fault Diagnosis___horizontal-misalignment-1.5mm___14', 'Machinery Fault Diagnosis___horizontal-misalignment-1.5mm___15', 'Machinery Fault Diagnosis___horizontal-misalignment-1.5mm___16', 'Machinery Fault Diagnosis___horizontal-misalignment-1.5mm___17', 'Machinery Fault Diagnosis___horizontal-misalignment-1.5mm___18', 'Machinery Fault Diagnosis___horizontal-misalignment-1.5mm___19', 'Machinery Fault Diagnosis___horizontal-misalignment-1.5mm___2', 'Machinery Fault Diagnosis___horizontal-misalignment-1.5mm___20', 'Machinery Fault Diagnosis___horizontal-misalignment-1.5mm___21', 'Machinery Fault Diagnosis___horizontal-misalignment-1.5mm___22', 'Machinery Fault Diagnosis___horizontal-misalignment-1.5mm___23', 'Machinery Fault Diagnosis___horizontal-misalignment-1.5mm___24', 'Machinery Fault Diagnosis___horizontal-misalignment-1.5mm___25', 'Machinery Fault Diagnosis___horizontal-misalignment-1.5mm___26', 'Machinery Fault Diagnosis___horizontal-misalignment-1.5mm___27', 'Machinery Fault Diagnosis___horizontal-misalignment-1.5mm___28', 'Machinery Fault Diagnosis___horizontal-misalignment-1.5mm___29', 'Machinery Fault Diagnosis___horizontal-misalignment-1.5mm___3', 'Machinery Fault Diagnosis___horizontal-misalignment-1.5mm___30', 'Machinery Fault Diagnosis___horizontal-misalignment-1.5mm___31', 'Machinery Fault Diagnosis___horizontal-misalignment-1.5mm___32', 'Machinery Fault Diagnosis___horizontal-misalignment-1.5mm___33', 'Machinery Fault Diagnosis___horizontal-misalignment-1.5mm___34', 'Machinery Fault Diagnosis___horizontal-misalignment-1.5mm___35', 'Machinery Fault Diagnosis___horizontal-misalignment-1.5mm___36', 'Machinery Fault Diagnosis___horizontal-misalignment-1.5mm___37', 'Machinery Fault Diagnosis___horizontal-misalignment-1.5mm___38', 'Machinery Fault Diagnosis___horizontal-misalignment-1.5mm___39', 'Machinery Fault Diagnosis___horizontal-misalignment-1.5mm___4', 'Machinery Fault Diagnosis___horizontal-misalignment-1.5mm___40', 'Machinery Fault Diagnosis___horizontal-misalignment-1.5mm___41', 'Machinery Fault Diagnosis___horizontal-misalignment-1.5mm___42', 'Machinery Fault Diagnosis___horizontal-misalignment-1.5mm___43', 'Machinery Fault Diagnosis___horizontal-misalignment-1.5mm___44', 'Machinery Fault Diagnosis___horizontal-misalignment-1.5mm___45', 'Machinery Fault Diagnosis___horizontal-misalignment-1.5mm___46', 'Machinery Fault Diagnosis___horizontal-misalignment-1.5mm___47', 'Machinery Fault Diagnosis___horizontal-misalignment-1.5mm___48', 'Machinery Fault Diagnosis___horizontal-misalignment-1.5mm___5', 'Machinery Fault Diagnosis___horizontal-misalignment-1.5mm___6', 'Machinery Fault Diagnosis___horizontal-misalignment-1.5mm___7', 'Machinery Fault Diagnosis___horizontal-misalignment-1.5mm___8', 'Machinery Fault Diagnosis___horizontal-misalignment-1.5mm___9', 'Machinery Fault Diagnosis___horizontal-misalignment-2.0mm___0', 'Machinery Fault Diagnosis___horizontal-misalignment-2.0mm___1', 'Machinery Fault Diagnosis___horizontal-misalignment-2.0mm___10', 'Machinery Fault Diagnosis___horizontal-misalignment-2.0mm___11', 'Machinery Fault Diagnosis___horizontal-misalignment-2.0mm___12', 'Machinery Fault Diagnosis___horizontal-misalignment-2.0mm___13', 'Machinery Fault Diagnosis___horizontal-misalignment-2.0mm___14', 'Machinery Fault Diagnosis___horizontal-misalignment-2.0mm___15', 'Machinery Fault Diagnosis___horizontal-misalignment-2.0mm___16', 'Machinery Fault Diagnosis___horizontal-misalignment-2.0mm___17', 'Machinery Fault Diagnosis___horizontal-misalignment-2.0mm___18', 'Machinery Fault Diagnosis___horizontal-misalignment-2.0mm___19', 'Machinery Fault Diagnosis___horizontal-misalignment-2.0mm___2', 'Machinery Fault Diagnosis___horizontal-misalignment-2.0mm___20', 'Machinery Fault Diagnosis___horizontal-misalignment-2.0mm___21', 'Machinery Fault Diagnosis___horizontal-misalignment-2.0mm___22', 'Machinery Fault Diagnosis___horizontal-misalignment-2.0mm___23', 'Machinery Fault Diagnosis___horizontal-misalignment-2.0mm___24', 'Machinery Fault Diagnosis___horizontal-misalignment-2.0mm___25', 'Machinery Fault Diagnosis___horizontal-misalignment-2.0mm___26', 'Machinery Fault Diagnosis___horizontal-misalignment-2.0mm___27', 'Machinery Fault Diagnosis___horizontal-misalignment-2.0mm___28', 'Machinery Fault Diagnosis___horizontal-misalignment-2.0mm___29', 'Machinery Fault Diagnosis___horizontal-misalignment-2.0mm___3', 'Machinery Fault Diagnosis___horizontal-misalignment-2.0mm___30', 'Machinery Fault Diagnosis___horizontal-misalignment-2.0mm___31', 'Machinery Fault Diagnosis___horizontal-misalignment-2.0mm___32', 'Machinery Fault Diagnosis___horizontal-misalignment-2.0mm___33', 'Machinery Fault Diagnosis___horizontal-misalignment-2.0mm___34', 'Machinery Fault Diagnosis___horizontal-misalignment-2.0mm___35', 'Machinery Fault Diagnosis___horizontal-misalignment-2.0mm___36', 'Machinery Fault Diagnosis___horizontal-misalignment-2.0mm___37', 'Machinery Fault Diagnosis___horizontal-misalignment-2.0mm___38', 'Machinery Fault Diagnosis___horizontal-misalignment-2.0mm___39', 'Machinery Fault Diagnosis___horizontal-misalignment-2.0mm___4', 'Machinery Fault Diagnosis___horizontal-misalignment-2.0mm___40', 'Machinery Fault Diagnosis___horizontal-misalignment-2.0mm___41', 'Machinery Fault Diagnosis___horizontal-misalignment-2.0mm___42', 'Machinery Fault Diagnosis___horizontal-misalignment-2.0mm___43', 'Machinery Fault Diagnosis___horizontal-misalignment-2.0mm___44', 'Machinery Fault Diagnosis___horizontal-misalignment-2.0mm___45', 'Machinery Fault Diagnosis___horizontal-misalignment-2.0mm___46', 'Machinery Fault Diagnosis___horizontal-misalignment-2.0mm___47', 'Machinery Fault Diagnosis___horizontal-misalignment-2.0mm___48', 'Machinery Fault Diagnosis___horizontal-misalignment-2.0mm___5', 'Machinery Fault Diagnosis___horizontal-misalignment-2.0mm___6', 'Machinery Fault Diagnosis___horizontal-misalignment-2.0mm___7', 'Machinery Fault Diagnosis___horizontal-misalignment-2.0mm___8', 'Machinery Fault Diagnosis___horizontal-misalignment-2.0mm___9', 'Machinery Fault Diagnosis___imbalance-10g___0', 'Machinery Fault Diagnosis___imbalance-10g___1', 'Machinery Fault Diagnosis___imbalance-10g___10', 'Machinery Fault Diagnosis___imbalance-10g___11', 'Machinery Fault Diagnosis___imbalance-10g___12', 'Machinery Fault Diagnosis___imbalance-10g___13', 'Machinery Fault Diagnosis___imbalance-10g___14', 'Machinery Fault Diagnosis___imbalance-10g___15', 'Machinery Fault Diagnosis___imbalance-10g___16', 'Machinery Fault Diagnosis___imbalance-10g___17', 'Machinery Fault Diagnosis___imbalance-10g___18', 'Machinery Fault Diagnosis___imbalance-10g___19', 'Machinery Fault Diagnosis___imbalance-10g___2', 'Machinery Fault Diagnosis___imbalance-10g___20', 'Machinery Fault Diagnosis___imbalance-10g___21', 'Machinery Fault Diagnosis___imbalance-10g___22', 'Machinery Fault Diagnosis___imbalance-10g___23', 'Machinery Fault Diagnosis___imbalance-10g___24', 'Machinery Fault Diagnosis___imbalance-10g___25', 'Machinery Fault Diagnosis___imbalance-10g___26', 'Machinery Fault Diagnosis___imbalance-10g___27', 'Machinery Fault Diagnosis___imbalance-10g___28', 'Machinery Fault Diagnosis___imbalance-10g___29', 'Machinery Fault Diagnosis___imbalance-10g___3', 'Machinery Fault Diagnosis___imbalance-10g___30', 'Machinery Fault Diagnosis___imbalance-10g___31', 'Machinery Fault Diagnosis___imbalance-10g___32', 'Machinery Fault Diagnosis___imbalance-10g___33', 'Machinery Fault Diagnosis___imbalance-10g___34', 'Machinery Fault Diagnosis___imbalance-10g___35', 'Machinery Fault Diagnosis___imbalance-10g___36', 'Machinery Fault Diagnosis___imbalance-10g___37', 'Machinery Fault Diagnosis___imbalance-10g___38', 'Machinery Fault Diagnosis___imbalance-10g___39', 'Machinery Fault Diagnosis___imbalance-10g___4', 'Machinery Fault Diagnosis___imbalance-10g___40', 'Machinery Fault Diagnosis___imbalance-10g___41', 'Machinery Fault Diagnosis___imbalance-10g___42', 'Machinery Fault Diagnosis___imbalance-10g___43', 'Machinery Fault Diagnosis___imbalance-10g___44', 'Machinery Fault Diagnosis___imbalance-10g___45', 'Machinery Fault Diagnosis___imbalance-10g___46', 'Machinery Fault Diagnosis___imbalance-10g___47', 'Machinery Fault Diagnosis___imbalance-10g___5', 'Machinery Fault Diagnosis___imbalance-10g___6', 'Machinery Fault Diagnosis___imbalance-10g___7', 'Machinery Fault Diagnosis___imbalance-10g___8', 'Machinery Fault Diagnosis___imbalance-10g___9', 'Machinery Fault Diagnosis___imbalance-15g___0', 'Machinery Fault Diagnosis___imbalance-15g___1', 'Machinery Fault Diagnosis___imbalance-15g___10', 'Machinery Fault Diagnosis___imbalance-15g___11', 'Machinery Fault Diagnosis___imbalance-15g___12', 'Machinery Fault Diagnosis___imbalance-15g___13', 'Machinery Fault Diagnosis___imbalance-15g___14', 'Machinery Fault Diagnosis___imbalance-15g___15', 'Machinery Fault Diagnosis___imbalance-15g___16', 'Machinery Fault Diagnosis___imbalance-15g___17', 'Machinery Fault Diagnosis___imbalance-15g___18', 'Machinery Fault Diagnosis___imbalance-15g___19', 'Machinery Fault Diagnosis___imbalance-15g___2', 'Machinery Fault Diagnosis___imbalance-15g___20', 'Machinery Fault Diagnosis___imbalance-15g___21', 'Machinery Fault Diagnosis___imbalance-15g___22', 'Machinery Fault Diagnosis___imbalance-15g___23', 'Machinery Fault Diagnosis___imbalance-15g___24', 'Machinery Fault Diagnosis___imbalance-15g___25', 'Machinery Fault Diagnosis___imbalance-15g___26', 'Machinery Fault Diagnosis___imbalance-15g___27', 'Machinery Fault Diagnosis___imbalance-15g___28', 'Machinery Fault Diagnosis___imbalance-15g___29', 'Machinery Fault Diagnosis___imbalance-15g___3', 'Machinery Fault Diagnosis___imbalance-15g___30', 'Machinery Fault Diagnosis___imbalance-15g___31', 'Machinery Fault Diagnosis___imbalance-15g___32', 'Machinery Fault Diagnosis___imbalance-15g___33', 'Machinery Fault Diagnosis___imbalance-15g___34', 'Machinery Fault Diagnosis___imbalance-15g___35', 'Machinery Fault Diagnosis___imbalance-15g___36', 'Machinery Fault Diagnosis___imbalance-15g___37', 'Machinery Fault Diagnosis___imbalance-15g___38', 'Machinery Fault Diagnosis___imbalance-15g___39', 'Machinery Fault Diagnosis___imbalance-15g___4', 'Machinery Fault Diagnosis___imbalance-15g___40', 'Machinery Fault Diagnosis___imbalance-15g___41', 'Machinery Fault Diagnosis___imbalance-15g___42', 'Machinery Fault Diagnosis___imbalance-15g___43', 'Machinery Fault Diagnosis___imbalance-15g___44', 'Machinery Fault Diagnosis___imbalance-15g___45', 'Machinery Fault Diagnosis___imbalance-15g___46', 'Machinery Fault Diagnosis___imbalance-15g___47', 'Machinery Fault Diagnosis___imbalance-15g___5', 'Machinery Fault Diagnosis___imbalance-15g___6', 'Machinery Fault Diagnosis___imbalance-15g___7', 'Machinery Fault Diagnosis___imbalance-15g___8', 'Machinery Fault Diagnosis___imbalance-15g___9', 'Machinery Fault Diagnosis___imbalance-20g___0', 'Machinery Fault Diagnosis___imbalance-20g___1', 'Machinery Fault Diagnosis___imbalance-20g___10', 'Machinery Fault Diagnosis___imbalance-20g___11', 'Machinery Fault Diagnosis___imbalance-20g___12', 'Machinery Fault Diagnosis___imbalance-20g___13', 'Machinery Fault Diagnosis___imbalance-20g___14', 'Machinery Fault Diagnosis___imbalance-20g___15', 'Machinery Fault Diagnosis___imbalance-20g___16', 'Machinery Fault Diagnosis___imbalance-20g___17', 'Machinery Fault Diagnosis___imbalance-20g___18', 'Machinery Fault Diagnosis___imbalance-20g___19', 'Machinery Fault Diagnosis___imbalance-20g___2', 'Machinery Fault Diagnosis___imbalance-20g___20', 'Machinery Fault Diagnosis___imbalance-20g___21', 'Machinery Fault Diagnosis___imbalance-20g___22', 'Machinery Fault Diagnosis___imbalance-20g___23', 'Machinery Fault Diagnosis___imbalance-20g___24', 'Machinery Fault Diagnosis___imbalance-20g___25', 'Machinery Fault Diagnosis___imbalance-20g___26', 'Machinery Fault Diagnosis___imbalance-20g___27', 'Machinery Fault Diagnosis___imbalance-20g___28', 'Machinery Fault Diagnosis___imbalance-20g___29', 'Machinery Fault Diagnosis___imbalance-20g___3', 'Machinery Fault Diagnosis___imbalance-20g___30', 'Machinery Fault Diagnosis___imbalance-20g___31', 'Machinery Fault Diagnosis___imbalance-20g___32', 'Machinery Fault Diagnosis___imbalance-20g___33', 'Machinery Fault Diagnosis___imbalance-20g___34', 'Machinery Fault Diagnosis___imbalance-20g___35', 'Machinery Fault Diagnosis___imbalance-20g___36', 'Machinery Fault Diagnosis___imbalance-20g___37', 'Machinery Fault Diagnosis___imbalance-20g___38', 'Machinery Fault Diagnosis___imbalance-20g___39', 'Machinery Fault Diagnosis___imbalance-20g___4', 'Machinery Fault Diagnosis___imbalance-20g___40', 'Machinery Fault Diagnosis___imbalance-20g___41', 'Machinery Fault Diagnosis___imbalance-20g___42', 'Machinery Fault Diagnosis___imbalance-20g___43', 'Machinery Fault Diagnosis___imbalance-20g___44', 'Machinery Fault Diagnosis___imbalance-20g___45', 'Machinery Fault Diagnosis___imbalance-20g___46', 'Machinery Fault Diagnosis___imbalance-20g___47', 'Machinery Fault Diagnosis___imbalance-20g___48', 'Machinery Fault Diagnosis___imbalance-20g___5', 'Machinery Fault Diagnosis___imbalance-20g___6', 'Machinery Fault Diagnosis___imbalance-20g___7', 'Machinery Fault Diagnosis___imbalance-20g___8', 'Machinery Fault Diagnosis___imbalance-20g___9', 'Machinery Fault Diagnosis___imbalance-25g___0', 'Machinery Fault Diagnosis___imbalance-25g___1', 'Machinery Fault Diagnosis___imbalance-25g___10', 'Machinery Fault Diagnosis___imbalance-25g___11', 'Machinery Fault Diagnosis___imbalance-25g___12', 'Machinery Fault Diagnosis___imbalance-25g___13', 'Machinery Fault Diagnosis___imbalance-25g___14', 'Machinery Fault Diagnosis___imbalance-25g___15', 'Machinery Fault Diagnosis___imbalance-25g___16', 'Machinery Fault Diagnosis___imbalance-25g___17', 'Machinery Fault Diagnosis___imbalance-25g___18', 'Machinery Fault Diagnosis___imbalance-25g___19', 'Machinery Fault Diagnosis___imbalance-25g___2', 'Machinery Fault Diagnosis___imbalance-25g___20', 'Machinery Fault Diagnosis___imbalance-25g___21', 'Machinery Fault Diagnosis___imbalance-25g___22', 'Machinery Fault Diagnosis___imbalance-25g___23', 'Machinery Fault Diagnosis___imbalance-25g___24', 'Machinery Fault Diagnosis___imbalance-25g___25', 'Machinery Fault Diagnosis___imbalance-25g___26', 'Machinery Fault Diagnosis___imbalance-25g___27', 'Machinery Fault Diagnosis___imbalance-25g___28', 'Machinery Fault Diagnosis___imbalance-25g___29', 'Machinery Fault Diagnosis___imbalance-25g___3', 'Machinery Fault Diagnosis___imbalance-25g___30', 'Machinery Fault Diagnosis___imbalance-25g___31', 'Machinery Fault Diagnosis___imbalance-25g___32', 'Machinery Fault Diagnosis___imbalance-25g___33', 'Machinery Fault Diagnosis___imbalance-25g___34', 'Machinery Fault Diagnosis___imbalance-25g___35', 'Machinery Fault Diagnosis___imbalance-25g___36', 'Machinery Fault Diagnosis___imbalance-25g___37', 'Machinery Fault Diagnosis___imbalance-25g___38', 'Machinery Fault Diagnosis___imbalance-25g___39', 'Machinery Fault Diagnosis___imbalance-25g___4', 'Machinery Fault Diagnosis___imbalance-25g___40', 'Machinery Fault Diagnosis___imbalance-25g___41', 'Machinery Fault Diagnosis___imbalance-25g___42', 'Machinery Fault Diagnosis___imbalance-25g___43', 'Machinery Fault Diagnosis___imbalance-25g___44', 'Machinery Fault Diagnosis___imbalance-25g___45', 'Machinery Fault Diagnosis___imbalance-25g___46', 'Machinery Fault Diagnosis___imbalance-25g___5', 'Machinery Fault Diagnosis___imbalance-25g___6', 'Machinery Fault Diagnosis___imbalance-25g___7', 'Machinery Fault Diagnosis___imbalance-25g___8', 'Machinery Fault Diagnosis___imbalance-25g___9', 'Machinery Fault Diagnosis___imbalance-30g___0', 'Machinery Fault Diagnosis___imbalance-30g___1', 'Machinery Fault Diagnosis___imbalance-30g___10', 'Machinery Fault Diagnosis___imbalance-30g___11', 'Machinery Fault Diagnosis___imbalance-30g___12', 'Machinery Fault Diagnosis___imbalance-30g___13', 'Machinery Fault Diagnosis___imbalance-30g___14', 'Machinery Fault Diagnosis___imbalance-30g___15', 'Machinery Fault Diagnosis___imbalance-30g___16', 'Machinery Fault Diagnosis___imbalance-30g___17', 'Machinery Fault Diagnosis___imbalance-30g___18', 'Machinery Fault Diagnosis___imbalance-30g___19', 'Machinery Fault Diagnosis___imbalance-30g___2', 'Machinery Fault Diagnosis___imbalance-30g___20', 'Machinery Fault Diagnosis___imbalance-30g___21', 'Machinery Fault Diagnosis___imbalance-30g___22', 'Machinery Fault Diagnosis___imbalance-30g___23', 'Machinery Fault Diagnosis___imbalance-30g___24', 'Machinery Fault Diagnosis___imbalance-30g___25', 'Machinery Fault Diagnosis___imbalance-30g___26', 'Machinery Fault Diagnosis___imbalance-30g___27', 'Machinery Fault Diagnosis___imbalance-30g___28', 'Machinery Fault Diagnosis___imbalance-30g___29', 'Machinery Fault Diagnosis___imbalance-30g___3', 'Machinery Fault Diagnosis___imbalance-30g___30', 'Machinery Fault Diagnosis___imbalance-30g___31', 'Machinery Fault Diagnosis___imbalance-30g___32', 'Machinery Fault Diagnosis___imbalance-30g___33', 'Machinery Fault Diagnosis___imbalance-30g___34', 'Machinery Fault Diagnosis___imbalance-30g___35', 'Machinery Fault Diagnosis___imbalance-30g___36', 'Machinery Fault Diagnosis___imbalance-30g___37', 'Machinery Fault Diagnosis___imbalance-30g___38', 'Machinery Fault Diagnosis___imbalance-30g___39', 'Machinery Fault Diagnosis___imbalance-30g___4', 'Machinery Fault Diagnosis___imbalance-30g___40', 'Machinery Fault Diagnosis___imbalance-30g___41', 'Machinery Fault Diagnosis___imbalance-30g___42', 'Machinery Fault Diagnosis___imbalance-30g___43', 'Machinery Fault Diagnosis___imbalance-30g___44', 'Machinery Fault Diagnosis___imbalance-30g___45', 'Machinery Fault Diagnosis___imbalance-30g___46', 'Machinery Fault Diagnosis___imbalance-30g___5', 'Machinery Fault Diagnosis___imbalance-30g___6', 'Machinery Fault Diagnosis___imbalance-30g___7', 'Machinery Fault Diagnosis___imbalance-30g___8', 'Machinery Fault Diagnosis___imbalance-30g___9', 'Machinery Fault Diagnosis___imbalance-35g___0', 'Machinery Fault Diagnosis___imbalance-35g___1', 'Machinery Fault Diagnosis___imbalance-35g___10', 'Machinery Fault Diagnosis___imbalance-35g___11', 'Machinery Fault Diagnosis___imbalance-35g___12', 'Machinery Fault Diagnosis___imbalance-35g___13', 'Machinery Fault Diagnosis___imbalance-35g___14', 'Machinery Fault Diagnosis___imbalance-35g___15', 'Machinery Fault Diagnosis___imbalance-35g___16', 'Machinery Fault Diagnosis___imbalance-35g___17', 'Machinery Fault Diagnosis___imbalance-35g___18', 'Machinery Fault Diagnosis___imbalance-35g___19', 'Machinery Fault Diagnosis___imbalance-35g___2', 'Machinery Fault Diagnosis___imbalance-35g___20', 'Machinery Fault Diagnosis___imbalance-35g___21', 'Machinery Fault Diagnosis___imbalance-35g___22', 'Machinery Fault Diagnosis___imbalance-35g___23', 'Machinery Fault Diagnosis___imbalance-35g___24', 'Machinery Fault Diagnosis___imbalance-35g___25', 'Machinery Fault Diagnosis___imbalance-35g___26', 'Machinery Fault Diagnosis___imbalance-35g___27', 'Machinery Fault Diagnosis___imbalance-35g___28', 'Machinery Fault Diagnosis___imbalance-35g___29', 'Machinery Fault Diagnosis___imbalance-35g___3', 'Machinery Fault Diagnosis___imbalance-35g___30', 'Machinery Fault Diagnosis___imbalance-35g___31', 'Machinery Fault Diagnosis___imbalance-35g___32', 'Machinery Fault Diagnosis___imbalance-35g___33', 'Machinery Fault Diagnosis___imbalance-35g___34', 'Machinery Fault Diagnosis___imbalance-35g___35', 'Machinery Fault Diagnosis___imbalance-35g___36', 'Machinery Fault Diagnosis___imbalance-35g___37', 'Machinery Fault Diagnosis___imbalance-35g___38', 'Machinery Fault Diagnosis___imbalance-35g___39', 'Machinery Fault Diagnosis___imbalance-35g___4', 'Machinery Fault Diagnosis___imbalance-35g___40', 'Machinery Fault Diagnosis___imbalance-35g___41', 'Machinery Fault Diagnosis___imbalance-35g___42', 'Machinery Fault Diagnosis___imbalance-35g___43', 'Machinery Fault Diagnosis___imbalance-35g___44', 'Machinery Fault Diagnosis___imbalance-35g___5', 'Machinery Fault Diagnosis___imbalance-35g___6', 'Machinery Fault Diagnosis___imbalance-35g___7', 'Machinery Fault Diagnosis___imbalance-35g___8', 'Machinery Fault Diagnosis___imbalance-35g___9', 'Machinery Fault Diagnosis___imbalance-6g___0', 'Machinery Fault Diagnosis___imbalance-6g___1', 'Machinery Fault Diagnosis___imbalance-6g___10', 'Machinery Fault Diagnosis___imbalance-6g___11', 'Machinery Fault Diagnosis___imbalance-6g___12', 'Machinery Fault Diagnosis___imbalance-6g___13', 'Machinery Fault Diagnosis___imbalance-6g___14', 'Machinery Fault Diagnosis___imbalance-6g___15', 'Machinery Fault Diagnosis___imbalance-6g___16', 'Machinery Fault Diagnosis___imbalance-6g___17', 'Machinery Fault Diagnosis___imbalance-6g___18', 'Machinery Fault Diagnosis___imbalance-6g___19', 'Machinery Fault Diagnosis___imbalance-6g___2', 'Machinery Fault Diagnosis___imbalance-6g___20', 'Machinery Fault Diagnosis___imbalance-6g___21', 'Machinery Fault Diagnosis___imbalance-6g___22', 'Machinery Fault Diagnosis___imbalance-6g___23', 'Machinery Fault Diagnosis___imbalance-6g___24', 'Machinery Fault Diagnosis___imbalance-6g___25', 'Machinery Fault Diagnosis___imbalance-6g___26', 'Machinery Fault Diagnosis___imbalance-6g___27', 'Machinery Fault Diagnosis___imbalance-6g___28', 'Machinery Fault Diagnosis___imbalance-6g___29', 'Machinery Fault Diagnosis___imbalance-6g___3', 'Machinery Fault Diagnosis___imbalance-6g___30', 'Machinery Fault Diagnosis___imbalance-6g___31', 'Machinery Fault Diagnosis___imbalance-6g___32', 'Machinery Fault Diagnosis___imbalance-6g___33', 'Machinery Fault Diagnosis___imbalance-6g___34', 'Machinery Fault Diagnosis___imbalance-6g___35', 'Machinery Fault Diagnosis___imbalance-6g___36', 'Machinery Fault Diagnosis___imbalance-6g___37', 'Machinery Fault Diagnosis___imbalance-6g___38', 'Machinery Fault Diagnosis___imbalance-6g___39', 'Machinery Fault Diagnosis___imbalance-6g___4', 'Machinery Fault Diagnosis___imbalance-6g___40', 'Machinery Fault Diagnosis___imbalance-6g___41', 'Machinery Fault Diagnosis___imbalance-6g___42', 'Machinery Fault Diagnosis___imbalance-6g___43', 'Machinery Fault Diagnosis___imbalance-6g___44', 'Machinery Fault Diagnosis___imbalance-6g___45', 'Machinery Fault Diagnosis___imbalance-6g___46', 'Machinery Fault Diagnosis___imbalance-6g___47', 'Machinery Fault Diagnosis___imbalance-6g___48', 'Machinery Fault Diagnosis___imbalance-6g___5', 'Machinery Fault Diagnosis___imbalance-6g___6', 'Machinery Fault Diagnosis___imbalance-6g___7', 'Machinery Fault Diagnosis___imbalance-6g___8', 'Machinery Fault Diagnosis___imbalance-6g___9', 'Machinery Fault Diagnosis___normal___0', 'Machinery Fault Diagnosis___normal___1', 'Machinery Fault Diagnosis___normal___10', 'Machinery Fault Diagnosis___normal___11', 'Machinery Fault Diagnosis___normal___12', 'Machinery Fault Diagnosis___normal___13', 'Machinery Fault Diagnosis___normal___14', 'Machinery Fault Diagnosis___normal___15', 'Machinery Fault Diagnosis___normal___16', 'Machinery Fault Diagnosis___normal___17', 'Machinery Fault Diagnosis___normal___18', 'Machinery Fault Diagnosis___normal___19', 'Machinery Fault Diagnosis___normal___2', 'Machinery Fault Diagnosis___normal___20', 'Machinery Fault Diagnosis___normal___21', 'Machinery Fault Diagnosis___normal___22', 'Machinery Fault Diagnosis___normal___23', 'Machinery Fault Diagnosis___normal___24', 'Machinery Fault Diagnosis___normal___25', 'Machinery Fault Diagnosis___normal___26', 'Machinery Fault Diagnosis___normal___27', 'Machinery Fault Diagnosis___normal___28', 'Machinery Fault Diagnosis___normal___29', 'Machinery Fault Diagnosis___normal___3', 'Machinery Fault Diagnosis___normal___30', 'Machinery Fault Diagnosis___normal___31', 'Machinery Fault Diagnosis___normal___32', 'Machinery Fault Diagnosis___normal___33', 'Machinery Fault Diagnosis___normal___34', 'Machinery Fault Diagnosis___normal___35', 'Machinery Fault Diagnosis___normal___36', 'Machinery Fault Diagnosis___normal___37', 'Machinery Fault Diagnosis___normal___38', 'Machinery Fault Diagnosis___normal___39', 'Machinery Fault Diagnosis___normal___4', 'Machinery Fault Diagnosis___normal___40', 'Machinery Fault Diagnosis___normal___41', 'Machinery Fault Diagnosis___normal___42', 'Machinery Fault Diagnosis___normal___43', 'Machinery Fault Diagnosis___normal___44', 'Machinery Fault Diagnosis___normal___45', 'Machinery Fault Diagnosis___normal___46', 'Machinery Fault Diagnosis___normal___47', 'Machinery Fault Diagnosis___normal___48', 'Machinery Fault Diagnosis___normal___5', 'Machinery Fault Diagnosis___normal___6', 'Machinery Fault Diagnosis___normal___7', 'Machinery Fault Diagnosis___normal___8', 'Machinery Fault Diagnosis___normal___9', 'Machinery Fault Diagnosis___overhang-ball_fault-0g___0', 'Machinery Fault Diagnosis___overhang-ball_fault-0g___1', 'Machinery Fault Diagnosis___overhang-ball_fault-0g___10', 'Machinery Fault Diagnosis___overhang-ball_fault-0g___11', 'Machinery Fault Diagnosis___overhang-ball_fault-0g___12', 'Machinery Fault Diagnosis___overhang-ball_fault-0g___13', 'Machinery Fault Diagnosis___overhang-ball_fault-0g___14', 'Machinery Fault Diagnosis___overhang-ball_fault-0g___15', 'Machinery Fault Diagnosis___overhang-ball_fault-0g___16', 'Machinery Fault Diagnosis___overhang-ball_fault-0g___17', 'Machinery Fault Diagnosis___overhang-ball_fault-0g___18', 'Machinery Fault Diagnosis___overhang-ball_fault-0g___19', 'Machinery Fault Diagnosis___overhang-ball_fault-0g___2', 'Machinery Fault Diagnosis___overhang-ball_fault-0g___20', 'Machinery Fault Diagnosis___overhang-ball_fault-0g___21', 'Machinery Fault Diagnosis___overhang-ball_fault-0g___22', 'Machinery Fault Diagnosis___overhang-ball_fault-0g___23', 'Machinery Fault Diagnosis___overhang-ball_fault-0g___24', 'Machinery Fault Diagnosis___overhang-ball_fault-0g___25', 'Machinery Fault Diagnosis___overhang-ball_fault-0g___26', 'Machinery Fault Diagnosis___overhang-ball_fault-0g___27', 'Machinery Fault Diagnosis___overhang-ball_fault-0g___28', 'Machinery Fault Diagnosis___overhang-ball_fault-0g___29', 'Machinery Fault Diagnosis___overhang-ball_fault-0g___3', 'Machinery Fault Diagnosis___overhang-ball_fault-0g___30', 'Machinery Fault Diagnosis___overhang-ball_fault-0g___31', 'Machinery Fault Diagnosis___overhang-ball_fault-0g___32', 'Machinery Fault Diagnosis___overhang-ball_fault-0g___33', 'Machinery Fault Diagnosis___overhang-ball_fault-0g___34', 'Machinery Fault Diagnosis___overhang-ball_fault-0g___35', 'Machinery Fault Diagnosis___overhang-ball_fault-0g___36', 'Machinery Fault Diagnosis___overhang-ball_fault-0g___37', 'Machinery Fault Diagnosis___overhang-ball_fault-0g___38', 'Machinery Fault Diagnosis___overhang-ball_fault-0g___39', 'Machinery Fault Diagnosis___overhang-ball_fault-0g___4', 'Machinery Fault Diagnosis___overhang-ball_fault-0g___40', 'Machinery Fault Diagnosis___overhang-ball_fault-0g___41', 'Machinery Fault Diagnosis___overhang-ball_fault-0g___42', 'Machinery Fault Diagnosis___overhang-ball_fault-0g___43', 'Machinery Fault Diagnosis___overhang-ball_fault-0g___44', 'Machinery Fault Diagnosis___overhang-ball_fault-0g___45', 'Machinery Fault Diagnosis___overhang-ball_fault-0g___46', 'Machinery Fault Diagnosis___overhang-ball_fault-0g___47', 'Machinery Fault Diagnosis___overhang-ball_fault-0g___48', 'Machinery Fault Diagnosis___overhang-ball_fault-0g___5', 'Machinery Fault Diagnosis___overhang-ball_fault-0g___6', 'Machinery Fault Diagnosis___overhang-ball_fault-0g___7', 'Machinery Fault Diagnosis___overhang-ball_fault-0g___8', 'Machinery Fault Diagnosis___overhang-ball_fault-0g___9', 'Machinery Fault Diagnosis___overhang-ball_fault-20g___0', 'Machinery Fault Diagnosis___overhang-ball_fault-20g___1', 'Machinery Fault Diagnosis___overhang-ball_fault-20g___10', 'Machinery Fault Diagnosis___overhang-ball_fault-20g___11', 'Machinery Fault Diagnosis___overhang-ball_fault-20g___12', 'Machinery Fault Diagnosis___overhang-ball_fault-20g___13', 'Machinery Fault Diagnosis___overhang-ball_fault-20g___14', 'Machinery Fault Diagnosis___overhang-ball_fault-20g___15', 'Machinery Fault Diagnosis___overhang-ball_fault-20g___16', 'Machinery Fault Diagnosis___overhang-ball_fault-20g___17', 'Machinery Fault Diagnosis___overhang-ball_fault-20g___18', 'Machinery Fault Diagnosis___overhang-ball_fault-20g___19', 'Machinery Fault Diagnosis___overhang-ball_fault-20g___2', 'Machinery Fault Diagnosis___overhang-ball_fault-20g___20', 'Machinery Fault Diagnosis___overhang-ball_fault-20g___21', 'Machinery Fault Diagnosis___overhang-ball_fault-20g___22', 'Machinery Fault Diagnosis___overhang-ball_fault-20g___23', 'Machinery Fault Diagnosis___overhang-ball_fault-20g___24', 'Machinery Fault Diagnosis___overhang-ball_fault-20g___3', 'Machinery Fault Diagnosis___overhang-ball_fault-20g___4', 'Machinery Fault Diagnosis___overhang-ball_fault-20g___5', 'Machinery Fault Diagnosis___overhang-ball_fault-20g___6', 'Machinery Fault Diagnosis___overhang-ball_fault-20g___7', 'Machinery Fault Diagnosis___overhang-ball_fault-20g___8', 'Machinery Fault Diagnosis___overhang-ball_fault-20g___9', 'Machinery Fault Diagnosis___overhang-ball_fault-35g___0', 'Machinery Fault Diagnosis___overhang-ball_fault-35g___1', 'Machinery Fault Diagnosis___overhang-ball_fault-35g___10', 'Machinery Fault Diagnosis___overhang-ball_fault-35g___11', 'Machinery Fault Diagnosis___overhang-ball_fault-35g___12', 'Machinery Fault Diagnosis___overhang-ball_fault-35g___13', 'Machinery Fault Diagnosis___overhang-ball_fault-35g___14', 'Machinery Fault Diagnosis___overhang-ball_fault-35g___15', 'Machinery Fault Diagnosis___overhang-ball_fault-35g___16', 'Machinery Fault Diagnosis___overhang-ball_fault-35g___17', 'Machinery Fault Diagnosis___overhang-ball_fault-35g___18', 'Machinery Fault Diagnosis___overhang-ball_fault-35g___19', 'Machinery Fault Diagnosis___overhang-ball_fault-35g___2', 'Machinery Fault Diagnosis___overhang-ball_fault-35g___3', 'Machinery Fault Diagnosis___overhang-ball_fault-35g___4', 'Machinery Fault Diagnosis___overhang-ball_fault-35g___5', 'Machinery Fault Diagnosis___overhang-ball_fault-35g___6', 'Machinery Fault Diagnosis___overhang-ball_fault-35g___7', 'Machinery Fault Diagnosis___overhang-ball_fault-35g___8', 'Machinery Fault Diagnosis___overhang-ball_fault-35g___9', 'Machinery Fault Diagnosis___overhang-ball_fault-6g___0', 'Machinery Fault Diagnosis___overhang-ball_fault-6g___1', 'Machinery Fault Diagnosis___overhang-ball_fault-6g___10', 'Machinery Fault Diagnosis___overhang-ball_fault-6g___11', 'Machinery Fault Diagnosis___overhang-ball_fault-6g___12', 'Machinery Fault Diagnosis___overhang-ball_fault-6g___13', 'Machinery Fault Diagnosis___overhang-ball_fault-6g___14', 'Machinery Fault Diagnosis___overhang-ball_fault-6g___15', 'Machinery Fault Diagnosis___overhang-ball_fault-6g___16', 'Machinery Fault Diagnosis___overhang-ball_fault-6g___17', 'Machinery Fault Diagnosis___overhang-ball_fault-6g___18', 'Machinery Fault Diagnosis___overhang-ball_fault-6g___19', 'Machinery Fault Diagnosis___overhang-ball_fault-6g___2', 'Machinery Fault Diagnosis___overhang-ball_fault-6g___20', 'Machinery Fault Diagnosis___overhang-ball_fault-6g___21', 'Machinery Fault Diagnosis___overhang-ball_fault-6g___22', 'Machinery Fault Diagnosis___overhang-ball_fault-6g___23', 'Machinery Fault Diagnosis___overhang-ball_fault-6g___24', 'Machinery Fault Diagnosis___overhang-ball_fault-6g___25', 'Machinery Fault Diagnosis___overhang-ball_fault-6g___26', 'Machinery Fault Diagnosis___overhang-ball_fault-6g___27', 'Machinery Fault Diagnosis___overhang-ball_fault-6g___28', 'Machinery Fault Diagnosis___overhang-ball_fault-6g___29', 'Machinery Fault Diagnosis___overhang-ball_fault-6g___3', 'Machinery Fault Diagnosis___overhang-ball_fault-6g___30', 'Machinery Fault Diagnosis___overhang-ball_fault-6g___31', 'Machinery Fault Diagnosis___overhang-ball_fault-6g___32', 'Machinery Fault Diagnosis___overhang-ball_fault-6g___33', 'Machinery Fault Diagnosis___overhang-ball_fault-6g___34', 'Machinery Fault Diagnosis___overhang-ball_fault-6g___35', 'Machinery Fault Diagnosis___overhang-ball_fault-6g___36', 'Machinery Fault Diagnosis___overhang-ball_fault-6g___37', 'Machinery Fault Diagnosis___overhang-ball_fault-6g___38', 'Machinery Fault Diagnosis___overhang-ball_fault-6g___39', 'Machinery Fault Diagnosis___overhang-ball_fault-6g___4', 'Machinery Fault Diagnosis___overhang-ball_fault-6g___40', 'Machinery Fault Diagnosis___overhang-ball_fault-6g___41', 'Machinery Fault Diagnosis___overhang-ball_fault-6g___42', 'Machinery Fault Diagnosis___overhang-ball_fault-6g___5', 'Machinery Fault Diagnosis___overhang-ball_fault-6g___6', 'Machinery Fault Diagnosis___overhang-ball_fault-6g___7', 'Machinery Fault Diagnosis___overhang-ball_fault-6g___8', 'Machinery Fault Diagnosis___overhang-ball_fault-6g___9', 'Machinery Fault Diagnosis___overhang-cage_fault-0g___0', 'Machinery Fault Diagnosis___overhang-cage_fault-0g___1', 'Machinery Fault Diagnosis___overhang-cage_fault-0g___10', 'Machinery Fault Diagnosis___overhang-cage_fault-0g___11', 'Machinery Fault Diagnosis___overhang-cage_fault-0g___12', 'Machinery Fault Diagnosis___overhang-cage_fault-0g___13', 'Machinery Fault Diagnosis___overhang-cage_fault-0g___14', 'Machinery Fault Diagnosis___overhang-cage_fault-0g___15', 'Machinery Fault Diagnosis___overhang-cage_fault-0g___16', 'Machinery Fault Diagnosis___overhang-cage_fault-0g___17', 'Machinery Fault Diagnosis___overhang-cage_fault-0g___18', 'Machinery Fault Diagnosis___overhang-cage_fault-0g___19', 'Machinery Fault Diagnosis___overhang-cage_fault-0g___2', 'Machinery Fault Diagnosis___overhang-cage_fault-0g___20', 'Machinery Fault Diagnosis___overhang-cage_fault-0g___21', 'Machinery Fault Diagnosis___overhang-cage_fault-0g___22', 'Machinery Fault Diagnosis___overhang-cage_fault-0g___23', 'Machinery Fault Diagnosis___overhang-cage_fault-0g___24', 'Machinery Fault Diagnosis___overhang-cage_fault-0g___25', 'Machinery Fault Diagnosis___overhang-cage_fault-0g___26', 'Machinery Fault Diagnosis___overhang-cage_fault-0g___27', 'Machinery Fault Diagnosis___overhang-cage_fault-0g___28', 'Machinery Fault Diagnosis___overhang-cage_fault-0g___29', 'Machinery Fault Diagnosis___overhang-cage_fault-0g___3', 'Machinery Fault Diagnosis___overhang-cage_fault-0g___30', 'Machinery Fault Diagnosis___overhang-cage_fault-0g___31', 'Machinery Fault Diagnosis___overhang-cage_fault-0g___32', 'Machinery Fault Diagnosis___overhang-cage_fault-0g___33', 'Machinery Fault Diagnosis___overhang-cage_fault-0g___34', 'Machinery Fault Diagnosis___overhang-cage_fault-0g___35', 'Machinery Fault Diagnosis___overhang-cage_fault-0g___36', 'Machinery Fault Diagnosis___overhang-cage_fault-0g___37', 'Machinery Fault Diagnosis___overhang-cage_fault-0g___38', 'Machinery Fault Diagnosis___overhang-cage_fault-0g___39', 'Machinery Fault Diagnosis___overhang-cage_fault-0g___4', 'Machinery Fault Diagnosis___overhang-cage_fault-0g___40', 'Machinery Fault Diagnosis___overhang-cage_fault-0g___41', 'Machinery Fault Diagnosis___overhang-cage_fault-0g___42', 'Machinery Fault Diagnosis___overhang-cage_fault-0g___43', 'Machinery Fault Diagnosis___overhang-cage_fault-0g___44', 'Machinery Fault Diagnosis___overhang-cage_fault-0g___45', 'Machinery Fault Diagnosis___overhang-cage_fault-0g___46', 'Machinery Fault Diagnosis___overhang-cage_fault-0g___47', 'Machinery Fault Diagnosis___overhang-cage_fault-0g___48', 'Machinery Fault Diagnosis___overhang-cage_fault-0g___5', 'Machinery Fault Diagnosis___overhang-cage_fault-0g___6', 'Machinery Fault Diagnosis___overhang-cage_fault-0g___7', 'Machinery Fault Diagnosis___overhang-cage_fault-0g___8', 'Machinery Fault Diagnosis___overhang-cage_fault-0g___9', 'Machinery Fault Diagnosis___overhang-cage_fault-20g___0', 'Machinery Fault Diagnosis___overhang-cage_fault-20g___1', 'Machinery Fault Diagnosis___overhang-cage_fault-20g___10', 'Machinery Fault Diagnosis___overhang-cage_fault-20g___11', 'Machinery Fault Diagnosis___overhang-cage_fault-20g___12', 'Machinery Fault Diagnosis___overhang-cage_fault-20g___13', 'Machinery Fault Diagnosis___overhang-cage_fault-20g___14', 'Machinery Fault Diagnosis___overhang-cage_fault-20g___15', 'Machinery Fault Diagnosis___overhang-cage_fault-20g___16', 'Machinery Fault Diagnosis___overhang-cage_fault-20g___17', 'Machinery Fault Diagnosis___overhang-cage_fault-20g___18', 'Machinery Fault Diagnosis___overhang-cage_fault-20g___19', 'Machinery Fault Diagnosis___overhang-cage_fault-20g___2', 'Machinery Fault Diagnosis___overhang-cage_fault-20g___20', 'Machinery Fault Diagnosis___overhang-cage_fault-20g___21', 'Machinery Fault Diagnosis___overhang-cage_fault-20g___22', 'Machinery Fault Diagnosis___overhang-cage_fault-20g___23', 'Machinery Fault Diagnosis___overhang-cage_fault-20g___24', 'Machinery Fault Diagnosis___overhang-cage_fault-20g___25', 'Machinery Fault Diagnosis___overhang-cage_fault-20g___26', 'Machinery Fault Diagnosis___overhang-cage_fault-20g___27', 'Machinery Fault Diagnosis___overhang-cage_fault-20g___28', 'Machinery Fault Diagnosis___overhang-cage_fault-20g___29', 'Machinery Fault Diagnosis___overhang-cage_fault-20g___3', 'Machinery Fault Diagnosis___overhang-cage_fault-20g___30', 'Machinery Fault Diagnosis___overhang-cage_fault-20g___31', 'Machinery Fault Diagnosis___overhang-cage_fault-20g___32', 'Machinery Fault Diagnosis___overhang-cage_fault-20g___33', 'Machinery Fault Diagnosis___overhang-cage_fault-20g___34', 'Machinery Fault Diagnosis___overhang-cage_fault-20g___35', 'Machinery Fault Diagnosis___overhang-cage_fault-20g___36', 'Machinery Fault Diagnosis___overhang-cage_fault-20g___37', 'Machinery Fault Diagnosis___overhang-cage_fault-20g___38', 'Machinery Fault Diagnosis___overhang-cage_fault-20g___39', 'Machinery Fault Diagnosis___overhang-cage_fault-20g___4', 'Machinery Fault Diagnosis___overhang-cage_fault-20g___40', 'Machinery Fault Diagnosis___overhang-cage_fault-20g___41', 'Machinery Fault Diagnosis___overhang-cage_fault-20g___42', 'Machinery Fault Diagnosis___overhang-cage_fault-20g___43', 'Machinery Fault Diagnosis___overhang-cage_fault-20g___44', 'Machinery Fault Diagnosis___overhang-cage_fault-20g___45', 'Machinery Fault Diagnosis___overhang-cage_fault-20g___46', 'Machinery Fault Diagnosis___overhang-cage_fault-20g___47', 'Machinery Fault Diagnosis___overhang-cage_fault-20g___48', 'Machinery Fault Diagnosis___overhang-cage_fault-20g___5', 'Machinery Fault Diagnosis___overhang-cage_fault-20g___6', 'Machinery Fault Diagnosis___overhang-cage_fault-20g___7', 'Machinery Fault Diagnosis___overhang-cage_fault-20g___8', 'Machinery Fault Diagnosis___overhang-cage_fault-20g___9', 'Machinery Fault Diagnosis___overhang-cage_fault-35g___0', 'Machinery Fault Diagnosis___overhang-cage_fault-35g___1', 'Machinery Fault Diagnosis___overhang-cage_fault-35g___10', 'Machinery Fault Diagnosis___overhang-cage_fault-35g___11', 'Machinery Fault Diagnosis___overhang-cage_fault-35g___12', 'Machinery Fault Diagnosis___overhang-cage_fault-35g___13', 'Machinery Fault Diagnosis___overhang-cage_fault-35g___14', 'Machinery Fault Diagnosis___overhang-cage_fault-35g___15', 'Machinery Fault Diagnosis___overhang-cage_fault-35g___16', 'Machinery Fault Diagnosis___overhang-cage_fault-35g___17', 'Machinery Fault Diagnosis___overhang-cage_fault-35g___18', 'Machinery Fault Diagnosis___overhang-cage_fault-35g___19', 'Machinery Fault Diagnosis___overhang-cage_fault-35g___2', 'Machinery Fault Diagnosis___overhang-cage_fault-35g___20', 'Machinery Fault Diagnosis___overhang-cage_fault-35g___21', 'Machinery Fault Diagnosis___overhang-cage_fault-35g___22', 'Machinery Fault Diagnosis___overhang-cage_fault-35g___23', 'Machinery Fault Diagnosis___overhang-cage_fault-35g___24', 'Machinery Fault Diagnosis___overhang-cage_fault-35g___25', 'Machinery Fault Diagnosis___overhang-cage_fault-35g___26', 'Machinery Fault Diagnosis___overhang-cage_fault-35g___27', 'Machinery Fault Diagnosis___overhang-cage_fault-35g___28', 'Machinery Fault Diagnosis___overhang-cage_fault-35g___29', 'Machinery Fault Diagnosis___overhang-cage_fault-35g___3', 'Machinery Fault Diagnosis___overhang-cage_fault-35g___30', 'Machinery Fault Diagnosis___overhang-cage_fault-35g___31', 'Machinery Fault Diagnosis___overhang-cage_fault-35g___32', 'Machinery Fault Diagnosis___overhang-cage_fault-35g___33', 'Machinery Fault Diagnosis___overhang-cage_fault-35g___34', 'Machinery Fault Diagnosis___overhang-cage_fault-35g___35', 'Machinery Fault Diagnosis___overhang-cage_fault-35g___36', 'Machinery Fault Diagnosis___overhang-cage_fault-35g___37', 'Machinery Fault Diagnosis___overhang-cage_fault-35g___38', 'Machinery Fault Diagnosis___overhang-cage_fault-35g___39', 'Machinery Fault Diagnosis___overhang-cage_fault-35g___4', 'Machinery Fault Diagnosis___overhang-cage_fault-35g___40', 'Machinery Fault Diagnosis___overhang-cage_fault-35g___5', 'Machinery Fault Diagnosis___overhang-cage_fault-35g___6', 'Machinery Fault Diagnosis___overhang-cage_fault-35g___7', 'Machinery Fault Diagnosis___overhang-cage_fault-35g___8', 'Machinery Fault Diagnosis___overhang-cage_fault-35g___9', 'Machinery Fault Diagnosis___overhang-cage_fault-6g___0', 'Machinery Fault Diagnosis___overhang-cage_fault-6g___1', 'Machinery Fault Diagnosis___overhang-cage_fault-6g___10', 'Machinery Fault Diagnosis___overhang-cage_fault-6g___11', 'Machinery Fault Diagnosis___overhang-cage_fault-6g___12', 'Machinery Fault Diagnosis___overhang-cage_fault-6g___13', 'Machinery Fault Diagnosis___overhang-cage_fault-6g___14', 'Machinery Fault Diagnosis___overhang-cage_fault-6g___15', 'Machinery Fault Diagnosis___overhang-cage_fault-6g___16', 'Machinery Fault Diagnosis___overhang-cage_fault-6g___17', 'Machinery Fault Diagnosis___overhang-cage_fault-6g___18', 'Machinery Fault Diagnosis___overhang-cage_fault-6g___19', 'Machinery Fault Diagnosis___overhang-cage_fault-6g___2', 'Machinery Fault Diagnosis___overhang-cage_fault-6g___20', 'Machinery Fault Diagnosis___overhang-cage_fault-6g___21', 'Machinery Fault Diagnosis___overhang-cage_fault-6g___22', 'Machinery Fault Diagnosis___overhang-cage_fault-6g___23', 'Machinery Fault Diagnosis___overhang-cage_fault-6g___24', 'Machinery Fault Diagnosis___overhang-cage_fault-6g___25', 'Machinery Fault Diagnosis___overhang-cage_fault-6g___26', 'Machinery Fault Diagnosis___overhang-cage_fault-6g___27', 'Machinery Fault Diagnosis___overhang-cage_fault-6g___28', 'Machinery Fault Diagnosis___overhang-cage_fault-6g___29', 'Machinery Fault Diagnosis___overhang-cage_fault-6g___3', 'Machinery Fault Diagnosis___overhang-cage_fault-6g___30', 'Machinery Fault Diagnosis___overhang-cage_fault-6g___31', 'Machinery Fault Diagnosis___overhang-cage_fault-6g___32', 'Machinery Fault Diagnosis___overhang-cage_fault-6g___33', 'Machinery Fault Diagnosis___overhang-cage_fault-6g___34', 'Machinery Fault Diagnosis___overhang-cage_fault-6g___35', 'Machinery Fault Diagnosis___overhang-cage_fault-6g___36', 'Machinery Fault Diagnosis___overhang-cage_fault-6g___37', 'Machinery Fault Diagnosis___overhang-cage_fault-6g___38', 'Machinery Fault Diagnosis___overhang-cage_fault-6g___39', 'Machinery Fault Diagnosis___overhang-cage_fault-6g___4', 'Machinery Fault Diagnosis___overhang-cage_fault-6g___40', 'Machinery Fault Diagnosis___overhang-cage_fault-6g___41', 'Machinery Fault Diagnosis___overhang-cage_fault-6g___42', 'Machinery Fault Diagnosis___overhang-cage_fault-6g___43', 'Machinery Fault Diagnosis___overhang-cage_fault-6g___44', 'Machinery Fault Diagnosis___overhang-cage_fault-6g___45', 'Machinery Fault Diagnosis___overhang-cage_fault-6g___46', 'Machinery Fault Diagnosis___overhang-cage_fault-6g___47', 'Machinery Fault Diagnosis___overhang-cage_fault-6g___48', 'Machinery Fault Diagnosis___overhang-cage_fault-6g___5', 'Machinery Fault Diagnosis___overhang-cage_fault-6g___6', 'Machinery Fault Diagnosis___overhang-cage_fault-6g___7', 'Machinery Fault Diagnosis___overhang-cage_fault-6g___8', 'Machinery Fault Diagnosis___overhang-cage_fault-6g___9', 'Machinery Fault Diagnosis___overhang-outer_race-0g___0', 'Machinery Fault Diagnosis___overhang-outer_race-0g___1', 'Machinery Fault Diagnosis___overhang-outer_race-0g___10', 'Machinery Fault Diagnosis___overhang-outer_race-0g___11', 'Machinery Fault Diagnosis___overhang-outer_race-0g___12', 'Machinery Fault Diagnosis___overhang-outer_race-0g___13', 'Machinery Fault Diagnosis___overhang-outer_race-0g___14', 'Machinery Fault Diagnosis___overhang-outer_race-0g___15', 'Machinery Fault Diagnosis___overhang-outer_race-0g___16', 'Machinery Fault Diagnosis___overhang-outer_race-0g___17', 'Machinery Fault Diagnosis___overhang-outer_race-0g___18', 'Machinery Fault Diagnosis___overhang-outer_race-0g___19', 'Machinery Fault Diagnosis___overhang-outer_race-0g___2', 'Machinery Fault Diagnosis___overhang-outer_race-0g___20', 'Machinery Fault Diagnosis___overhang-outer_race-0g___21', 'Machinery Fault Diagnosis___overhang-outer_race-0g___22', 'Machinery Fault Diagnosis___overhang-outer_race-0g___23', 'Machinery Fault Diagnosis___overhang-outer_race-0g___24', 'Machinery Fault Diagnosis___overhang-outer_race-0g___25', 'Machinery Fault Diagnosis___overhang-outer_race-0g___26', 'Machinery Fault Diagnosis___overhang-outer_race-0g___27', 'Machinery Fault Diagnosis___overhang-outer_race-0g___28', 'Machinery Fault Diagnosis___overhang-outer_race-0g___29', 'Machinery Fault Diagnosis___overhang-outer_race-0g___3', 'Machinery Fault Diagnosis___overhang-outer_race-0g___30', 'Machinery Fault Diagnosis___overhang-outer_race-0g___31', 'Machinery Fault Diagnosis___overhang-outer_race-0g___32', 'Machinery Fault Diagnosis___overhang-outer_race-0g___33', 'Machinery Fault Diagnosis___overhang-outer_race-0g___34', 'Machinery Fault Diagnosis___overhang-outer_race-0g___35', 'Machinery Fault Diagnosis___overhang-outer_race-0g___36', 'Machinery Fault Diagnosis___overhang-outer_race-0g___37', 'Machinery Fault Diagnosis___overhang-outer_race-0g___38', 'Machinery Fault Diagnosis___overhang-outer_race-0g___39', 'Machinery Fault Diagnosis___overhang-outer_race-0g___4', 'Machinery Fault Diagnosis___overhang-outer_race-0g___40', 'Machinery Fault Diagnosis___overhang-outer_race-0g___41', 'Machinery Fault Diagnosis___overhang-outer_race-0g___42', 'Machinery Fault Diagnosis___overhang-outer_race-0g___43', 'Machinery Fault Diagnosis___overhang-outer_race-0g___44', 'Machinery Fault Diagnosis___overhang-outer_race-0g___45', 'Machinery Fault Diagnosis___overhang-outer_race-0g___46', 'Machinery Fault Diagnosis___overhang-outer_race-0g___47', 'Machinery Fault Diagnosis___overhang-outer_race-0g___48', 'Machinery Fault Diagnosis___overhang-outer_race-0g___5', 'Machinery Fault Diagnosis___overhang-outer_race-0g___6', 'Machinery Fault Diagnosis___overhang-outer_race-0g___7', 'Machinery Fault Diagnosis___overhang-outer_race-0g___8', 'Machinery Fault Diagnosis___overhang-outer_race-0g___9', 'Machinery Fault Diagnosis___overhang-outer_race-20g___0', 'Machinery Fault Diagnosis___overhang-outer_race-20g___1', 'Machinery Fault Diagnosis___overhang-outer_race-20g___10', 'Machinery Fault Diagnosis___overhang-outer_race-20g___11', 'Machinery Fault Diagnosis___overhang-outer_race-20g___12', 'Machinery Fault Diagnosis___overhang-outer_race-20g___13', 'Machinery Fault Diagnosis___overhang-outer_race-20g___14', 'Machinery Fault Diagnosis___overhang-outer_race-20g___15', 'Machinery Fault Diagnosis___overhang-outer_race-20g___16', 'Machinery Fault Diagnosis___overhang-outer_race-20g___17', 'Machinery Fault Diagnosis___overhang-outer_race-20g___18', 'Machinery Fault Diagnosis___overhang-outer_race-20g___19', 'Machinery Fault Diagnosis___overhang-outer_race-20g___2', 'Machinery Fault Diagnosis___overhang-outer_race-20g___20', 'Machinery Fault Diagnosis___overhang-outer_race-20g___21', 'Machinery Fault Diagnosis___overhang-outer_race-20g___22', 'Machinery Fault Diagnosis___overhang-outer_race-20g___23', 'Machinery Fault Diagnosis___overhang-outer_race-20g___24', 'Machinery Fault Diagnosis___overhang-outer_race-20g___25', 'Machinery Fault Diagnosis___overhang-outer_race-20g___26', 'Machinery Fault Diagnosis___overhang-outer_race-20g___27', 'Machinery Fault Diagnosis___overhang-outer_race-20g___28', 'Machinery Fault Diagnosis___overhang-outer_race-20g___29', 'Machinery Fault Diagnosis___overhang-outer_race-20g___3', 'Machinery Fault Diagnosis___overhang-outer_race-20g___30', 'Machinery Fault Diagnosis___overhang-outer_race-20g___31', 'Machinery Fault Diagnosis___overhang-outer_race-20g___32', 'Machinery Fault Diagnosis___overhang-outer_race-20g___33', 'Machinery Fault Diagnosis___overhang-outer_race-20g___34', 'Machinery Fault Diagnosis___overhang-outer_race-20g___35', 'Machinery Fault Diagnosis___overhang-outer_race-20g___36', 'Machinery Fault Diagnosis___overhang-outer_race-20g___37', 'Machinery Fault Diagnosis___overhang-outer_race-20g___38', 'Machinery Fault Diagnosis___overhang-outer_race-20g___39', 'Machinery Fault Diagnosis___overhang-outer_race-20g___4', 'Machinery Fault Diagnosis___overhang-outer_race-20g___40', 'Machinery Fault Diagnosis___overhang-outer_race-20g___41', 'Machinery Fault Diagnosis___overhang-outer_race-20g___42', 'Machinery Fault Diagnosis___overhang-outer_race-20g___43', 'Machinery Fault Diagnosis___overhang-outer_race-20g___44', 'Machinery Fault Diagnosis___overhang-outer_race-20g___45', 'Machinery Fault Diagnosis___overhang-outer_race-20g___46', 'Machinery Fault Diagnosis___overhang-outer_race-20g___47', 'Machinery Fault Diagnosis___overhang-outer_race-20g___48', 'Machinery Fault Diagnosis___overhang-outer_race-20g___5', 'Machinery Fault Diagnosis___overhang-outer_race-20g___6', 'Machinery Fault Diagnosis___overhang-outer_race-20g___7', 'Machinery Fault Diagnosis___overhang-outer_race-20g___8', 'Machinery Fault Diagnosis___overhang-outer_race-20g___9', 'Machinery Fault Diagnosis___overhang-outer_race-35g___0', 'Machinery Fault Diagnosis___overhang-outer_race-35g___1', 'Machinery Fault Diagnosis___overhang-outer_race-35g___10', 'Machinery Fault Diagnosis___overhang-outer_race-35g___11', 'Machinery Fault Diagnosis___overhang-outer_race-35g___12', 'Machinery Fault Diagnosis___overhang-outer_race-35g___13', 'Machinery Fault Diagnosis___overhang-outer_race-35g___14', 'Machinery Fault Diagnosis___overhang-outer_race-35g___15', 'Machinery Fault Diagnosis___overhang-outer_race-35g___16', 'Machinery Fault Diagnosis___overhang-outer_race-35g___17', 'Machinery Fault Diagnosis___overhang-outer_race-35g___18', 'Machinery Fault Diagnosis___overhang-outer_race-35g___19', 'Machinery Fault Diagnosis___overhang-outer_race-35g___2', 'Machinery Fault Diagnosis___overhang-outer_race-35g___20', 'Machinery Fault Diagnosis___overhang-outer_race-35g___21', 'Machinery Fault Diagnosis___overhang-outer_race-35g___22', 'Machinery Fault Diagnosis___overhang-outer_race-35g___23', 'Machinery Fault Diagnosis___overhang-outer_race-35g___24', 'Machinery Fault Diagnosis___overhang-outer_race-35g___25', 'Machinery Fault Diagnosis___overhang-outer_race-35g___26', 'Machinery Fault Diagnosis___overhang-outer_race-35g___27', 'Machinery Fault Diagnosis___overhang-outer_race-35g___28', 'Machinery Fault Diagnosis___overhang-outer_race-35g___29', 'Machinery Fault Diagnosis___overhang-outer_race-35g___3', 'Machinery Fault Diagnosis___overhang-outer_race-35g___30', 'Machinery Fault Diagnosis___overhang-outer_race-35g___31', 'Machinery Fault Diagnosis___overhang-outer_race-35g___32', 'Machinery Fault Diagnosis___overhang-outer_race-35g___33', 'Machinery Fault Diagnosis___overhang-outer_race-35g___34', 'Machinery Fault Diagnosis___overhang-outer_race-35g___35', 'Machinery Fault Diagnosis___overhang-outer_race-35g___36', 'Machinery Fault Diagnosis___overhang-outer_race-35g___37', 'Machinery Fault Diagnosis___overhang-outer_race-35g___38', 'Machinery Fault Diagnosis___overhang-outer_race-35g___39', 'Machinery Fault Diagnosis___overhang-outer_race-35g___4', 'Machinery Fault Diagnosis___overhang-outer_race-35g___40', 'Machinery Fault Diagnosis___overhang-outer_race-35g___5', 'Machinery Fault Diagnosis___overhang-outer_race-35g___6', 'Machinery Fault Diagnosis___overhang-outer_race-35g___7', 'Machinery Fault Diagnosis___overhang-outer_race-35g___8', 'Machinery Fault Diagnosis___overhang-outer_race-35g___9', 'Machinery Fault Diagnosis___overhang-outer_race-6g___0', 'Machinery Fault Diagnosis___overhang-outer_race-6g___1', 'Machinery Fault Diagnosis___overhang-outer_race-6g___10', 'Machinery Fault Diagnosis___overhang-outer_race-6g___11', 'Machinery Fault Diagnosis___overhang-outer_race-6g___12', 'Machinery Fault Diagnosis___overhang-outer_race-6g___13', 'Machinery Fault Diagnosis___overhang-outer_race-6g___14', 'Machinery Fault Diagnosis___overhang-outer_race-6g___15', 'Machinery Fault Diagnosis___overhang-outer_race-6g___16', 'Machinery Fault Diagnosis___overhang-outer_race-6g___17', 'Machinery Fault Diagnosis___overhang-outer_race-6g___18', 'Machinery Fault Diagnosis___overhang-outer_race-6g___19', 'Machinery Fault Diagnosis___overhang-outer_race-6g___2', 'Machinery Fault Diagnosis___overhang-outer_race-6g___20', 'Machinery Fault Diagnosis___overhang-outer_race-6g___21', 'Machinery Fault Diagnosis___overhang-outer_race-6g___22', 'Machinery Fault Diagnosis___overhang-outer_race-6g___23', 'Machinery Fault Diagnosis___overhang-outer_race-6g___24', 'Machinery Fault Diagnosis___overhang-outer_race-6g___25', 'Machinery Fault Diagnosis___overhang-outer_race-6g___26', 'Machinery Fault Diagnosis___overhang-outer_race-6g___27', 'Machinery Fault Diagnosis___overhang-outer_race-6g___28', 'Machinery Fault Diagnosis___overhang-outer_race-6g___29', 'Machinery Fault Diagnosis___overhang-outer_race-6g___3', 'Machinery Fault Diagnosis___overhang-outer_race-6g___30', 'Machinery Fault Diagnosis___overhang-outer_race-6g___31', 'Machinery Fault Diagnosis___overhang-outer_race-6g___32', 'Machinery Fault Diagnosis___overhang-outer_race-6g___33', 'Machinery Fault Diagnosis___overhang-outer_race-6g___34', 'Machinery Fault Diagnosis___overhang-outer_race-6g___35', 'Machinery Fault Diagnosis___overhang-outer_race-6g___36', 'Machinery Fault Diagnosis___overhang-outer_race-6g___37', 'Machinery Fault Diagnosis___overhang-outer_race-6g___38', 'Machinery Fault Diagnosis___overhang-outer_race-6g___39', 'Machinery Fault Diagnosis___overhang-outer_race-6g___4', 'Machinery Fault Diagnosis___overhang-outer_race-6g___40', 'Machinery Fault Diagnosis___overhang-outer_race-6g___41', 'Machinery Fault Diagnosis___overhang-outer_race-6g___42', 'Machinery Fault Diagnosis___overhang-outer_race-6g___43', 'Machinery Fault Diagnosis___overhang-outer_race-6g___44', 'Machinery Fault Diagnosis___overhang-outer_race-6g___45', 'Machinery Fault Diagnosis___overhang-outer_race-6g___46', 'Machinery Fault Diagnosis___overhang-outer_race-6g___47', 'Machinery Fault Diagnosis___overhang-outer_race-6g___48', 'Machinery Fault Diagnosis___overhang-outer_race-6g___5', 'Machinery Fault Diagnosis___overhang-outer_race-6g___6', 'Machinery Fault Diagnosis___overhang-outer_race-6g___7', 'Machinery Fault Diagnosis___overhang-outer_race-6g___8', 'Machinery Fault Diagnosis___overhang-outer_race-6g___9', 'Machinery Fault Diagnosis___underhang-ball_fault-0g___0', 'Machinery Fault Diagnosis___underhang-ball_fault-0g___1', 'Machinery Fault Diagnosis___underhang-ball_fault-0g___10', 'Machinery Fault Diagnosis___underhang-ball_fault-0g___11', 'Machinery Fault Diagnosis___underhang-ball_fault-0g___12', 'Machinery Fault Diagnosis___underhang-ball_fault-0g___13', 'Machinery Fault Diagnosis___underhang-ball_fault-0g___14', 'Machinery Fault Diagnosis___underhang-ball_fault-0g___15', 'Machinery Fault Diagnosis___underhang-ball_fault-0g___16', 'Machinery Fault Diagnosis___underhang-ball_fault-0g___17', 'Machinery Fault Diagnosis___underhang-ball_fault-0g___18', 'Machinery Fault Diagnosis___underhang-ball_fault-0g___19', 'Machinery Fault Diagnosis___underhang-ball_fault-0g___2', 'Machinery Fault Diagnosis___underhang-ball_fault-0g___20', 'Machinery Fault Diagnosis___underhang-ball_fault-0g___21', 'Machinery Fault Diagnosis___underhang-ball_fault-0g___22', 'Machinery Fault Diagnosis___underhang-ball_fault-0g___23', 'Machinery Fault Diagnosis___underhang-ball_fault-0g___24', 'Machinery Fault Diagnosis___underhang-ball_fault-0g___25', 'Machinery Fault Diagnosis___underhang-ball_fault-0g___26', 'Machinery Fault Diagnosis___underhang-ball_fault-0g___27', 'Machinery Fault Diagnosis___underhang-ball_fault-0g___28', 'Machinery Fault Diagnosis___underhang-ball_fault-0g___29', 'Machinery Fault Diagnosis___underhang-ball_fault-0g___3', 'Machinery Fault Diagnosis___underhang-ball_fault-0g___30', 'Machinery Fault Diagnosis___underhang-ball_fault-0g___31', 'Machinery Fault Diagnosis___underhang-ball_fault-0g___32', 'Machinery Fault Diagnosis___underhang-ball_fault-0g___33', 'Machinery Fault Diagnosis___underhang-ball_fault-0g___34', 'Machinery Fault Diagnosis___underhang-ball_fault-0g___35', 'Machinery Fault Diagnosis___underhang-ball_fault-0g___36', 'Machinery Fault Diagnosis___underhang-ball_fault-0g___37', 'Machinery Fault Diagnosis___underhang-ball_fault-0g___38', 'Machinery Fault Diagnosis___underhang-ball_fault-0g___39', 'Machinery Fault Diagnosis___underhang-ball_fault-0g___4', 'Machinery Fault Diagnosis___underhang-ball_fault-0g___40', 'Machinery Fault Diagnosis___underhang-ball_fault-0g___41', 'Machinery Fault Diagnosis___underhang-ball_fault-0g___42', 'Machinery Fault Diagnosis___underhang-ball_fault-0g___43', 'Machinery Fault Diagnosis___underhang-ball_fault-0g___44', 'Machinery Fault Diagnosis___underhang-ball_fault-0g___45', 'Machinery Fault Diagnosis___underhang-ball_fault-0g___46', 'Machinery Fault Diagnosis___underhang-ball_fault-0g___47', 'Machinery Fault Diagnosis___underhang-ball_fault-0g___48', 'Machinery Fault Diagnosis___underhang-ball_fault-0g___49', 'Machinery Fault Diagnosis___underhang-ball_fault-0g___5', 'Machinery Fault Diagnosis___underhang-ball_fault-0g___6', 'Machinery Fault Diagnosis___underhang-ball_fault-0g___7', 'Machinery Fault Diagnosis___underhang-ball_fault-0g___8', 'Machinery Fault Diagnosis___underhang-ball_fault-0g___9', 'Machinery Fault Diagnosis___underhang-ball_fault-20g___0', 'Machinery Fault Diagnosis___underhang-ball_fault-20g___1', 'Machinery Fault Diagnosis___underhang-ball_fault-20g___10', 'Machinery Fault Diagnosis___underhang-ball_fault-20g___11', 'Machinery Fault Diagnosis___underhang-ball_fault-20g___12', 'Machinery Fault Diagnosis___underhang-ball_fault-20g___13', 'Machinery Fault Diagnosis___underhang-ball_fault-20g___14', 'Machinery Fault Diagnosis___underhang-ball_fault-20g___15', 'Machinery Fault Diagnosis___underhang-ball_fault-20g___16', 'Machinery Fault Diagnosis___underhang-ball_fault-20g___17', 'Machinery Fault Diagnosis___underhang-ball_fault-20g___18', 'Machinery Fault Diagnosis___underhang-ball_fault-20g___19', 'Machinery Fault Diagnosis___underhang-ball_fault-20g___2', 'Machinery Fault Diagnosis___underhang-ball_fault-20g___20', 'Machinery Fault Diagnosis___underhang-ball_fault-20g___21', 'Machinery Fault Diagnosis___underhang-ball_fault-20g___22', 'Machinery Fault Diagnosis___underhang-ball_fault-20g___23', 'Machinery Fault Diagnosis___underhang-ball_fault-20g___24', 'Machinery Fault Diagnosis___underhang-ball_fault-20g___25', 'Machinery Fault Diagnosis___underhang-ball_fault-20g___26', 'Machinery Fault Diagnosis___underhang-ball_fault-20g___27', 'Machinery Fault Diagnosis___underhang-ball_fault-20g___28', 'Machinery Fault Diagnosis___underhang-ball_fault-20g___29', 'Machinery Fault Diagnosis___underhang-ball_fault-20g___3', 'Machinery Fault Diagnosis___underhang-ball_fault-20g___30', 'Machinery Fault Diagnosis___underhang-ball_fault-20g___31', 'Machinery Fault Diagnosis___underhang-ball_fault-20g___32', 'Machinery Fault Diagnosis___underhang-ball_fault-20g___33', 'Machinery Fault Diagnosis___underhang-ball_fault-20g___34', 'Machinery Fault Diagnosis___underhang-ball_fault-20g___35', 'Machinery Fault Diagnosis___underhang-ball_fault-20g___36', 'Machinery Fault Diagnosis___underhang-ball_fault-20g___37', 'Machinery Fault Diagnosis___underhang-ball_fault-20g___38', 'Machinery Fault Diagnosis___underhang-ball_fault-20g___39', 'Machinery Fault Diagnosis___underhang-ball_fault-20g___4', 'Machinery Fault Diagnosis___underhang-ball_fault-20g___40', 'Machinery Fault Diagnosis___underhang-ball_fault-20g___41', 'Machinery Fault Diagnosis___underhang-ball_fault-20g___42', 'Machinery Fault Diagnosis___underhang-ball_fault-20g___43', 'Machinery Fault Diagnosis___underhang-ball_fault-20g___44', 'Machinery Fault Diagnosis___underhang-ball_fault-20g___45', 'Machinery Fault Diagnosis___underhang-ball_fault-20g___46', 'Machinery Fault Diagnosis___underhang-ball_fault-20g___47', 'Machinery Fault Diagnosis___underhang-ball_fault-20g___48', 'Machinery Fault Diagnosis___underhang-ball_fault-20g___5', 'Machinery Fault Diagnosis___underhang-ball_fault-20g___6', 'Machinery Fault Diagnosis___underhang-ball_fault-20g___7', 'Machinery Fault Diagnosis___underhang-ball_fault-20g___8', 'Machinery Fault Diagnosis___underhang-ball_fault-20g___9', 'Machinery Fault Diagnosis___underhang-ball_fault-35g___0', 'Machinery Fault Diagnosis___underhang-ball_fault-35g___1', 'Machinery Fault Diagnosis___underhang-ball_fault-35g___10', 'Machinery Fault Diagnosis___underhang-ball_fault-35g___11', 'Machinery Fault Diagnosis___underhang-ball_fault-35g___12', 'Machinery Fault Diagnosis___underhang-ball_fault-35g___13', 'Machinery Fault Diagnosis___underhang-ball_fault-35g___14', 'Machinery Fault Diagnosis___underhang-ball_fault-35g___15', 'Machinery Fault Diagnosis___underhang-ball_fault-35g___16', 'Machinery Fault Diagnosis___underhang-ball_fault-35g___17', 'Machinery Fault Diagnosis___underhang-ball_fault-35g___18', 'Machinery Fault Diagnosis___underhang-ball_fault-35g___19', 'Machinery Fault Diagnosis___underhang-ball_fault-35g___2', 'Machinery Fault Diagnosis___underhang-ball_fault-35g___20', 'Machinery Fault Diagnosis___underhang-ball_fault-35g___21', 'Machinery Fault Diagnosis___underhang-ball_fault-35g___22', 'Machinery Fault Diagnosis___underhang-ball_fault-35g___23', 'Machinery Fault Diagnosis___underhang-ball_fault-35g___24', 'Machinery Fault Diagnosis___underhang-ball_fault-35g___25', 'Machinery Fault Diagnosis___underhang-ball_fault-35g___26', 'Machinery Fault Diagnosis___underhang-ball_fault-35g___27', 'Machinery Fault Diagnosis___underhang-ball_fault-35g___28', 'Machinery Fault Diagnosis___underhang-ball_fault-35g___29', 'Machinery Fault Diagnosis___underhang-ball_fault-35g___3', 'Machinery Fault Diagnosis___underhang-ball_fault-35g___30', 'Machinery Fault Diagnosis___underhang-ball_fault-35g___31', 'Machinery Fault Diagnosis___underhang-ball_fault-35g___32', 'Machinery Fault Diagnosis___underhang-ball_fault-35g___33', 'Machinery Fault Diagnosis___underhang-ball_fault-35g___34', 'Machinery Fault Diagnosis___underhang-ball_fault-35g___35', 'Machinery Fault Diagnosis___underhang-ball_fault-35g___36', 'Machinery Fault Diagnosis___underhang-ball_fault-35g___37', 'Machinery Fault Diagnosis___underhang-ball_fault-35g___4', 'Machinery Fault Diagnosis___underhang-ball_fault-35g___5', 'Machinery Fault Diagnosis___underhang-ball_fault-35g___6', 'Machinery Fault Diagnosis___underhang-ball_fault-35g___7', 'Machinery Fault Diagnosis___underhang-ball_fault-35g___8', 'Machinery Fault Diagnosis___underhang-ball_fault-35g___9', 'Machinery Fault Diagnosis___underhang-ball_fault-6g___0', 'Machinery Fault Diagnosis___underhang-ball_fault-6g___1', 'Machinery Fault Diagnosis___underhang-ball_fault-6g___10', 'Machinery Fault Diagnosis___underhang-ball_fault-6g___11', 'Machinery Fault Diagnosis___underhang-ball_fault-6g___12', 'Machinery Fault Diagnosis___underhang-ball_fault-6g___13', 'Machinery Fault Diagnosis___underhang-ball_fault-6g___14', 'Machinery Fault Diagnosis___underhang-ball_fault-6g___15', 'Machinery Fault Diagnosis___underhang-ball_fault-6g___16', 'Machinery Fault Diagnosis___underhang-ball_fault-6g___17', 'Machinery Fault Diagnosis___underhang-ball_fault-6g___18', 'Machinery Fault Diagnosis___underhang-ball_fault-6g___19', 'Machinery Fault Diagnosis___underhang-ball_fault-6g___2', 'Machinery Fault Diagnosis___underhang-ball_fault-6g___20', 'Machinery Fault Diagnosis___underhang-ball_fault-6g___21', 'Machinery Fault Diagnosis___underhang-ball_fault-6g___22', 'Machinery Fault Diagnosis___underhang-ball_fault-6g___23', 'Machinery Fault Diagnosis___underhang-ball_fault-6g___24', 'Machinery Fault Diagnosis___underhang-ball_fault-6g___25', 'Machinery Fault Diagnosis___underhang-ball_fault-6g___26', 'Machinery Fault Diagnosis___underhang-ball_fault-6g___27', 'Machinery Fault Diagnosis___underhang-ball_fault-6g___28', 'Machinery Fault Diagnosis___underhang-ball_fault-6g___29', 'Machinery Fault Diagnosis___underhang-ball_fault-6g___3', 'Machinery Fault Diagnosis___underhang-ball_fault-6g___30', 'Machinery Fault Diagnosis___underhang-ball_fault-6g___31', 'Machinery Fault Diagnosis___underhang-ball_fault-6g___32', 'Machinery Fault Diagnosis___underhang-ball_fault-6g___33', 'Machinery Fault Diagnosis___underhang-ball_fault-6g___34', 'Machinery Fault Diagnosis___underhang-ball_fault-6g___35', 'Machinery Fault Diagnosis___underhang-ball_fault-6g___36', 'Machinery Fault Diagnosis___underhang-ball_fault-6g___37', 'Machinery Fault Diagnosis___underhang-ball_fault-6g___38', 'Machinery Fault Diagnosis___underhang-ball_fault-6g___39', 'Machinery Fault Diagnosis___underhang-ball_fault-6g___4', 'Machinery Fault Diagnosis___underhang-ball_fault-6g___40', 'Machinery Fault Diagnosis___underhang-ball_fault-6g___41', 'Machinery Fault Diagnosis___underhang-ball_fault-6g___42', 'Machinery Fault Diagnosis___underhang-ball_fault-6g___43', 'Machinery Fault Diagnosis___underhang-ball_fault-6g___44', 'Machinery Fault Diagnosis___underhang-ball_fault-6g___45', 'Machinery Fault Diagnosis___underhang-ball_fault-6g___46', 'Machinery Fault Diagnosis___underhang-ball_fault-6g___47', 'Machinery Fault Diagnosis___underhang-ball_fault-6g___48', 'Machinery Fault Diagnosis___underhang-ball_fault-6g___5', 'Machinery Fault Diagnosis___underhang-ball_fault-6g___6', 'Machinery Fault Diagnosis___underhang-ball_fault-6g___7', 'Machinery Fault Diagnosis___underhang-ball_fault-6g___8', 'Machinery Fault Diagnosis___underhang-ball_fault-6g___9', 'Machinery Fault Diagnosis___underhang-cage_fault-0g___0', 'Machinery Fault Diagnosis___underhang-cage_fault-0g___1', 'Machinery Fault Diagnosis___underhang-cage_fault-0g___10', 'Machinery Fault Diagnosis___underhang-cage_fault-0g___11', 'Machinery Fault Diagnosis___underhang-cage_fault-0g___12', 'Machinery Fault Diagnosis___underhang-cage_fault-0g___13', 'Machinery Fault Diagnosis___underhang-cage_fault-0g___14', 'Machinery Fault Diagnosis___underhang-cage_fault-0g___15', 'Machinery Fault Diagnosis___underhang-cage_fault-0g___16', 'Machinery Fault Diagnosis___underhang-cage_fault-0g___17', 'Machinery Fault Diagnosis___underhang-cage_fault-0g___18', 'Machinery Fault Diagnosis___underhang-cage_fault-0g___19', 'Machinery Fault Diagnosis___underhang-cage_fault-0g___2', 'Machinery Fault Diagnosis___underhang-cage_fault-0g___20', 'Machinery Fault Diagnosis___underhang-cage_fault-0g___21', 'Machinery Fault Diagnosis___underhang-cage_fault-0g___22', 'Machinery Fault Diagnosis___underhang-cage_fault-0g___23', 'Machinery Fault Diagnosis___underhang-cage_fault-0g___24', 'Machinery Fault Diagnosis___underhang-cage_fault-0g___25', 'Machinery Fault Diagnosis___underhang-cage_fault-0g___26', 'Machinery Fault Diagnosis___underhang-cage_fault-0g___27', 'Machinery Fault Diagnosis___underhang-cage_fault-0g___28', 'Machinery Fault Diagnosis___underhang-cage_fault-0g___29', 'Machinery Fault Diagnosis___underhang-cage_fault-0g___3', 'Machinery Fault Diagnosis___underhang-cage_fault-0g___30', 'Machinery Fault Diagnosis___underhang-cage_fault-0g___31', 'Machinery Fault Diagnosis___underhang-cage_fault-0g___32', 'Machinery Fault Diagnosis___underhang-cage_fault-0g___33', 'Machinery Fault Diagnosis___underhang-cage_fault-0g___34', 'Machinery Fault Diagnosis___underhang-cage_fault-0g___35', 'Machinery Fault Diagnosis___underhang-cage_fault-0g___36', 'Machinery Fault Diagnosis___underhang-cage_fault-0g___37', 'Machinery Fault Diagnosis___underhang-cage_fault-0g___38', 'Machinery Fault Diagnosis___underhang-cage_fault-0g___39', 'Machinery Fault Diagnosis___underhang-cage_fault-0g___4', 'Machinery Fault Diagnosis___underhang-cage_fault-0g___40', 'Machinery Fault Diagnosis___underhang-cage_fault-0g___41', 'Machinery Fault Diagnosis___underhang-cage_fault-0g___42', 'Machinery Fault Diagnosis___underhang-cage_fault-0g___43', 'Machinery Fault Diagnosis___underhang-cage_fault-0g___44', 'Machinery Fault Diagnosis___underhang-cage_fault-0g___45', 'Machinery Fault Diagnosis___underhang-cage_fault-0g___46', 'Machinery Fault Diagnosis___underhang-cage_fault-0g___47', 'Machinery Fault Diagnosis___underhang-cage_fault-0g___48', 'Machinery Fault Diagnosis___underhang-cage_fault-0g___5', 'Machinery Fault Diagnosis___underhang-cage_fault-0g___6', 'Machinery Fault Diagnosis___underhang-cage_fault-0g___7', 'Machinery Fault Diagnosis___underhang-cage_fault-0g___8', 'Machinery Fault Diagnosis___underhang-cage_fault-0g___9', 'Machinery Fault Diagnosis___underhang-cage_fault-20g___0', 'Machinery Fault Diagnosis___underhang-cage_fault-20g___1', 'Machinery Fault Diagnosis___underhang-cage_fault-20g___10', 'Machinery Fault Diagnosis___underhang-cage_fault-20g___11', 'Machinery Fault Diagnosis___underhang-cage_fault-20g___12', 'Machinery Fault Diagnosis___underhang-cage_fault-20g___13', 'Machinery Fault Diagnosis___underhang-cage_fault-20g___14', 'Machinery Fault Diagnosis___underhang-cage_fault-20g___15', 'Machinery Fault Diagnosis___underhang-cage_fault-20g___16', 'Machinery Fault Diagnosis___underhang-cage_fault-20g___17', 'Machinery Fault Diagnosis___underhang-cage_fault-20g___18', 'Machinery Fault Diagnosis___underhang-cage_fault-20g___19', 'Machinery Fault Diagnosis___underhang-cage_fault-20g___2', 'Machinery Fault Diagnosis___underhang-cage_fault-20g___20', 'Machinery Fault Diagnosis___underhang-cage_fault-20g___21', 'Machinery Fault Diagnosis___underhang-cage_fault-20g___22', 'Machinery Fault Diagnosis___underhang-cage_fault-20g___23', 'Machinery Fault Diagnosis___underhang-cage_fault-20g___24', 'Machinery Fault Diagnosis___underhang-cage_fault-20g___25', 'Machinery Fault Diagnosis___underhang-cage_fault-20g___26', 'Machinery Fault Diagnosis___underhang-cage_fault-20g___27', 'Machinery Fault Diagnosis___underhang-cage_fault-20g___28', 'Machinery Fault Diagnosis___underhang-cage_fault-20g___29', 'Machinery Fault Diagnosis___underhang-cage_fault-20g___3', 'Machinery Fault Diagnosis___underhang-cage_fault-20g___30', 'Machinery Fault Diagnosis___underhang-cage_fault-20g___31', 'Machinery Fault Diagnosis___underhang-cage_fault-20g___32', 'Machinery Fault Diagnosis___underhang-cage_fault-20g___33', 'Machinery Fault Diagnosis___underhang-cage_fault-20g___34', 'Machinery Fault Diagnosis___underhang-cage_fault-20g___35', 'Machinery Fault Diagnosis___underhang-cage_fault-20g___36', 'Machinery Fault Diagnosis___underhang-cage_fault-20g___37', 'Machinery Fault Diagnosis___underhang-cage_fault-20g___38', 'Machinery Fault Diagnosis___underhang-cage_fault-20g___39', 'Machinery Fault Diagnosis___underhang-cage_fault-20g___4', 'Machinery Fault Diagnosis___underhang-cage_fault-20g___40', 'Machinery Fault Diagnosis___underhang-cage_fault-20g___41', 'Machinery Fault Diagnosis___underhang-cage_fault-20g___42', 'Machinery Fault Diagnosis___underhang-cage_fault-20g___43', 'Machinery Fault Diagnosis___underhang-cage_fault-20g___44', 'Machinery Fault Diagnosis___underhang-cage_fault-20g___45', 'Machinery Fault Diagnosis___underhang-cage_fault-20g___46', 'Machinery Fault Diagnosis___underhang-cage_fault-20g___47', 'Machinery Fault Diagnosis___underhang-cage_fault-20g___48', 'Machinery Fault Diagnosis___underhang-cage_fault-20g___5', 'Machinery Fault Diagnosis___underhang-cage_fault-20g___6', 'Machinery Fault Diagnosis___underhang-cage_fault-20g___7', 'Machinery Fault Diagnosis___underhang-cage_fault-20g___8', 'Machinery Fault Diagnosis___underhang-cage_fault-20g___9', 'Machinery Fault Diagnosis___underhang-cage_fault-35g___0', 'Machinery Fault Diagnosis___underhang-cage_fault-35g___1', 'Machinery Fault Diagnosis___underhang-cage_fault-35g___10', 'Machinery Fault Diagnosis___underhang-cage_fault-35g___11', 'Machinery Fault Diagnosis___underhang-cage_fault-35g___12', 'Machinery Fault Diagnosis___underhang-cage_fault-35g___13', 'Machinery Fault Diagnosis___underhang-cage_fault-35g___14', 'Machinery Fault Diagnosis___underhang-cage_fault-35g___15', 'Machinery Fault Diagnosis___underhang-cage_fault-35g___16', 'Machinery Fault Diagnosis___underhang-cage_fault-35g___17', 'Machinery Fault Diagnosis___underhang-cage_fault-35g___18', 'Machinery Fault Diagnosis___underhang-cage_fault-35g___19', 'Machinery Fault Diagnosis___underhang-cage_fault-35g___2', 'Machinery Fault Diagnosis___underhang-cage_fault-35g___20', 'Machinery Fault Diagnosis___underhang-cage_fault-35g___21', 'Machinery Fault Diagnosis___underhang-cage_fault-35g___22', 'Machinery Fault Diagnosis___underhang-cage_fault-35g___23', 'Machinery Fault Diagnosis___underhang-cage_fault-35g___24', 'Machinery Fault Diagnosis___underhang-cage_fault-35g___25', 'Machinery Fault Diagnosis___underhang-cage_fault-35g___26', 'Machinery Fault Diagnosis___underhang-cage_fault-35g___27', 'Machinery Fault Diagnosis___underhang-cage_fault-35g___28', 'Machinery Fault Diagnosis___underhang-cage_fault-35g___29', 'Machinery Fault Diagnosis___underhang-cage_fault-35g___3', 'Machinery Fault Diagnosis___underhang-cage_fault-35g___30', 'Machinery Fault Diagnosis___underhang-cage_fault-35g___31', 'Machinery Fault Diagnosis___underhang-cage_fault-35g___32', 'Machinery Fault Diagnosis___underhang-cage_fault-35g___33', 'Machinery Fault Diagnosis___underhang-cage_fault-35g___34', 'Machinery Fault Diagnosis___underhang-cage_fault-35g___35', 'Machinery Fault Diagnosis___underhang-cage_fault-35g___36', 'Machinery Fault Diagnosis___underhang-cage_fault-35g___37', 'Machinery Fault Diagnosis___underhang-cage_fault-35g___38', 'Machinery Fault Diagnosis___underhang-cage_fault-35g___39', 'Machinery Fault Diagnosis___underhang-cage_fault-35g___4', 'Machinery Fault Diagnosis___underhang-cage_fault-35g___40', 'Machinery Fault Diagnosis___underhang-cage_fault-35g___41', 'Machinery Fault Diagnosis___underhang-cage_fault-35g___5', 'Machinery Fault Diagnosis___underhang-cage_fault-35g___6', 'Machinery Fault Diagnosis___underhang-cage_fault-35g___7', 'Machinery Fault Diagnosis___underhang-cage_fault-35g___8', 'Machinery Fault Diagnosis___underhang-cage_fault-35g___9', 'Machinery Fault Diagnosis___underhang-cage_fault-6g___0', 'Machinery Fault Diagnosis___underhang-cage_fault-6g___1', 'Machinery Fault Diagnosis___underhang-cage_fault-6g___10', 'Machinery Fault Diagnosis___underhang-cage_fault-6g___11', 'Machinery Fault Diagnosis___underhang-cage_fault-6g___12', 'Machinery Fault Diagnosis___underhang-cage_fault-6g___13', 'Machinery Fault Diagnosis___underhang-cage_fault-6g___14', 'Machinery Fault Diagnosis___underhang-cage_fault-6g___15', 'Machinery Fault Diagnosis___underhang-cage_fault-6g___16', 'Machinery Fault Diagnosis___underhang-cage_fault-6g___17', 'Machinery Fault Diagnosis___underhang-cage_fault-6g___18', 'Machinery Fault Diagnosis___underhang-cage_fault-6g___19', 'Machinery Fault Diagnosis___underhang-cage_fault-6g___2', 'Machinery Fault Diagnosis___underhang-cage_fault-6g___20', 'Machinery Fault Diagnosis___underhang-cage_fault-6g___21', 'Machinery Fault Diagnosis___underhang-cage_fault-6g___22', 'Machinery Fault Diagnosis___underhang-cage_fault-6g___23', 'Machinery Fault Diagnosis___underhang-cage_fault-6g___24', 'Machinery Fault Diagnosis___underhang-cage_fault-6g___25', 'Machinery Fault Diagnosis___underhang-cage_fault-6g___26', 'Machinery Fault Diagnosis___underhang-cage_fault-6g___27', 'Machinery Fault Diagnosis___underhang-cage_fault-6g___28', 'Machinery Fault Diagnosis___underhang-cage_fault-6g___29', 'Machinery Fault Diagnosis___underhang-cage_fault-6g___3', 'Machinery Fault Diagnosis___underhang-cage_fault-6g___30', 'Machinery Fault Diagnosis___underhang-cage_fault-6g___31', 'Machinery Fault Diagnosis___underhang-cage_fault-6g___32', 'Machinery Fault Diagnosis___underhang-cage_fault-6g___33', 'Machinery Fault Diagnosis___underhang-cage_fault-6g___34', 'Machinery Fault Diagnosis___underhang-cage_fault-6g___35', 'Machinery Fault Diagnosis___underhang-cage_fault-6g___36', 'Machinery Fault Diagnosis___underhang-cage_fault-6g___37', 'Machinery Fault Diagnosis___underhang-cage_fault-6g___38', 'Machinery Fault Diagnosis___underhang-cage_fault-6g___39', 'Machinery Fault Diagnosis___underhang-cage_fault-6g___4', 'Machinery Fault Diagnosis___underhang-cage_fault-6g___40', 'Machinery Fault Diagnosis___underhang-cage_fault-6g___41', 'Machinery Fault Diagnosis___underhang-cage_fault-6g___42', 'Machinery Fault Diagnosis___underhang-cage_fault-6g___43', 'Machinery Fault Diagnosis___underhang-cage_fault-6g___44', 'Machinery Fault Diagnosis___underhang-cage_fault-6g___45', 'Machinery Fault Diagnosis___underhang-cage_fault-6g___46', 'Machinery Fault Diagnosis___underhang-cage_fault-6g___47', 'Machinery Fault Diagnosis___underhang-cage_fault-6g___5', 'Machinery Fault Diagnosis___underhang-cage_fault-6g___6', 'Machinery Fault Diagnosis___underhang-cage_fault-6g___7', 'Machinery Fault Diagnosis___underhang-cage_fault-6g___8', 'Machinery Fault Diagnosis___underhang-cage_fault-6g___9', 'Machinery Fault Diagnosis___underhang-outer_race-0g___0', 'Machinery Fault Diagnosis___underhang-outer_race-0g___1', 'Machinery Fault Diagnosis___underhang-outer_race-0g___10', 'Machinery Fault Diagnosis___underhang-outer_race-0g___11', 'Machinery Fault Diagnosis___underhang-outer_race-0g___12', 'Machinery Fault Diagnosis___underhang-outer_race-0g___13', 'Machinery Fault Diagnosis___underhang-outer_race-0g___14', 'Machinery Fault Diagnosis___underhang-outer_race-0g___15', 'Machinery Fault Diagnosis___underhang-outer_race-0g___16', 'Machinery Fault Diagnosis___underhang-outer_race-0g___17', 'Machinery Fault Diagnosis___underhang-outer_race-0g___18', 'Machinery Fault Diagnosis___underhang-outer_race-0g___19', 'Machinery Fault Diagnosis___underhang-outer_race-0g___2', 'Machinery Fault Diagnosis___underhang-outer_race-0g___20', 'Machinery Fault Diagnosis___underhang-outer_race-0g___21', 'Machinery Fault Diagnosis___underhang-outer_race-0g___22', 'Machinery Fault Diagnosis___underhang-outer_race-0g___23', 'Machinery Fault Diagnosis___underhang-outer_race-0g___24', 'Machinery Fault Diagnosis___underhang-outer_race-0g___25', 'Machinery Fault Diagnosis___underhang-outer_race-0g___26', 'Machinery Fault Diagnosis___underhang-outer_race-0g___27', 'Machinery Fault Diagnosis___underhang-outer_race-0g___28', 'Machinery Fault Diagnosis___underhang-outer_race-0g___29', 'Machinery Fault Diagnosis___underhang-outer_race-0g___3', 'Machinery Fault Diagnosis___underhang-outer_race-0g___30', 'Machinery Fault Diagnosis___underhang-outer_race-0g___31', 'Machinery Fault Diagnosis___underhang-outer_race-0g___32', 'Machinery Fault Diagnosis___underhang-outer_race-0g___33', 'Machinery Fault Diagnosis___underhang-outer_race-0g___34', 'Machinery Fault Diagnosis___underhang-outer_race-0g___35', 'Machinery Fault Diagnosis___underhang-outer_race-0g___36', 'Machinery Fault Diagnosis___underhang-outer_race-0g___37', 'Machinery Fault Diagnosis___underhang-outer_race-0g___38', 'Machinery Fault Diagnosis___underhang-outer_race-0g___39', 'Machinery Fault Diagnosis___underhang-outer_race-0g___4', 'Machinery Fault Diagnosis___underhang-outer_race-0g___40', 'Machinery Fault Diagnosis___underhang-outer_race-0g___41', 'Machinery Fault Diagnosis___underhang-outer_race-0g___42', 'Machinery Fault Diagnosis___underhang-outer_race-0g___43', 'Machinery Fault Diagnosis___underhang-outer_race-0g___44', 'Machinery Fault Diagnosis___underhang-outer_race-0g___45', 'Machinery Fault Diagnosis___underhang-outer_race-0g___46', 'Machinery Fault Diagnosis___underhang-outer_race-0g___47', 'Machinery Fault Diagnosis___underhang-outer_race-0g___48', 'Machinery Fault Diagnosis___underhang-outer_race-0g___5', 'Machinery Fault Diagnosis___underhang-outer_race-0g___6', 'Machinery Fault Diagnosis___underhang-outer_race-0g___7', 'Machinery Fault Diagnosis___underhang-outer_race-0g___8', 'Machinery Fault Diagnosis___underhang-outer_race-0g___9', 'Machinery Fault Diagnosis___underhang-outer_race-20g___0', 'Machinery Fault Diagnosis___underhang-outer_race-20g___1', 'Machinery Fault Diagnosis___underhang-outer_race-20g___10', 'Machinery Fault Diagnosis___underhang-outer_race-20g___11', 'Machinery Fault Diagnosis___underhang-outer_race-20g___12', 'Machinery Fault Diagnosis___underhang-outer_race-20g___13', 'Machinery Fault Diagnosis___underhang-outer_race-20g___14', 'Machinery Fault Diagnosis___underhang-outer_race-20g___15', 'Machinery Fault Diagnosis___underhang-outer_race-20g___16', 'Machinery Fault Diagnosis___underhang-outer_race-20g___17', 'Machinery Fault Diagnosis___underhang-outer_race-20g___18', 'Machinery Fault Diagnosis___underhang-outer_race-20g___19', 'Machinery Fault Diagnosis___underhang-outer_race-20g___2', 'Machinery Fault Diagnosis___underhang-outer_race-20g___20', 'Machinery Fault Diagnosis___underhang-outer_race-20g___21', 'Machinery Fault Diagnosis___underhang-outer_race-20g___22', 'Machinery Fault Diagnosis___underhang-outer_race-20g___23', 'Machinery Fault Diagnosis___underhang-outer_race-20g___24', 'Machinery Fault Diagnosis___underhang-outer_race-20g___25', 'Machinery Fault Diagnosis___underhang-outer_race-20g___26', 'Machinery Fault Diagnosis___underhang-outer_race-20g___27', 'Machinery Fault Diagnosis___underhang-outer_race-20g___28', 'Machinery Fault Diagnosis___underhang-outer_race-20g___29', 'Machinery Fault Diagnosis___underhang-outer_race-20g___3', 'Machinery Fault Diagnosis___underhang-outer_race-20g___30', 'Machinery Fault Diagnosis___underhang-outer_race-20g___31', 'Machinery Fault Diagnosis___underhang-outer_race-20g___32', 'Machinery Fault Diagnosis___underhang-outer_race-20g___33', 'Machinery Fault Diagnosis___underhang-outer_race-20g___34', 'Machinery Fault Diagnosis___underhang-outer_race-20g___35', 'Machinery Fault Diagnosis___underhang-outer_race-20g___36', 'Machinery Fault Diagnosis___underhang-outer_race-20g___37', 'Machinery Fault Diagnosis___underhang-outer_race-20g___38', 'Machinery Fault Diagnosis___underhang-outer_race-20g___39', 'Machinery Fault Diagnosis___underhang-outer_race-20g___4', 'Machinery Fault Diagnosis___underhang-outer_race-20g___40', 'Machinery Fault Diagnosis___underhang-outer_race-20g___41', 'Machinery Fault Diagnosis___underhang-outer_race-20g___42', 'Machinery Fault Diagnosis___underhang-outer_race-20g___43', 'Machinery Fault Diagnosis___underhang-outer_race-20g___44', 'Machinery Fault Diagnosis___underhang-outer_race-20g___45', 'Machinery Fault Diagnosis___underhang-outer_race-20g___46', 'Machinery Fault Diagnosis___underhang-outer_race-20g___47', 'Machinery Fault Diagnosis___underhang-outer_race-20g___48', 'Machinery Fault Diagnosis___underhang-outer_race-20g___5', 'Machinery Fault Diagnosis___underhang-outer_race-20g___6', 'Machinery Fault Diagnosis___underhang-outer_race-20g___7', 'Machinery Fault Diagnosis___underhang-outer_race-20g___8', 'Machinery Fault Diagnosis___underhang-outer_race-20g___9', 'Machinery Fault Diagnosis___underhang-outer_race-35g___0', 'Machinery Fault Diagnosis___underhang-outer_race-35g___1', 'Machinery Fault Diagnosis___underhang-outer_race-35g___10', 'Machinery Fault Diagnosis___underhang-outer_race-35g___11', 'Machinery Fault Diagnosis___underhang-outer_race-35g___12', 'Machinery Fault Diagnosis___underhang-outer_race-35g___13', 'Machinery Fault Diagnosis___underhang-outer_race-35g___14', 'Machinery Fault Diagnosis___underhang-outer_race-35g___15', 'Machinery Fault Diagnosis___underhang-outer_race-35g___16', 'Machinery Fault Diagnosis___underhang-outer_race-35g___17', 'Machinery Fault Diagnosis___underhang-outer_race-35g___18', 'Machinery Fault Diagnosis___underhang-outer_race-35g___19', 'Machinery Fault Diagnosis___underhang-outer_race-35g___2', 'Machinery Fault Diagnosis___underhang-outer_race-35g___20', 'Machinery Fault Diagnosis___underhang-outer_race-35g___21', 'Machinery Fault Diagnosis___underhang-outer_race-35g___22', 'Machinery Fault Diagnosis___underhang-outer_race-35g___23', 'Machinery Fault Diagnosis___underhang-outer_race-35g___24', 'Machinery Fault Diagnosis___underhang-outer_race-35g___25', 'Machinery Fault Diagnosis___underhang-outer_race-35g___26', 'Machinery Fault Diagnosis___underhang-outer_race-35g___27', 'Machinery Fault Diagnosis___underhang-outer_race-35g___28', 'Machinery Fault Diagnosis___underhang-outer_race-35g___29', 'Machinery Fault Diagnosis___underhang-outer_race-35g___3', 'Machinery Fault Diagnosis___underhang-outer_race-35g___30', 'Machinery Fault Diagnosis___underhang-outer_race-35g___31', 'Machinery Fault Diagnosis___underhang-outer_race-35g___32', 'Machinery Fault Diagnosis___underhang-outer_race-35g___33', 'Machinery Fault Diagnosis___underhang-outer_race-35g___34', 'Machinery Fault Diagnosis___underhang-outer_race-35g___35', 'Machinery Fault Diagnosis___underhang-outer_race-35g___36', 'Machinery Fault Diagnosis___underhang-outer_race-35g___4', 'Machinery Fault Diagnosis___underhang-outer_race-35g___5', 'Machinery Fault Diagnosis___underhang-outer_race-35g___6', 'Machinery Fault Diagnosis___underhang-outer_race-35g___7', 'Machinery Fault Diagnosis___underhang-outer_race-35g___8', 'Machinery Fault Diagnosis___underhang-outer_race-35g___9', 'Machinery Fault Diagnosis___underhang-outer_race-6g___0', 'Machinery Fault Diagnosis___underhang-outer_race-6g___1', 'Machinery Fault Diagnosis___underhang-outer_race-6g___10', 'Machinery Fault Diagnosis___underhang-outer_race-6g___11', 'Machinery Fault Diagnosis___underhang-outer_race-6g___12', 'Machinery Fault Diagnosis___underhang-outer_race-6g___13', 'Machinery Fault Diagnosis___underhang-outer_race-6g___14', 'Machinery Fault Diagnosis___underhang-outer_race-6g___15', 'Machinery Fault Diagnosis___underhang-outer_race-6g___16', 'Machinery Fault Diagnosis___underhang-outer_race-6g___17', 'Machinery Fault Diagnosis___underhang-outer_race-6g___18', 'Machinery Fault Diagnosis___underhang-outer_race-6g___19', 'Machinery Fault Diagnosis___underhang-outer_race-6g___2', 'Machinery Fault Diagnosis___underhang-outer_race-6g___20', 'Machinery Fault Diagnosis___underhang-outer_race-6g___21', 'Machinery Fault Diagnosis___underhang-outer_race-6g___22', 'Machinery Fault Diagnosis___underhang-outer_race-6g___23', 'Machinery Fault Diagnosis___underhang-outer_race-6g___24', 'Machinery Fault Diagnosis___underhang-outer_race-6g___25', 'Machinery Fault Diagnosis___underhang-outer_race-6g___26', 'Machinery Fault Diagnosis___underhang-outer_race-6g___27', 'Machinery Fault Diagnosis___underhang-outer_race-6g___28', 'Machinery Fault Diagnosis___underhang-outer_race-6g___29', 'Machinery Fault Diagnosis___underhang-outer_race-6g___3', 'Machinery Fault Diagnosis___underhang-outer_race-6g___30', 'Machinery Fault Diagnosis___underhang-outer_race-6g___31', 'Machinery Fault Diagnosis___underhang-outer_race-6g___32', 'Machinery Fault Diagnosis___underhang-outer_race-6g___33', 'Machinery Fault Diagnosis___underhang-outer_race-6g___34', 'Machinery Fault Diagnosis___underhang-outer_race-6g___35', 'Machinery Fault Diagnosis___underhang-outer_race-6g___36', 'Machinery Fault Diagnosis___underhang-outer_race-6g___37', 'Machinery Fault Diagnosis___underhang-outer_race-6g___38', 'Machinery Fault Diagnosis___underhang-outer_race-6g___39', 'Machinery Fault Diagnosis___underhang-outer_race-6g___4', 'Machinery Fault Diagnosis___underhang-outer_race-6g___40', 'Machinery Fault Diagnosis___underhang-outer_race-6g___41', 'Machinery Fault Diagnosis___underhang-outer_race-6g___42', 'Machinery Fault Diagnosis___underhang-outer_race-6g___43', 'Machinery Fault Diagnosis___underhang-outer_race-6g___44', 'Machinery Fault Diagnosis___underhang-outer_race-6g___45', 'Machinery Fault Diagnosis___underhang-outer_race-6g___46', 'Machinery Fault Diagnosis___underhang-outer_race-6g___47', 'Machinery Fault Diagnosis___underhang-outer_race-6g___48', 'Machinery Fault Diagnosis___underhang-outer_race-6g___5', 'Machinery Fault Diagnosis___underhang-outer_race-6g___6', 'Machinery Fault Diagnosis___underhang-outer_race-6g___7', 'Machinery Fault Diagnosis___underhang-outer_race-6g___8', 'Machinery Fault Diagnosis___underhang-outer_race-6g___9', 'Machinery Fault Diagnosis___vertical-misalignment-0.51mm___0', 'Machinery Fault Diagnosis___vertical-misalignment-0.51mm___1', 'Machinery Fault Diagnosis___vertical-misalignment-0.51mm___10', 'Machinery Fault Diagnosis___vertical-misalignment-0.51mm___11', 'Machinery Fault Diagnosis___vertical-misalignment-0.51mm___12', 'Machinery Fault Diagnosis___vertical-misalignment-0.51mm___13', 'Machinery Fault Diagnosis___vertical-misalignment-0.51mm___14', 'Machinery Fault Diagnosis___vertical-misalignment-0.51mm___15', 'Machinery Fault Diagnosis___vertical-misalignment-0.51mm___16', 'Machinery Fault Diagnosis___vertical-misalignment-0.51mm___17', 'Machinery Fault Diagnosis___vertical-misalignment-0.51mm___18', 'Machinery Fault Diagnosis___vertical-misalignment-0.51mm___19', 'Machinery Fault Diagnosis___vertical-misalignment-0.51mm___2', 'Machinery Fault Diagnosis___vertical-misalignment-0.51mm___20', 'Machinery Fault Diagnosis___vertical-misalignment-0.51mm___21', 'Machinery Fault Diagnosis___vertical-misalignment-0.51mm___22', 'Machinery Fault Diagnosis___vertical-misalignment-0.51mm___23', 'Machinery Fault Diagnosis___vertical-misalignment-0.51mm___24', 'Machinery Fault Diagnosis___vertical-misalignment-0.51mm___25', 'Machinery Fault Diagnosis___vertical-misalignment-0.51mm___26', 'Machinery Fault Diagnosis___vertical-misalignment-0.51mm___27', 'Machinery Fault Diagnosis___vertical-misalignment-0.51mm___28', 'Machinery Fault Diagnosis___vertical-misalignment-0.51mm___29', 'Machinery Fault Diagnosis___vertical-misalignment-0.51mm___3', 'Machinery Fault Diagnosis___vertical-misalignment-0.51mm___30', 'Machinery Fault Diagnosis___vertical-misalignment-0.51mm___31', 'Machinery Fault Diagnosis___vertical-misalignment-0.51mm___32', 'Machinery Fault Diagnosis___vertical-misalignment-0.51mm___33', 'Machinery Fault Diagnosis___vertical-misalignment-0.51mm___34', 'Machinery Fault Diagnosis___vertical-misalignment-0.51mm___35', 'Machinery Fault Diagnosis___vertical-misalignment-0.51mm___36', 'Machinery Fault Diagnosis___vertical-misalignment-0.51mm___37', 'Machinery Fault Diagnosis___vertical-misalignment-0.51mm___38', 'Machinery Fault Diagnosis___vertical-misalignment-0.51mm___39', 'Machinery Fault Diagnosis___vertical-misalignment-0.51mm___4', 'Machinery Fault Diagnosis___vertical-misalignment-0.51mm___40', 'Machinery Fault Diagnosis___vertical-misalignment-0.51mm___41', 'Machinery Fault Diagnosis___vertical-misalignment-0.51mm___42', 'Machinery Fault Diagnosis___vertical-misalignment-0.51mm___43', 'Machinery Fault Diagnosis___vertical-misalignment-0.51mm___44', 'Machinery Fault Diagnosis___vertical-misalignment-0.51mm___45', 'Machinery Fault Diagnosis___vertical-misalignment-0.51mm___46', 'Machinery Fault Diagnosis___vertical-misalignment-0.51mm___47', 'Machinery Fault Diagnosis___vertical-misalignment-0.51mm___48', 'Machinery Fault Diagnosis___vertical-misalignment-0.51mm___49', 'Machinery Fault Diagnosis___vertical-misalignment-0.51mm___5', 'Machinery Fault Diagnosis___vertical-misalignment-0.51mm___50', 'Machinery Fault Diagnosis___vertical-misalignment-0.51mm___6', 'Machinery Fault Diagnosis___vertical-misalignment-0.51mm___7', 'Machinery Fault Diagnosis___vertical-misalignment-0.51mm___8', 'Machinery Fault Diagnosis___vertical-misalignment-0.51mm___9', 'Machinery Fault Diagnosis___vertical-misalignment-0.63mm___0', 'Machinery Fault Diagnosis___vertical-misalignment-0.63mm___1', 'Machinery Fault Diagnosis___vertical-misalignment-0.63mm___10', 'Machinery Fault Diagnosis___vertical-misalignment-0.63mm___11', 'Machinery Fault Diagnosis___vertical-misalignment-0.63mm___12', 'Machinery Fault Diagnosis___vertical-misalignment-0.63mm___13', 'Machinery Fault Diagnosis___vertical-misalignment-0.63mm___14', 'Machinery Fault Diagnosis___vertical-misalignment-0.63mm___15', 'Machinery Fault Diagnosis___vertical-misalignment-0.63mm___16', 'Machinery Fault Diagnosis___vertical-misalignment-0.63mm___17', 'Machinery Fault Diagnosis___vertical-misalignment-0.63mm___18', 'Machinery Fault Diagnosis___vertical-misalignment-0.63mm___19', 'Machinery Fault Diagnosis___vertical-misalignment-0.63mm___2', 'Machinery Fault Diagnosis___vertical-misalignment-0.63mm___20', 'Machinery Fault Diagnosis___vertical-misalignment-0.63mm___21', 'Machinery Fault Diagnosis___vertical-misalignment-0.63mm___22', 'Machinery Fault Diagnosis___vertical-misalignment-0.63mm___23', 'Machinery Fault Diagnosis___vertical-misalignment-0.63mm___24', 'Machinery Fault Diagnosis___vertical-misalignment-0.63mm___25', 'Machinery Fault Diagnosis___vertical-misalignment-0.63mm___26', 'Machinery Fault Diagnosis___vertical-misalignment-0.63mm___27', 'Machinery Fault Diagnosis___vertical-misalignment-0.63mm___28', 'Machinery Fault Diagnosis___vertical-misalignment-0.63mm___29', 'Machinery Fault Diagnosis___vertical-misalignment-0.63mm___3', 'Machinery Fault Diagnosis___vertical-misalignment-0.63mm___30', 'Machinery Fault Diagnosis___vertical-misalignment-0.63mm___31', 'Machinery Fault Diagnosis___vertical-misalignment-0.63mm___32', 'Machinery Fault Diagnosis___vertical-misalignment-0.63mm___33', 'Machinery Fault Diagnosis___vertical-misalignment-0.63mm___34', 'Machinery Fault Diagnosis___vertical-misalignment-0.63mm___35', 'Machinery Fault Diagnosis___vertical-misalignment-0.63mm___36', 'Machinery Fault Diagnosis___vertical-misalignment-0.63mm___37', 'Machinery Fault Diagnosis___vertical-misalignment-0.63mm___38', 'Machinery Fault Diagnosis___vertical-misalignment-0.63mm___39', 'Machinery Fault Diagnosis___vertical-misalignment-0.63mm___4', 'Machinery Fault Diagnosis___vertical-misalignment-0.63mm___40', 'Machinery Fault Diagnosis___vertical-misalignment-0.63mm___41', 'Machinery Fault Diagnosis___vertical-misalignment-0.63mm___42', 'Machinery Fault Diagnosis___vertical-misalignment-0.63mm___43', 'Machinery Fault Diagnosis___vertical-misalignment-0.63mm___44', 'Machinery Fault Diagnosis___vertical-misalignment-0.63mm___45', 'Machinery Fault Diagnosis___vertical-misalignment-0.63mm___46', 'Machinery Fault Diagnosis___vertical-misalignment-0.63mm___47', 'Machinery Fault Diagnosis___vertical-misalignment-0.63mm___48', 'Machinery Fault Diagnosis___vertical-misalignment-0.63mm___49', 'Machinery Fault Diagnosis___vertical-misalignment-0.63mm___5', 'Machinery Fault Diagnosis___vertical-misalignment-0.63mm___6', 'Machinery Fault Diagnosis___vertical-misalignment-0.63mm___7', 'Machinery Fault Diagnosis___vertical-misalignment-0.63mm___8', 'Machinery Fault Diagnosis___vertical-misalignment-0.63mm___9', 'Machinery Fault Diagnosis___vertical-misalignment-1.27mm___0', 'Machinery Fault Diagnosis___vertical-misalignment-1.27mm___1', 'Machinery Fault Diagnosis___vertical-misalignment-1.27mm___10', 'Machinery Fault Diagnosis___vertical-misalignment-1.27mm___11', 'Machinery Fault Diagnosis___vertical-misalignment-1.27mm___12', 'Machinery Fault Diagnosis___vertical-misalignment-1.27mm___13', 'Machinery Fault Diagnosis___vertical-misalignment-1.27mm___14', 'Machinery Fault Diagnosis___vertical-misalignment-1.27mm___15', 'Machinery Fault Diagnosis___vertical-misalignment-1.27mm___16', 'Machinery Fault Diagnosis___vertical-misalignment-1.27mm___17', 'Machinery Fault Diagnosis___vertical-misalignment-1.27mm___18', 'Machinery Fault Diagnosis___vertical-misalignment-1.27mm___19', 'Machinery Fault Diagnosis___vertical-misalignment-1.27mm___2', 'Machinery Fault Diagnosis___vertical-misalignment-1.27mm___20', 'Machinery Fault Diagnosis___vertical-misalignment-1.27mm___21', 'Machinery Fault Diagnosis___vertical-misalignment-1.27mm___22', 'Machinery Fault Diagnosis___vertical-misalignment-1.27mm___23', 'Machinery Fault Diagnosis___vertical-misalignment-1.27mm___24', 'Machinery Fault Diagnosis___vertical-misalignment-1.27mm___25', 'Machinery Fault Diagnosis___vertical-misalignment-1.27mm___26', 'Machinery Fault Diagnosis___vertical-misalignment-1.27mm___27', 'Machinery Fault Diagnosis___vertical-misalignment-1.27mm___28', 'Machinery Fault Diagnosis___vertical-misalignment-1.27mm___29', 'Machinery Fault Diagnosis___vertical-misalignment-1.27mm___3', 'Machinery Fault Diagnosis___vertical-misalignment-1.27mm___30', 'Machinery Fault Diagnosis___vertical-misalignment-1.27mm___31', 'Machinery Fault Diagnosis___vertical-misalignment-1.27mm___32', 'Machinery Fault Diagnosis___vertical-misalignment-1.27mm___33', 'Machinery Fault Diagnosis___vertical-misalignment-1.27mm___34', 'Machinery Fault Diagnosis___vertical-misalignment-1.27mm___35', 'Machinery Fault Diagnosis___vertical-misalignment-1.27mm___36', 'Machinery Fault Diagnosis___vertical-misalignment-1.27mm___37', 'Machinery Fault Diagnosis___vertical-misalignment-1.27mm___38', 'Machinery Fault Diagnosis___vertical-misalignment-1.27mm___39', 'Machinery Fault Diagnosis___vertical-misalignment-1.27mm___4', 'Machinery Fault Diagnosis___vertical-misalignment-1.27mm___40', 'Machinery Fault Diagnosis___vertical-misalignment-1.27mm___41', 'Machinery Fault Diagnosis___vertical-misalignment-1.27mm___42', 'Machinery Fault Diagnosis___vertical-misalignment-1.27mm___43', 'Machinery Fault Diagnosis___vertical-misalignment-1.27mm___44', 'Machinery Fault Diagnosis___vertical-misalignment-1.27mm___45', 'Machinery Fault Diagnosis___vertical-misalignment-1.27mm___46', 'Machinery Fault Diagnosis___vertical-misalignment-1.27mm___47', 'Machinery Fault Diagnosis___vertical-misalignment-1.27mm___48', 'Machinery Fault Diagnosis___vertical-misalignment-1.27mm___49', 'Machinery Fault Diagnosis___vertical-misalignment-1.27mm___5', 'Machinery Fault Diagnosis___vertical-misalignment-1.27mm___6', 'Machinery Fault Diagnosis___vertical-misalignment-1.27mm___7', 'Machinery Fault Diagnosis___vertical-misalignment-1.27mm___8', 'Machinery Fault Diagnosis___vertical-misalignment-1.27mm___9', 'Machinery Fault Diagnosis___vertical-misalignment-1.40mm___0', 'Machinery Fault Diagnosis___vertical-misalignment-1.40mm___1', 'Machinery Fault Diagnosis___vertical-misalignment-1.40mm___10', 'Machinery Fault Diagnosis___vertical-misalignment-1.40mm___11', 'Machinery Fault Diagnosis___vertical-misalignment-1.40mm___12', 'Machinery Fault Diagnosis___vertical-misalignment-1.40mm___13', 'Machinery Fault Diagnosis___vertical-misalignment-1.40mm___14', 'Machinery Fault Diagnosis___vertical-misalignment-1.40mm___15', 'Machinery Fault Diagnosis___vertical-misalignment-1.40mm___16', 'Machinery Fault Diagnosis___vertical-misalignment-1.40mm___17', 'Machinery Fault Diagnosis___vertical-misalignment-1.40mm___18', 'Machinery Fault Diagnosis___vertical-misalignment-1.40mm___19', 'Machinery Fault Diagnosis___vertical-misalignment-1.40mm___2', 'Machinery Fault Diagnosis___vertical-misalignment-1.40mm___20', 'Machinery Fault Diagnosis___vertical-misalignment-1.40mm___21', 'Machinery Fault Diagnosis___vertical-misalignment-1.40mm___22', 'Machinery Fault Diagnosis___vertical-misalignment-1.40mm___23', 'Machinery Fault Diagnosis___vertical-misalignment-1.40mm___24', 'Machinery Fault Diagnosis___vertical-misalignment-1.40mm___25', 'Machinery Fault Diagnosis___vertical-misalignment-1.40mm___26', 'Machinery Fault Diagnosis___vertical-misalignment-1.40mm___27', 'Machinery Fault Diagnosis___vertical-misalignment-1.40mm___28', 'Machinery Fault Diagnosis___vertical-misalignment-1.40mm___29', 'Machinery Fault Diagnosis___vertical-misalignment-1.40mm___3', 'Machinery Fault Diagnosis___vertical-misalignment-1.40mm___30', 'Machinery Fault Diagnosis___vertical-misalignment-1.40mm___31', 'Machinery Fault Diagnosis___vertical-misalignment-1.40mm___32', 'Machinery Fault Diagnosis___vertical-misalignment-1.40mm___33', 'Machinery Fault Diagnosis___vertical-misalignment-1.40mm___34', 'Machinery Fault Diagnosis___vertical-misalignment-1.40mm___35', 'Machinery Fault Diagnosis___vertical-misalignment-1.40mm___36', 'Machinery Fault Diagnosis___vertical-misalignment-1.40mm___37', 'Machinery Fault Diagnosis___vertical-misalignment-1.40mm___38', 'Machinery Fault Diagnosis___vertical-misalignment-1.40mm___39', 'Machinery Fault Diagnosis___vertical-misalignment-1.40mm___4', 'Machinery Fault Diagnosis___vertical-misalignment-1.40mm___40', 'Machinery Fault Diagnosis___vertical-misalignment-1.40mm___41', 'Machinery Fault Diagnosis___vertical-misalignment-1.40mm___42', 'Machinery Fault Diagnosis___vertical-misalignment-1.40mm___43', 'Machinery Fault Diagnosis___vertical-misalignment-1.40mm___44', 'Machinery Fault Diagnosis___vertical-misalignment-1.40mm___45', 'Machinery Fault Diagnosis___vertical-misalignment-1.40mm___46', 'Machinery Fault Diagnosis___vertical-misalignment-1.40mm___47', 'Machinery Fault Diagnosis___vertical-misalignment-1.40mm___48', 'Machinery Fault Diagnosis___vertical-misalignment-1.40mm___49', 'Machinery Fault Diagnosis___vertical-misalignment-1.40mm___5', 'Machinery Fault Diagnosis___vertical-misalignment-1.40mm___6', 'Machinery Fault Diagnosis___vertical-misalignment-1.40mm___7', 'Machinery Fault Diagnosis___vertical-misalignment-1.40mm___8', 'Machinery Fault Diagnosis___vertical-misalignment-1.40mm___9', 'Machinery Fault Diagnosis___vertical-misalignment-1.78mm___0', 'Machinery Fault Diagnosis___vertical-misalignment-1.78mm___1', 'Machinery Fault Diagnosis___vertical-misalignment-1.78mm___10', 'Machinery Fault Diagnosis___vertical-misalignment-1.78mm___11', 'Machinery Fault Diagnosis___vertical-misalignment-1.78mm___12', 'Machinery Fault Diagnosis___vertical-misalignment-1.78mm___13', 'Machinery Fault Diagnosis___vertical-misalignment-1.78mm___14', 'Machinery Fault Diagnosis___vertical-misalignment-1.78mm___15', 'Machinery Fault Diagnosis___vertical-misalignment-1.78mm___16', 'Machinery Fault Diagnosis___vertical-misalignment-1.78mm___17', 'Machinery Fault Diagnosis___vertical-misalignment-1.78mm___18', 'Machinery Fault Diagnosis___vertical-misalignment-1.78mm___19', 'Machinery Fault Diagnosis___vertical-misalignment-1.78mm___2', 'Machinery Fault Diagnosis___vertical-misalignment-1.78mm___20', 'Machinery Fault Diagnosis___vertical-misalignment-1.78mm___21', 'Machinery Fault Diagnosis___vertical-misalignment-1.78mm___22', 'Machinery Fault Diagnosis___vertical-misalignment-1.78mm___23', 'Machinery Fault Diagnosis___vertical-misalignment-1.78mm___24', 'Machinery Fault Diagnosis___vertical-misalignment-1.78mm___25', 'Machinery Fault Diagnosis___vertical-misalignment-1.78mm___26', 'Machinery Fault Diagnosis___vertical-misalignment-1.78mm___27', 'Machinery Fault Diagnosis___vertical-misalignment-1.78mm___28', 'Machinery Fault Diagnosis___vertical-misalignment-1.78mm___29', 'Machinery Fault Diagnosis___vertical-misalignment-1.78mm___3', 'Machinery Fault Diagnosis___vertical-misalignment-1.78mm___30', 'Machinery Fault Diagnosis___vertical-misalignment-1.78mm___31', 'Machinery Fault Diagnosis___vertical-misalignment-1.78mm___32', 'Machinery Fault Diagnosis___vertical-misalignment-1.78mm___33', 'Machinery Fault Diagnosis___vertical-misalignment-1.78mm___34', 'Machinery Fault Diagnosis___vertical-misalignment-1.78mm___35', 'Machinery Fault Diagnosis___vertical-misalignment-1.78mm___36', 'Machinery Fault Diagnosis___vertical-misalignment-1.78mm___37', 'Machinery Fault Diagnosis___vertical-misalignment-1.78mm___38', 'Machinery Fault Diagnosis___vertical-misalignment-1.78mm___39', 'Machinery Fault Diagnosis___vertical-misalignment-1.78mm___4', 'Machinery Fault Diagnosis___vertical-misalignment-1.78mm___40', 'Machinery Fault Diagnosis___vertical-misalignment-1.78mm___41', 'Machinery Fault Diagnosis___vertical-misalignment-1.78mm___42', 'Machinery Fault Diagnosis___vertical-misalignment-1.78mm___43', 'Machinery Fault Diagnosis___vertical-misalignment-1.78mm___44', 'Machinery Fault Diagnosis___vertical-misalignment-1.78mm___45', 'Machinery Fault Diagnosis___vertical-misalignment-1.78mm___46', 'Machinery Fault Diagnosis___vertical-misalignment-1.78mm___47', 'Machinery Fault Diagnosis___vertical-misalignment-1.78mm___48', 'Machinery Fault Diagnosis___vertical-misalignment-1.78mm___49', 'Machinery Fault Diagnosis___vertical-misalignment-1.78mm___5', 'Machinery Fault Diagnosis___vertical-misalignment-1.78mm___6', 'Machinery Fault Diagnosis___vertical-misalignment-1.78mm___7', 'Machinery Fault Diagnosis___vertical-misalignment-1.78mm___8', 'Machinery Fault Diagnosis___vertical-misalignment-1.78mm___9', 'Machinery Fault Diagnosis___vertical-misalignment-1.90mm___0', 'Machinery Fault Diagnosis___vertical-misalignment-1.90mm___1', 'Machinery Fault Diagnosis___vertical-misalignment-1.90mm___10', 'Machinery Fault Diagnosis___vertical-misalignment-1.90mm___11', 'Machinery Fault Diagnosis___vertical-misalignment-1.90mm___12', 'Machinery Fault Diagnosis___vertical-misalignment-1.90mm___13', 'Machinery Fault Diagnosis___vertical-misalignment-1.90mm___14', 'Machinery Fault Diagnosis___vertical-misalignment-1.90mm___15', 'Machinery Fault Diagnosis___vertical-misalignment-1.90mm___16', 'Machinery Fault Diagnosis___vertical-misalignment-1.90mm___17', 'Machinery Fault Diagnosis___vertical-misalignment-1.90mm___18', 'Machinery Fault Diagnosis___vertical-misalignment-1.90mm___19', 'Machinery Fault Diagnosis___vertical-misalignment-1.90mm___2', 'Machinery Fault Diagnosis___vertical-misalignment-1.90mm___20', 'Machinery Fault Diagnosis___vertical-misalignment-1.90mm___21', 'Machinery Fault Diagnosis___vertical-misalignment-1.90mm___22', 'Machinery Fault Diagnosis___vertical-misalignment-1.90mm___23', 'Machinery Fault Diagnosis___vertical-misalignment-1.90mm___24', 'Machinery Fault Diagnosis___vertical-misalignment-1.90mm___25', 'Machinery Fault Diagnosis___vertical-misalignment-1.90mm___26', 'Machinery Fault Diagnosis___vertical-misalignment-1.90mm___27', 'Machinery Fault Diagnosis___vertical-misalignment-1.90mm___28', 'Machinery Fault Diagnosis___vertical-misalignment-1.90mm___29', 'Machinery Fault Diagnosis___vertical-misalignment-1.90mm___3', 'Machinery Fault Diagnosis___vertical-misalignment-1.90mm___30', 'Machinery Fault Diagnosis___vertical-misalignment-1.90mm___31', 'Machinery Fault Diagnosis___vertical-misalignment-1.90mm___32', 'Machinery Fault Diagnosis___vertical-misalignment-1.90mm___33', 'Machinery Fault Diagnosis___vertical-misalignment-1.90mm___34', 'Machinery Fault Diagnosis___vertical-misalignment-1.90mm___35', 'Machinery Fault Diagnosis___vertical-misalignment-1.90mm___36', 'Machinery Fault Diagnosis___vertical-misalignment-1.90mm___37', 'Machinery Fault Diagnosis___vertical-misalignment-1.90mm___38', 'Machinery Fault Diagnosis___vertical-misalignment-1.90mm___39', 'Machinery Fault Diagnosis___vertical-misalignment-1.90mm___4', 'Machinery Fault Diagnosis___vertical-misalignment-1.90mm___40', 'Machinery Fault Diagnosis___vertical-misalignment-1.90mm___41', 'Machinery Fault Diagnosis___vertical-misalignment-1.90mm___42', 'Machinery Fault Diagnosis___vertical-misalignment-1.90mm___43', 'Machinery Fault Diagnosis___vertical-misalignment-1.90mm___44', 'Machinery Fault Diagnosis___vertical-misalignment-1.90mm___45', 'Machinery Fault Diagnosis___vertical-misalignment-1.90mm___46', 'Machinery Fault Diagnosis___vertical-misalignment-1.90mm___47', 'Machinery Fault Diagnosis___vertical-misalignment-1.90mm___48', 'Machinery Fault Diagnosis___vertical-misalignment-1.90mm___49', 'Machinery Fault Diagnosis___vertical-misalignment-1.90mm___5', 'Machinery Fault Diagnosis___vertical-misalignment-1.90mm___6', 'Machinery Fault Diagnosis___vertical-misalignment-1.90mm___7', 'Machinery Fault Diagnosis___vertical-misalignment-1.90mm___8', 'Machinery Fault Diagnosis___vertical-misalignment-1.90mm___9', 'MetroPT-3 Dataset___Air Leak - High Stress___0', 'MetroPT-3 Dataset___Air Leak - High Stress___1', 'MetroPT-3 Dataset___Air Leak - High Stress___2', 'MetroPT-3 Dataset___Air Leak - High Stress___3', 'MetroPT-3 Dataset___Maintenance___0', 'MetroPT-3 Dataset___Maintenance___1', 'MetroPT-3 Dataset___Maintenance___2', 'MetroPT-3 Dataset___Normal Operation___0', 'MetroPT-3 Dataset___Normal Operation___1', 'MetroPT-3 Dataset___Normal Operation___2', 'MetroPT-3 Dataset___Normal Operation___3', 'MetroPT-3 Dataset___Normal Operation___4', 'Predictive Maintenance Of Hydraulics System___close to total failure-close to total failure-no leakage-close to total failure___0', 'Predictive Maintenance Of Hydraulics System___close to total failure-close to total failure-no leakage-close to total failure___1', 'Predictive Maintenance Of Hydraulics System___close to total failure-close to total failure-no leakage-close to total failure___2', 'Predictive Maintenance Of Hydraulics System___close to total failure-close to total failure-no leakage-close to total failure___3', 'Predictive Maintenance Of Hydraulics System___close to total failure-close to total failure-no leakage-close to total failure___4', 'Predictive Maintenance Of Hydraulics System___close to total failure-close to total failure-no leakage-close to total failure___5', 'Predictive Maintenance Of Hydraulics System___close to total failure-close to total failure-no leakage-close to total failure___6', 'Predictive Maintenance Of Hydraulics System___close to total failure-close to total failure-no leakage-close to total failure___7', 'Predictive Maintenance Of Hydraulics System___close to total failure-close to total failure-no leakage-close to total failure___8', 'Predictive Maintenance Of Hydraulics System___close to total failure-close to total failure-no leakage-close to total failure___9', 'Predictive Maintenance Of Hydraulics System___close to total failure-close to total failure-no leakage-optimal pressure___0', 'Predictive Maintenance Of Hydraulics System___close to total failure-close to total failure-no leakage-optimal pressure___1', 'Predictive Maintenance Of Hydraulics System___close to total failure-close to total failure-no leakage-optimal pressure___2', 'Predictive Maintenance Of Hydraulics System___close to total failure-close to total failure-no leakage-optimal pressure___3', 'Predictive Maintenance Of Hydraulics System___close to total failure-close to total failure-no leakage-optimal pressure___4', 'Predictive Maintenance Of Hydraulics System___close to total failure-close to total failure-no leakage-optimal pressure___5', 'Predictive Maintenance Of Hydraulics System___close to total failure-close to total failure-no leakage-optimal pressure___6', 'Predictive Maintenance Of Hydraulics System___close to total failure-close to total failure-no leakage-optimal pressure___7', 'Predictive Maintenance Of Hydraulics System___close to total failure-close to total failure-no leakage-optimal pressure___8', 'Predictive Maintenance Of Hydraulics System___close to total failure-close to total failure-no leakage-optimal pressure___9', 'Predictive Maintenance Of Hydraulics System___close to total failure-close to total failure-no leakage-severely reduced pressure___0', 'Predictive Maintenance Of Hydraulics System___close to total failure-close to total failure-no leakage-severely reduced pressure___1', 'Predictive Maintenance Of Hydraulics System___close to total failure-close to total failure-no leakage-severely reduced pressure___2', 'Predictive Maintenance Of Hydraulics System___close to total failure-close to total failure-no leakage-severely reduced pressure___3', 'Predictive Maintenance Of Hydraulics System___close to total failure-close to total failure-no leakage-severely reduced pressure___4', 'Predictive Maintenance Of Hydraulics System___close to total failure-close to total failure-no leakage-severely reduced pressure___5', 'Predictive Maintenance Of Hydraulics System___close to total failure-close to total failure-no leakage-severely reduced pressure___6', 'Predictive Maintenance Of Hydraulics System___close to total failure-close to total failure-no leakage-severely reduced pressure___7', 'Predictive Maintenance Of Hydraulics System___close to total failure-close to total failure-no leakage-severely reduced pressure___8', 'Predictive Maintenance Of Hydraulics System___close to total failure-close to total failure-no leakage-severely reduced pressure___9', 'Predictive Maintenance Of Hydraulics System___close to total failure-close to total failure-no leakage-slightly reduced pressure___0', 'Predictive Maintenance Of Hydraulics System___close to total failure-close to total failure-no leakage-slightly reduced pressure___1', 'Predictive Maintenance Of Hydraulics System___close to total failure-close to total failure-no leakage-slightly reduced pressure___2', 'Predictive Maintenance Of Hydraulics System___close to total failure-close to total failure-no leakage-slightly reduced pressure___3', 'Predictive Maintenance Of Hydraulics System___close to total failure-close to total failure-no leakage-slightly reduced pressure___4', 'Predictive Maintenance Of Hydraulics System___close to total failure-close to total failure-no leakage-slightly reduced pressure___5', 'Predictive Maintenance Of Hydraulics System___close to total failure-close to total failure-no leakage-slightly reduced pressure___6', 'Predictive Maintenance Of Hydraulics System___close to total failure-close to total failure-no leakage-slightly reduced pressure___7', 'Predictive Maintenance Of Hydraulics System___close to total failure-close to total failure-no leakage-slightly reduced pressure___8', 'Predictive Maintenance Of Hydraulics System___close to total failure-close to total failure-no leakage-slightly reduced pressure___9', 'Predictive Maintenance Of Hydraulics System___close to total failure-close to total failure-severe leakage-close to total failure___0', 'Predictive Maintenance Of Hydraulics System___close to total failure-close to total failure-severe leakage-close to total failure___1', 'Predictive Maintenance Of Hydraulics System___close to total failure-close to total failure-severe leakage-close to total failure___2', 'Predictive Maintenance Of Hydraulics System___close to total failure-close to total failure-severe leakage-close to total failure___3', 'Predictive Maintenance Of Hydraulics System___close to total failure-close to total failure-severe leakage-close to total failure___4', 'Predictive Maintenance Of Hydraulics System___close to total failure-close to total failure-severe leakage-close to total failure___5', 'Predictive Maintenance Of Hydraulics System___close to total failure-close to total failure-severe leakage-close to total failure___6', 'Predictive Maintenance Of Hydraulics System___close to total failure-close to total failure-severe leakage-close to total failure___7', 'Predictive Maintenance Of Hydraulics System___close to total failure-close to total failure-severe leakage-close to total failure___8', 'Predictive Maintenance Of Hydraulics System___close to total failure-close to total failure-severe leakage-close to total failure___9', 'Predictive Maintenance Of Hydraulics System___close to total failure-close to total failure-severe leakage-optimal pressure___0', 'Predictive Maintenance Of Hydraulics System___close to total failure-close to total failure-severe leakage-optimal pressure___1', 'Predictive Maintenance Of Hydraulics System___close to total failure-close to total failure-severe leakage-optimal pressure___2', 'Predictive Maintenance Of Hydraulics System___close to total failure-close to total failure-severe leakage-optimal pressure___3', 'Predictive Maintenance Of Hydraulics System___close to total failure-close to total failure-severe leakage-optimal pressure___4', 'Predictive Maintenance Of Hydraulics System___close to total failure-close to total failure-severe leakage-optimal pressure___5', 'Predictive Maintenance Of Hydraulics System___close to total failure-close to total failure-severe leakage-optimal pressure___6', 'Predictive Maintenance Of Hydraulics System___close to total failure-close to total failure-severe leakage-optimal pressure___7', 'Predictive Maintenance Of Hydraulics System___close to total failure-close to total failure-severe leakage-optimal pressure___8', 'Predictive Maintenance Of Hydraulics System___close to total failure-close to total failure-severe leakage-optimal pressure___9', 'Predictive Maintenance Of Hydraulics System___close to total failure-close to total failure-severe leakage-severely reduced pressure___0', 'Predictive Maintenance Of Hydraulics System___close to total failure-close to total failure-severe leakage-severely reduced pressure___1', 'Predictive Maintenance Of Hydraulics System___close to total failure-close to total failure-severe leakage-severely reduced pressure___2', 'Predictive Maintenance Of Hydraulics System___close to total failure-close to total failure-severe leakage-severely reduced pressure___3', 'Predictive Maintenance Of Hydraulics System___close to total failure-close to total failure-severe leakage-severely reduced pressure___4', 'Predictive Maintenance Of Hydraulics System___close to total failure-close to total failure-severe leakage-severely reduced pressure___5', 'Predictive Maintenance Of Hydraulics System___close to total failure-close to total failure-severe leakage-severely reduced pressure___6', 'Predictive Maintenance Of Hydraulics System___close to total failure-close to total failure-severe leakage-severely reduced pressure___7', 'Predictive Maintenance Of Hydraulics System___close to total failure-close to total failure-severe leakage-severely reduced pressure___8', 'Predictive Maintenance Of Hydraulics System___close to total failure-close to total failure-severe leakage-severely reduced pressure___9', 'Predictive Maintenance Of Hydraulics System___close to total failure-close to total failure-severe leakage-slightly reduced pressure___0', 'Predictive Maintenance Of Hydraulics System___close to total failure-close to total failure-severe leakage-slightly reduced pressure___1', 'Predictive Maintenance Of Hydraulics System___close to total failure-close to total failure-severe leakage-slightly reduced pressure___2', 'Predictive Maintenance Of Hydraulics System___close to total failure-close to total failure-severe leakage-slightly reduced pressure___3', 'Predictive Maintenance Of Hydraulics System___close to total failure-close to total failure-severe leakage-slightly reduced pressure___4', 'Predictive Maintenance Of Hydraulics System___close to total failure-close to total failure-severe leakage-slightly reduced pressure___5', 'Predictive Maintenance Of Hydraulics System___close to total failure-close to total failure-severe leakage-slightly reduced pressure___6', 'Predictive Maintenance Of Hydraulics System___close to total failure-close to total failure-severe leakage-slightly reduced pressure___7', 'Predictive Maintenance Of Hydraulics System___close to total failure-close to total failure-severe leakage-slightly reduced pressure___8', 'Predictive Maintenance Of Hydraulics System___close to total failure-close to total failure-severe leakage-slightly reduced pressure___9', 'Predictive Maintenance Of Hydraulics System___close to total failure-close to total failure-weak leakage-close to total failure___0', 'Predictive Maintenance Of Hydraulics System___close to total failure-close to total failure-weak leakage-close to total failure___1', 'Predictive Maintenance Of Hydraulics System___close to total failure-close to total failure-weak leakage-close to total failure___2', 'Predictive Maintenance Of Hydraulics System___close to total failure-close to total failure-weak leakage-close to total failure___3', 'Predictive Maintenance Of Hydraulics System___close to total failure-close to total failure-weak leakage-close to total failure___4', 'Predictive Maintenance Of Hydraulics System___close to total failure-close to total failure-weak leakage-close to total failure___5', 'Predictive Maintenance Of Hydraulics System___close to total failure-close to total failure-weak leakage-close to total failure___6', 'Predictive Maintenance Of Hydraulics System___close to total failure-close to total failure-weak leakage-close to total failure___7', 'Predictive Maintenance Of Hydraulics System___close to total failure-close to total failure-weak leakage-close to total failure___8', 'Predictive Maintenance Of Hydraulics System___close to total failure-close to total failure-weak leakage-close to total failure___9', 'Predictive Maintenance Of Hydraulics System___close to total failure-close to total failure-weak leakage-optimal pressure___0', 'Predictive Maintenance Of Hydraulics System___close to total failure-close to total failure-weak leakage-optimal pressure___1', 'Predictive Maintenance Of Hydraulics System___close to total failure-close to total failure-weak leakage-optimal pressure___2', 'Predictive Maintenance Of Hydraulics System___close to total failure-close to total failure-weak leakage-optimal pressure___3', 'Predictive Maintenance Of Hydraulics System___close to total failure-close to total failure-weak leakage-optimal pressure___4', 'Predictive Maintenance Of Hydraulics System___close to total failure-close to total failure-weak leakage-optimal pressure___5', 'Predictive Maintenance Of Hydraulics System___close to total failure-close to total failure-weak leakage-optimal pressure___6', 'Predictive Maintenance Of Hydraulics System___close to total failure-close to total failure-weak leakage-optimal pressure___7', 'Predictive Maintenance Of Hydraulics System___close to total failure-close to total failure-weak leakage-optimal pressure___8', 'Predictive Maintenance Of Hydraulics System___close to total failure-close to total failure-weak leakage-optimal pressure___9', 'Predictive Maintenance Of Hydraulics System___close to total failure-close to total failure-weak leakage-severely reduced pressure___0', 'Predictive Maintenance Of Hydraulics System___close to total failure-close to total failure-weak leakage-severely reduced pressure___1', 'Predictive Maintenance Of Hydraulics System___close to total failure-close to total failure-weak leakage-severely reduced pressure___2', 'Predictive Maintenance Of Hydraulics System___close to total failure-close to total failure-weak leakage-severely reduced pressure___3', 'Predictive Maintenance Of Hydraulics System___close to total failure-close to total failure-weak leakage-severely reduced pressure___4', 'Predictive Maintenance Of Hydraulics System___close to total failure-close to total failure-weak leakage-severely reduced pressure___5', 'Predictive Maintenance Of Hydraulics System___close to total failure-close to total failure-weak leakage-severely reduced pressure___6', 'Predictive Maintenance Of Hydraulics System___close to total failure-close to total failure-weak leakage-severely reduced pressure___7', 'Predictive Maintenance Of Hydraulics System___close to total failure-close to total failure-weak leakage-severely reduced pressure___8', 'Predictive Maintenance Of Hydraulics System___close to total failure-close to total failure-weak leakage-severely reduced pressure___9', 'Predictive Maintenance Of Hydraulics System___close to total failure-close to total failure-weak leakage-slightly reduced pressure___0', 'Predictive Maintenance Of Hydraulics System___close to total failure-close to total failure-weak leakage-slightly reduced pressure___1', 'Predictive Maintenance Of Hydraulics System___close to total failure-close to total failure-weak leakage-slightly reduced pressure___2', 'Predictive Maintenance Of Hydraulics System___close to total failure-close to total failure-weak leakage-slightly reduced pressure___3', 'Predictive Maintenance Of Hydraulics System___close to total failure-close to total failure-weak leakage-slightly reduced pressure___4', 'Predictive Maintenance Of Hydraulics System___close to total failure-close to total failure-weak leakage-slightly reduced pressure___5', 'Predictive Maintenance Of Hydraulics System___close to total failure-close to total failure-weak leakage-slightly reduced pressure___6', 'Predictive Maintenance Of Hydraulics System___close to total failure-close to total failure-weak leakage-slightly reduced pressure___7', 'Predictive Maintenance Of Hydraulics System___close to total failure-close to total failure-weak leakage-slightly reduced pressure___8', 'Predictive Maintenance Of Hydraulics System___close to total failure-close to total failure-weak leakage-slightly reduced pressure___9', 'Predictive Maintenance Of Hydraulics System___close to total failure-optimal switching behavior-no leakage-close to total failure___0', 'Predictive Maintenance Of Hydraulics System___close to total failure-optimal switching behavior-no leakage-close to total failure___1', 'Predictive Maintenance Of Hydraulics System___close to total failure-optimal switching behavior-no leakage-close to total failure___2', 'Predictive Maintenance Of Hydraulics System___close to total failure-optimal switching behavior-no leakage-close to total failure___3', 'Predictive Maintenance Of Hydraulics System___close to total failure-optimal switching behavior-no leakage-close to total failure___4', 'Predictive Maintenance Of Hydraulics System___close to total failure-optimal switching behavior-no leakage-close to total failure___5', 'Predictive Maintenance Of Hydraulics System___close to total failure-optimal switching behavior-no leakage-close to total failure___6', 'Predictive Maintenance Of Hydraulics System___close to total failure-optimal switching behavior-no leakage-close to total failure___7', 'Predictive Maintenance Of Hydraulics System___close to total failure-optimal switching behavior-no leakage-close to total failure___8', 'Predictive Maintenance Of Hydraulics System___close to total failure-optimal switching behavior-no leakage-close to total failure___9', 'Predictive Maintenance Of Hydraulics System___close to total failure-optimal switching behavior-no leakage-optimal pressure___0', 'Predictive Maintenance Of Hydraulics System___close to total failure-optimal switching behavior-no leakage-optimal pressure___1', 'Predictive Maintenance Of Hydraulics System___close to total failure-optimal switching behavior-no leakage-optimal pressure___2', 'Predictive Maintenance Of Hydraulics System___close to total failure-optimal switching behavior-no leakage-optimal pressure___3', 'Predictive Maintenance Of Hydraulics System___close to total failure-optimal switching behavior-no leakage-optimal pressure___4', 'Predictive Maintenance Of Hydraulics System___close to total failure-optimal switching behavior-no leakage-optimal pressure___5', 'Predictive Maintenance Of Hydraulics System___close to total failure-optimal switching behavior-no leakage-optimal pressure___6', 'Predictive Maintenance Of Hydraulics System___close to total failure-optimal switching behavior-no leakage-optimal pressure___7', 'Predictive Maintenance Of Hydraulics System___close to total failure-optimal switching behavior-no leakage-optimal pressure___8', 'Predictive Maintenance Of Hydraulics System___close to total failure-optimal switching behavior-no leakage-optimal pressure___9', 'Predictive Maintenance Of Hydraulics System___close to total failure-optimal switching behavior-no leakage-severely reduced pressure___0', 'Predictive Maintenance Of Hydraulics System___close to total failure-optimal switching behavior-no leakage-severely reduced pressure___1', 'Predictive Maintenance Of Hydraulics System___close to total failure-optimal switching behavior-no leakage-severely reduced pressure___2', 'Predictive Maintenance Of Hydraulics System___close to total failure-optimal switching behavior-no leakage-severely reduced pressure___3', 'Predictive Maintenance Of Hydraulics System___close to total failure-optimal switching behavior-no leakage-severely reduced pressure___4', 'Predictive Maintenance Of Hydraulics System___close to total failure-optimal switching behavior-no leakage-severely reduced pressure___5', 'Predictive Maintenance Of Hydraulics System___close to total failure-optimal switching behavior-no leakage-severely reduced pressure___6', 'Predictive Maintenance Of Hydraulics System___close to total failure-optimal switching behavior-no leakage-severely reduced pressure___7', 'Predictive Maintenance Of Hydraulics System___close to total failure-optimal switching behavior-no leakage-severely reduced pressure___8', 'Predictive Maintenance Of Hydraulics System___close to total failure-optimal switching behavior-no leakage-severely reduced pressure___9', 'Predictive Maintenance Of Hydraulics System___close to total failure-optimal switching behavior-no leakage-slightly reduced pressure___0', 'Predictive Maintenance Of Hydraulics System___close to total failure-optimal switching behavior-no leakage-slightly reduced pressure___1', 'Predictive Maintenance Of Hydraulics System___close to total failure-optimal switching behavior-no leakage-slightly reduced pressure___2', 'Predictive Maintenance Of Hydraulics System___close to total failure-optimal switching behavior-no leakage-slightly reduced pressure___3', 'Predictive Maintenance Of Hydraulics System___close to total failure-optimal switching behavior-no leakage-slightly reduced pressure___4', 'Predictive Maintenance Of Hydraulics System___close to total failure-optimal switching behavior-no leakage-slightly reduced pressure___5', 'Predictive Maintenance Of Hydraulics System___close to total failure-optimal switching behavior-no leakage-slightly reduced pressure___6', 'Predictive Maintenance Of Hydraulics System___close to total failure-optimal switching behavior-no leakage-slightly reduced pressure___7', 'Predictive Maintenance Of Hydraulics System___close to total failure-optimal switching behavior-no leakage-slightly reduced pressure___8', 'Predictive Maintenance Of Hydraulics System___close to total failure-optimal switching behavior-no leakage-slightly reduced pressure___9', 'Predictive Maintenance Of Hydraulics System___close to total failure-optimal switching behavior-severe leakage-close to total failure___0', 'Predictive Maintenance Of Hydraulics System___close to total failure-optimal switching behavior-severe leakage-close to total failure___1', 'Predictive Maintenance Of Hydraulics System___close to total failure-optimal switching behavior-severe leakage-close to total failure___2', 'Predictive Maintenance Of Hydraulics System___close to total failure-optimal switching behavior-severe leakage-close to total failure___3', 'Predictive Maintenance Of Hydraulics System___close to total failure-optimal switching behavior-severe leakage-close to total failure___4', 'Predictive Maintenance Of Hydraulics System___close to total failure-optimal switching behavior-severe leakage-close to total failure___5', 'Predictive Maintenance Of Hydraulics System___close to total failure-optimal switching behavior-severe leakage-close to total failure___6', 'Predictive Maintenance Of Hydraulics System___close to total failure-optimal switching behavior-severe leakage-close to total failure___7', 'Predictive Maintenance Of Hydraulics System___close to total failure-optimal switching behavior-severe leakage-close to total failure___8', 'Predictive Maintenance Of Hydraulics System___close to total failure-optimal switching behavior-severe leakage-close to total failure___9', 'Predictive Maintenance Of Hydraulics System___close to total failure-optimal switching behavior-severe leakage-optimal pressure___0', 'Predictive Maintenance Of Hydraulics System___close to total failure-optimal switching behavior-severe leakage-optimal pressure___1', 'Predictive Maintenance Of Hydraulics System___close to total failure-optimal switching behavior-severe leakage-optimal pressure___2', 'Predictive Maintenance Of Hydraulics System___close to total failure-optimal switching behavior-severe leakage-optimal pressure___3', 'Predictive Maintenance Of Hydraulics System___close to total failure-optimal switching behavior-severe leakage-optimal pressure___4', 'Predictive Maintenance Of Hydraulics System___close to total failure-optimal switching behavior-severe leakage-optimal pressure___5', 'Predictive Maintenance Of Hydraulics System___close to total failure-optimal switching behavior-severe leakage-optimal pressure___6', 'Predictive Maintenance Of Hydraulics System___close to total failure-optimal switching behavior-severe leakage-optimal pressure___7', 'Predictive Maintenance Of Hydraulics System___close to total failure-optimal switching behavior-severe leakage-optimal pressure___8', 'Predictive Maintenance Of Hydraulics System___close to total failure-optimal switching behavior-severe leakage-optimal pressure___9', 'Predictive Maintenance Of Hydraulics System___close to total failure-optimal switching behavior-severe leakage-severely reduced pressure___0', 'Predictive Maintenance Of Hydraulics System___close to total failure-optimal switching behavior-severe leakage-severely reduced pressure___1', 'Predictive Maintenance Of Hydraulics System___close to total failure-optimal switching behavior-severe leakage-severely reduced pressure___2', 'Predictive Maintenance Of Hydraulics System___close to total failure-optimal switching behavior-severe leakage-severely reduced pressure___3', 'Predictive Maintenance Of Hydraulics System___close to total failure-optimal switching behavior-severe leakage-severely reduced pressure___4', 'Predictive Maintenance Of Hydraulics System___close to total failure-optimal switching behavior-severe leakage-severely reduced pressure___5', 'Predictive Maintenance Of Hydraulics System___close to total failure-optimal switching behavior-severe leakage-severely reduced pressure___6', 'Predictive Maintenance Of Hydraulics System___close to total failure-optimal switching behavior-severe leakage-severely reduced pressure___7', 'Predictive Maintenance Of Hydraulics System___close to total failure-optimal switching behavior-severe leakage-severely reduced pressure___8', 'Predictive Maintenance Of Hydraulics System___close to total failure-optimal switching behavior-severe leakage-severely reduced pressure___9', 'Predictive Maintenance Of Hydraulics System___close to total failure-optimal switching behavior-severe leakage-slightly reduced pressure___0', 'Predictive Maintenance Of Hydraulics System___close to total failure-optimal switching behavior-severe leakage-slightly reduced pressure___1', 'Predictive Maintenance Of Hydraulics System___close to total failure-optimal switching behavior-severe leakage-slightly reduced pressure___2', 'Predictive Maintenance Of Hydraulics System___close to total failure-optimal switching behavior-severe leakage-slightly reduced pressure___3', 'Predictive Maintenance Of Hydraulics System___close to total failure-optimal switching behavior-severe leakage-slightly reduced pressure___4', 'Predictive Maintenance Of Hydraulics System___close to total failure-optimal switching behavior-severe leakage-slightly reduced pressure___5', 'Predictive Maintenance Of Hydraulics System___close to total failure-optimal switching behavior-severe leakage-slightly reduced pressure___6', 'Predictive Maintenance Of Hydraulics System___close to total failure-optimal switching behavior-severe leakage-slightly reduced pressure___7', 'Predictive Maintenance Of Hydraulics System___close to total failure-optimal switching behavior-severe leakage-slightly reduced pressure___8', 'Predictive Maintenance Of Hydraulics System___close to total failure-optimal switching behavior-severe leakage-slightly reduced pressure___9', 'Predictive Maintenance Of Hydraulics System___close to total failure-optimal switching behavior-weak leakage-close to total failure___0', 'Predictive Maintenance Of Hydraulics System___close to total failure-optimal switching behavior-weak leakage-close to total failure___1', 'Predictive Maintenance Of Hydraulics System___close to total failure-optimal switching behavior-weak leakage-close to total failure___2', 'Predictive Maintenance Of Hydraulics System___close to total failure-optimal switching behavior-weak leakage-close to total failure___3', 'Predictive Maintenance Of Hydraulics System___close to total failure-optimal switching behavior-weak leakage-close to total failure___4', 'Predictive Maintenance Of Hydraulics System___close to total failure-optimal switching behavior-weak leakage-close to total failure___5', 'Predictive Maintenance Of Hydraulics System___close to total failure-optimal switching behavior-weak leakage-close to total failure___6', 'Predictive Maintenance Of Hydraulics System___close to total failure-optimal switching behavior-weak leakage-close to total failure___7', 'Predictive Maintenance Of Hydraulics System___close to total failure-optimal switching behavior-weak leakage-close to total failure___8', 'Predictive Maintenance Of Hydraulics System___close to total failure-optimal switching behavior-weak leakage-close to total failure___9', 'Predictive Maintenance Of Hydraulics System___close to total failure-optimal switching behavior-weak leakage-optimal pressure___0', 'Predictive Maintenance Of Hydraulics System___close to total failure-optimal switching behavior-weak leakage-optimal pressure___1', 'Predictive Maintenance Of Hydraulics System___close to total failure-optimal switching behavior-weak leakage-optimal pressure___2', 'Predictive Maintenance Of Hydraulics System___close to total failure-optimal switching behavior-weak leakage-optimal pressure___3', 'Predictive Maintenance Of Hydraulics System___close to total failure-optimal switching behavior-weak leakage-optimal pressure___4', 'Predictive Maintenance Of Hydraulics System___close to total failure-optimal switching behavior-weak leakage-optimal pressure___5', 'Predictive Maintenance Of Hydraulics System___close to total failure-optimal switching behavior-weak leakage-optimal pressure___6', 'Predictive Maintenance Of Hydraulics System___close to total failure-optimal switching behavior-weak leakage-optimal pressure___7', 'Predictive Maintenance Of Hydraulics System___close to total failure-optimal switching behavior-weak leakage-optimal pressure___8', 'Predictive Maintenance Of Hydraulics System___close to total failure-optimal switching behavior-weak leakage-optimal pressure___9', 'Predictive Maintenance Of Hydraulics System___close to total failure-optimal switching behavior-weak leakage-severely reduced pressure___0', 'Predictive Maintenance Of Hydraulics System___close to total failure-optimal switching behavior-weak leakage-severely reduced pressure___1', 'Predictive Maintenance Of Hydraulics System___close to total failure-optimal switching behavior-weak leakage-severely reduced pressure___2', 'Predictive Maintenance Of Hydraulics System___close to total failure-optimal switching behavior-weak leakage-severely reduced pressure___3', 'Predictive Maintenance Of Hydraulics System___close to total failure-optimal switching behavior-weak leakage-severely reduced pressure___4', 'Predictive Maintenance Of Hydraulics System___close to total failure-optimal switching behavior-weak leakage-severely reduced pressure___5', 'Predictive Maintenance Of Hydraulics System___close to total failure-optimal switching behavior-weak leakage-severely reduced pressure___6', 'Predictive Maintenance Of Hydraulics System___close to total failure-optimal switching behavior-weak leakage-severely reduced pressure___7', 'Predictive Maintenance Of Hydraulics System___close to total failure-optimal switching behavior-weak leakage-severely reduced pressure___8', 'Predictive Maintenance Of Hydraulics System___close to total failure-optimal switching behavior-weak leakage-severely reduced pressure___9', 'Predictive Maintenance Of Hydraulics System___close to total failure-optimal switching behavior-weak leakage-slightly reduced pressure___0', 'Predictive Maintenance Of Hydraulics System___close to total failure-optimal switching behavior-weak leakage-slightly reduced pressure___1', 'Predictive Maintenance Of Hydraulics System___close to total failure-optimal switching behavior-weak leakage-slightly reduced pressure___2', 'Predictive Maintenance Of Hydraulics System___close to total failure-optimal switching behavior-weak leakage-slightly reduced pressure___3', 'Predictive Maintenance Of Hydraulics System___close to total failure-optimal switching behavior-weak leakage-slightly reduced pressure___4', 'Predictive Maintenance Of Hydraulics System___close to total failure-optimal switching behavior-weak leakage-slightly reduced pressure___5', 'Predictive Maintenance Of Hydraulics System___close to total failure-optimal switching behavior-weak leakage-slightly reduced pressure___6', 'Predictive Maintenance Of Hydraulics System___close to total failure-optimal switching behavior-weak leakage-slightly reduced pressure___7', 'Predictive Maintenance Of Hydraulics System___close to total failure-optimal switching behavior-weak leakage-slightly reduced pressure___8', 'Predictive Maintenance Of Hydraulics System___close to total failure-optimal switching behavior-weak leakage-slightly reduced pressure___9', 'Predictive Maintenance Of Hydraulics System___close to total failure-severe lag-no leakage-close to total failure___0', 'Predictive Maintenance Of Hydraulics System___close to total failure-severe lag-no leakage-close to total failure___1', 'Predictive Maintenance Of Hydraulics System___close to total failure-severe lag-no leakage-close to total failure___2', 'Predictive Maintenance Of Hydraulics System___close to total failure-severe lag-no leakage-close to total failure___3', 'Predictive Maintenance Of Hydraulics System___close to total failure-severe lag-no leakage-close to total failure___4', 'Predictive Maintenance Of Hydraulics System___close to total failure-severe lag-no leakage-close to total failure___5', 'Predictive Maintenance Of Hydraulics System___close to total failure-severe lag-no leakage-close to total failure___6', 'Predictive Maintenance Of Hydraulics System___close to total failure-severe lag-no leakage-close to total failure___7', 'Predictive Maintenance Of Hydraulics System___close to total failure-severe lag-no leakage-close to total failure___8', 'Predictive Maintenance Of Hydraulics System___close to total failure-severe lag-no leakage-close to total failure___9', 'Predictive Maintenance Of Hydraulics System___close to total failure-severe lag-no leakage-optimal pressure___0', 'Predictive Maintenance Of Hydraulics System___close to total failure-severe lag-no leakage-optimal pressure___1', 'Predictive Maintenance Of Hydraulics System___close to total failure-severe lag-no leakage-optimal pressure___2', 'Predictive Maintenance Of Hydraulics System___close to total failure-severe lag-no leakage-optimal pressure___3', 'Predictive Maintenance Of Hydraulics System___close to total failure-severe lag-no leakage-optimal pressure___4', 'Predictive Maintenance Of Hydraulics System___close to total failure-severe lag-no leakage-optimal pressure___5', 'Predictive Maintenance Of Hydraulics System___close to total failure-severe lag-no leakage-optimal pressure___6', 'Predictive Maintenance Of Hydraulics System___close to total failure-severe lag-no leakage-optimal pressure___7', 'Predictive Maintenance Of Hydraulics System___close to total failure-severe lag-no leakage-optimal pressure___8', 'Predictive Maintenance Of Hydraulics System___close to total failure-severe lag-no leakage-optimal pressure___9', 'Predictive Maintenance Of Hydraulics System___close to total failure-severe lag-no leakage-severely reduced pressure___0', 'Predictive Maintenance Of Hydraulics System___close to total failure-severe lag-no leakage-severely reduced pressure___1', 'Predictive Maintenance Of Hydraulics System___close to total failure-severe lag-no leakage-severely reduced pressure___2', 'Predictive Maintenance Of Hydraulics System___close to total failure-severe lag-no leakage-severely reduced pressure___3', 'Predictive Maintenance Of Hydraulics System___close to total failure-severe lag-no leakage-severely reduced pressure___4', 'Predictive Maintenance Of Hydraulics System___close to total failure-severe lag-no leakage-severely reduced pressure___5', 'Predictive Maintenance Of Hydraulics System___close to total failure-severe lag-no leakage-severely reduced pressure___6', 'Predictive Maintenance Of Hydraulics System___close to total failure-severe lag-no leakage-severely reduced pressure___7', 'Predictive Maintenance Of Hydraulics System___close to total failure-severe lag-no leakage-severely reduced pressure___8', 'Predictive Maintenance Of Hydraulics System___close to total failure-severe lag-no leakage-severely reduced pressure___9', 'Predictive Maintenance Of Hydraulics System___close to total failure-severe lag-no leakage-slightly reduced pressure___0', 'Predictive Maintenance Of Hydraulics System___close to total failure-severe lag-no leakage-slightly reduced pressure___1', 'Predictive Maintenance Of Hydraulics System___close to total failure-severe lag-no leakage-slightly reduced pressure___2', 'Predictive Maintenance Of Hydraulics System___close to total failure-severe lag-no leakage-slightly reduced pressure___3', 'Predictive Maintenance Of Hydraulics System___close to total failure-severe lag-no leakage-slightly reduced pressure___4', 'Predictive Maintenance Of Hydraulics System___close to total failure-severe lag-no leakage-slightly reduced pressure___5', 'Predictive Maintenance Of Hydraulics System___close to total failure-severe lag-no leakage-slightly reduced pressure___6', 'Predictive Maintenance Of Hydraulics System___close to total failure-severe lag-no leakage-slightly reduced pressure___7', 'Predictive Maintenance Of Hydraulics System___close to total failure-severe lag-no leakage-slightly reduced pressure___8', 'Predictive Maintenance Of Hydraulics System___close to total failure-severe lag-no leakage-slightly reduced pressure___9', 'Predictive Maintenance Of Hydraulics System___close to total failure-severe lag-severe leakage-close to total failure___0', 'Predictive Maintenance Of Hydraulics System___close to total failure-severe lag-severe leakage-close to total failure___1', 'Predictive Maintenance Of Hydraulics System___close to total failure-severe lag-severe leakage-close to total failure___2', 'Predictive Maintenance Of Hydraulics System___close to total failure-severe lag-severe leakage-close to total failure___3', 'Predictive Maintenance Of Hydraulics System___close to total failure-severe lag-severe leakage-close to total failure___4', 'Predictive Maintenance Of Hydraulics System___close to total failure-severe lag-severe leakage-close to total failure___5', 'Predictive Maintenance Of Hydraulics System___close to total failure-severe lag-severe leakage-close to total failure___6', 'Predictive Maintenance Of Hydraulics System___close to total failure-severe lag-severe leakage-close to total failure___7', 'Predictive Maintenance Of Hydraulics System___close to total failure-severe lag-severe leakage-close to total failure___8', 'Predictive Maintenance Of Hydraulics System___close to total failure-severe lag-severe leakage-close to total failure___9', 'Predictive Maintenance Of Hydraulics System___close to total failure-severe lag-severe leakage-optimal pressure___0', 'Predictive Maintenance Of Hydraulics System___close to total failure-severe lag-severe leakage-optimal pressure___1', 'Predictive Maintenance Of Hydraulics System___close to total failure-severe lag-severe leakage-optimal pressure___2', 'Predictive Maintenance Of Hydraulics System___close to total failure-severe lag-severe leakage-optimal pressure___3', 'Predictive Maintenance Of Hydraulics System___close to total failure-severe lag-severe leakage-optimal pressure___4', 'Predictive Maintenance Of Hydraulics System___close to total failure-severe lag-severe leakage-optimal pressure___5', 'Predictive Maintenance Of Hydraulics System___close to total failure-severe lag-severe leakage-optimal pressure___6', 'Predictive Maintenance Of Hydraulics System___close to total failure-severe lag-severe leakage-optimal pressure___7', 'Predictive Maintenance Of Hydraulics System___close to total failure-severe lag-severe leakage-optimal pressure___8', 'Predictive Maintenance Of Hydraulics System___close to total failure-severe lag-severe leakage-optimal pressure___9', 'Predictive Maintenance Of Hydraulics System___close to total failure-severe lag-severe leakage-severely reduced pressure___0', 'Predictive Maintenance Of Hydraulics System___close to total failure-severe lag-severe leakage-severely reduced pressure___1', 'Predictive Maintenance Of Hydraulics System___close to total failure-severe lag-severe leakage-severely reduced pressure___2', 'Predictive Maintenance Of Hydraulics System___close to total failure-severe lag-severe leakage-severely reduced pressure___3', 'Predictive Maintenance Of Hydraulics System___close to total failure-severe lag-severe leakage-severely reduced pressure___4', 'Predictive Maintenance Of Hydraulics System___close to total failure-severe lag-severe leakage-severely reduced pressure___5', 'Predictive Maintenance Of Hydraulics System___close to total failure-severe lag-severe leakage-severely reduced pressure___6', 'Predictive Maintenance Of Hydraulics System___close to total failure-severe lag-severe leakage-severely reduced pressure___7', 'Predictive Maintenance Of Hydraulics System___close to total failure-severe lag-severe leakage-severely reduced pressure___8', 'Predictive Maintenance Of Hydraulics System___close to total failure-severe lag-severe leakage-severely reduced pressure___9', 'Predictive Maintenance Of Hydraulics System___close to total failure-severe lag-severe leakage-slightly reduced pressure___0', 'Predictive Maintenance Of Hydraulics System___close to total failure-severe lag-severe leakage-slightly reduced pressure___1', 'Predictive Maintenance Of Hydraulics System___close to total failure-severe lag-severe leakage-slightly reduced pressure___2', 'Predictive Maintenance Of Hydraulics System___close to total failure-severe lag-severe leakage-slightly reduced pressure___3', 'Predictive Maintenance Of Hydraulics System___close to total failure-severe lag-severe leakage-slightly reduced pressure___4', 'Predictive Maintenance Of Hydraulics System___close to total failure-severe lag-severe leakage-slightly reduced pressure___5', 'Predictive Maintenance Of Hydraulics System___close to total failure-severe lag-severe leakage-slightly reduced pressure___6', 'Predictive Maintenance Of Hydraulics System___close to total failure-severe lag-severe leakage-slightly reduced pressure___7', 'Predictive Maintenance Of Hydraulics System___close to total failure-severe lag-severe leakage-slightly reduced pressure___8', 'Predictive Maintenance Of Hydraulics System___close to total failure-severe lag-severe leakage-slightly reduced pressure___9', 'Predictive Maintenance Of Hydraulics System___close to total failure-severe lag-weak leakage-close to total failure___0', 'Predictive Maintenance Of Hydraulics System___close to total failure-severe lag-weak leakage-close to total failure___1', 'Predictive Maintenance Of Hydraulics System___close to total failure-severe lag-weak leakage-close to total failure___2', 'Predictive Maintenance Of Hydraulics System___close to total failure-severe lag-weak leakage-close to total failure___3', 'Predictive Maintenance Of Hydraulics System___close to total failure-severe lag-weak leakage-close to total failure___4', 'Predictive Maintenance Of Hydraulics System___close to total failure-severe lag-weak leakage-close to total failure___5', 'Predictive Maintenance Of Hydraulics System___close to total failure-severe lag-weak leakage-close to total failure___6', 'Predictive Maintenance Of Hydraulics System___close to total failure-severe lag-weak leakage-close to total failure___7', 'Predictive Maintenance Of Hydraulics System___close to total failure-severe lag-weak leakage-close to total failure___8', 'Predictive Maintenance Of Hydraulics System___close to total failure-severe lag-weak leakage-close to total failure___9', 'Predictive Maintenance Of Hydraulics System___close to total failure-severe lag-weak leakage-optimal pressure___0', 'Predictive Maintenance Of Hydraulics System___close to total failure-severe lag-weak leakage-optimal pressure___1', 'Predictive Maintenance Of Hydraulics System___close to total failure-severe lag-weak leakage-optimal pressure___2', 'Predictive Maintenance Of Hydraulics System___close to total failure-severe lag-weak leakage-optimal pressure___3', 'Predictive Maintenance Of Hydraulics System___close to total failure-severe lag-weak leakage-optimal pressure___4', 'Predictive Maintenance Of Hydraulics System___close to total failure-severe lag-weak leakage-optimal pressure___5', 'Predictive Maintenance Of Hydraulics System___close to total failure-severe lag-weak leakage-optimal pressure___6', 'Predictive Maintenance Of Hydraulics System___close to total failure-severe lag-weak leakage-optimal pressure___7', 'Predictive Maintenance Of Hydraulics System___close to total failure-severe lag-weak leakage-optimal pressure___8', 'Predictive Maintenance Of Hydraulics System___close to total failure-severe lag-weak leakage-optimal pressure___9', 'Predictive Maintenance Of Hydraulics System___close to total failure-severe lag-weak leakage-severely reduced pressure___0', 'Predictive Maintenance Of Hydraulics System___close to total failure-severe lag-weak leakage-severely reduced pressure___1', 'Predictive Maintenance Of Hydraulics System___close to total failure-severe lag-weak leakage-severely reduced pressure___2', 'Predictive Maintenance Of Hydraulics System___close to total failure-severe lag-weak leakage-severely reduced pressure___3', 'Predictive Maintenance Of Hydraulics System___close to total failure-severe lag-weak leakage-severely reduced pressure___4', 'Predictive Maintenance Of Hydraulics System___close to total failure-severe lag-weak leakage-severely reduced pressure___5', 'Predictive Maintenance Of Hydraulics System___close to total failure-severe lag-weak leakage-severely reduced pressure___6', 'Predictive Maintenance Of Hydraulics System___close to total failure-severe lag-weak leakage-severely reduced pressure___7', 'Predictive Maintenance Of Hydraulics System___close to total failure-severe lag-weak leakage-severely reduced pressure___8', 'Predictive Maintenance Of Hydraulics System___close to total failure-severe lag-weak leakage-severely reduced pressure___9', 'Predictive Maintenance Of Hydraulics System___close to total failure-severe lag-weak leakage-slightly reduced pressure___0', 'Predictive Maintenance Of Hydraulics System___close to total failure-severe lag-weak leakage-slightly reduced pressure___1', 'Predictive Maintenance Of Hydraulics System___close to total failure-severe lag-weak leakage-slightly reduced pressure___2', 'Predictive Maintenance Of Hydraulics System___close to total failure-severe lag-weak leakage-slightly reduced pressure___3', 'Predictive Maintenance Of Hydraulics System___close to total failure-severe lag-weak leakage-slightly reduced pressure___4', 'Predictive Maintenance Of Hydraulics System___close to total failure-severe lag-weak leakage-slightly reduced pressure___5', 'Predictive Maintenance Of Hydraulics System___close to total failure-severe lag-weak leakage-slightly reduced pressure___6', 'Predictive Maintenance Of Hydraulics System___close to total failure-severe lag-weak leakage-slightly reduced pressure___7', 'Predictive Maintenance Of Hydraulics System___close to total failure-severe lag-weak leakage-slightly reduced pressure___8', 'Predictive Maintenance Of Hydraulics System___close to total failure-severe lag-weak leakage-slightly reduced pressure___9', 'Predictive Maintenance Of Hydraulics System___close to total failure-small lag-no leakage-close to total failure___0', 'Predictive Maintenance Of Hydraulics System___close to total failure-small lag-no leakage-close to total failure___1', 'Predictive Maintenance Of Hydraulics System___close to total failure-small lag-no leakage-close to total failure___2', 'Predictive Maintenance Of Hydraulics System___close to total failure-small lag-no leakage-close to total failure___3', 'Predictive Maintenance Of Hydraulics System___close to total failure-small lag-no leakage-close to total failure___4', 'Predictive Maintenance Of Hydraulics System___close to total failure-small lag-no leakage-close to total failure___5', 'Predictive Maintenance Of Hydraulics System___close to total failure-small lag-no leakage-close to total failure___6', 'Predictive Maintenance Of Hydraulics System___close to total failure-small lag-no leakage-close to total failure___7', 'Predictive Maintenance Of Hydraulics System___close to total failure-small lag-no leakage-close to total failure___8', 'Predictive Maintenance Of Hydraulics System___close to total failure-small lag-no leakage-close to total failure___9', 'Predictive Maintenance Of Hydraulics System___close to total failure-small lag-no leakage-optimal pressure___0', 'Predictive Maintenance Of Hydraulics System___close to total failure-small lag-no leakage-optimal pressure___1', 'Predictive Maintenance Of Hydraulics System___close to total failure-small lag-no leakage-optimal pressure___2', 'Predictive Maintenance Of Hydraulics System___close to total failure-small lag-no leakage-optimal pressure___3', 'Predictive Maintenance Of Hydraulics System___close to total failure-small lag-no leakage-optimal pressure___4', 'Predictive Maintenance Of Hydraulics System___close to total failure-small lag-no leakage-optimal pressure___5', 'Predictive Maintenance Of Hydraulics System___close to total failure-small lag-no leakage-optimal pressure___6', 'Predictive Maintenance Of Hydraulics System___close to total failure-small lag-no leakage-optimal pressure___7', 'Predictive Maintenance Of Hydraulics System___close to total failure-small lag-no leakage-optimal pressure___8', 'Predictive Maintenance Of Hydraulics System___close to total failure-small lag-no leakage-optimal pressure___9', 'Predictive Maintenance Of Hydraulics System___close to total failure-small lag-no leakage-severely reduced pressure___0', 'Predictive Maintenance Of Hydraulics System___close to total failure-small lag-no leakage-severely reduced pressure___1', 'Predictive Maintenance Of Hydraulics System___close to total failure-small lag-no leakage-severely reduced pressure___2', 'Predictive Maintenance Of Hydraulics System___close to total failure-small lag-no leakage-severely reduced pressure___3', 'Predictive Maintenance Of Hydraulics System___close to total failure-small lag-no leakage-severely reduced pressure___4', 'Predictive Maintenance Of Hydraulics System___close to total failure-small lag-no leakage-severely reduced pressure___5', 'Predictive Maintenance Of Hydraulics System___close to total failure-small lag-no leakage-severely reduced pressure___6', 'Predictive Maintenance Of Hydraulics System___close to total failure-small lag-no leakage-severely reduced pressure___7', 'Predictive Maintenance Of Hydraulics System___close to total failure-small lag-no leakage-severely reduced pressure___8', 'Predictive Maintenance Of Hydraulics System___close to total failure-small lag-no leakage-severely reduced pressure___9', 'Predictive Maintenance Of Hydraulics System___close to total failure-small lag-no leakage-slightly reduced pressure___0', 'Predictive Maintenance Of Hydraulics System___close to total failure-small lag-no leakage-slightly reduced pressure___1', 'Predictive Maintenance Of Hydraulics System___close to total failure-small lag-no leakage-slightly reduced pressure___2', 'Predictive Maintenance Of Hydraulics System___close to total failure-small lag-no leakage-slightly reduced pressure___3', 'Predictive Maintenance Of Hydraulics System___close to total failure-small lag-no leakage-slightly reduced pressure___4', 'Predictive Maintenance Of Hydraulics System___close to total failure-small lag-no leakage-slightly reduced pressure___5', 'Predictive Maintenance Of Hydraulics System___close to total failure-small lag-no leakage-slightly reduced pressure___6', 'Predictive Maintenance Of Hydraulics System___close to total failure-small lag-no leakage-slightly reduced pressure___7', 'Predictive Maintenance Of Hydraulics System___close to total failure-small lag-no leakage-slightly reduced pressure___8', 'Predictive Maintenance Of Hydraulics System___close to total failure-small lag-no leakage-slightly reduced pressure___9', 'Predictive Maintenance Of Hydraulics System___close to total failure-small lag-severe leakage-close to total failure___0', 'Predictive Maintenance Of Hydraulics System___close to total failure-small lag-severe leakage-close to total failure___1', 'Predictive Maintenance Of Hydraulics System___close to total failure-small lag-severe leakage-close to total failure___2', 'Predictive Maintenance Of Hydraulics System___close to total failure-small lag-severe leakage-close to total failure___3', 'Predictive Maintenance Of Hydraulics System___close to total failure-small lag-severe leakage-close to total failure___4', 'Predictive Maintenance Of Hydraulics System___close to total failure-small lag-severe leakage-close to total failure___5', 'Predictive Maintenance Of Hydraulics System___close to total failure-small lag-severe leakage-close to total failure___6', 'Predictive Maintenance Of Hydraulics System___close to total failure-small lag-severe leakage-close to total failure___7', 'Predictive Maintenance Of Hydraulics System___close to total failure-small lag-severe leakage-close to total failure___8', 'Predictive Maintenance Of Hydraulics System___close to total failure-small lag-severe leakage-close to total failure___9', 'Predictive Maintenance Of Hydraulics System___close to total failure-small lag-severe leakage-optimal pressure___0', 'Predictive Maintenance Of Hydraulics System___close to total failure-small lag-severe leakage-optimal pressure___1', 'Predictive Maintenance Of Hydraulics System___close to total failure-small lag-severe leakage-optimal pressure___2', 'Predictive Maintenance Of Hydraulics System___close to total failure-small lag-severe leakage-optimal pressure___3', 'Predictive Maintenance Of Hydraulics System___close to total failure-small lag-severe leakage-optimal pressure___4', 'Predictive Maintenance Of Hydraulics System___close to total failure-small lag-severe leakage-optimal pressure___5', 'Predictive Maintenance Of Hydraulics System___close to total failure-small lag-severe leakage-optimal pressure___6', 'Predictive Maintenance Of Hydraulics System___close to total failure-small lag-severe leakage-optimal pressure___7', 'Predictive Maintenance Of Hydraulics System___close to total failure-small lag-severe leakage-optimal pressure___8', 'Predictive Maintenance Of Hydraulics System___close to total failure-small lag-severe leakage-optimal pressure___9', 'Predictive Maintenance Of Hydraulics System___close to total failure-small lag-severe leakage-severely reduced pressure___0', 'Predictive Maintenance Of Hydraulics System___close to total failure-small lag-severe leakage-severely reduced pressure___1', 'Predictive Maintenance Of Hydraulics System___close to total failure-small lag-severe leakage-severely reduced pressure___2', 'Predictive Maintenance Of Hydraulics System___close to total failure-small lag-severe leakage-severely reduced pressure___3', 'Predictive Maintenance Of Hydraulics System___close to total failure-small lag-severe leakage-severely reduced pressure___4', 'Predictive Maintenance Of Hydraulics System___close to total failure-small lag-severe leakage-severely reduced pressure___5', 'Predictive Maintenance Of Hydraulics System___close to total failure-small lag-severe leakage-severely reduced pressure___6', 'Predictive Maintenance Of Hydraulics System___close to total failure-small lag-severe leakage-severely reduced pressure___7', 'Predictive Maintenance Of Hydraulics System___close to total failure-small lag-severe leakage-severely reduced pressure___8', 'Predictive Maintenance Of Hydraulics System___close to total failure-small lag-severe leakage-severely reduced pressure___9', 'Predictive Maintenance Of Hydraulics System___close to total failure-small lag-severe leakage-slightly reduced pressure___0', 'Predictive Maintenance Of Hydraulics System___close to total failure-small lag-severe leakage-slightly reduced pressure___1', 'Predictive Maintenance Of Hydraulics System___close to total failure-small lag-severe leakage-slightly reduced pressure___2', 'Predictive Maintenance Of Hydraulics System___close to total failure-small lag-severe leakage-slightly reduced pressure___3', 'Predictive Maintenance Of Hydraulics System___close to total failure-small lag-severe leakage-slightly reduced pressure___4', 'Predictive Maintenance Of Hydraulics System___close to total failure-small lag-severe leakage-slightly reduced pressure___5', 'Predictive Maintenance Of Hydraulics System___close to total failure-small lag-severe leakage-slightly reduced pressure___6', 'Predictive Maintenance Of Hydraulics System___close to total failure-small lag-severe leakage-slightly reduced pressure___7', 'Predictive Maintenance Of Hydraulics System___close to total failure-small lag-severe leakage-slightly reduced pressure___8', 'Predictive Maintenance Of Hydraulics System___close to total failure-small lag-severe leakage-slightly reduced pressure___9', 'Predictive Maintenance Of Hydraulics System___close to total failure-small lag-weak leakage-close to total failure___0', 'Predictive Maintenance Of Hydraulics System___close to total failure-small lag-weak leakage-close to total failure___1', 'Predictive Maintenance Of Hydraulics System___close to total failure-small lag-weak leakage-close to total failure___2', 'Predictive Maintenance Of Hydraulics System___close to total failure-small lag-weak leakage-close to total failure___3', 'Predictive Maintenance Of Hydraulics System___close to total failure-small lag-weak leakage-close to total failure___4', 'Predictive Maintenance Of Hydraulics System___close to total failure-small lag-weak leakage-close to total failure___5', 'Predictive Maintenance Of Hydraulics System___close to total failure-small lag-weak leakage-close to total failure___6', 'Predictive Maintenance Of Hydraulics System___close to total failure-small lag-weak leakage-close to total failure___7', 'Predictive Maintenance Of Hydraulics System___close to total failure-small lag-weak leakage-close to total failure___8', 'Predictive Maintenance Of Hydraulics System___close to total failure-small lag-weak leakage-close to total failure___9', 'Predictive Maintenance Of Hydraulics System___close to total failure-small lag-weak leakage-optimal pressure___0', 'Predictive Maintenance Of Hydraulics System___close to total failure-small lag-weak leakage-optimal pressure___1', 'Predictive Maintenance Of Hydraulics System___close to total failure-small lag-weak leakage-optimal pressure___2', 'Predictive Maintenance Of Hydraulics System___close to total failure-small lag-weak leakage-optimal pressure___3', 'Predictive Maintenance Of Hydraulics System___close to total failure-small lag-weak leakage-optimal pressure___4', 'Predictive Maintenance Of Hydraulics System___close to total failure-small lag-weak leakage-optimal pressure___5', 'Predictive Maintenance Of Hydraulics System___close to total failure-small lag-weak leakage-optimal pressure___6', 'Predictive Maintenance Of Hydraulics System___close to total failure-small lag-weak leakage-optimal pressure___7', 'Predictive Maintenance Of Hydraulics System___close to total failure-small lag-weak leakage-optimal pressure___8', 'Predictive Maintenance Of Hydraulics System___close to total failure-small lag-weak leakage-optimal pressure___9', 'Predictive Maintenance Of Hydraulics System___close to total failure-small lag-weak leakage-severely reduced pressure___0', 'Predictive Maintenance Of Hydraulics System___close to total failure-small lag-weak leakage-severely reduced pressure___1', 'Predictive Maintenance Of Hydraulics System___close to total failure-small lag-weak leakage-severely reduced pressure___2', 'Predictive Maintenance Of Hydraulics System___close to total failure-small lag-weak leakage-severely reduced pressure___3', 'Predictive Maintenance Of Hydraulics System___close to total failure-small lag-weak leakage-severely reduced pressure___4', 'Predictive Maintenance Of Hydraulics System___close to total failure-small lag-weak leakage-severely reduced pressure___5', 'Predictive Maintenance Of Hydraulics System___close to total failure-small lag-weak leakage-severely reduced pressure___6', 'Predictive Maintenance Of Hydraulics System___close to total failure-small lag-weak leakage-severely reduced pressure___7', 'Predictive Maintenance Of Hydraulics System___close to total failure-small lag-weak leakage-severely reduced pressure___8', 'Predictive Maintenance Of Hydraulics System___close to total failure-small lag-weak leakage-severely reduced pressure___9', 'Predictive Maintenance Of Hydraulics System___close to total failure-small lag-weak leakage-slightly reduced pressure___0', 'Predictive Maintenance Of Hydraulics System___close to total failure-small lag-weak leakage-slightly reduced pressure___1', 'Predictive Maintenance Of Hydraulics System___close to total failure-small lag-weak leakage-slightly reduced pressure___2', 'Predictive Maintenance Of Hydraulics System___close to total failure-small lag-weak leakage-slightly reduced pressure___3', 'Predictive Maintenance Of Hydraulics System___close to total failure-small lag-weak leakage-slightly reduced pressure___4', 'Predictive Maintenance Of Hydraulics System___close to total failure-small lag-weak leakage-slightly reduced pressure___5', 'Predictive Maintenance Of Hydraulics System___close to total failure-small lag-weak leakage-slightly reduced pressure___6', 'Predictive Maintenance Of Hydraulics System___close to total failure-small lag-weak leakage-slightly reduced pressure___7', 'Predictive Maintenance Of Hydraulics System___close to total failure-small lag-weak leakage-slightly reduced pressure___8', 'Predictive Maintenance Of Hydraulics System___close to total failure-small lag-weak leakage-slightly reduced pressure___9', 'Predictive Maintenance Of Hydraulics System___full efficiency-close to total failure-no leakage-close to total failure___0', 'Predictive Maintenance Of Hydraulics System___full efficiency-close to total failure-no leakage-close to total failure___1', 'Predictive Maintenance Of Hydraulics System___full efficiency-close to total failure-no leakage-close to total failure___2', 'Predictive Maintenance Of Hydraulics System___full efficiency-close to total failure-no leakage-close to total failure___3', 'Predictive Maintenance Of Hydraulics System___full efficiency-close to total failure-no leakage-close to total failure___4', 'Predictive Maintenance Of Hydraulics System___full efficiency-close to total failure-no leakage-close to total failure___5', 'Predictive Maintenance Of Hydraulics System___full efficiency-close to total failure-no leakage-close to total failure___6', 'Predictive Maintenance Of Hydraulics System___full efficiency-close to total failure-no leakage-close to total failure___7', 'Predictive Maintenance Of Hydraulics System___full efficiency-close to total failure-no leakage-close to total failure___8', 'Predictive Maintenance Of Hydraulics System___full efficiency-close to total failure-no leakage-close to total failure___9', 'Predictive Maintenance Of Hydraulics System___full efficiency-close to total failure-no leakage-optimal pressure___0', 'Predictive Maintenance Of Hydraulics System___full efficiency-close to total failure-no leakage-optimal pressure___1', 'Predictive Maintenance Of Hydraulics System___full efficiency-close to total failure-no leakage-optimal pressure___2', 'Predictive Maintenance Of Hydraulics System___full efficiency-close to total failure-no leakage-optimal pressure___3', 'Predictive Maintenance Of Hydraulics System___full efficiency-close to total failure-no leakage-optimal pressure___4', 'Predictive Maintenance Of Hydraulics System___full efficiency-close to total failure-no leakage-optimal pressure___5', 'Predictive Maintenance Of Hydraulics System___full efficiency-close to total failure-no leakage-optimal pressure___6', 'Predictive Maintenance Of Hydraulics System___full efficiency-close to total failure-no leakage-optimal pressure___7', 'Predictive Maintenance Of Hydraulics System___full efficiency-close to total failure-no leakage-optimal pressure___8', 'Predictive Maintenance Of Hydraulics System___full efficiency-close to total failure-no leakage-optimal pressure___9', 'Predictive Maintenance Of Hydraulics System___full efficiency-close to total failure-no leakage-severely reduced pressure___0', 'Predictive Maintenance Of Hydraulics System___full efficiency-close to total failure-no leakage-severely reduced pressure___1', 'Predictive Maintenance Of Hydraulics System___full efficiency-close to total failure-no leakage-severely reduced pressure___2', 'Predictive Maintenance Of Hydraulics System___full efficiency-close to total failure-no leakage-severely reduced pressure___3', 'Predictive Maintenance Of Hydraulics System___full efficiency-close to total failure-no leakage-severely reduced pressure___4', 'Predictive Maintenance Of Hydraulics System___full efficiency-close to total failure-no leakage-severely reduced pressure___5', 'Predictive Maintenance Of Hydraulics System___full efficiency-close to total failure-no leakage-severely reduced pressure___6', 'Predictive Maintenance Of Hydraulics System___full efficiency-close to total failure-no leakage-severely reduced pressure___7', 'Predictive Maintenance Of Hydraulics System___full efficiency-close to total failure-no leakage-severely reduced pressure___8', 'Predictive Maintenance Of Hydraulics System___full efficiency-close to total failure-no leakage-severely reduced pressure___9', 'Predictive Maintenance Of Hydraulics System___full efficiency-close to total failure-no leakage-slightly reduced pressure___0', 'Predictive Maintenance Of Hydraulics System___full efficiency-close to total failure-no leakage-slightly reduced pressure___1', 'Predictive Maintenance Of Hydraulics System___full efficiency-close to total failure-no leakage-slightly reduced pressure___2', 'Predictive Maintenance Of Hydraulics System___full efficiency-close to total failure-no leakage-slightly reduced pressure___3', 'Predictive Maintenance Of Hydraulics System___full efficiency-close to total failure-no leakage-slightly reduced pressure___4', 'Predictive Maintenance Of Hydraulics System___full efficiency-close to total failure-no leakage-slightly reduced pressure___5', 'Predictive Maintenance Of Hydraulics System___full efficiency-close to total failure-no leakage-slightly reduced pressure___6', 'Predictive Maintenance Of Hydraulics System___full efficiency-close to total failure-no leakage-slightly reduced pressure___7', 'Predictive Maintenance Of Hydraulics System___full efficiency-close to total failure-no leakage-slightly reduced pressure___8', 'Predictive Maintenance Of Hydraulics System___full efficiency-close to total failure-no leakage-slightly reduced pressure___9', 'Predictive Maintenance Of Hydraulics System___full efficiency-close to total failure-severe leakage-close to total failure___0', 'Predictive Maintenance Of Hydraulics System___full efficiency-close to total failure-severe leakage-close to total failure___1', 'Predictive Maintenance Of Hydraulics System___full efficiency-close to total failure-severe leakage-close to total failure___2', 'Predictive Maintenance Of Hydraulics System___full efficiency-close to total failure-severe leakage-close to total failure___3', 'Predictive Maintenance Of Hydraulics System___full efficiency-close to total failure-severe leakage-close to total failure___4', 'Predictive Maintenance Of Hydraulics System___full efficiency-close to total failure-severe leakage-close to total failure___5', 'Predictive Maintenance Of Hydraulics System___full efficiency-close to total failure-severe leakage-close to total failure___6', 'Predictive Maintenance Of Hydraulics System___full efficiency-close to total failure-severe leakage-close to total failure___7', 'Predictive Maintenance Of Hydraulics System___full efficiency-close to total failure-severe leakage-close to total failure___8', 'Predictive Maintenance Of Hydraulics System___full efficiency-close to total failure-severe leakage-close to total failure___9', 'Predictive Maintenance Of Hydraulics System___full efficiency-close to total failure-severe leakage-optimal pressure___0', 'Predictive Maintenance Of Hydraulics System___full efficiency-close to total failure-severe leakage-optimal pressure___1', 'Predictive Maintenance Of Hydraulics System___full efficiency-close to total failure-severe leakage-optimal pressure___2', 'Predictive Maintenance Of Hydraulics System___full efficiency-close to total failure-severe leakage-optimal pressure___3', 'Predictive Maintenance Of Hydraulics System___full efficiency-close to total failure-severe leakage-optimal pressure___4', 'Predictive Maintenance Of Hydraulics System___full efficiency-close to total failure-severe leakage-optimal pressure___5', 'Predictive Maintenance Of Hydraulics System___full efficiency-close to total failure-severe leakage-optimal pressure___6', 'Predictive Maintenance Of Hydraulics System___full efficiency-close to total failure-severe leakage-optimal pressure___7', 'Predictive Maintenance Of Hydraulics System___full efficiency-close to total failure-severe leakage-optimal pressure___8', 'Predictive Maintenance Of Hydraulics System___full efficiency-close to total failure-severe leakage-optimal pressure___9', 'Predictive Maintenance Of Hydraulics System___full efficiency-close to total failure-severe leakage-severely reduced pressure___0', 'Predictive Maintenance Of Hydraulics System___full efficiency-close to total failure-severe leakage-severely reduced pressure___1', 'Predictive Maintenance Of Hydraulics System___full efficiency-close to total failure-severe leakage-severely reduced pressure___2', 'Predictive Maintenance Of Hydraulics System___full efficiency-close to total failure-severe leakage-severely reduced pressure___3', 'Predictive Maintenance Of Hydraulics System___full efficiency-close to total failure-severe leakage-severely reduced pressure___4', 'Predictive Maintenance Of Hydraulics System___full efficiency-close to total failure-severe leakage-severely reduced pressure___5', 'Predictive Maintenance Of Hydraulics System___full efficiency-close to total failure-severe leakage-severely reduced pressure___6', 'Predictive Maintenance Of Hydraulics System___full efficiency-close to total failure-severe leakage-severely reduced pressure___7', 'Predictive Maintenance Of Hydraulics System___full efficiency-close to total failure-severe leakage-severely reduced pressure___8', 'Predictive Maintenance Of Hydraulics System___full efficiency-close to total failure-severe leakage-severely reduced pressure___9', 'Predictive Maintenance Of Hydraulics System___full efficiency-close to total failure-severe leakage-slightly reduced pressure___0', 'Predictive Maintenance Of Hydraulics System___full efficiency-close to total failure-severe leakage-slightly reduced pressure___1', 'Predictive Maintenance Of Hydraulics System___full efficiency-close to total failure-severe leakage-slightly reduced pressure___2', 'Predictive Maintenance Of Hydraulics System___full efficiency-close to total failure-severe leakage-slightly reduced pressure___3', 'Predictive Maintenance Of Hydraulics System___full efficiency-close to total failure-severe leakage-slightly reduced pressure___4', 'Predictive Maintenance Of Hydraulics System___full efficiency-close to total failure-severe leakage-slightly reduced pressure___5', 'Predictive Maintenance Of Hydraulics System___full efficiency-close to total failure-severe leakage-slightly reduced pressure___6', 'Predictive Maintenance Of Hydraulics System___full efficiency-close to total failure-severe leakage-slightly reduced pressure___7', 'Predictive Maintenance Of Hydraulics System___full efficiency-close to total failure-severe leakage-slightly reduced pressure___8', 'Predictive Maintenance Of Hydraulics System___full efficiency-close to total failure-severe leakage-slightly reduced pressure___9', 'Predictive Maintenance Of Hydraulics System___full efficiency-close to total failure-weak leakage-close to total failure___0', 'Predictive Maintenance Of Hydraulics System___full efficiency-close to total failure-weak leakage-close to total failure___1', 'Predictive Maintenance Of Hydraulics System___full efficiency-close to total failure-weak leakage-close to total failure___2', 'Predictive Maintenance Of Hydraulics System___full efficiency-close to total failure-weak leakage-close to total failure___3', 'Predictive Maintenance Of Hydraulics System___full efficiency-close to total failure-weak leakage-close to total failure___4', 'Predictive Maintenance Of Hydraulics System___full efficiency-close to total failure-weak leakage-close to total failure___5', 'Predictive Maintenance Of Hydraulics System___full efficiency-close to total failure-weak leakage-close to total failure___6', 'Predictive Maintenance Of Hydraulics System___full efficiency-close to total failure-weak leakage-close to total failure___7', 'Predictive Maintenance Of Hydraulics System___full efficiency-close to total failure-weak leakage-close to total failure___8', 'Predictive Maintenance Of Hydraulics System___full efficiency-close to total failure-weak leakage-close to total failure___9', 'Predictive Maintenance Of Hydraulics System___full efficiency-close to total failure-weak leakage-optimal pressure___0', 'Predictive Maintenance Of Hydraulics System___full efficiency-close to total failure-weak leakage-optimal pressure___1', 'Predictive Maintenance Of Hydraulics System___full efficiency-close to total failure-weak leakage-optimal pressure___2', 'Predictive Maintenance Of Hydraulics System___full efficiency-close to total failure-weak leakage-optimal pressure___3', 'Predictive Maintenance Of Hydraulics System___full efficiency-close to total failure-weak leakage-optimal pressure___4', 'Predictive Maintenance Of Hydraulics System___full efficiency-close to total failure-weak leakage-optimal pressure___5', 'Predictive Maintenance Of Hydraulics System___full efficiency-close to total failure-weak leakage-optimal pressure___6', 'Predictive Maintenance Of Hydraulics System___full efficiency-close to total failure-weak leakage-optimal pressure___7', 'Predictive Maintenance Of Hydraulics System___full efficiency-close to total failure-weak leakage-optimal pressure___8', 'Predictive Maintenance Of Hydraulics System___full efficiency-close to total failure-weak leakage-optimal pressure___9', 'Predictive Maintenance Of Hydraulics System___full efficiency-close to total failure-weak leakage-severely reduced pressure___0', 'Predictive Maintenance Of Hydraulics System___full efficiency-close to total failure-weak leakage-severely reduced pressure___1', 'Predictive Maintenance Of Hydraulics System___full efficiency-close to total failure-weak leakage-severely reduced pressure___2', 'Predictive Maintenance Of Hydraulics System___full efficiency-close to total failure-weak leakage-severely reduced pressure___3', 'Predictive Maintenance Of Hydraulics System___full efficiency-close to total failure-weak leakage-severely reduced pressure___4', 'Predictive Maintenance Of Hydraulics System___full efficiency-close to total failure-weak leakage-severely reduced pressure___5', 'Predictive Maintenance Of Hydraulics System___full efficiency-close to total failure-weak leakage-severely reduced pressure___6', 'Predictive Maintenance Of Hydraulics System___full efficiency-close to total failure-weak leakage-severely reduced pressure___7', 'Predictive Maintenance Of Hydraulics System___full efficiency-close to total failure-weak leakage-severely reduced pressure___8', 'Predictive Maintenance Of Hydraulics System___full efficiency-close to total failure-weak leakage-severely reduced pressure___9', 'Predictive Maintenance Of Hydraulics System___full efficiency-close to total failure-weak leakage-slightly reduced pressure___0', 'Predictive Maintenance Of Hydraulics System___full efficiency-close to total failure-weak leakage-slightly reduced pressure___1', 'Predictive Maintenance Of Hydraulics System___full efficiency-close to total failure-weak leakage-slightly reduced pressure___2', 'Predictive Maintenance Of Hydraulics System___full efficiency-close to total failure-weak leakage-slightly reduced pressure___3', 'Predictive Maintenance Of Hydraulics System___full efficiency-close to total failure-weak leakage-slightly reduced pressure___4', 'Predictive Maintenance Of Hydraulics System___full efficiency-close to total failure-weak leakage-slightly reduced pressure___5', 'Predictive Maintenance Of Hydraulics System___full efficiency-close to total failure-weak leakage-slightly reduced pressure___6', 'Predictive Maintenance Of Hydraulics System___full efficiency-close to total failure-weak leakage-slightly reduced pressure___7', 'Predictive Maintenance Of Hydraulics System___full efficiency-close to total failure-weak leakage-slightly reduced pressure___8', 'Predictive Maintenance Of Hydraulics System___full efficiency-close to total failure-weak leakage-slightly reduced pressure___9', 'Predictive Maintenance Of Hydraulics System___full efficiency-optimal switching behavior-no leakage-close to total failure___0', 'Predictive Maintenance Of Hydraulics System___full efficiency-optimal switching behavior-no leakage-close to total failure___1', 'Predictive Maintenance Of Hydraulics System___full efficiency-optimal switching behavior-no leakage-close to total failure___10', 'Predictive Maintenance Of Hydraulics System___full efficiency-optimal switching behavior-no leakage-close to total failure___11', 'Predictive Maintenance Of Hydraulics System___full efficiency-optimal switching behavior-no leakage-close to total failure___12', 'Predictive Maintenance Of Hydraulics System___full efficiency-optimal switching behavior-no leakage-close to total failure___13', 'Predictive Maintenance Of Hydraulics System___full efficiency-optimal switching behavior-no leakage-close to total failure___14', 'Predictive Maintenance Of Hydraulics System___full efficiency-optimal switching behavior-no leakage-close to total failure___15', 'Predictive Maintenance Of Hydraulics System___full efficiency-optimal switching behavior-no leakage-close to total failure___16', 'Predictive Maintenance Of Hydraulics System___full efficiency-optimal switching behavior-no leakage-close to total failure___17', 'Predictive Maintenance Of Hydraulics System___full efficiency-optimal switching behavior-no leakage-close to total failure___18', 'Predictive Maintenance Of Hydraulics System___full efficiency-optimal switching behavior-no leakage-close to total failure___2', 'Predictive Maintenance Of Hydraulics System___full efficiency-optimal switching behavior-no leakage-close to total failure___3', 'Predictive Maintenance Of Hydraulics System___full efficiency-optimal switching behavior-no leakage-close to total failure___4', 'Predictive Maintenance Of Hydraulics System___full efficiency-optimal switching behavior-no leakage-close to total failure___5', 'Predictive Maintenance Of Hydraulics System___full efficiency-optimal switching behavior-no leakage-close to total failure___6', 'Predictive Maintenance Of Hydraulics System___full efficiency-optimal switching behavior-no leakage-close to total failure___7', 'Predictive Maintenance Of Hydraulics System___full efficiency-optimal switching behavior-no leakage-close to total failure___8', 'Predictive Maintenance Of Hydraulics System___full efficiency-optimal switching behavior-no leakage-close to total failure___9', 'Predictive Maintenance Of Hydraulics System___full efficiency-optimal switching behavior-no leakage-optimal pressure___0', 'Predictive Maintenance Of Hydraulics System___full efficiency-optimal switching behavior-no leakage-optimal pressure___1', 'Predictive Maintenance Of Hydraulics System___full efficiency-optimal switching behavior-no leakage-optimal pressure___2', 'Predictive Maintenance Of Hydraulics System___full efficiency-optimal switching behavior-no leakage-optimal pressure___3', 'Predictive Maintenance Of Hydraulics System___full efficiency-optimal switching behavior-no leakage-optimal pressure___4', 'Predictive Maintenance Of Hydraulics System___full efficiency-optimal switching behavior-no leakage-optimal pressure___5', 'Predictive Maintenance Of Hydraulics System___full efficiency-optimal switching behavior-no leakage-optimal pressure___6', 'Predictive Maintenance Of Hydraulics System___full efficiency-optimal switching behavior-no leakage-optimal pressure___7', 'Predictive Maintenance Of Hydraulics System___full efficiency-optimal switching behavior-no leakage-optimal pressure___8', 'Predictive Maintenance Of Hydraulics System___full efficiency-optimal switching behavior-no leakage-optimal pressure___9', 'Predictive Maintenance Of Hydraulics System___full efficiency-optimal switching behavior-no leakage-severely reduced pressure___0', 'Predictive Maintenance Of Hydraulics System___full efficiency-optimal switching behavior-no leakage-severely reduced pressure___1', 'Predictive Maintenance Of Hydraulics System___full efficiency-optimal switching behavior-no leakage-severely reduced pressure___2', 'Predictive Maintenance Of Hydraulics System___full efficiency-optimal switching behavior-no leakage-severely reduced pressure___3', 'Predictive Maintenance Of Hydraulics System___full efficiency-optimal switching behavior-no leakage-severely reduced pressure___4', 'Predictive Maintenance Of Hydraulics System___full efficiency-optimal switching behavior-no leakage-severely reduced pressure___5', 'Predictive Maintenance Of Hydraulics System___full efficiency-optimal switching behavior-no leakage-severely reduced pressure___6', 'Predictive Maintenance Of Hydraulics System___full efficiency-optimal switching behavior-no leakage-severely reduced pressure___7', 'Predictive Maintenance Of Hydraulics System___full efficiency-optimal switching behavior-no leakage-severely reduced pressure___8', 'Predictive Maintenance Of Hydraulics System___full efficiency-optimal switching behavior-no leakage-severely reduced pressure___9', 'Predictive Maintenance Of Hydraulics System___full efficiency-optimal switching behavior-no leakage-slightly reduced pressure___0', 'Predictive Maintenance Of Hydraulics System___full efficiency-optimal switching behavior-no leakage-slightly reduced pressure___1', 'Predictive Maintenance Of Hydraulics System___full efficiency-optimal switching behavior-no leakage-slightly reduced pressure___2', 'Predictive Maintenance Of Hydraulics System___full efficiency-optimal switching behavior-no leakage-slightly reduced pressure___3', 'Predictive Maintenance Of Hydraulics System___full efficiency-optimal switching behavior-no leakage-slightly reduced pressure___4', 'Predictive Maintenance Of Hydraulics System___full efficiency-optimal switching behavior-no leakage-slightly reduced pressure___5', 'Predictive Maintenance Of Hydraulics System___full efficiency-optimal switching behavior-no leakage-slightly reduced pressure___6', 'Predictive Maintenance Of Hydraulics System___full efficiency-optimal switching behavior-no leakage-slightly reduced pressure___7', 'Predictive Maintenance Of Hydraulics System___full efficiency-optimal switching behavior-no leakage-slightly reduced pressure___8', 'Predictive Maintenance Of Hydraulics System___full efficiency-optimal switching behavior-no leakage-slightly reduced pressure___9', 'Predictive Maintenance Of Hydraulics System___full efficiency-optimal switching behavior-severe leakage-close to total failure___0', 'Predictive Maintenance Of Hydraulics System___full efficiency-optimal switching behavior-severe leakage-close to total failure___1', 'Predictive Maintenance Of Hydraulics System___full efficiency-optimal switching behavior-severe leakage-close to total failure___2', 'Predictive Maintenance Of Hydraulics System___full efficiency-optimal switching behavior-severe leakage-close to total failure___3', 'Predictive Maintenance Of Hydraulics System___full efficiency-optimal switching behavior-severe leakage-close to total failure___4', 'Predictive Maintenance Of Hydraulics System___full efficiency-optimal switching behavior-severe leakage-close to total failure___5', 'Predictive Maintenance Of Hydraulics System___full efficiency-optimal switching behavior-severe leakage-close to total failure___6', 'Predictive Maintenance Of Hydraulics System___full efficiency-optimal switching behavior-severe leakage-close to total failure___7', 'Predictive Maintenance Of Hydraulics System___full efficiency-optimal switching behavior-severe leakage-close to total failure___8', 'Predictive Maintenance Of Hydraulics System___full efficiency-optimal switching behavior-severe leakage-close to total failure___9', 'Predictive Maintenance Of Hydraulics System___full efficiency-optimal switching behavior-severe leakage-optimal pressure___0', 'Predictive Maintenance Of Hydraulics System___full efficiency-optimal switching behavior-severe leakage-optimal pressure___1', 'Predictive Maintenance Of Hydraulics System___full efficiency-optimal switching behavior-severe leakage-optimal pressure___2', 'Predictive Maintenance Of Hydraulics System___full efficiency-optimal switching behavior-severe leakage-optimal pressure___3', 'Predictive Maintenance Of Hydraulics System___full efficiency-optimal switching behavior-severe leakage-optimal pressure___4', 'Predictive Maintenance Of Hydraulics System___full efficiency-optimal switching behavior-severe leakage-optimal pressure___5', 'Predictive Maintenance Of Hydraulics System___full efficiency-optimal switching behavior-severe leakage-optimal pressure___6', 'Predictive Maintenance Of Hydraulics System___full efficiency-optimal switching behavior-severe leakage-optimal pressure___7', 'Predictive Maintenance Of Hydraulics System___full efficiency-optimal switching behavior-severe leakage-optimal pressure___8', 'Predictive Maintenance Of Hydraulics System___full efficiency-optimal switching behavior-severe leakage-optimal pressure___9', 'Predictive Maintenance Of Hydraulics System___full efficiency-optimal switching behavior-severe leakage-severely reduced pressure___0', 'Predictive Maintenance Of Hydraulics System___full efficiency-optimal switching behavior-severe leakage-severely reduced pressure___1', 'Predictive Maintenance Of Hydraulics System___full efficiency-optimal switching behavior-severe leakage-severely reduced pressure___2', 'Predictive Maintenance Of Hydraulics System___full efficiency-optimal switching behavior-severe leakage-severely reduced pressure___3', 'Predictive Maintenance Of Hydraulics System___full efficiency-optimal switching behavior-severe leakage-severely reduced pressure___4', 'Predictive Maintenance Of Hydraulics System___full efficiency-optimal switching behavior-severe leakage-severely reduced pressure___5', 'Predictive Maintenance Of Hydraulics System___full efficiency-optimal switching behavior-severe leakage-severely reduced pressure___6', 'Predictive Maintenance Of Hydraulics System___full efficiency-optimal switching behavior-severe leakage-severely reduced pressure___7', 'Predictive Maintenance Of Hydraulics System___full efficiency-optimal switching behavior-severe leakage-severely reduced pressure___8', 'Predictive Maintenance Of Hydraulics System___full efficiency-optimal switching behavior-severe leakage-severely reduced pressure___9', 'Predictive Maintenance Of Hydraulics System___full efficiency-optimal switching behavior-severe leakage-slightly reduced pressure___0', 'Predictive Maintenance Of Hydraulics System___full efficiency-optimal switching behavior-severe leakage-slightly reduced pressure___1', 'Predictive Maintenance Of Hydraulics System___full efficiency-optimal switching behavior-severe leakage-slightly reduced pressure___2', 'Predictive Maintenance Of Hydraulics System___full efficiency-optimal switching behavior-severe leakage-slightly reduced pressure___3', 'Predictive Maintenance Of Hydraulics System___full efficiency-optimal switching behavior-severe leakage-slightly reduced pressure___4', 'Predictive Maintenance Of Hydraulics System___full efficiency-optimal switching behavior-severe leakage-slightly reduced pressure___5', 'Predictive Maintenance Of Hydraulics System___full efficiency-optimal switching behavior-severe leakage-slightly reduced pressure___6', 'Predictive Maintenance Of Hydraulics System___full efficiency-optimal switching behavior-severe leakage-slightly reduced pressure___7', 'Predictive Maintenance Of Hydraulics System___full efficiency-optimal switching behavior-severe leakage-slightly reduced pressure___8', 'Predictive Maintenance Of Hydraulics System___full efficiency-optimal switching behavior-severe leakage-slightly reduced pressure___9', 'Predictive Maintenance Of Hydraulics System___full efficiency-optimal switching behavior-weak leakage-close to total failure___0', 'Predictive Maintenance Of Hydraulics System___full efficiency-optimal switching behavior-weak leakage-close to total failure___1', 'Predictive Maintenance Of Hydraulics System___full efficiency-optimal switching behavior-weak leakage-close to total failure___2', 'Predictive Maintenance Of Hydraulics System___full efficiency-optimal switching behavior-weak leakage-close to total failure___3', 'Predictive Maintenance Of Hydraulics System___full efficiency-optimal switching behavior-weak leakage-close to total failure___4', 'Predictive Maintenance Of Hydraulics System___full efficiency-optimal switching behavior-weak leakage-close to total failure___5', 'Predictive Maintenance Of Hydraulics System___full efficiency-optimal switching behavior-weak leakage-close to total failure___6', 'Predictive Maintenance Of Hydraulics System___full efficiency-optimal switching behavior-weak leakage-close to total failure___7', 'Predictive Maintenance Of Hydraulics System___full efficiency-optimal switching behavior-weak leakage-close to total failure___8', 'Predictive Maintenance Of Hydraulics System___full efficiency-optimal switching behavior-weak leakage-close to total failure___9', 'Predictive Maintenance Of Hydraulics System___full efficiency-optimal switching behavior-weak leakage-optimal pressure___0', 'Predictive Maintenance Of Hydraulics System___full efficiency-optimal switching behavior-weak leakage-optimal pressure___1', 'Predictive Maintenance Of Hydraulics System___full efficiency-optimal switching behavior-weak leakage-optimal pressure___2', 'Predictive Maintenance Of Hydraulics System___full efficiency-optimal switching behavior-weak leakage-optimal pressure___3', 'Predictive Maintenance Of Hydraulics System___full efficiency-optimal switching behavior-weak leakage-optimal pressure___4', 'Predictive Maintenance Of Hydraulics System___full efficiency-optimal switching behavior-weak leakage-optimal pressure___5', 'Predictive Maintenance Of Hydraulics System___full efficiency-optimal switching behavior-weak leakage-optimal pressure___6', 'Predictive Maintenance Of Hydraulics System___full efficiency-optimal switching behavior-weak leakage-optimal pressure___7', 'Predictive Maintenance Of Hydraulics System___full efficiency-optimal switching behavior-weak leakage-optimal pressure___8', 'Predictive Maintenance Of Hydraulics System___full efficiency-optimal switching behavior-weak leakage-optimal pressure___9', 'Predictive Maintenance Of Hydraulics System___full efficiency-optimal switching behavior-weak leakage-severely reduced pressure___0', 'Predictive Maintenance Of Hydraulics System___full efficiency-optimal switching behavior-weak leakage-severely reduced pressure___1', 'Predictive Maintenance Of Hydraulics System___full efficiency-optimal switching behavior-weak leakage-severely reduced pressure___2', 'Predictive Maintenance Of Hydraulics System___full efficiency-optimal switching behavior-weak leakage-severely reduced pressure___3', 'Predictive Maintenance Of Hydraulics System___full efficiency-optimal switching behavior-weak leakage-severely reduced pressure___4', 'Predictive Maintenance Of Hydraulics System___full efficiency-optimal switching behavior-weak leakage-severely reduced pressure___5', 'Predictive Maintenance Of Hydraulics System___full efficiency-optimal switching behavior-weak leakage-severely reduced pressure___6', 'Predictive Maintenance Of Hydraulics System___full efficiency-optimal switching behavior-weak leakage-severely reduced pressure___7', 'Predictive Maintenance Of Hydraulics System___full efficiency-optimal switching behavior-weak leakage-severely reduced pressure___8', 'Predictive Maintenance Of Hydraulics System___full efficiency-optimal switching behavior-weak leakage-severely reduced pressure___9', 'Predictive Maintenance Of Hydraulics System___full efficiency-optimal switching behavior-weak leakage-slightly reduced pressure___0', 'Predictive Maintenance Of Hydraulics System___full efficiency-optimal switching behavior-weak leakage-slightly reduced pressure___1', 'Predictive Maintenance Of Hydraulics System___full efficiency-optimal switching behavior-weak leakage-slightly reduced pressure___2', 'Predictive Maintenance Of Hydraulics System___full efficiency-optimal switching behavior-weak leakage-slightly reduced pressure___3', 'Predictive Maintenance Of Hydraulics System___full efficiency-optimal switching behavior-weak leakage-slightly reduced pressure___4', 'Predictive Maintenance Of Hydraulics System___full efficiency-optimal switching behavior-weak leakage-slightly reduced pressure___5', 'Predictive Maintenance Of Hydraulics System___full efficiency-optimal switching behavior-weak leakage-slightly reduced pressure___6', 'Predictive Maintenance Of Hydraulics System___full efficiency-optimal switching behavior-weak leakage-slightly reduced pressure___7', 'Predictive Maintenance Of Hydraulics System___full efficiency-optimal switching behavior-weak leakage-slightly reduced pressure___8', 'Predictive Maintenance Of Hydraulics System___full efficiency-optimal switching behavior-weak leakage-slightly reduced pressure___9', 'Predictive Maintenance Of Hydraulics System___full efficiency-severe lag-no leakage-close to total failure___0', 'Predictive Maintenance Of Hydraulics System___full efficiency-severe lag-no leakage-close to total failure___1', 'Predictive Maintenance Of Hydraulics System___full efficiency-severe lag-no leakage-close to total failure___2', 'Predictive Maintenance Of Hydraulics System___full efficiency-severe lag-no leakage-close to total failure___3', 'Predictive Maintenance Of Hydraulics System___full efficiency-severe lag-no leakage-close to total failure___4', 'Predictive Maintenance Of Hydraulics System___full efficiency-severe lag-no leakage-close to total failure___5', 'Predictive Maintenance Of Hydraulics System___full efficiency-severe lag-no leakage-close to total failure___6', 'Predictive Maintenance Of Hydraulics System___full efficiency-severe lag-no leakage-close to total failure___7', 'Predictive Maintenance Of Hydraulics System___full efficiency-severe lag-no leakage-close to total failure___8', 'Predictive Maintenance Of Hydraulics System___full efficiency-severe lag-no leakage-close to total failure___9', 'Predictive Maintenance Of Hydraulics System___full efficiency-severe lag-no leakage-optimal pressure___0', 'Predictive Maintenance Of Hydraulics System___full efficiency-severe lag-no leakage-optimal pressure___1', 'Predictive Maintenance Of Hydraulics System___full efficiency-severe lag-no leakage-optimal pressure___2', 'Predictive Maintenance Of Hydraulics System___full efficiency-severe lag-no leakage-optimal pressure___3', 'Predictive Maintenance Of Hydraulics System___full efficiency-severe lag-no leakage-optimal pressure___4', 'Predictive Maintenance Of Hydraulics System___full efficiency-severe lag-no leakage-optimal pressure___5', 'Predictive Maintenance Of Hydraulics System___full efficiency-severe lag-no leakage-optimal pressure___6', 'Predictive Maintenance Of Hydraulics System___full efficiency-severe lag-no leakage-optimal pressure___7', 'Predictive Maintenance Of Hydraulics System___full efficiency-severe lag-no leakage-optimal pressure___8', 'Predictive Maintenance Of Hydraulics System___full efficiency-severe lag-no leakage-optimal pressure___9', 'Predictive Maintenance Of Hydraulics System___full efficiency-severe lag-no leakage-severely reduced pressure___0', 'Predictive Maintenance Of Hydraulics System___full efficiency-severe lag-no leakage-severely reduced pressure___1', 'Predictive Maintenance Of Hydraulics System___full efficiency-severe lag-no leakage-severely reduced pressure___2', 'Predictive Maintenance Of Hydraulics System___full efficiency-severe lag-no leakage-severely reduced pressure___3', 'Predictive Maintenance Of Hydraulics System___full efficiency-severe lag-no leakage-severely reduced pressure___4', 'Predictive Maintenance Of Hydraulics System___full efficiency-severe lag-no leakage-severely reduced pressure___5', 'Predictive Maintenance Of Hydraulics System___full efficiency-severe lag-no leakage-severely reduced pressure___6', 'Predictive Maintenance Of Hydraulics System___full efficiency-severe lag-no leakage-severely reduced pressure___7', 'Predictive Maintenance Of Hydraulics System___full efficiency-severe lag-no leakage-severely reduced pressure___8', 'Predictive Maintenance Of Hydraulics System___full efficiency-severe lag-no leakage-severely reduced pressure___9', 'Predictive Maintenance Of Hydraulics System___full efficiency-severe lag-no leakage-slightly reduced pressure___0', 'Predictive Maintenance Of Hydraulics System___full efficiency-severe lag-no leakage-slightly reduced pressure___1', 'Predictive Maintenance Of Hydraulics System___full efficiency-severe lag-no leakage-slightly reduced pressure___2', 'Predictive Maintenance Of Hydraulics System___full efficiency-severe lag-no leakage-slightly reduced pressure___3', 'Predictive Maintenance Of Hydraulics System___full efficiency-severe lag-no leakage-slightly reduced pressure___4', 'Predictive Maintenance Of Hydraulics System___full efficiency-severe lag-no leakage-slightly reduced pressure___5', 'Predictive Maintenance Of Hydraulics System___full efficiency-severe lag-no leakage-slightly reduced pressure___6', 'Predictive Maintenance Of Hydraulics System___full efficiency-severe lag-no leakage-slightly reduced pressure___7', 'Predictive Maintenance Of Hydraulics System___full efficiency-severe lag-no leakage-slightly reduced pressure___8', 'Predictive Maintenance Of Hydraulics System___full efficiency-severe lag-no leakage-slightly reduced pressure___9', 'Predictive Maintenance Of Hydraulics System___full efficiency-severe lag-severe leakage-close to total failure___0', 'Predictive Maintenance Of Hydraulics System___full efficiency-severe lag-severe leakage-close to total failure___1', 'Predictive Maintenance Of Hydraulics System___full efficiency-severe lag-severe leakage-close to total failure___2', 'Predictive Maintenance Of Hydraulics System___full efficiency-severe lag-severe leakage-close to total failure___3', 'Predictive Maintenance Of Hydraulics System___full efficiency-severe lag-severe leakage-close to total failure___4', 'Predictive Maintenance Of Hydraulics System___full efficiency-severe lag-severe leakage-close to total failure___5', 'Predictive Maintenance Of Hydraulics System___full efficiency-severe lag-severe leakage-close to total failure___6', 'Predictive Maintenance Of Hydraulics System___full efficiency-severe lag-severe leakage-close to total failure___7', 'Predictive Maintenance Of Hydraulics System___full efficiency-severe lag-severe leakage-close to total failure___8', 'Predictive Maintenance Of Hydraulics System___full efficiency-severe lag-severe leakage-close to total failure___9', 'Predictive Maintenance Of Hydraulics System___full efficiency-severe lag-severe leakage-optimal pressure___0', 'Predictive Maintenance Of Hydraulics System___full efficiency-severe lag-severe leakage-optimal pressure___1', 'Predictive Maintenance Of Hydraulics System___full efficiency-severe lag-severe leakage-optimal pressure___2', 'Predictive Maintenance Of Hydraulics System___full efficiency-severe lag-severe leakage-optimal pressure___3', 'Predictive Maintenance Of Hydraulics System___full efficiency-severe lag-severe leakage-optimal pressure___4', 'Predictive Maintenance Of Hydraulics System___full efficiency-severe lag-severe leakage-optimal pressure___5', 'Predictive Maintenance Of Hydraulics System___full efficiency-severe lag-severe leakage-optimal pressure___6', 'Predictive Maintenance Of Hydraulics System___full efficiency-severe lag-severe leakage-optimal pressure___7', 'Predictive Maintenance Of Hydraulics System___full efficiency-severe lag-severe leakage-optimal pressure___8', 'Predictive Maintenance Of Hydraulics System___full efficiency-severe lag-severe leakage-optimal pressure___9', 'Predictive Maintenance Of Hydraulics System___full efficiency-severe lag-severe leakage-severely reduced pressure___0', 'Predictive Maintenance Of Hydraulics System___full efficiency-severe lag-severe leakage-severely reduced pressure___1', 'Predictive Maintenance Of Hydraulics System___full efficiency-severe lag-severe leakage-severely reduced pressure___2', 'Predictive Maintenance Of Hydraulics System___full efficiency-severe lag-severe leakage-severely reduced pressure___3', 'Predictive Maintenance Of Hydraulics System___full efficiency-severe lag-severe leakage-severely reduced pressure___4', 'Predictive Maintenance Of Hydraulics System___full efficiency-severe lag-severe leakage-severely reduced pressure___5', 'Predictive Maintenance Of Hydraulics System___full efficiency-severe lag-severe leakage-severely reduced pressure___6', 'Predictive Maintenance Of Hydraulics System___full efficiency-severe lag-severe leakage-severely reduced pressure___7', 'Predictive Maintenance Of Hydraulics System___full efficiency-severe lag-severe leakage-severely reduced pressure___8', 'Predictive Maintenance Of Hydraulics System___full efficiency-severe lag-severe leakage-severely reduced pressure___9', 'Predictive Maintenance Of Hydraulics System___full efficiency-severe lag-severe leakage-slightly reduced pressure___0', 'Predictive Maintenance Of Hydraulics System___full efficiency-severe lag-severe leakage-slightly reduced pressure___1', 'Predictive Maintenance Of Hydraulics System___full efficiency-severe lag-severe leakage-slightly reduced pressure___2', 'Predictive Maintenance Of Hydraulics System___full efficiency-severe lag-severe leakage-slightly reduced pressure___3', 'Predictive Maintenance Of Hydraulics System___full efficiency-severe lag-severe leakage-slightly reduced pressure___4', 'Predictive Maintenance Of Hydraulics System___full efficiency-severe lag-severe leakage-slightly reduced pressure___5', 'Predictive Maintenance Of Hydraulics System___full efficiency-severe lag-severe leakage-slightly reduced pressure___6', 'Predictive Maintenance Of Hydraulics System___full efficiency-severe lag-severe leakage-slightly reduced pressure___7', 'Predictive Maintenance Of Hydraulics System___full efficiency-severe lag-severe leakage-slightly reduced pressure___8', 'Predictive Maintenance Of Hydraulics System___full efficiency-severe lag-severe leakage-slightly reduced pressure___9', 'Predictive Maintenance Of Hydraulics System___full efficiency-severe lag-weak leakage-close to total failure___0', 'Predictive Maintenance Of Hydraulics System___full efficiency-severe lag-weak leakage-close to total failure___1', 'Predictive Maintenance Of Hydraulics System___full efficiency-severe lag-weak leakage-close to total failure___2', 'Predictive Maintenance Of Hydraulics System___full efficiency-severe lag-weak leakage-close to total failure___3', 'Predictive Maintenance Of Hydraulics System___full efficiency-severe lag-weak leakage-close to total failure___4', 'Predictive Maintenance Of Hydraulics System___full efficiency-severe lag-weak leakage-close to total failure___5', 'Predictive Maintenance Of Hydraulics System___full efficiency-severe lag-weak leakage-close to total failure___6', 'Predictive Maintenance Of Hydraulics System___full efficiency-severe lag-weak leakage-close to total failure___7', 'Predictive Maintenance Of Hydraulics System___full efficiency-severe lag-weak leakage-close to total failure___8', 'Predictive Maintenance Of Hydraulics System___full efficiency-severe lag-weak leakage-close to total failure___9', 'Predictive Maintenance Of Hydraulics System___full efficiency-severe lag-weak leakage-optimal pressure___0', 'Predictive Maintenance Of Hydraulics System___full efficiency-severe lag-weak leakage-optimal pressure___1', 'Predictive Maintenance Of Hydraulics System___full efficiency-severe lag-weak leakage-optimal pressure___2', 'Predictive Maintenance Of Hydraulics System___full efficiency-severe lag-weak leakage-optimal pressure___3', 'Predictive Maintenance Of Hydraulics System___full efficiency-severe lag-weak leakage-optimal pressure___4', 'Predictive Maintenance Of Hydraulics System___full efficiency-severe lag-weak leakage-optimal pressure___5', 'Predictive Maintenance Of Hydraulics System___full efficiency-severe lag-weak leakage-optimal pressure___6', 'Predictive Maintenance Of Hydraulics System___full efficiency-severe lag-weak leakage-optimal pressure___7', 'Predictive Maintenance Of Hydraulics System___full efficiency-severe lag-weak leakage-optimal pressure___8', 'Predictive Maintenance Of Hydraulics System___full efficiency-severe lag-weak leakage-optimal pressure___9', 'Predictive Maintenance Of Hydraulics System___full efficiency-severe lag-weak leakage-severely reduced pressure___0', 'Predictive Maintenance Of Hydraulics System___full efficiency-severe lag-weak leakage-severely reduced pressure___1', 'Predictive Maintenance Of Hydraulics System___full efficiency-severe lag-weak leakage-severely reduced pressure___2', 'Predictive Maintenance Of Hydraulics System___full efficiency-severe lag-weak leakage-severely reduced pressure___3', 'Predictive Maintenance Of Hydraulics System___full efficiency-severe lag-weak leakage-severely reduced pressure___4', 'Predictive Maintenance Of Hydraulics System___full efficiency-severe lag-weak leakage-severely reduced pressure___5', 'Predictive Maintenance Of Hydraulics System___full efficiency-severe lag-weak leakage-severely reduced pressure___6', 'Predictive Maintenance Of Hydraulics System___full efficiency-severe lag-weak leakage-severely reduced pressure___7', 'Predictive Maintenance Of Hydraulics System___full efficiency-severe lag-weak leakage-severely reduced pressure___8', 'Predictive Maintenance Of Hydraulics System___full efficiency-severe lag-weak leakage-severely reduced pressure___9', 'Predictive Maintenance Of Hydraulics System___full efficiency-severe lag-weak leakage-slightly reduced pressure___0', 'Predictive Maintenance Of Hydraulics System___full efficiency-severe lag-weak leakage-slightly reduced pressure___1', 'Predictive Maintenance Of Hydraulics System___full efficiency-severe lag-weak leakage-slightly reduced pressure___2', 'Predictive Maintenance Of Hydraulics System___full efficiency-severe lag-weak leakage-slightly reduced pressure___3', 'Predictive Maintenance Of Hydraulics System___full efficiency-severe lag-weak leakage-slightly reduced pressure___4', 'Predictive Maintenance Of Hydraulics System___full efficiency-severe lag-weak leakage-slightly reduced pressure___5', 'Predictive Maintenance Of Hydraulics System___full efficiency-severe lag-weak leakage-slightly reduced pressure___6', 'Predictive Maintenance Of Hydraulics System___full efficiency-severe lag-weak leakage-slightly reduced pressure___7', 'Predictive Maintenance Of Hydraulics System___full efficiency-severe lag-weak leakage-slightly reduced pressure___8', 'Predictive Maintenance Of Hydraulics System___full efficiency-severe lag-weak leakage-slightly reduced pressure___9', 'Predictive Maintenance Of Hydraulics System___full efficiency-small lag-no leakage-close to total failure___0', 'Predictive Maintenance Of Hydraulics System___full efficiency-small lag-no leakage-close to total failure___1', 'Predictive Maintenance Of Hydraulics System___full efficiency-small lag-no leakage-close to total failure___2', 'Predictive Maintenance Of Hydraulics System___full efficiency-small lag-no leakage-close to total failure___3', 'Predictive Maintenance Of Hydraulics System___full efficiency-small lag-no leakage-close to total failure___4', 'Predictive Maintenance Of Hydraulics System___full efficiency-small lag-no leakage-close to total failure___5', 'Predictive Maintenance Of Hydraulics System___full efficiency-small lag-no leakage-close to total failure___6', 'Predictive Maintenance Of Hydraulics System___full efficiency-small lag-no leakage-close to total failure___7', 'Predictive Maintenance Of Hydraulics System___full efficiency-small lag-no leakage-close to total failure___8', 'Predictive Maintenance Of Hydraulics System___full efficiency-small lag-no leakage-close to total failure___9', 'Predictive Maintenance Of Hydraulics System___full efficiency-small lag-no leakage-optimal pressure___0', 'Predictive Maintenance Of Hydraulics System___full efficiency-small lag-no leakage-optimal pressure___1', 'Predictive Maintenance Of Hydraulics System___full efficiency-small lag-no leakage-optimal pressure___2', 'Predictive Maintenance Of Hydraulics System___full efficiency-small lag-no leakage-optimal pressure___3', 'Predictive Maintenance Of Hydraulics System___full efficiency-small lag-no leakage-optimal pressure___4', 'Predictive Maintenance Of Hydraulics System___full efficiency-small lag-no leakage-optimal pressure___5', 'Predictive Maintenance Of Hydraulics System___full efficiency-small lag-no leakage-optimal pressure___6', 'Predictive Maintenance Of Hydraulics System___full efficiency-small lag-no leakage-optimal pressure___7', 'Predictive Maintenance Of Hydraulics System___full efficiency-small lag-no leakage-optimal pressure___8', 'Predictive Maintenance Of Hydraulics System___full efficiency-small lag-no leakage-optimal pressure___9', 'Predictive Maintenance Of Hydraulics System___full efficiency-small lag-no leakage-severely reduced pressure___0', 'Predictive Maintenance Of Hydraulics System___full efficiency-small lag-no leakage-severely reduced pressure___1', 'Predictive Maintenance Of Hydraulics System___full efficiency-small lag-no leakage-severely reduced pressure___2', 'Predictive Maintenance Of Hydraulics System___full efficiency-small lag-no leakage-severely reduced pressure___3', 'Predictive Maintenance Of Hydraulics System___full efficiency-small lag-no leakage-severely reduced pressure___4', 'Predictive Maintenance Of Hydraulics System___full efficiency-small lag-no leakage-severely reduced pressure___5', 'Predictive Maintenance Of Hydraulics System___full efficiency-small lag-no leakage-severely reduced pressure___6', 'Predictive Maintenance Of Hydraulics System___full efficiency-small lag-no leakage-severely reduced pressure___7', 'Predictive Maintenance Of Hydraulics System___full efficiency-small lag-no leakage-severely reduced pressure___8', 'Predictive Maintenance Of Hydraulics System___full efficiency-small lag-no leakage-severely reduced pressure___9', 'Predictive Maintenance Of Hydraulics System___full efficiency-small lag-no leakage-slightly reduced pressure___0', 'Predictive Maintenance Of Hydraulics System___full efficiency-small lag-no leakage-slightly reduced pressure___1', 'Predictive Maintenance Of Hydraulics System___full efficiency-small lag-no leakage-slightly reduced pressure___2', 'Predictive Maintenance Of Hydraulics System___full efficiency-small lag-no leakage-slightly reduced pressure___3', 'Predictive Maintenance Of Hydraulics System___full efficiency-small lag-no leakage-slightly reduced pressure___4', 'Predictive Maintenance Of Hydraulics System___full efficiency-small lag-no leakage-slightly reduced pressure___5', 'Predictive Maintenance Of Hydraulics System___full efficiency-small lag-no leakage-slightly reduced pressure___6', 'Predictive Maintenance Of Hydraulics System___full efficiency-small lag-no leakage-slightly reduced pressure___7', 'Predictive Maintenance Of Hydraulics System___full efficiency-small lag-no leakage-slightly reduced pressure___8', 'Predictive Maintenance Of Hydraulics System___full efficiency-small lag-no leakage-slightly reduced pressure___9', 'Predictive Maintenance Of Hydraulics System___full efficiency-small lag-severe leakage-close to total failure___0', 'Predictive Maintenance Of Hydraulics System___full efficiency-small lag-severe leakage-close to total failure___1', 'Predictive Maintenance Of Hydraulics System___full efficiency-small lag-severe leakage-close to total failure___2', 'Predictive Maintenance Of Hydraulics System___full efficiency-small lag-severe leakage-close to total failure___3', 'Predictive Maintenance Of Hydraulics System___full efficiency-small lag-severe leakage-close to total failure___4', 'Predictive Maintenance Of Hydraulics System___full efficiency-small lag-severe leakage-close to total failure___5', 'Predictive Maintenance Of Hydraulics System___full efficiency-small lag-severe leakage-close to total failure___6', 'Predictive Maintenance Of Hydraulics System___full efficiency-small lag-severe leakage-close to total failure___7', 'Predictive Maintenance Of Hydraulics System___full efficiency-small lag-severe leakage-close to total failure___8', 'Predictive Maintenance Of Hydraulics System___full efficiency-small lag-severe leakage-close to total failure___9', 'Predictive Maintenance Of Hydraulics System___full efficiency-small lag-severe leakage-optimal pressure___0', 'Predictive Maintenance Of Hydraulics System___full efficiency-small lag-severe leakage-optimal pressure___1', 'Predictive Maintenance Of Hydraulics System___full efficiency-small lag-severe leakage-optimal pressure___2', 'Predictive Maintenance Of Hydraulics System___full efficiency-small lag-severe leakage-optimal pressure___3', 'Predictive Maintenance Of Hydraulics System___full efficiency-small lag-severe leakage-optimal pressure___4', 'Predictive Maintenance Of Hydraulics System___full efficiency-small lag-severe leakage-optimal pressure___5', 'Predictive Maintenance Of Hydraulics System___full efficiency-small lag-severe leakage-optimal pressure___6', 'Predictive Maintenance Of Hydraulics System___full efficiency-small lag-severe leakage-optimal pressure___7', 'Predictive Maintenance Of Hydraulics System___full efficiency-small lag-severe leakage-optimal pressure___8', 'Predictive Maintenance Of Hydraulics System___full efficiency-small lag-severe leakage-optimal pressure___9', 'Predictive Maintenance Of Hydraulics System___full efficiency-small lag-severe leakage-severely reduced pressure___0', 'Predictive Maintenance Of Hydraulics System___full efficiency-small lag-severe leakage-severely reduced pressure___1', 'Predictive Maintenance Of Hydraulics System___full efficiency-small lag-severe leakage-severely reduced pressure___2', 'Predictive Maintenance Of Hydraulics System___full efficiency-small lag-severe leakage-severely reduced pressure___3', 'Predictive Maintenance Of Hydraulics System___full efficiency-small lag-severe leakage-severely reduced pressure___4', 'Predictive Maintenance Of Hydraulics System___full efficiency-small lag-severe leakage-severely reduced pressure___5', 'Predictive Maintenance Of Hydraulics System___full efficiency-small lag-severe leakage-severely reduced pressure___6', 'Predictive Maintenance Of Hydraulics System___full efficiency-small lag-severe leakage-severely reduced pressure___7', 'Predictive Maintenance Of Hydraulics System___full efficiency-small lag-severe leakage-severely reduced pressure___8', 'Predictive Maintenance Of Hydraulics System___full efficiency-small lag-severe leakage-severely reduced pressure___9', 'Predictive Maintenance Of Hydraulics System___full efficiency-small lag-severe leakage-slightly reduced pressure___0', 'Predictive Maintenance Of Hydraulics System___full efficiency-small lag-severe leakage-slightly reduced pressure___1', 'Predictive Maintenance Of Hydraulics System___full efficiency-small lag-severe leakage-slightly reduced pressure___2', 'Predictive Maintenance Of Hydraulics System___full efficiency-small lag-severe leakage-slightly reduced pressure___3', 'Predictive Maintenance Of Hydraulics System___full efficiency-small lag-severe leakage-slightly reduced pressure___4', 'Predictive Maintenance Of Hydraulics System___full efficiency-small lag-severe leakage-slightly reduced pressure___5', 'Predictive Maintenance Of Hydraulics System___full efficiency-small lag-severe leakage-slightly reduced pressure___6', 'Predictive Maintenance Of Hydraulics System___full efficiency-small lag-severe leakage-slightly reduced pressure___7', 'Predictive Maintenance Of Hydraulics System___full efficiency-small lag-severe leakage-slightly reduced pressure___8', 'Predictive Maintenance Of Hydraulics System___full efficiency-small lag-severe leakage-slightly reduced pressure___9', 'Predictive Maintenance Of Hydraulics System___full efficiency-small lag-weak leakage-close to total failure___0', 'Predictive Maintenance Of Hydraulics System___full efficiency-small lag-weak leakage-close to total failure___1', 'Predictive Maintenance Of Hydraulics System___full efficiency-small lag-weak leakage-close to total failure___2', 'Predictive Maintenance Of Hydraulics System___full efficiency-small lag-weak leakage-close to total failure___3', 'Predictive Maintenance Of Hydraulics System___full efficiency-small lag-weak leakage-close to total failure___4', 'Predictive Maintenance Of Hydraulics System___full efficiency-small lag-weak leakage-close to total failure___5', 'Predictive Maintenance Of Hydraulics System___full efficiency-small lag-weak leakage-close to total failure___6', 'Predictive Maintenance Of Hydraulics System___full efficiency-small lag-weak leakage-close to total failure___7', 'Predictive Maintenance Of Hydraulics System___full efficiency-small lag-weak leakage-close to total failure___8', 'Predictive Maintenance Of Hydraulics System___full efficiency-small lag-weak leakage-close to total failure___9', 'Predictive Maintenance Of Hydraulics System___full efficiency-small lag-weak leakage-optimal pressure___0', 'Predictive Maintenance Of Hydraulics System___full efficiency-small lag-weak leakage-optimal pressure___1', 'Predictive Maintenance Of Hydraulics System___full efficiency-small lag-weak leakage-optimal pressure___2', 'Predictive Maintenance Of Hydraulics System___full efficiency-small lag-weak leakage-optimal pressure___3', 'Predictive Maintenance Of Hydraulics System___full efficiency-small lag-weak leakage-optimal pressure___4', 'Predictive Maintenance Of Hydraulics System___full efficiency-small lag-weak leakage-optimal pressure___5', 'Predictive Maintenance Of Hydraulics System___full efficiency-small lag-weak leakage-optimal pressure___6', 'Predictive Maintenance Of Hydraulics System___full efficiency-small lag-weak leakage-optimal pressure___7', 'Predictive Maintenance Of Hydraulics System___full efficiency-small lag-weak leakage-optimal pressure___8', 'Predictive Maintenance Of Hydraulics System___full efficiency-small lag-weak leakage-optimal pressure___9', 'Predictive Maintenance Of Hydraulics System___full efficiency-small lag-weak leakage-severely reduced pressure___0', 'Predictive Maintenance Of Hydraulics System___full efficiency-small lag-weak leakage-severely reduced pressure___1', 'Predictive Maintenance Of Hydraulics System___full efficiency-small lag-weak leakage-severely reduced pressure___2', 'Predictive Maintenance Of Hydraulics System___full efficiency-small lag-weak leakage-severely reduced pressure___3', 'Predictive Maintenance Of Hydraulics System___full efficiency-small lag-weak leakage-severely reduced pressure___4', 'Predictive Maintenance Of Hydraulics System___full efficiency-small lag-weak leakage-severely reduced pressure___5', 'Predictive Maintenance Of Hydraulics System___full efficiency-small lag-weak leakage-severely reduced pressure___6', 'Predictive Maintenance Of Hydraulics System___full efficiency-small lag-weak leakage-severely reduced pressure___7', 'Predictive Maintenance Of Hydraulics System___full efficiency-small lag-weak leakage-severely reduced pressure___8', 'Predictive Maintenance Of Hydraulics System___full efficiency-small lag-weak leakage-severely reduced pressure___9', 'Predictive Maintenance Of Hydraulics System___full efficiency-small lag-weak leakage-slightly reduced pressure___0', 'Predictive Maintenance Of Hydraulics System___full efficiency-small lag-weak leakage-slightly reduced pressure___1', 'Predictive Maintenance Of Hydraulics System___full efficiency-small lag-weak leakage-slightly reduced pressure___2', 'Predictive Maintenance Of Hydraulics System___full efficiency-small lag-weak leakage-slightly reduced pressure___3', 'Predictive Maintenance Of Hydraulics System___full efficiency-small lag-weak leakage-slightly reduced pressure___4', 'Predictive Maintenance Of Hydraulics System___full efficiency-small lag-weak leakage-slightly reduced pressure___5', 'Predictive Maintenance Of Hydraulics System___full efficiency-small lag-weak leakage-slightly reduced pressure___6', 'Predictive Maintenance Of Hydraulics System___full efficiency-small lag-weak leakage-slightly reduced pressure___7', 'Predictive Maintenance Of Hydraulics System___full efficiency-small lag-weak leakage-slightly reduced pressure___8', 'Predictive Maintenance Of Hydraulics System___full efficiency-small lag-weak leakage-slightly reduced pressure___9', 'Predictive Maintenance Of Hydraulics System___reduced efficiency-close to total failure-no leakage-close to total failure___0', 'Predictive Maintenance Of Hydraulics System___reduced efficiency-close to total failure-no leakage-close to total failure___1', 'Predictive Maintenance Of Hydraulics System___reduced efficiency-close to total failure-no leakage-close to total failure___2', 'Predictive Maintenance Of Hydraulics System___reduced efficiency-close to total failure-no leakage-close to total failure___3', 'Predictive Maintenance Of Hydraulics System___reduced efficiency-close to total failure-no leakage-close to total failure___4', 'Predictive Maintenance Of Hydraulics System___reduced efficiency-close to total failure-no leakage-close to total failure___5', 'Predictive Maintenance Of Hydraulics System___reduced efficiency-close to total failure-no leakage-close to total failure___6', 'Predictive Maintenance Of Hydraulics System___reduced efficiency-close to total failure-no leakage-close to total failure___7', 'Predictive Maintenance Of Hydraulics System___reduced efficiency-close to total failure-no leakage-close to total failure___8', 'Predictive Maintenance Of Hydraulics System___reduced efficiency-close to total failure-no leakage-close to total failure___9', 'Predictive Maintenance Of Hydraulics System___reduced efficiency-close to total failure-no leakage-optimal pressure___0', 'Predictive Maintenance Of Hydraulics System___reduced efficiency-close to total failure-no leakage-optimal pressure___1', 'Predictive Maintenance Of Hydraulics System___reduced efficiency-close to total failure-no leakage-optimal pressure___2', 'Predictive Maintenance Of Hydraulics System___reduced efficiency-close to total failure-no leakage-optimal pressure___3', 'Predictive Maintenance Of Hydraulics System___reduced efficiency-close to total failure-no leakage-optimal pressure___4', 'Predictive Maintenance Of Hydraulics System___reduced efficiency-close to total failure-no leakage-optimal pressure___5', 'Predictive Maintenance Of Hydraulics System___reduced efficiency-close to total failure-no leakage-optimal pressure___6', 'Predictive Maintenance Of Hydraulics System___reduced efficiency-close to total failure-no leakage-optimal pressure___7', 'Predictive Maintenance Of Hydraulics System___reduced efficiency-close to total failure-no leakage-optimal pressure___8', 'Predictive Maintenance Of Hydraulics System___reduced efficiency-close to total failure-no leakage-optimal pressure___9', 'Predictive Maintenance Of Hydraulics System___reduced efficiency-close to total failure-no leakage-severely reduced pressure___0', 'Predictive Maintenance Of Hydraulics System___reduced efficiency-close to total failure-no leakage-severely reduced pressure___1', 'Predictive Maintenance Of Hydraulics System___reduced efficiency-close to total failure-no leakage-severely reduced pressure___2', 'Predictive Maintenance Of Hydraulics System___reduced efficiency-close to total failure-no leakage-severely reduced pressure___3', 'Predictive Maintenance Of Hydraulics System___reduced efficiency-close to total failure-no leakage-severely reduced pressure___4', 'Predictive Maintenance Of Hydraulics System___reduced efficiency-close to total failure-no leakage-severely reduced pressure___5', 'Predictive Maintenance Of Hydraulics System___reduced efficiency-close to total failure-no leakage-severely reduced pressure___6', 'Predictive Maintenance Of Hydraulics System___reduced efficiency-close to total failure-no leakage-severely reduced pressure___7', 'Predictive Maintenance Of Hydraulics System___reduced efficiency-close to total failure-no leakage-severely reduced pressure___8', 'Predictive Maintenance Of Hydraulics System___reduced efficiency-close to total failure-no leakage-severely reduced pressure___9', 'Predictive Maintenance Of Hydraulics System___reduced efficiency-close to total failure-no leakage-slightly reduced pressure___0', 'Predictive Maintenance Of Hydraulics System___reduced efficiency-close to total failure-no leakage-slightly reduced pressure___1', 'Predictive Maintenance Of Hydraulics System___reduced efficiency-close to total failure-no leakage-slightly reduced pressure___2', 'Predictive Maintenance Of Hydraulics System___reduced efficiency-close to total failure-no leakage-slightly reduced pressure___3', 'Predictive Maintenance Of Hydraulics System___reduced efficiency-close to total failure-no leakage-slightly reduced pressure___4', 'Predictive Maintenance Of Hydraulics System___reduced efficiency-close to total failure-no leakage-slightly reduced pressure___5', 'Predictive Maintenance Of Hydraulics System___reduced efficiency-close to total failure-no leakage-slightly reduced pressure___6', 'Predictive Maintenance Of Hydraulics System___reduced efficiency-close to total failure-no leakage-slightly reduced pressure___7', 'Predictive Maintenance Of Hydraulics System___reduced efficiency-close to total failure-no leakage-slightly reduced pressure___8', 'Predictive Maintenance Of Hydraulics System___reduced efficiency-close to total failure-no leakage-slightly reduced pressure___9', 'Predictive Maintenance Of Hydraulics System___reduced efficiency-close to total failure-severe leakage-close to total failure___0', 'Predictive Maintenance Of Hydraulics System___reduced efficiency-close to total failure-severe leakage-close to total failure___1', 'Predictive Maintenance Of Hydraulics System___reduced efficiency-close to total failure-severe leakage-close to total failure___2', 'Predictive Maintenance Of Hydraulics System___reduced efficiency-close to total failure-severe leakage-close to total failure___3', 'Predictive Maintenance Of Hydraulics System___reduced efficiency-close to total failure-severe leakage-close to total failure___4', 'Predictive Maintenance Of Hydraulics System___reduced efficiency-close to total failure-severe leakage-close to total failure___5', 'Predictive Maintenance Of Hydraulics System___reduced efficiency-close to total failure-severe leakage-close to total failure___6', 'Predictive Maintenance Of Hydraulics System___reduced efficiency-close to total failure-severe leakage-close to total failure___7', 'Predictive Maintenance Of Hydraulics System___reduced efficiency-close to total failure-severe leakage-close to total failure___8', 'Predictive Maintenance Of Hydraulics System___reduced efficiency-close to total failure-severe leakage-close to total failure___9', 'Predictive Maintenance Of Hydraulics System___reduced efficiency-close to total failure-severe leakage-optimal pressure___0', 'Predictive Maintenance Of Hydraulics System___reduced efficiency-close to total failure-severe leakage-optimal pressure___1', 'Predictive Maintenance Of Hydraulics System___reduced efficiency-close to total failure-severe leakage-optimal pressure___2', 'Predictive Maintenance Of Hydraulics System___reduced efficiency-close to total failure-severe leakage-optimal pressure___3', 'Predictive Maintenance Of Hydraulics System___reduced efficiency-close to total failure-severe leakage-optimal pressure___4', 'Predictive Maintenance Of Hydraulics System___reduced efficiency-close to total failure-severe leakage-optimal pressure___5', 'Predictive Maintenance Of Hydraulics System___reduced efficiency-close to total failure-severe leakage-optimal pressure___6', 'Predictive Maintenance Of Hydraulics System___reduced efficiency-close to total failure-severe leakage-optimal pressure___7', 'Predictive Maintenance Of Hydraulics System___reduced efficiency-close to total failure-severe leakage-optimal pressure___8', 'Predictive Maintenance Of Hydraulics System___reduced efficiency-close to total failure-severe leakage-optimal pressure___9', 'Predictive Maintenance Of Hydraulics System___reduced efficiency-close to total failure-severe leakage-severely reduced pressure___0', 'Predictive Maintenance Of Hydraulics System___reduced efficiency-close to total failure-severe leakage-severely reduced pressure___1', 'Predictive Maintenance Of Hydraulics System___reduced efficiency-close to total failure-severe leakage-severely reduced pressure___2', 'Predictive Maintenance Of Hydraulics System___reduced efficiency-close to total failure-severe leakage-severely reduced pressure___3', 'Predictive Maintenance Of Hydraulics System___reduced efficiency-close to total failure-severe leakage-severely reduced pressure___4', 'Predictive Maintenance Of Hydraulics System___reduced efficiency-close to total failure-severe leakage-severely reduced pressure___5', 'Predictive Maintenance Of Hydraulics System___reduced efficiency-close to total failure-severe leakage-severely reduced pressure___6', 'Predictive Maintenance Of Hydraulics System___reduced efficiency-close to total failure-severe leakage-severely reduced pressure___7', 'Predictive Maintenance Of Hydraulics System___reduced efficiency-close to total failure-severe leakage-severely reduced pressure___8', 'Predictive Maintenance Of Hydraulics System___reduced efficiency-close to total failure-severe leakage-severely reduced pressure___9', 'Predictive Maintenance Of Hydraulics System___reduced efficiency-close to total failure-severe leakage-slightly reduced pressure___0', 'Predictive Maintenance Of Hydraulics System___reduced efficiency-close to total failure-severe leakage-slightly reduced pressure___1', 'Predictive Maintenance Of Hydraulics System___reduced efficiency-close to total failure-severe leakage-slightly reduced pressure___2', 'Predictive Maintenance Of Hydraulics System___reduced efficiency-close to total failure-severe leakage-slightly reduced pressure___3', 'Predictive Maintenance Of Hydraulics System___reduced efficiency-close to total failure-severe leakage-slightly reduced pressure___4', 'Predictive Maintenance Of Hydraulics System___reduced efficiency-close to total failure-severe leakage-slightly reduced pressure___5', 'Predictive Maintenance Of Hydraulics System___reduced efficiency-close to total failure-severe leakage-slightly reduced pressure___6', 'Predictive Maintenance Of Hydraulics System___reduced efficiency-close to total failure-severe leakage-slightly reduced pressure___7', 'Predictive Maintenance Of Hydraulics System___reduced efficiency-close to total failure-severe leakage-slightly reduced pressure___8', 'Predictive Maintenance Of Hydraulics System___reduced efficiency-close to total failure-severe leakage-slightly reduced pressure___9', 'Predictive Maintenance Of Hydraulics System___reduced efficiency-close to total failure-weak leakage-close to total failure___0', 'Predictive Maintenance Of Hydraulics System___reduced efficiency-close to total failure-weak leakage-close to total failure___1', 'Predictive Maintenance Of Hydraulics System___reduced efficiency-close to total failure-weak leakage-close to total failure___2', 'Predictive Maintenance Of Hydraulics System___reduced efficiency-close to total failure-weak leakage-close to total failure___3', 'Predictive Maintenance Of Hydraulics System___reduced efficiency-close to total failure-weak leakage-close to total failure___4', 'Predictive Maintenance Of Hydraulics System___reduced efficiency-close to total failure-weak leakage-close to total failure___5', 'Predictive Maintenance Of Hydraulics System___reduced efficiency-close to total failure-weak leakage-close to total failure___6', 'Predictive Maintenance Of Hydraulics System___reduced efficiency-close to total failure-weak leakage-close to total failure___7', 'Predictive Maintenance Of Hydraulics System___reduced efficiency-close to total failure-weak leakage-close to total failure___8', 'Predictive Maintenance Of Hydraulics System___reduced efficiency-close to total failure-weak leakage-close to total failure___9', 'Predictive Maintenance Of Hydraulics System___reduced efficiency-close to total failure-weak leakage-optimal pressure___0', 'Predictive Maintenance Of Hydraulics System___reduced efficiency-close to total failure-weak leakage-optimal pressure___1', 'Predictive Maintenance Of Hydraulics System___reduced efficiency-close to total failure-weak leakage-optimal pressure___2', 'Predictive Maintenance Of Hydraulics System___reduced efficiency-close to total failure-weak leakage-optimal pressure___3', 'Predictive Maintenance Of Hydraulics System___reduced efficiency-close to total failure-weak leakage-optimal pressure___4', 'Predictive Maintenance Of Hydraulics System___reduced efficiency-close to total failure-weak leakage-optimal pressure___5', 'Predictive Maintenance Of Hydraulics System___reduced efficiency-close to total failure-weak leakage-optimal pressure___6', 'Predictive Maintenance Of Hydraulics System___reduced efficiency-close to total failure-weak leakage-optimal pressure___7', 'Predictive Maintenance Of Hydraulics System___reduced efficiency-close to total failure-weak leakage-optimal pressure___8', 'Predictive Maintenance Of Hydraulics System___reduced efficiency-close to total failure-weak leakage-optimal pressure___9', 'Predictive Maintenance Of Hydraulics System___reduced efficiency-close to total failure-weak leakage-severely reduced pressure___0', 'Predictive Maintenance Of Hydraulics System___reduced efficiency-close to total failure-weak leakage-severely reduced pressure___1', 'Predictive Maintenance Of Hydraulics System___reduced efficiency-close to total failure-weak leakage-severely reduced pressure___2', 'Predictive Maintenance Of Hydraulics System___reduced efficiency-close to total failure-weak leakage-severely reduced pressure___3', 'Predictive Maintenance Of Hydraulics System___reduced efficiency-close to total failure-weak leakage-severely reduced pressure___4', 'Predictive Maintenance Of Hydraulics System___reduced efficiency-close to total failure-weak leakage-severely reduced pressure___5', 'Predictive Maintenance Of Hydraulics System___reduced efficiency-close to total failure-weak leakage-severely reduced pressure___6', 'Predictive Maintenance Of Hydraulics System___reduced efficiency-close to total failure-weak leakage-severely reduced pressure___7', 'Predictive Maintenance Of Hydraulics System___reduced efficiency-close to total failure-weak leakage-severely reduced pressure___8', 'Predictive Maintenance Of Hydraulics System___reduced efficiency-close to total failure-weak leakage-severely reduced pressure___9', 'Predictive Maintenance Of Hydraulics System___reduced efficiency-close to total failure-weak leakage-slightly reduced pressure___0', 'Predictive Maintenance Of Hydraulics System___reduced efficiency-close to total failure-weak leakage-slightly reduced pressure___1', 'Predictive Maintenance Of Hydraulics System___reduced efficiency-close to total failure-weak leakage-slightly reduced pressure___2', 'Predictive Maintenance Of Hydraulics System___reduced efficiency-close to total failure-weak leakage-slightly reduced pressure___3', 'Predictive Maintenance Of Hydraulics System___reduced efficiency-close to total failure-weak leakage-slightly reduced pressure___4', 'Predictive Maintenance Of Hydraulics System___reduced efficiency-close to total failure-weak leakage-slightly reduced pressure___5', 'Predictive Maintenance Of Hydraulics System___reduced efficiency-close to total failure-weak leakage-slightly reduced pressure___6', 'Predictive Maintenance Of Hydraulics System___reduced efficiency-close to total failure-weak leakage-slightly reduced pressure___7', 'Predictive Maintenance Of Hydraulics System___reduced efficiency-close to total failure-weak leakage-slightly reduced pressure___8', 'Predictive Maintenance Of Hydraulics System___reduced efficiency-close to total failure-weak leakage-slightly reduced pressure___9', 'Predictive Maintenance Of Hydraulics System___reduced efficiency-optimal switching behavior-no leakage-close to total failure___0', 'Predictive Maintenance Of Hydraulics System___reduced efficiency-optimal switching behavior-no leakage-close to total failure___1', 'Predictive Maintenance Of Hydraulics System___reduced efficiency-optimal switching behavior-no leakage-close to total failure___2', 'Predictive Maintenance Of Hydraulics System___reduced efficiency-optimal switching behavior-no leakage-close to total failure___3', 'Predictive Maintenance Of Hydraulics System___reduced efficiency-optimal switching behavior-no leakage-close to total failure___4', 'Predictive Maintenance Of Hydraulics System___reduced efficiency-optimal switching behavior-no leakage-close to total failure___5', 'Predictive Maintenance Of Hydraulics System___reduced efficiency-optimal switching behavior-no leakage-close to total failure___6', 'Predictive Maintenance Of Hydraulics System___reduced efficiency-optimal switching behavior-no leakage-close to total failure___7', 'Predictive Maintenance Of Hydraulics System___reduced efficiency-optimal switching behavior-no leakage-close to total failure___8', 'Predictive Maintenance Of Hydraulics System___reduced efficiency-optimal switching behavior-no leakage-close to total failure___9', 'Predictive Maintenance Of Hydraulics System___reduced efficiency-optimal switching behavior-no leakage-optimal pressure___0', 'Predictive Maintenance Of Hydraulics System___reduced efficiency-optimal switching behavior-no leakage-optimal pressure___1', 'Predictive Maintenance Of Hydraulics System___reduced efficiency-optimal switching behavior-no leakage-optimal pressure___2', 'Predictive Maintenance Of Hydraulics System___reduced efficiency-optimal switching behavior-no leakage-optimal pressure___3', 'Predictive Maintenance Of Hydraulics System___reduced efficiency-optimal switching behavior-no leakage-optimal pressure___4', 'Predictive Maintenance Of Hydraulics System___reduced efficiency-optimal switching behavior-no leakage-optimal pressure___5', 'Predictive Maintenance Of Hydraulics System___reduced efficiency-optimal switching behavior-no leakage-optimal pressure___6', 'Predictive Maintenance Of Hydraulics System___reduced efficiency-optimal switching behavior-no leakage-optimal pressure___7', 'Predictive Maintenance Of Hydraulics System___reduced efficiency-optimal switching behavior-no leakage-optimal pressure___8', 'Predictive Maintenance Of Hydraulics System___reduced efficiency-optimal switching behavior-no leakage-optimal pressure___9', 'Predictive Maintenance Of Hydraulics System___reduced efficiency-optimal switching behavior-no leakage-severely reduced pressure___0', 'Predictive Maintenance Of Hydraulics System___reduced efficiency-optimal switching behavior-no leakage-severely reduced pressure___1', 'Predictive Maintenance Of Hydraulics System___reduced efficiency-optimal switching behavior-no leakage-severely reduced pressure___2', 'Predictive Maintenance Of Hydraulics System___reduced efficiency-optimal switching behavior-no leakage-severely reduced pressure___3', 'Predictive Maintenance Of Hydraulics System___reduced efficiency-optimal switching behavior-no leakage-severely reduced pressure___4', 'Predictive Maintenance Of Hydraulics System___reduced efficiency-optimal switching behavior-no leakage-severely reduced pressure___5', 'Predictive Maintenance Of Hydraulics System___reduced efficiency-optimal switching behavior-no leakage-severely reduced pressure___6', 'Predictive Maintenance Of Hydraulics System___reduced efficiency-optimal switching behavior-no leakage-severely reduced pressure___7', 'Predictive Maintenance Of Hydraulics System___reduced efficiency-optimal switching behavior-no leakage-severely reduced pressure___8', 'Predictive Maintenance Of Hydraulics System___reduced efficiency-optimal switching behavior-no leakage-severely reduced pressure___9', 'Predictive Maintenance Of Hydraulics System___reduced efficiency-optimal switching behavior-no leakage-slightly reduced pressure___0', 'Predictive Maintenance Of Hydraulics System___reduced efficiency-optimal switching behavior-no leakage-slightly reduced pressure___1', 'Predictive Maintenance Of Hydraulics System___reduced efficiency-optimal switching behavior-no leakage-slightly reduced pressure___2', 'Predictive Maintenance Of Hydraulics System___reduced efficiency-optimal switching behavior-no leakage-slightly reduced pressure___3', 'Predictive Maintenance Of Hydraulics System___reduced efficiency-optimal switching behavior-no leakage-slightly reduced pressure___4', 'Predictive Maintenance Of Hydraulics System___reduced efficiency-optimal switching behavior-no leakage-slightly reduced pressure___5', 'Predictive Maintenance Of Hydraulics System___reduced efficiency-optimal switching behavior-no leakage-slightly reduced pressure___6', 'Predictive Maintenance Of Hydraulics System___reduced efficiency-optimal switching behavior-no leakage-slightly reduced pressure___7', 'Predictive Maintenance Of Hydraulics System___reduced efficiency-optimal switching behavior-no leakage-slightly reduced pressure___8', 'Predictive Maintenance Of Hydraulics System___reduced efficiency-optimal switching behavior-no leakage-slightly reduced pressure___9', 'Predictive Maintenance Of Hydraulics System___reduced efficiency-optimal switching behavior-severe leakage-close to total failure___0', 'Predictive Maintenance Of Hydraulics System___reduced efficiency-optimal switching behavior-severe leakage-close to total failure___1', 'Predictive Maintenance Of Hydraulics System___reduced efficiency-optimal switching behavior-severe leakage-close to total failure___2', 'Predictive Maintenance Of Hydraulics System___reduced efficiency-optimal switching behavior-severe leakage-close to total failure___3', 'Predictive Maintenance Of Hydraulics System___reduced efficiency-optimal switching behavior-severe leakage-close to total failure___4', 'Predictive Maintenance Of Hydraulics System___reduced efficiency-optimal switching behavior-severe leakage-close to total failure___5', 'Predictive Maintenance Of Hydraulics System___reduced efficiency-optimal switching behavior-severe leakage-close to total failure___6', 'Predictive Maintenance Of Hydraulics System___reduced efficiency-optimal switching behavior-severe leakage-close to total failure___7', 'Predictive Maintenance Of Hydraulics System___reduced efficiency-optimal switching behavior-severe leakage-close to total failure___8', 'Predictive Maintenance Of Hydraulics System___reduced efficiency-optimal switching behavior-severe leakage-close to total failure___9', 'Predictive Maintenance Of Hydraulics System___reduced efficiency-optimal switching behavior-severe leakage-optimal pressure___0', 'Predictive Maintenance Of Hydraulics System___reduced efficiency-optimal switching behavior-severe leakage-optimal pressure___1', 'Predictive Maintenance Of Hydraulics System___reduced efficiency-optimal switching behavior-severe leakage-optimal pressure___2', 'Predictive Maintenance Of Hydraulics System___reduced efficiency-optimal switching behavior-severe leakage-optimal pressure___3', 'Predictive Maintenance Of Hydraulics System___reduced efficiency-optimal switching behavior-severe leakage-optimal pressure___4', 'Predictive Maintenance Of Hydraulics System___reduced efficiency-optimal switching behavior-severe leakage-optimal pressure___5', 'Predictive Maintenance Of Hydraulics System___reduced efficiency-optimal switching behavior-severe leakage-optimal pressure___6', 'Predictive Maintenance Of Hydraulics System___reduced efficiency-optimal switching behavior-severe leakage-optimal pressure___7', 'Predictive Maintenance Of Hydraulics System___reduced efficiency-optimal switching behavior-severe leakage-optimal pressure___8', 'Predictive Maintenance Of Hydraulics System___reduced efficiency-optimal switching behavior-severe leakage-optimal pressure___9', 'Predictive Maintenance Of Hydraulics System___reduced efficiency-optimal switching behavior-severe leakage-severely reduced pressure___0', 'Predictive Maintenance Of Hydraulics System___reduced efficiency-optimal switching behavior-severe leakage-severely reduced pressure___1', 'Predictive Maintenance Of Hydraulics System___reduced efficiency-optimal switching behavior-severe leakage-severely reduced pressure___2', 'Predictive Maintenance Of Hydraulics System___reduced efficiency-optimal switching behavior-severe leakage-severely reduced pressure___3', 'Predictive Maintenance Of Hydraulics System___reduced efficiency-optimal switching behavior-severe leakage-severely reduced pressure___4', 'Predictive Maintenance Of Hydraulics System___reduced efficiency-optimal switching behavior-severe leakage-severely reduced pressure___5', 'Predictive Maintenance Of Hydraulics System___reduced efficiency-optimal switching behavior-severe leakage-severely reduced pressure___6', 'Predictive Maintenance Of Hydraulics System___reduced efficiency-optimal switching behavior-severe leakage-severely reduced pressure___7', 'Predictive Maintenance Of Hydraulics System___reduced efficiency-optimal switching behavior-severe leakage-severely reduced pressure___8', 'Predictive Maintenance Of Hydraulics System___reduced efficiency-optimal switching behavior-severe leakage-severely reduced pressure___9', 'Predictive Maintenance Of Hydraulics System___reduced efficiency-optimal switching behavior-severe leakage-slightly reduced pressure___0', 'Predictive Maintenance Of Hydraulics System___reduced efficiency-optimal switching behavior-severe leakage-slightly reduced pressure___1', 'Predictive Maintenance Of Hydraulics System___reduced efficiency-optimal switching behavior-severe leakage-slightly reduced pressure___2', 'Predictive Maintenance Of Hydraulics System___reduced efficiency-optimal switching behavior-severe leakage-slightly reduced pressure___3', 'Predictive Maintenance Of Hydraulics System___reduced efficiency-optimal switching behavior-severe leakage-slightly reduced pressure___4', 'Predictive Maintenance Of Hydraulics System___reduced efficiency-optimal switching behavior-severe leakage-slightly reduced pressure___5', 'Predictive Maintenance Of Hydraulics System___reduced efficiency-optimal switching behavior-severe leakage-slightly reduced pressure___6', 'Predictive Maintenance Of Hydraulics System___reduced efficiency-optimal switching behavior-severe leakage-slightly reduced pressure___7', 'Predictive Maintenance Of Hydraulics System___reduced efficiency-optimal switching behavior-severe leakage-slightly reduced pressure___8', 'Predictive Maintenance Of Hydraulics System___reduced efficiency-optimal switching behavior-severe leakage-slightly reduced pressure___9', 'Predictive Maintenance Of Hydraulics System___reduced efficiency-optimal switching behavior-weak leakage-close to total failure___0', 'Predictive Maintenance Of Hydraulics System___reduced efficiency-optimal switching behavior-weak leakage-close to total failure___1', 'Predictive Maintenance Of Hydraulics System___reduced efficiency-optimal switching behavior-weak leakage-close to total failure___2', 'Predictive Maintenance Of Hydraulics System___reduced efficiency-optimal switching behavior-weak leakage-close to total failure___3', 'Predictive Maintenance Of Hydraulics System___reduced efficiency-optimal switching behavior-weak leakage-close to total failure___4', 'Predictive Maintenance Of Hydraulics System___reduced efficiency-optimal switching behavior-weak leakage-close to total failure___5', 'Predictive Maintenance Of Hydraulics System___reduced efficiency-optimal switching behavior-weak leakage-close to total failure___6', 'Predictive Maintenance Of Hydraulics System___reduced efficiency-optimal switching behavior-weak leakage-close to total failure___7', 'Predictive Maintenance Of Hydraulics System___reduced efficiency-optimal switching behavior-weak leakage-close to total failure___8', 'Predictive Maintenance Of Hydraulics System___reduced efficiency-optimal switching behavior-weak leakage-close to total failure___9', 'Predictive Maintenance Of Hydraulics System___reduced efficiency-optimal switching behavior-weak leakage-optimal pressure___0', 'Predictive Maintenance Of Hydraulics System___reduced efficiency-optimal switching behavior-weak leakage-optimal pressure___1', 'Predictive Maintenance Of Hydraulics System___reduced efficiency-optimal switching behavior-weak leakage-optimal pressure___2', 'Predictive Maintenance Of Hydraulics System___reduced efficiency-optimal switching behavior-weak leakage-optimal pressure___3', 'Predictive Maintenance Of Hydraulics System___reduced efficiency-optimal switching behavior-weak leakage-optimal pressure___4', 'Predictive Maintenance Of Hydraulics System___reduced efficiency-optimal switching behavior-weak leakage-optimal pressure___5', 'Predictive Maintenance Of Hydraulics System___reduced efficiency-optimal switching behavior-weak leakage-optimal pressure___6', 'Predictive Maintenance Of Hydraulics System___reduced efficiency-optimal switching behavior-weak leakage-optimal pressure___7', 'Predictive Maintenance Of Hydraulics System___reduced efficiency-optimal switching behavior-weak leakage-optimal pressure___8', 'Predictive Maintenance Of Hydraulics System___reduced efficiency-optimal switching behavior-weak leakage-optimal pressure___9', 'Predictive Maintenance Of Hydraulics System___reduced efficiency-optimal switching behavior-weak leakage-severely reduced pressure___0', 'Predictive Maintenance Of Hydraulics System___reduced efficiency-optimal switching behavior-weak leakage-severely reduced pressure___1', 'Predictive Maintenance Of Hydraulics System___reduced efficiency-optimal switching behavior-weak leakage-severely reduced pressure___2', 'Predictive Maintenance Of Hydraulics System___reduced efficiency-optimal switching behavior-weak leakage-severely reduced pressure___3', 'Predictive Maintenance Of Hydraulics System___reduced efficiency-optimal switching behavior-weak leakage-severely reduced pressure___4', 'Predictive Maintenance Of Hydraulics System___reduced efficiency-optimal switching behavior-weak leakage-severely reduced pressure___5', 'Predictive Maintenance Of Hydraulics System___reduced efficiency-optimal switching behavior-weak leakage-severely reduced pressure___6', 'Predictive Maintenance Of Hydraulics System___reduced efficiency-optimal switching behavior-weak leakage-severely reduced pressure___7', 'Predictive Maintenance Of Hydraulics System___reduced efficiency-optimal switching behavior-weak leakage-severely reduced pressure___8', 'Predictive Maintenance Of Hydraulics System___reduced efficiency-optimal switching behavior-weak leakage-severely reduced pressure___9', 'Predictive Maintenance Of Hydraulics System___reduced efficiency-optimal switching behavior-weak leakage-slightly reduced pressure___0', 'Predictive Maintenance Of Hydraulics System___reduced efficiency-optimal switching behavior-weak leakage-slightly reduced pressure___1', 'Predictive Maintenance Of Hydraulics System___reduced efficiency-optimal switching behavior-weak leakage-slightly reduced pressure___2', 'Predictive Maintenance Of Hydraulics System___reduced efficiency-optimal switching behavior-weak leakage-slightly reduced pressure___3', 'Predictive Maintenance Of Hydraulics System___reduced efficiency-optimal switching behavior-weak leakage-slightly reduced pressure___4', 'Predictive Maintenance Of Hydraulics System___reduced efficiency-optimal switching behavior-weak leakage-slightly reduced pressure___5', 'Predictive Maintenance Of Hydraulics System___reduced efficiency-optimal switching behavior-weak leakage-slightly reduced pressure___6', 'Predictive Maintenance Of Hydraulics System___reduced efficiency-optimal switching behavior-weak leakage-slightly reduced pressure___7', 'Predictive Maintenance Of Hydraulics System___reduced efficiency-optimal switching behavior-weak leakage-slightly reduced pressure___8', 'Predictive Maintenance Of Hydraulics System___reduced efficiency-optimal switching behavior-weak leakage-slightly reduced pressure___9', 'Predictive Maintenance Of Hydraulics System___reduced efficiency-severe lag-no leakage-close to total failure___0', 'Predictive Maintenance Of Hydraulics System___reduced efficiency-severe lag-no leakage-close to total failure___1', 'Predictive Maintenance Of Hydraulics System___reduced efficiency-severe lag-no leakage-close to total failure___2', 'Predictive Maintenance Of Hydraulics System___reduced efficiency-severe lag-no leakage-close to total failure___3', 'Predictive Maintenance Of Hydraulics System___reduced efficiency-severe lag-no leakage-close to total failure___4', 'Predictive Maintenance Of Hydraulics System___reduced efficiency-severe lag-no leakage-close to total failure___5', 'Predictive Maintenance Of Hydraulics System___reduced efficiency-severe lag-no leakage-close to total failure___6', 'Predictive Maintenance Of Hydraulics System___reduced efficiency-severe lag-no leakage-close to total failure___7', 'Predictive Maintenance Of Hydraulics System___reduced efficiency-severe lag-no leakage-close to total failure___8', 'Predictive Maintenance Of Hydraulics System___reduced efficiency-severe lag-no leakage-close to total failure___9', 'Predictive Maintenance Of Hydraulics System___reduced efficiency-severe lag-no leakage-optimal pressure___0', 'Predictive Maintenance Of Hydraulics System___reduced efficiency-severe lag-no leakage-optimal pressure___1', 'Predictive Maintenance Of Hydraulics System___reduced efficiency-severe lag-no leakage-optimal pressure___2', 'Predictive Maintenance Of Hydraulics System___reduced efficiency-severe lag-no leakage-optimal pressure___3', 'Predictive Maintenance Of Hydraulics System___reduced efficiency-severe lag-no leakage-optimal pressure___4', 'Predictive Maintenance Of Hydraulics System___reduced efficiency-severe lag-no leakage-optimal pressure___5', 'Predictive Maintenance Of Hydraulics System___reduced efficiency-severe lag-no leakage-optimal pressure___6', 'Predictive Maintenance Of Hydraulics System___reduced efficiency-severe lag-no leakage-optimal pressure___7', 'Predictive Maintenance Of Hydraulics System___reduced efficiency-severe lag-no leakage-optimal pressure___8', 'Predictive Maintenance Of Hydraulics System___reduced efficiency-severe lag-no leakage-optimal pressure___9', 'Predictive Maintenance Of Hydraulics System___reduced efficiency-severe lag-no leakage-severely reduced pressure___0', 'Predictive Maintenance Of Hydraulics System___reduced efficiency-severe lag-no leakage-severely reduced pressure___1', 'Predictive Maintenance Of Hydraulics System___reduced efficiency-severe lag-no leakage-severely reduced pressure___2', 'Predictive Maintenance Of Hydraulics System___reduced efficiency-severe lag-no leakage-severely reduced pressure___3', 'Predictive Maintenance Of Hydraulics System___reduced efficiency-severe lag-no leakage-severely reduced pressure___4', 'Predictive Maintenance Of Hydraulics System___reduced efficiency-severe lag-no leakage-severely reduced pressure___5', 'Predictive Maintenance Of Hydraulics System___reduced efficiency-severe lag-no leakage-severely reduced pressure___6', 'Predictive Maintenance Of Hydraulics System___reduced efficiency-severe lag-no leakage-severely reduced pressure___7', 'Predictive Maintenance Of Hydraulics System___reduced efficiency-severe lag-no leakage-severely reduced pressure___8', 'Predictive Maintenance Of Hydraulics System___reduced efficiency-severe lag-no leakage-severely reduced pressure___9', 'Predictive Maintenance Of Hydraulics System___reduced efficiency-severe lag-no leakage-slightly reduced pressure___0', 'Predictive Maintenance Of Hydraulics System___reduced efficiency-severe lag-no leakage-slightly reduced pressure___1', 'Predictive Maintenance Of Hydraulics System___reduced efficiency-severe lag-no leakage-slightly reduced pressure___2', 'Predictive Maintenance Of Hydraulics System___reduced efficiency-severe lag-no leakage-slightly reduced pressure___3', 'Predictive Maintenance Of Hydraulics System___reduced efficiency-severe lag-no leakage-slightly reduced pressure___4', 'Predictive Maintenance Of Hydraulics System___reduced efficiency-severe lag-no leakage-slightly reduced pressure___5', 'Predictive Maintenance Of Hydraulics System___reduced efficiency-severe lag-no leakage-slightly reduced pressure___6', 'Predictive Maintenance Of Hydraulics System___reduced efficiency-severe lag-no leakage-slightly reduced pressure___7', 'Predictive Maintenance Of Hydraulics System___reduced efficiency-severe lag-no leakage-slightly reduced pressure___8', 'Predictive Maintenance Of Hydraulics System___reduced efficiency-severe lag-no leakage-slightly reduced pressure___9', 'Predictive Maintenance Of Hydraulics System___reduced efficiency-severe lag-severe leakage-close to total failure___0', 'Predictive Maintenance Of Hydraulics System___reduced efficiency-severe lag-severe leakage-close to total failure___1', 'Predictive Maintenance Of Hydraulics System___reduced efficiency-severe lag-severe leakage-close to total failure___2', 'Predictive Maintenance Of Hydraulics System___reduced efficiency-severe lag-severe leakage-close to total failure___3', 'Predictive Maintenance Of Hydraulics System___reduced efficiency-severe lag-severe leakage-close to total failure___4', 'Predictive Maintenance Of Hydraulics System___reduced efficiency-severe lag-severe leakage-close to total failure___5', 'Predictive Maintenance Of Hydraulics System___reduced efficiency-severe lag-severe leakage-close to total failure___6', 'Predictive Maintenance Of Hydraulics System___reduced efficiency-severe lag-severe leakage-close to total failure___7', 'Predictive Maintenance Of Hydraulics System___reduced efficiency-severe lag-severe leakage-close to total failure___8', 'Predictive Maintenance Of Hydraulics System___reduced efficiency-severe lag-severe leakage-close to total failure___9', 'Predictive Maintenance Of Hydraulics System___reduced efficiency-severe lag-severe leakage-optimal pressure___0', 'Predictive Maintenance Of Hydraulics System___reduced efficiency-severe lag-severe leakage-optimal pressure___1', 'Predictive Maintenance Of Hydraulics System___reduced efficiency-severe lag-severe leakage-optimal pressure___2', 'Predictive Maintenance Of Hydraulics System___reduced efficiency-severe lag-severe leakage-optimal pressure___3', 'Predictive Maintenance Of Hydraulics System___reduced efficiency-severe lag-severe leakage-optimal pressure___4', 'Predictive Maintenance Of Hydraulics System___reduced efficiency-severe lag-severe leakage-optimal pressure___5', 'Predictive Maintenance Of Hydraulics System___reduced efficiency-severe lag-severe leakage-optimal pressure___6', 'Predictive Maintenance Of Hydraulics System___reduced efficiency-severe lag-severe leakage-optimal pressure___7', 'Predictive Maintenance Of Hydraulics System___reduced efficiency-severe lag-severe leakage-optimal pressure___8', 'Predictive Maintenance Of Hydraulics System___reduced efficiency-severe lag-severe leakage-optimal pressure___9', 'Predictive Maintenance Of Hydraulics System___reduced efficiency-severe lag-severe leakage-severely reduced pressure___0', 'Predictive Maintenance Of Hydraulics System___reduced efficiency-severe lag-severe leakage-severely reduced pressure___1', 'Predictive Maintenance Of Hydraulics System___reduced efficiency-severe lag-severe leakage-severely reduced pressure___2', 'Predictive Maintenance Of Hydraulics System___reduced efficiency-severe lag-severe leakage-severely reduced pressure___3', 'Predictive Maintenance Of Hydraulics System___reduced efficiency-severe lag-severe leakage-severely reduced pressure___4', 'Predictive Maintenance Of Hydraulics System___reduced efficiency-severe lag-severe leakage-severely reduced pressure___5', 'Predictive Maintenance Of Hydraulics System___reduced efficiency-severe lag-severe leakage-severely reduced pressure___6', 'Predictive Maintenance Of Hydraulics System___reduced efficiency-severe lag-severe leakage-severely reduced pressure___7', 'Predictive Maintenance Of Hydraulics System___reduced efficiency-severe lag-severe leakage-severely reduced pressure___8', 'Predictive Maintenance Of Hydraulics System___reduced efficiency-severe lag-severe leakage-severely reduced pressure___9', 'Predictive Maintenance Of Hydraulics System___reduced efficiency-severe lag-severe leakage-slightly reduced pressure___0', 'Predictive Maintenance Of Hydraulics System___reduced efficiency-severe lag-severe leakage-slightly reduced pressure___1', 'Predictive Maintenance Of Hydraulics System___reduced efficiency-severe lag-severe leakage-slightly reduced pressure___2', 'Predictive Maintenance Of Hydraulics System___reduced efficiency-severe lag-severe leakage-slightly reduced pressure___3', 'Predictive Maintenance Of Hydraulics System___reduced efficiency-severe lag-severe leakage-slightly reduced pressure___4', 'Predictive Maintenance Of Hydraulics System___reduced efficiency-severe lag-severe leakage-slightly reduced pressure___5', 'Predictive Maintenance Of Hydraulics System___reduced efficiency-severe lag-severe leakage-slightly reduced pressure___6', 'Predictive Maintenance Of Hydraulics System___reduced efficiency-severe lag-severe leakage-slightly reduced pressure___7', 'Predictive Maintenance Of Hydraulics System___reduced efficiency-severe lag-severe leakage-slightly reduced pressure___8', 'Predictive Maintenance Of Hydraulics System___reduced efficiency-severe lag-severe leakage-slightly reduced pressure___9', 'Predictive Maintenance Of Hydraulics System___reduced efficiency-severe lag-weak leakage-close to total failure___0', 'Predictive Maintenance Of Hydraulics System___reduced efficiency-severe lag-weak leakage-close to total failure___1', 'Predictive Maintenance Of Hydraulics System___reduced efficiency-severe lag-weak leakage-close to total failure___2', 'Predictive Maintenance Of Hydraulics System___reduced efficiency-severe lag-weak leakage-close to total failure___3', 'Predictive Maintenance Of Hydraulics System___reduced efficiency-severe lag-weak leakage-close to total failure___4', 'Predictive Maintenance Of Hydraulics System___reduced efficiency-severe lag-weak leakage-close to total failure___5', 'Predictive Maintenance Of Hydraulics System___reduced efficiency-severe lag-weak leakage-close to total failure___6', 'Predictive Maintenance Of Hydraulics System___reduced efficiency-severe lag-weak leakage-close to total failure___7', 'Predictive Maintenance Of Hydraulics System___reduced efficiency-severe lag-weak leakage-close to total failure___8', 'Predictive Maintenance Of Hydraulics System___reduced efficiency-severe lag-weak leakage-close to total failure___9', 'Predictive Maintenance Of Hydraulics System___reduced efficiency-severe lag-weak leakage-optimal pressure___0', 'Predictive Maintenance Of Hydraulics System___reduced efficiency-severe lag-weak leakage-optimal pressure___1', 'Predictive Maintenance Of Hydraulics System___reduced efficiency-severe lag-weak leakage-optimal pressure___2', 'Predictive Maintenance Of Hydraulics System___reduced efficiency-severe lag-weak leakage-optimal pressure___3', 'Predictive Maintenance Of Hydraulics System___reduced efficiency-severe lag-weak leakage-optimal pressure___4', 'Predictive Maintenance Of Hydraulics System___reduced efficiency-severe lag-weak leakage-optimal pressure___5', 'Predictive Maintenance Of Hydraulics System___reduced efficiency-severe lag-weak leakage-optimal pressure___6', 'Predictive Maintenance Of Hydraulics System___reduced efficiency-severe lag-weak leakage-optimal pressure___7', 'Predictive Maintenance Of Hydraulics System___reduced efficiency-severe lag-weak leakage-optimal pressure___8', 'Predictive Maintenance Of Hydraulics System___reduced efficiency-severe lag-weak leakage-optimal pressure___9', 'Predictive Maintenance Of Hydraulics System___reduced efficiency-severe lag-weak leakage-severely reduced pressure___0', 'Predictive Maintenance Of Hydraulics System___reduced efficiency-severe lag-weak leakage-severely reduced pressure___1', 'Predictive Maintenance Of Hydraulics System___reduced efficiency-severe lag-weak leakage-severely reduced pressure___2', 'Predictive Maintenance Of Hydraulics System___reduced efficiency-severe lag-weak leakage-severely reduced pressure___3', 'Predictive Maintenance Of Hydraulics System___reduced efficiency-severe lag-weak leakage-severely reduced pressure___4', 'Predictive Maintenance Of Hydraulics System___reduced efficiency-severe lag-weak leakage-severely reduced pressure___5', 'Predictive Maintenance Of Hydraulics System___reduced efficiency-severe lag-weak leakage-severely reduced pressure___6', 'Predictive Maintenance Of Hydraulics System___reduced efficiency-severe lag-weak leakage-severely reduced pressure___7', 'Predictive Maintenance Of Hydraulics System___reduced efficiency-severe lag-weak leakage-severely reduced pressure___8', 'Predictive Maintenance Of Hydraulics System___reduced efficiency-severe lag-weak leakage-severely reduced pressure___9', 'Predictive Maintenance Of Hydraulics System___reduced efficiency-severe lag-weak leakage-slightly reduced pressure___0', 'Predictive Maintenance Of Hydraulics System___reduced efficiency-severe lag-weak leakage-slightly reduced pressure___1', 'Predictive Maintenance Of Hydraulics System___reduced efficiency-severe lag-weak leakage-slightly reduced pressure___2', 'Predictive Maintenance Of Hydraulics System___reduced efficiency-severe lag-weak leakage-slightly reduced pressure___3', 'Predictive Maintenance Of Hydraulics System___reduced efficiency-severe lag-weak leakage-slightly reduced pressure___4', 'Predictive Maintenance Of Hydraulics System___reduced efficiency-severe lag-weak leakage-slightly reduced pressure___5', 'Predictive Maintenance Of Hydraulics System___reduced efficiency-severe lag-weak leakage-slightly reduced pressure___6', 'Predictive Maintenance Of Hydraulics System___reduced efficiency-severe lag-weak leakage-slightly reduced pressure___7', 'Predictive Maintenance Of Hydraulics System___reduced efficiency-severe lag-weak leakage-slightly reduced pressure___8', 'Predictive Maintenance Of Hydraulics System___reduced efficiency-severe lag-weak leakage-slightly reduced pressure___9', 'Predictive Maintenance Of Hydraulics System___reduced efficiency-small lag-no leakage-close to total failure___0', 'Predictive Maintenance Of Hydraulics System___reduced efficiency-small lag-no leakage-close to total failure___1', 'Predictive Maintenance Of Hydraulics System___reduced efficiency-small lag-no leakage-close to total failure___2', 'Predictive Maintenance Of Hydraulics System___reduced efficiency-small lag-no leakage-close to total failure___3', 'Predictive Maintenance Of Hydraulics System___reduced efficiency-small lag-no leakage-close to total failure___4', 'Predictive Maintenance Of Hydraulics System___reduced efficiency-small lag-no leakage-close to total failure___5', 'Predictive Maintenance Of Hydraulics System___reduced efficiency-small lag-no leakage-close to total failure___6', 'Predictive Maintenance Of Hydraulics System___reduced efficiency-small lag-no leakage-close to total failure___7', 'Predictive Maintenance Of Hydraulics System___reduced efficiency-small lag-no leakage-close to total failure___8', 'Predictive Maintenance Of Hydraulics System___reduced efficiency-small lag-no leakage-close to total failure___9', 'Predictive Maintenance Of Hydraulics System___reduced efficiency-small lag-no leakage-optimal pressure___0', 'Predictive Maintenance Of Hydraulics System___reduced efficiency-small lag-no leakage-optimal pressure___1', 'Predictive Maintenance Of Hydraulics System___reduced efficiency-small lag-no leakage-optimal pressure___2', 'Predictive Maintenance Of Hydraulics System___reduced efficiency-small lag-no leakage-optimal pressure___3', 'Predictive Maintenance Of Hydraulics System___reduced efficiency-small lag-no leakage-optimal pressure___4', 'Predictive Maintenance Of Hydraulics System___reduced efficiency-small lag-no leakage-optimal pressure___5', 'Predictive Maintenance Of Hydraulics System___reduced efficiency-small lag-no leakage-optimal pressure___6', 'Predictive Maintenance Of Hydraulics System___reduced efficiency-small lag-no leakage-optimal pressure___7', 'Predictive Maintenance Of Hydraulics System___reduced efficiency-small lag-no leakage-optimal pressure___8', 'Predictive Maintenance Of Hydraulics System___reduced efficiency-small lag-no leakage-optimal pressure___9', 'Predictive Maintenance Of Hydraulics System___reduced efficiency-small lag-no leakage-severely reduced pressure___0', 'Predictive Maintenance Of Hydraulics System___reduced efficiency-small lag-no leakage-severely reduced pressure___1', 'Predictive Maintenance Of Hydraulics System___reduced efficiency-small lag-no leakage-severely reduced pressure___2', 'Predictive Maintenance Of Hydraulics System___reduced efficiency-small lag-no leakage-severely reduced pressure___3', 'Predictive Maintenance Of Hydraulics System___reduced efficiency-small lag-no leakage-severely reduced pressure___4', 'Predictive Maintenance Of Hydraulics System___reduced efficiency-small lag-no leakage-severely reduced pressure___5', 'Predictive Maintenance Of Hydraulics System___reduced efficiency-small lag-no leakage-severely reduced pressure___6', 'Predictive Maintenance Of Hydraulics System___reduced efficiency-small lag-no leakage-severely reduced pressure___7', 'Predictive Maintenance Of Hydraulics System___reduced efficiency-small lag-no leakage-severely reduced pressure___8', 'Predictive Maintenance Of Hydraulics System___reduced efficiency-small lag-no leakage-severely reduced pressure___9', 'Predictive Maintenance Of Hydraulics System___reduced efficiency-small lag-no leakage-slightly reduced pressure___0', 'Predictive Maintenance Of Hydraulics System___reduced efficiency-small lag-no leakage-slightly reduced pressure___1', 'Predictive Maintenance Of Hydraulics System___reduced efficiency-small lag-no leakage-slightly reduced pressure___2', 'Predictive Maintenance Of Hydraulics System___reduced efficiency-small lag-no leakage-slightly reduced pressure___3', 'Predictive Maintenance Of Hydraulics System___reduced efficiency-small lag-no leakage-slightly reduced pressure___4', 'Predictive Maintenance Of Hydraulics System___reduced efficiency-small lag-no leakage-slightly reduced pressure___5', 'Predictive Maintenance Of Hydraulics System___reduced efficiency-small lag-no leakage-slightly reduced pressure___6', 'Predictive Maintenance Of Hydraulics System___reduced efficiency-small lag-no leakage-slightly reduced pressure___7', 'Predictive Maintenance Of Hydraulics System___reduced efficiency-small lag-no leakage-slightly reduced pressure___8', 'Predictive Maintenance Of Hydraulics System___reduced efficiency-small lag-no leakage-slightly reduced pressure___9', 'Predictive Maintenance Of Hydraulics System___reduced efficiency-small lag-severe leakage-close to total failure___0', 'Predictive Maintenance Of Hydraulics System___reduced efficiency-small lag-severe leakage-close to total failure___1', 'Predictive Maintenance Of Hydraulics System___reduced efficiency-small lag-severe leakage-close to total failure___2', 'Predictive Maintenance Of Hydraulics System___reduced efficiency-small lag-severe leakage-close to total failure___3', 'Predictive Maintenance Of Hydraulics System___reduced efficiency-small lag-severe leakage-close to total failure___4', 'Predictive Maintenance Of Hydraulics System___reduced efficiency-small lag-severe leakage-close to total failure___5', 'Predictive Maintenance Of Hydraulics System___reduced efficiency-small lag-severe leakage-close to total failure___6', 'Predictive Maintenance Of Hydraulics System___reduced efficiency-small lag-severe leakage-close to total failure___7', 'Predictive Maintenance Of Hydraulics System___reduced efficiency-small lag-severe leakage-close to total failure___8', 'Predictive Maintenance Of Hydraulics System___reduced efficiency-small lag-severe leakage-close to total failure___9', 'Predictive Maintenance Of Hydraulics System___reduced efficiency-small lag-severe leakage-optimal pressure___0', 'Predictive Maintenance Of Hydraulics System___reduced efficiency-small lag-severe leakage-optimal pressure___1', 'Predictive Maintenance Of Hydraulics System___reduced efficiency-small lag-severe leakage-optimal pressure___2', 'Predictive Maintenance Of Hydraulics System___reduced efficiency-small lag-severe leakage-optimal pressure___3', 'Predictive Maintenance Of Hydraulics System___reduced efficiency-small lag-severe leakage-optimal pressure___4', 'Predictive Maintenance Of Hydraulics System___reduced efficiency-small lag-severe leakage-optimal pressure___5', 'Predictive Maintenance Of Hydraulics System___reduced efficiency-small lag-severe leakage-optimal pressure___6', 'Predictive Maintenance Of Hydraulics System___reduced efficiency-small lag-severe leakage-optimal pressure___7', 'Predictive Maintenance Of Hydraulics System___reduced efficiency-small lag-severe leakage-optimal pressure___8', 'Predictive Maintenance Of Hydraulics System___reduced efficiency-small lag-severe leakage-optimal pressure___9', 'Predictive Maintenance Of Hydraulics System___reduced efficiency-small lag-severe leakage-severely reduced pressure___0', 'Predictive Maintenance Of Hydraulics System___reduced efficiency-small lag-severe leakage-severely reduced pressure___1', 'Predictive Maintenance Of Hydraulics System___reduced efficiency-small lag-severe leakage-severely reduced pressure___2', 'Predictive Maintenance Of Hydraulics System___reduced efficiency-small lag-severe leakage-severely reduced pressure___3', 'Predictive Maintenance Of Hydraulics System___reduced efficiency-small lag-severe leakage-severely reduced pressure___4', 'Predictive Maintenance Of Hydraulics System___reduced efficiency-small lag-severe leakage-severely reduced pressure___5', 'Predictive Maintenance Of Hydraulics System___reduced efficiency-small lag-severe leakage-severely reduced pressure___6', 'Predictive Maintenance Of Hydraulics System___reduced efficiency-small lag-severe leakage-severely reduced pressure___7', 'Predictive Maintenance Of Hydraulics System___reduced efficiency-small lag-severe leakage-severely reduced pressure___8', 'Predictive Maintenance Of Hydraulics System___reduced efficiency-small lag-severe leakage-severely reduced pressure___9', 'Predictive Maintenance Of Hydraulics System___reduced efficiency-small lag-severe leakage-slightly reduced pressure___0', 'Predictive Maintenance Of Hydraulics System___reduced efficiency-small lag-severe leakage-slightly reduced pressure___1', 'Predictive Maintenance Of Hydraulics System___reduced efficiency-small lag-severe leakage-slightly reduced pressure___2', 'Predictive Maintenance Of Hydraulics System___reduced efficiency-small lag-severe leakage-slightly reduced pressure___3', 'Predictive Maintenance Of Hydraulics System___reduced efficiency-small lag-severe leakage-slightly reduced pressure___4', 'Predictive Maintenance Of Hydraulics System___reduced efficiency-small lag-severe leakage-slightly reduced pressure___5', 'Predictive Maintenance Of Hydraulics System___reduced efficiency-small lag-severe leakage-slightly reduced pressure___6', 'Predictive Maintenance Of Hydraulics System___reduced efficiency-small lag-severe leakage-slightly reduced pressure___7', 'Predictive Maintenance Of Hydraulics System___reduced efficiency-small lag-severe leakage-slightly reduced pressure___8', 'Predictive Maintenance Of Hydraulics System___reduced efficiency-small lag-severe leakage-slightly reduced pressure___9', 'Predictive Maintenance Of Hydraulics System___reduced efficiency-small lag-weak leakage-close to total failure___0', 'Predictive Maintenance Of Hydraulics System___reduced efficiency-small lag-weak leakage-close to total failure___1', 'Predictive Maintenance Of Hydraulics System___reduced efficiency-small lag-weak leakage-close to total failure___2', 'Predictive Maintenance Of Hydraulics System___reduced efficiency-small lag-weak leakage-close to total failure___3', 'Predictive Maintenance Of Hydraulics System___reduced efficiency-small lag-weak leakage-close to total failure___4', 'Predictive Maintenance Of Hydraulics System___reduced efficiency-small lag-weak leakage-close to total failure___5', 'Predictive Maintenance Of Hydraulics System___reduced efficiency-small lag-weak leakage-close to total failure___6', 'Predictive Maintenance Of Hydraulics System___reduced efficiency-small lag-weak leakage-close to total failure___7', 'Predictive Maintenance Of Hydraulics System___reduced efficiency-small lag-weak leakage-close to total failure___8', 'Predictive Maintenance Of Hydraulics System___reduced efficiency-small lag-weak leakage-close to total failure___9', 'Predictive Maintenance Of Hydraulics System___reduced efficiency-small lag-weak leakage-optimal pressure___0', 'Predictive Maintenance Of Hydraulics System___reduced efficiency-small lag-weak leakage-optimal pressure___1', 'Predictive Maintenance Of Hydraulics System___reduced efficiency-small lag-weak leakage-optimal pressure___2', 'Predictive Maintenance Of Hydraulics System___reduced efficiency-small lag-weak leakage-optimal pressure___3', 'Predictive Maintenance Of Hydraulics System___reduced efficiency-small lag-weak leakage-optimal pressure___4', 'Predictive Maintenance Of Hydraulics System___reduced efficiency-small lag-weak leakage-optimal pressure___5', 'Predictive Maintenance Of Hydraulics System___reduced efficiency-small lag-weak leakage-optimal pressure___6', 'Predictive Maintenance Of Hydraulics System___reduced efficiency-small lag-weak leakage-optimal pressure___7', 'Predictive Maintenance Of Hydraulics System___reduced efficiency-small lag-weak leakage-optimal pressure___8', 'Predictive Maintenance Of Hydraulics System___reduced efficiency-small lag-weak leakage-optimal pressure___9', 'Predictive Maintenance Of Hydraulics System___reduced efficiency-small lag-weak leakage-severely reduced pressure___0', 'Predictive Maintenance Of Hydraulics System___reduced efficiency-small lag-weak leakage-severely reduced pressure___1', 'Predictive Maintenance Of Hydraulics System___reduced efficiency-small lag-weak leakage-severely reduced pressure___2', 'Predictive Maintenance Of Hydraulics System___reduced efficiency-small lag-weak leakage-severely reduced pressure___3', 'Predictive Maintenance Of Hydraulics System___reduced efficiency-small lag-weak leakage-severely reduced pressure___4', 'Predictive Maintenance Of Hydraulics System___reduced efficiency-small lag-weak leakage-severely reduced pressure___5', 'Predictive Maintenance Of Hydraulics System___reduced efficiency-small lag-weak leakage-severely reduced pressure___6', 'Predictive Maintenance Of Hydraulics System___reduced efficiency-small lag-weak leakage-severely reduced pressure___7', 'Predictive Maintenance Of Hydraulics System___reduced efficiency-small lag-weak leakage-severely reduced pressure___8', 'Predictive Maintenance Of Hydraulics System___reduced efficiency-small lag-weak leakage-severely reduced pressure___9', 'Predictive Maintenance Of Hydraulics System___reduced efficiency-small lag-weak leakage-slightly reduced pressure___0', 'Predictive Maintenance Of Hydraulics System___reduced efficiency-small lag-weak leakage-slightly reduced pressure___1', 'Predictive Maintenance Of Hydraulics System___reduced efficiency-small lag-weak leakage-slightly reduced pressure___2', 'Predictive Maintenance Of Hydraulics System___reduced efficiency-small lag-weak leakage-slightly reduced pressure___3', 'Predictive Maintenance Of Hydraulics System___reduced efficiency-small lag-weak leakage-slightly reduced pressure___4', 'Predictive Maintenance Of Hydraulics System___reduced efficiency-small lag-weak leakage-slightly reduced pressure___5', 'Predictive Maintenance Of Hydraulics System___reduced efficiency-small lag-weak leakage-slightly reduced pressure___6', 'Predictive Maintenance Of Hydraulics System___reduced efficiency-small lag-weak leakage-slightly reduced pressure___7', 'Predictive Maintenance Of Hydraulics System___reduced efficiency-small lag-weak leakage-slightly reduced pressure___8', 'Predictive Maintenance Of Hydraulics System___reduced efficiency-small lag-weak leakage-slightly reduced pressure___9', 'Predictive Maintenance Of Hydraulics System___static conditions might not have been reached yet___0', 'Predictive Maintenance Of Hydraulics System___static conditions might not have been reached yet___1', 'Predictive Maintenance Of Hydraulics System___static conditions might not have been reached yet___10', 'Predictive Maintenance Of Hydraulics System___static conditions might not have been reached yet___100', 'Predictive Maintenance Of Hydraulics System___static conditions might not have been reached yet___101', 'Predictive Maintenance Of Hydraulics System___static conditions might not have been reached yet___102', 'Predictive Maintenance Of Hydraulics System___static conditions might not have been reached yet___103', 'Predictive Maintenance Of Hydraulics System___static conditions might not have been reached yet___104', 'Predictive Maintenance Of Hydraulics System___static conditions might not have been reached yet___105', 'Predictive Maintenance Of Hydraulics System___static conditions might not have been reached yet___106', 'Predictive Maintenance Of Hydraulics System___static conditions might not have been reached yet___107', 'Predictive Maintenance Of Hydraulics System___static conditions might not have been reached yet___108', 'Predictive Maintenance Of Hydraulics System___static conditions might not have been reached yet___109', 'Predictive Maintenance Of Hydraulics System___static conditions might not have been reached yet___11', 'Predictive Maintenance Of Hydraulics System___static conditions might not have been reached yet___110', 'Predictive Maintenance Of Hydraulics System___static conditions might not have been reached yet___111', 'Predictive Maintenance Of Hydraulics System___static conditions might not have been reached yet___112', 'Predictive Maintenance Of Hydraulics System___static conditions might not have been reached yet___113', 'Predictive Maintenance Of Hydraulics System___static conditions might not have been reached yet___114', 'Predictive Maintenance Of Hydraulics System___static conditions might not have been reached yet___115', 'Predictive Maintenance Of Hydraulics System___static conditions might not have been reached yet___116', 'Predictive Maintenance Of Hydraulics System___static conditions might not have been reached yet___117', 'Predictive Maintenance Of Hydraulics System___static conditions might not have been reached yet___118', 'Predictive Maintenance Of Hydraulics System___static conditions might not have been reached yet___119', 'Predictive Maintenance Of Hydraulics System___static conditions might not have been reached yet___12', 'Predictive Maintenance Of Hydraulics System___static conditions might not have been reached yet___120', 'Predictive Maintenance Of Hydraulics System___static conditions might not have been reached yet___121', 'Predictive Maintenance Of Hydraulics System___static conditions might not have been reached yet___122', 'Predictive Maintenance Of Hydraulics System___static conditions might not have been reached yet___123', 'Predictive Maintenance Of Hydraulics System___static conditions might not have been reached yet___124', 'Predictive Maintenance Of Hydraulics System___static conditions might not have been reached yet___125', 'Predictive Maintenance Of Hydraulics System___static conditions might not have been reached yet___126', 'Predictive Maintenance Of Hydraulics System___static conditions might not have been reached yet___127', 'Predictive Maintenance Of Hydraulics System___static conditions might not have been reached yet___128', 'Predictive Maintenance Of Hydraulics System___static conditions might not have been reached yet___129', 'Predictive Maintenance Of Hydraulics System___static conditions might not have been reached yet___13', 'Predictive Maintenance Of Hydraulics System___static conditions might not have been reached yet___130', 'Predictive Maintenance Of Hydraulics System___static conditions might not have been reached yet___131', 'Predictive Maintenance Of Hydraulics System___static conditions might not have been reached yet___132', 'Predictive Maintenance Of Hydraulics System___static conditions might not have been reached yet___133', 'Predictive Maintenance Of Hydraulics System___static conditions might not have been reached yet___134', 'Predictive Maintenance Of Hydraulics System___static conditions might not have been reached yet___135', 'Predictive Maintenance Of Hydraulics System___static conditions might not have been reached yet___136', 'Predictive Maintenance Of Hydraulics System___static conditions might not have been reached yet___137', 'Predictive Maintenance Of Hydraulics System___static conditions might not have been reached yet___138', 'Predictive Maintenance Of Hydraulics System___static conditions might not have been reached yet___139', 'Predictive Maintenance Of Hydraulics System___static conditions might not have been reached yet___14', 'Predictive Maintenance Of Hydraulics System___static conditions might not have been reached yet___140', 'Predictive Maintenance Of Hydraulics System___static conditions might not have been reached yet___141', 'Predictive Maintenance Of Hydraulics System___static conditions might not have been reached yet___142', 'Predictive Maintenance Of Hydraulics System___static conditions might not have been reached yet___143', 'Predictive Maintenance Of Hydraulics System___static conditions might not have been reached yet___144', 'Predictive Maintenance Of Hydraulics System___static conditions might not have been reached yet___145', 'Predictive Maintenance Of Hydraulics System___static conditions might not have been reached yet___146', 'Predictive Maintenance Of Hydraulics System___static conditions might not have been reached yet___147', 'Predictive Maintenance Of Hydraulics System___static conditions might not have been reached yet___148', 'Predictive Maintenance Of Hydraulics System___static conditions might not have been reached yet___149', 'Predictive Maintenance Of Hydraulics System___static conditions might not have been reached yet___15', 'Predictive Maintenance Of Hydraulics System___static conditions might not have been reached yet___150', 'Predictive Maintenance Of Hydraulics System___static conditions might not have been reached yet___151', 'Predictive Maintenance Of Hydraulics System___static conditions might not have been reached yet___152', 'Predictive Maintenance Of Hydraulics System___static conditions might not have been reached yet___153', 'Predictive Maintenance Of Hydraulics System___static conditions might not have been reached yet___154', 'Predictive Maintenance Of Hydraulics System___static conditions might not have been reached yet___155', 'Predictive Maintenance Of Hydraulics System___static conditions might not have been reached yet___156', 'Predictive Maintenance Of Hydraulics System___static conditions might not have been reached yet___157', 'Predictive Maintenance Of Hydraulics System___static conditions might not have been reached yet___158', 'Predictive Maintenance Of Hydraulics System___static conditions might not have been reached yet___159', 'Predictive Maintenance Of Hydraulics System___static conditions might not have been reached yet___16', 'Predictive Maintenance Of Hydraulics System___static conditions might not have been reached yet___160', 'Predictive Maintenance Of Hydraulics System___static conditions might not have been reached yet___161', 'Predictive Maintenance Of Hydraulics System___static conditions might not have been reached yet___162', 'Predictive Maintenance Of Hydraulics System___static conditions might not have been reached yet___163', 'Predictive Maintenance Of Hydraulics System___static conditions might not have been reached yet___164', 'Predictive Maintenance Of Hydraulics System___static conditions might not have been reached yet___165', 'Predictive Maintenance Of Hydraulics System___static conditions might not have been reached yet___166', 'Predictive Maintenance Of Hydraulics System___static conditions might not have been reached yet___167', 'Predictive Maintenance Of Hydraulics System___static conditions might not have been reached yet___168', 'Predictive Maintenance Of Hydraulics System___static conditions might not have been reached yet___169', 'Predictive Maintenance Of Hydraulics System___static conditions might not have been reached yet___17', 'Predictive Maintenance Of Hydraulics System___static conditions might not have been reached yet___170', 'Predictive Maintenance Of Hydraulics System___static conditions might not have been reached yet___171', 'Predictive Maintenance Of Hydraulics System___static conditions might not have been reached yet___172', 'Predictive Maintenance Of Hydraulics System___static conditions might not have been reached yet___173', 'Predictive Maintenance Of Hydraulics System___static conditions might not have been reached yet___174', 'Predictive Maintenance Of Hydraulics System___static conditions might not have been reached yet___175', 'Predictive Maintenance Of Hydraulics System___static conditions might not have been reached yet___176', 'Predictive Maintenance Of Hydraulics System___static conditions might not have been reached yet___177', 'Predictive Maintenance Of Hydraulics System___static conditions might not have been reached yet___178', 'Predictive Maintenance Of Hydraulics System___static conditions might not have been reached yet___179', 'Predictive Maintenance Of Hydraulics System___static conditions might not have been reached yet___18', 'Predictive Maintenance Of Hydraulics System___static conditions might not have been reached yet___180', 'Predictive Maintenance Of Hydraulics System___static conditions might not have been reached yet___181', 'Predictive Maintenance Of Hydraulics System___static conditions might not have been reached yet___182', 'Predictive Maintenance Of Hydraulics System___static conditions might not have been reached yet___183', 'Predictive Maintenance Of Hydraulics System___static conditions might not have been reached yet___184', 'Predictive Maintenance Of Hydraulics System___static conditions might not have been reached yet___185', 'Predictive Maintenance Of Hydraulics System___static conditions might not have been reached yet___186', 'Predictive Maintenance Of Hydraulics System___static conditions might not have been reached yet___187', 'Predictive Maintenance Of Hydraulics System___static conditions might not have been reached yet___188', 'Predictive Maintenance Of Hydraulics System___static conditions might not have been reached yet___189', 'Predictive Maintenance Of Hydraulics System___static conditions might not have been reached yet___19', 'Predictive Maintenance Of Hydraulics System___static conditions might not have been reached yet___190', 'Predictive Maintenance Of Hydraulics System___static conditions might not have been reached yet___191', 'Predictive Maintenance Of Hydraulics System___static conditions might not have been reached yet___192', 'Predictive Maintenance Of Hydraulics System___static conditions might not have been reached yet___193', 'Predictive Maintenance Of Hydraulics System___static conditions might not have been reached yet___194', 'Predictive Maintenance Of Hydraulics System___static conditions might not have been reached yet___195', 'Predictive Maintenance Of Hydraulics System___static conditions might not have been reached yet___196', 'Predictive Maintenance Of Hydraulics System___static conditions might not have been reached yet___197', 'Predictive Maintenance Of Hydraulics System___static conditions might not have been reached yet___198', 'Predictive Maintenance Of Hydraulics System___static conditions might not have been reached yet___199', 'Predictive Maintenance Of Hydraulics System___static conditions might not have been reached yet___2', 'Predictive Maintenance Of Hydraulics System___static conditions might not have been reached yet___20', 'Predictive Maintenance Of Hydraulics System___static conditions might not have been reached yet___200', 'Predictive Maintenance Of Hydraulics System___static conditions might not have been reached yet___201', 'Predictive Maintenance Of Hydraulics System___static conditions might not have been reached yet___202', 'Predictive Maintenance Of Hydraulics System___static conditions might not have been reached yet___203', 'Predictive Maintenance Of Hydraulics System___static conditions might not have been reached yet___204', 'Predictive Maintenance Of Hydraulics System___static conditions might not have been reached yet___205', 'Predictive Maintenance Of Hydraulics System___static conditions might not have been reached yet___206', 'Predictive Maintenance Of Hydraulics System___static conditions might not have been reached yet___207', 'Predictive Maintenance Of Hydraulics System___static conditions might not have been reached yet___208', 'Predictive Maintenance Of Hydraulics System___static conditions might not have been reached yet___209', 'Predictive Maintenance Of Hydraulics System___static conditions might not have been reached yet___21', 'Predictive Maintenance Of Hydraulics System___static conditions might not have been reached yet___210', 'Predictive Maintenance Of Hydraulics System___static conditions might not have been reached yet___211', 'Predictive Maintenance Of Hydraulics System___static conditions might not have been reached yet___212', 'Predictive Maintenance Of Hydraulics System___static conditions might not have been reached yet___213', 'Predictive Maintenance Of Hydraulics System___static conditions might not have been reached yet___214', 'Predictive Maintenance Of Hydraulics System___static conditions might not have been reached yet___215', 'Predictive Maintenance Of Hydraulics System___static conditions might not have been reached yet___216', 'Predictive Maintenance Of Hydraulics System___static conditions might not have been reached yet___217', 'Predictive Maintenance Of Hydraulics System___static conditions might not have been reached yet___218', 'Predictive Maintenance Of Hydraulics System___static conditions might not have been reached yet___219', 'Predictive Maintenance Of Hydraulics System___static conditions might not have been reached yet___22', 'Predictive Maintenance Of Hydraulics System___static conditions might not have been reached yet___220', 'Predictive Maintenance Of Hydraulics System___static conditions might not have been reached yet___221', 'Predictive Maintenance Of Hydraulics System___static conditions might not have been reached yet___222', 'Predictive Maintenance Of Hydraulics System___static conditions might not have been reached yet___223', 'Predictive Maintenance Of Hydraulics System___static conditions might not have been reached yet___224', 'Predictive Maintenance Of Hydraulics System___static conditions might not have been reached yet___225', 'Predictive Maintenance Of Hydraulics System___static conditions might not have been reached yet___226', 'Predictive Maintenance Of Hydraulics System___static conditions might not have been reached yet___227', 'Predictive Maintenance Of Hydraulics System___static conditions might not have been reached yet___228', 'Predictive Maintenance Of Hydraulics System___static conditions might not have been reached yet___229', 'Predictive Maintenance Of Hydraulics System___static conditions might not have been reached yet___23', 'Predictive Maintenance Of Hydraulics System___static conditions might not have been reached yet___230', 'Predictive Maintenance Of Hydraulics System___static conditions might not have been reached yet___231', 'Predictive Maintenance Of Hydraulics System___static conditions might not have been reached yet___232', 'Predictive Maintenance Of Hydraulics System___static conditions might not have been reached yet___233', 'Predictive Maintenance Of Hydraulics System___static conditions might not have been reached yet___234', 'Predictive Maintenance Of Hydraulics System___static conditions might not have been reached yet___235', 'Predictive Maintenance Of Hydraulics System___static conditions might not have been reached yet___236', 'Predictive Maintenance Of Hydraulics System___static conditions might not have been reached yet___237', 'Predictive Maintenance Of Hydraulics System___static conditions might not have been reached yet___238', 'Predictive Maintenance Of Hydraulics System___static conditions might not have been reached yet___239', 'Predictive Maintenance Of Hydraulics System___static conditions might not have been reached yet___24', 'Predictive Maintenance Of Hydraulics System___static conditions might not have been reached yet___240', 'Predictive Maintenance Of Hydraulics System___static conditions might not have been reached yet___241', 'Predictive Maintenance Of Hydraulics System___static conditions might not have been reached yet___242', 'Predictive Maintenance Of Hydraulics System___static conditions might not have been reached yet___243', 'Predictive Maintenance Of Hydraulics System___static conditions might not have been reached yet___244', 'Predictive Maintenance Of Hydraulics System___static conditions might not have been reached yet___245', 'Predictive Maintenance Of Hydraulics System___static conditions might not have been reached yet___246', 'Predictive Maintenance Of Hydraulics System___static conditions might not have been reached yet___247', 'Predictive Maintenance Of Hydraulics System___static conditions might not have been reached yet___248', 'Predictive Maintenance Of Hydraulics System___static conditions might not have been reached yet___249', 'Predictive Maintenance Of Hydraulics System___static conditions might not have been reached yet___25', 'Predictive Maintenance Of Hydraulics System___static conditions might not have been reached yet___250', 'Predictive Maintenance Of Hydraulics System___static conditions might not have been reached yet___251', 'Predictive Maintenance Of Hydraulics System___static conditions might not have been reached yet___252', 'Predictive Maintenance Of Hydraulics System___static conditions might not have been reached yet___253', 'Predictive Maintenance Of Hydraulics System___static conditions might not have been reached yet___254', 'Predictive Maintenance Of Hydraulics System___static conditions might not have been reached yet___255', 'Predictive Maintenance Of Hydraulics System___static conditions might not have been reached yet___256', 'Predictive Maintenance Of Hydraulics System___static conditions might not have been reached yet___257', 'Predictive Maintenance Of Hydraulics System___static conditions might not have been reached yet___258', 'Predictive Maintenance Of Hydraulics System___static conditions might not have been reached yet___259', 'Predictive Maintenance Of Hydraulics System___static conditions might not have been reached yet___26', 'Predictive Maintenance Of Hydraulics System___static conditions might not have been reached yet___260', 'Predictive Maintenance Of Hydraulics System___static conditions might not have been reached yet___261', 'Predictive Maintenance Of Hydraulics System___static conditions might not have been reached yet___262', 'Predictive Maintenance Of Hydraulics System___static conditions might not have been reached yet___263', 'Predictive Maintenance Of Hydraulics System___static conditions might not have been reached yet___264', 'Predictive Maintenance Of Hydraulics System___static conditions might not have been reached yet___265', 'Predictive Maintenance Of Hydraulics System___static conditions might not have been reached yet___266', 'Predictive Maintenance Of Hydraulics System___static conditions might not have been reached yet___267', 'Predictive Maintenance Of Hydraulics System___static conditions might not have been reached yet___268', 'Predictive Maintenance Of Hydraulics System___static conditions might not have been reached yet___269', 'Predictive Maintenance Of Hydraulics System___static conditions might not have been reached yet___27', 'Predictive Maintenance Of Hydraulics System___static conditions might not have been reached yet___270', 'Predictive Maintenance Of Hydraulics System___static conditions might not have been reached yet___271', 'Predictive Maintenance Of Hydraulics System___static conditions might not have been reached yet___272', 'Predictive Maintenance Of Hydraulics System___static conditions might not have been reached yet___273', 'Predictive Maintenance Of Hydraulics System___static conditions might not have been reached yet___274', 'Predictive Maintenance Of Hydraulics System___static conditions might not have been reached yet___275', 'Predictive Maintenance Of Hydraulics System___static conditions might not have been reached yet___276', 'Predictive Maintenance Of Hydraulics System___static conditions might not have been reached yet___277', 'Predictive Maintenance Of Hydraulics System___static conditions might not have been reached yet___278', 'Predictive Maintenance Of Hydraulics System___static conditions might not have been reached yet___279', 'Predictive Maintenance Of Hydraulics System___static conditions might not have been reached yet___28', 'Predictive Maintenance Of Hydraulics System___static conditions might not have been reached yet___280', 'Predictive Maintenance Of Hydraulics System___static conditions might not have been reached yet___281', 'Predictive Maintenance Of Hydraulics System___static conditions might not have been reached yet___282', 'Predictive Maintenance Of Hydraulics System___static conditions might not have been reached yet___283', 'Predictive Maintenance Of Hydraulics System___static conditions might not have been reached yet___284', 'Predictive Maintenance Of Hydraulics System___static conditions might not have been reached yet___285', 'Predictive Maintenance Of Hydraulics System___static conditions might not have been reached yet___286', 'Predictive Maintenance Of Hydraulics System___static conditions might not have been reached yet___287', 'Predictive Maintenance Of Hydraulics System___static conditions might not have been reached yet___288', 'Predictive Maintenance Of Hydraulics System___static conditions might not have been reached yet___289', 'Predictive Maintenance Of Hydraulics System___static conditions might not have been reached yet___29', 'Predictive Maintenance Of Hydraulics System___static conditions might not have been reached yet___290', 'Predictive Maintenance Of Hydraulics System___static conditions might not have been reached yet___291', 'Predictive Maintenance Of Hydraulics System___static conditions might not have been reached yet___292', 'Predictive Maintenance Of Hydraulics System___static conditions might not have been reached yet___293', 'Predictive Maintenance Of Hydraulics System___static conditions might not have been reached yet___294', 'Predictive Maintenance Of Hydraulics System___static conditions might not have been reached yet___295', 'Predictive Maintenance Of Hydraulics System___static conditions might not have been reached yet___296', 'Predictive Maintenance Of Hydraulics System___static conditions might not have been reached yet___297', 'Predictive Maintenance Of Hydraulics System___static conditions might not have been reached yet___298', 'Predictive Maintenance Of Hydraulics System___static conditions might not have been reached yet___299', 'Predictive Maintenance Of Hydraulics System___static conditions might not have been reached yet___3', 'Predictive Maintenance Of Hydraulics System___static conditions might not have been reached yet___30', 'Predictive Maintenance Of Hydraulics System___static conditions might not have been reached yet___300', 'Predictive Maintenance Of Hydraulics System___static conditions might not have been reached yet___301', 'Predictive Maintenance Of Hydraulics System___static conditions might not have been reached yet___302', 'Predictive Maintenance Of Hydraulics System___static conditions might not have been reached yet___303', 'Predictive Maintenance Of Hydraulics System___static conditions might not have been reached yet___304', 'Predictive Maintenance Of Hydraulics System___static conditions might not have been reached yet___305', 'Predictive Maintenance Of Hydraulics System___static conditions might not have been reached yet___306', 'Predictive Maintenance Of Hydraulics System___static conditions might not have been reached yet___307', 'Predictive Maintenance Of Hydraulics System___static conditions might not have been reached yet___308', 'Predictive Maintenance Of Hydraulics System___static conditions might not have been reached yet___309', 'Predictive Maintenance Of Hydraulics System___static conditions might not have been reached yet___31', 'Predictive Maintenance Of Hydraulics System___static conditions might not have been reached yet___310', 'Predictive Maintenance Of Hydraulics System___static conditions might not have been reached yet___311', 'Predictive Maintenance Of Hydraulics System___static conditions might not have been reached yet___312', 'Predictive Maintenance Of Hydraulics System___static conditions might not have been reached yet___313', 'Predictive Maintenance Of Hydraulics System___static conditions might not have been reached yet___314', 'Predictive Maintenance Of Hydraulics System___static conditions might not have been reached yet___315', 'Predictive Maintenance Of Hydraulics System___static conditions might not have been reached yet___316', 'Predictive Maintenance Of Hydraulics System___static conditions might not have been reached yet___317', 'Predictive Maintenance Of Hydraulics System___static conditions might not have been reached yet___318', 'Predictive Maintenance Of Hydraulics System___static conditions might not have been reached yet___319', 'Predictive Maintenance Of Hydraulics System___static conditions might not have been reached yet___32', 'Predictive Maintenance Of Hydraulics System___static conditions might not have been reached yet___320', 'Predictive Maintenance Of Hydraulics System___static conditions might not have been reached yet___321', 'Predictive Maintenance Of Hydraulics System___static conditions might not have been reached yet___322', 'Predictive Maintenance Of Hydraulics System___static conditions might not have been reached yet___323', 'Predictive Maintenance Of Hydraulics System___static conditions might not have been reached yet___324', 'Predictive Maintenance Of Hydraulics System___static conditions might not have been reached yet___325', 'Predictive Maintenance Of Hydraulics System___static conditions might not have been reached yet___326', 'Predictive Maintenance Of Hydraulics System___static conditions might not have been reached yet___327', 'Predictive Maintenance Of Hydraulics System___static conditions might not have been reached yet___328', 'Predictive Maintenance Of Hydraulics System___static conditions might not have been reached yet___329', 'Predictive Maintenance Of Hydraulics System___static conditions might not have been reached yet___33', 'Predictive Maintenance Of Hydraulics System___static conditions might not have been reached yet___330', 'Predictive Maintenance Of Hydraulics System___static conditions might not have been reached yet___331', 'Predictive Maintenance Of Hydraulics System___static conditions might not have been reached yet___332', 'Predictive Maintenance Of Hydraulics System___static conditions might not have been reached yet___333', 'Predictive Maintenance Of Hydraulics System___static conditions might not have been reached yet___334', 'Predictive Maintenance Of Hydraulics System___static conditions might not have been reached yet___335', 'Predictive Maintenance Of Hydraulics System___static conditions might not have been reached yet___336', 'Predictive Maintenance Of Hydraulics System___static conditions might not have been reached yet___337', 'Predictive Maintenance Of Hydraulics System___static conditions might not have been reached yet___338', 'Predictive Maintenance Of Hydraulics System___static conditions might not have been reached yet___339', 'Predictive Maintenance Of Hydraulics System___static conditions might not have been reached yet___34', 'Predictive Maintenance Of Hydraulics System___static conditions might not have been reached yet___340', 'Predictive Maintenance Of Hydraulics System___static conditions might not have been reached yet___341', 'Predictive Maintenance Of Hydraulics System___static conditions might not have been reached yet___342', 'Predictive Maintenance Of Hydraulics System___static conditions might not have been reached yet___343', 'Predictive Maintenance Of Hydraulics System___static conditions might not have been reached yet___344', 'Predictive Maintenance Of Hydraulics System___static conditions might not have been reached yet___345', 'Predictive Maintenance Of Hydraulics System___static conditions might not have been reached yet___346', 'Predictive Maintenance Of Hydraulics System___static conditions might not have been reached yet___347', 'Predictive Maintenance Of Hydraulics System___static conditions might not have been reached yet___348', 'Predictive Maintenance Of Hydraulics System___static conditions might not have been reached yet___349', 'Predictive Maintenance Of Hydraulics System___static conditions might not have been reached yet___35', 'Predictive Maintenance Of Hydraulics System___static conditions might not have been reached yet___350', 'Predictive Maintenance Of Hydraulics System___static conditions might not have been reached yet___351', 'Predictive Maintenance Of Hydraulics System___static conditions might not have been reached yet___352', 'Predictive Maintenance Of Hydraulics System___static conditions might not have been reached yet___353', 'Predictive Maintenance Of Hydraulics System___static conditions might not have been reached yet___354', 'Predictive Maintenance Of Hydraulics System___static conditions might not have been reached yet___355', 'Predictive Maintenance Of Hydraulics System___static conditions might not have been reached yet___356', 'Predictive Maintenance Of Hydraulics System___static conditions might not have been reached yet___357', 'Predictive Maintenance Of Hydraulics System___static conditions might not have been reached yet___358', 'Predictive Maintenance Of Hydraulics System___static conditions might not have been reached yet___359', 'Predictive Maintenance Of Hydraulics System___static conditions might not have been reached yet___36', 'Predictive Maintenance Of Hydraulics System___static conditions might not have been reached yet___360', 'Predictive Maintenance Of Hydraulics System___static conditions might not have been reached yet___361', 'Predictive Maintenance Of Hydraulics System___static conditions might not have been reached yet___362', 'Predictive Maintenance Of Hydraulics System___static conditions might not have been reached yet___363', 'Predictive Maintenance Of Hydraulics System___static conditions might not have been reached yet___364', 'Predictive Maintenance Of Hydraulics System___static conditions might not have been reached yet___365', 'Predictive Maintenance Of Hydraulics System___static conditions might not have been reached yet___366', 'Predictive Maintenance Of Hydraulics System___static conditions might not have been reached yet___367', 'Predictive Maintenance Of Hydraulics System___static conditions might not have been reached yet___368', 'Predictive Maintenance Of Hydraulics System___static conditions might not have been reached yet___369', 'Predictive Maintenance Of Hydraulics System___static conditions might not have been reached yet___37', 'Predictive Maintenance Of Hydraulics System___static conditions might not have been reached yet___370', 'Predictive Maintenance Of Hydraulics System___static conditions might not have been reached yet___371', 'Predictive Maintenance Of Hydraulics System___static conditions might not have been reached yet___372', 'Predictive Maintenance Of Hydraulics System___static conditions might not have been reached yet___373', 'Predictive Maintenance Of Hydraulics System___static conditions might not have been reached yet___374', 'Predictive Maintenance Of Hydraulics System___static conditions might not have been reached yet___375', 'Predictive Maintenance Of Hydraulics System___static conditions might not have been reached yet___376', 'Predictive Maintenance Of Hydraulics System___static conditions might not have been reached yet___377', 'Predictive Maintenance Of Hydraulics System___static conditions might not have been reached yet___378', 'Predictive Maintenance Of Hydraulics System___static conditions might not have been reached yet___379', 'Predictive Maintenance Of Hydraulics System___static conditions might not have been reached yet___38', 'Predictive Maintenance Of Hydraulics System___static conditions might not have been reached yet___380', 'Predictive Maintenance Of Hydraulics System___static conditions might not have been reached yet___381', 'Predictive Maintenance Of Hydraulics System___static conditions might not have been reached yet___382', 'Predictive Maintenance Of Hydraulics System___static conditions might not have been reached yet___383', 'Predictive Maintenance Of Hydraulics System___static conditions might not have been reached yet___384', 'Predictive Maintenance Of Hydraulics System___static conditions might not have been reached yet___385', 'Predictive Maintenance Of Hydraulics System___static conditions might not have been reached yet___386', 'Predictive Maintenance Of Hydraulics System___static conditions might not have been reached yet___387', 'Predictive Maintenance Of Hydraulics System___static conditions might not have been reached yet___388', 'Predictive Maintenance Of Hydraulics System___static conditions might not have been reached yet___389', 'Predictive Maintenance Of Hydraulics System___static conditions might not have been reached yet___39', 'Predictive Maintenance Of Hydraulics System___static conditions might not have been reached yet___390', 'Predictive Maintenance Of Hydraulics System___static conditions might not have been reached yet___391', 'Predictive Maintenance Of Hydraulics System___static conditions might not have been reached yet___392', 'Predictive Maintenance Of Hydraulics System___static conditions might not have been reached yet___393', 'Predictive Maintenance Of Hydraulics System___static conditions might not have been reached yet___394', 'Predictive Maintenance Of Hydraulics System___static conditions might not have been reached yet___395', 'Predictive Maintenance Of Hydraulics System___static conditions might not have been reached yet___396', 'Predictive Maintenance Of Hydraulics System___static conditions might not have been reached yet___397', 'Predictive Maintenance Of Hydraulics System___static conditions might not have been reached yet___398', 'Predictive Maintenance Of Hydraulics System___static conditions might not have been reached yet___399', 'Predictive Maintenance Of Hydraulics System___static conditions might not have been reached yet___4', 'Predictive Maintenance Of Hydraulics System___static conditions might not have been reached yet___40', 'Predictive Maintenance Of Hydraulics System___static conditions might not have been reached yet___400', 'Predictive Maintenance Of Hydraulics System___static conditions might not have been reached yet___401', 'Predictive Maintenance Of Hydraulics System___static conditions might not have been reached yet___402', 'Predictive Maintenance Of Hydraulics System___static conditions might not have been reached yet___403', 'Predictive Maintenance Of Hydraulics System___static conditions might not have been reached yet___404', 'Predictive Maintenance Of Hydraulics System___static conditions might not have been reached yet___405', 'Predictive Maintenance Of Hydraulics System___static conditions might not have been reached yet___406', 'Predictive Maintenance Of Hydraulics System___static conditions might not have been reached yet___407', 'Predictive Maintenance Of Hydraulics System___static conditions might not have been reached yet___408', 'Predictive Maintenance Of Hydraulics System___static conditions might not have been reached yet___409', 'Predictive Maintenance Of Hydraulics System___static conditions might not have been reached yet___41', 'Predictive Maintenance Of Hydraulics System___static conditions might not have been reached yet___410', 'Predictive Maintenance Of Hydraulics System___static conditions might not have been reached yet___411', 'Predictive Maintenance Of Hydraulics System___static conditions might not have been reached yet___412', 'Predictive Maintenance Of Hydraulics System___static conditions might not have been reached yet___413', 'Predictive Maintenance Of Hydraulics System___static conditions might not have been reached yet___414', 'Predictive Maintenance Of Hydraulics System___static conditions might not have been reached yet___415', 'Predictive Maintenance Of Hydraulics System___static conditions might not have been reached yet___416', 'Predictive Maintenance Of Hydraulics System___static conditions might not have been reached yet___417', 'Predictive Maintenance Of Hydraulics System___static conditions might not have been reached yet___418', 'Predictive Maintenance Of Hydraulics System___static conditions might not have been reached yet___419', 'Predictive Maintenance Of Hydraulics System___static conditions might not have been reached yet___42', 'Predictive Maintenance Of Hydraulics System___static conditions might not have been reached yet___420', 'Predictive Maintenance Of Hydraulics System___static conditions might not have been reached yet___421', 'Predictive Maintenance Of Hydraulics System___static conditions might not have been reached yet___422', 'Predictive Maintenance Of Hydraulics System___static conditions might not have been reached yet___423', 'Predictive Maintenance Of Hydraulics System___static conditions might not have been reached yet___424', 'Predictive Maintenance Of Hydraulics System___static conditions might not have been reached yet___425', 'Predictive Maintenance Of Hydraulics System___static conditions might not have been reached yet___426', 'Predictive Maintenance Of Hydraulics System___static conditions might not have been reached yet___427', 'Predictive Maintenance Of Hydraulics System___static conditions might not have been reached yet___428', 'Predictive Maintenance Of Hydraulics System___static conditions might not have been reached yet___429', 'Predictive Maintenance Of Hydraulics System___static conditions might not have been reached yet___43', 'Predictive Maintenance Of Hydraulics System___static conditions might not have been reached yet___430', 'Predictive Maintenance Of Hydraulics System___static conditions might not have been reached yet___431', 'Predictive Maintenance Of Hydraulics System___static conditions might not have been reached yet___432', 'Predictive Maintenance Of Hydraulics System___static conditions might not have been reached yet___433', 'Predictive Maintenance Of Hydraulics System___static conditions might not have been reached yet___434', 'Predictive Maintenance Of Hydraulics System___static conditions might not have been reached yet___435', 'Predictive Maintenance Of Hydraulics System___static conditions might not have been reached yet___436', 'Predictive Maintenance Of Hydraulics System___static conditions might not have been reached yet___437', 'Predictive Maintenance Of Hydraulics System___static conditions might not have been reached yet___438', 'Predictive Maintenance Of Hydraulics System___static conditions might not have been reached yet___439', 'Predictive Maintenance Of Hydraulics System___static conditions might not have been reached yet___44', 'Predictive Maintenance Of Hydraulics System___static conditions might not have been reached yet___440', 'Predictive Maintenance Of Hydraulics System___static conditions might not have been reached yet___441', 'Predictive Maintenance Of Hydraulics System___static conditions might not have been reached yet___442', 'Predictive Maintenance Of Hydraulics System___static conditions might not have been reached yet___443', 'Predictive Maintenance Of Hydraulics System___static conditions might not have been reached yet___444', 'Predictive Maintenance Of Hydraulics System___static conditions might not have been reached yet___445', 'Predictive Maintenance Of Hydraulics System___static conditions might not have been reached yet___446', 'Predictive Maintenance Of Hydraulics System___static conditions might not have been reached yet___447', 'Predictive Maintenance Of Hydraulics System___static conditions might not have been reached yet___448', 'Predictive Maintenance Of Hydraulics System___static conditions might not have been reached yet___449', 'Predictive Maintenance Of Hydraulics System___static conditions might not have been reached yet___45', 'Predictive Maintenance Of Hydraulics System___static conditions might not have been reached yet___450', 'Predictive Maintenance Of Hydraulics System___static conditions might not have been reached yet___451', 'Predictive Maintenance Of Hydraulics System___static conditions might not have been reached yet___452', 'Predictive Maintenance Of Hydraulics System___static conditions might not have been reached yet___453', 'Predictive Maintenance Of Hydraulics System___static conditions might not have been reached yet___454', 'Predictive Maintenance Of Hydraulics System___static conditions might not have been reached yet___455', 'Predictive Maintenance Of Hydraulics System___static conditions might not have been reached yet___456', 'Predictive Maintenance Of Hydraulics System___static conditions might not have been reached yet___457', 'Predictive Maintenance Of Hydraulics System___static conditions might not have been reached yet___458', 'Predictive Maintenance Of Hydraulics System___static conditions might not have been reached yet___459', 'Predictive Maintenance Of Hydraulics System___static conditions might not have been reached yet___46', 'Predictive Maintenance Of Hydraulics System___static conditions might not have been reached yet___460', 'Predictive Maintenance Of Hydraulics System___static conditions might not have been reached yet___461', 'Predictive Maintenance Of Hydraulics System___static conditions might not have been reached yet___462', 'Predictive Maintenance Of Hydraulics System___static conditions might not have been reached yet___463', 'Predictive Maintenance Of Hydraulics System___static conditions might not have been reached yet___464', 'Predictive Maintenance Of Hydraulics System___static conditions might not have been reached yet___465', 'Predictive Maintenance Of Hydraulics System___static conditions might not have been reached yet___466', 'Predictive Maintenance Of Hydraulics System___static conditions might not have been reached yet___467', 'Predictive Maintenance Of Hydraulics System___static conditions might not have been reached yet___468', 'Predictive Maintenance Of Hydraulics System___static conditions might not have been reached yet___469', 'Predictive Maintenance Of Hydraulics System___static conditions might not have been reached yet___47', 'Predictive Maintenance Of Hydraulics System___static conditions might not have been reached yet___470', 'Predictive Maintenance Of Hydraulics System___static conditions might not have been reached yet___471', 'Predictive Maintenance Of Hydraulics System___static conditions might not have been reached yet___472', 'Predictive Maintenance Of Hydraulics System___static conditions might not have been reached yet___473', 'Predictive Maintenance Of Hydraulics System___static conditions might not have been reached yet___474', 'Predictive Maintenance Of Hydraulics System___static conditions might not have been reached yet___475', 'Predictive Maintenance Of Hydraulics System___static conditions might not have been reached yet___476', 'Predictive Maintenance Of Hydraulics System___static conditions might not have been reached yet___477', 'Predictive Maintenance Of Hydraulics System___static conditions might not have been reached yet___478', 'Predictive Maintenance Of Hydraulics System___static conditions might not have been reached yet___479', 'Predictive Maintenance Of Hydraulics System___static conditions might not have been reached yet___48', 'Predictive Maintenance Of Hydraulics System___static conditions might not have been reached yet___480', 'Predictive Maintenance Of Hydraulics System___static conditions might not have been reached yet___481', 'Predictive Maintenance Of Hydraulics System___static conditions might not have been reached yet___482', 'Predictive Maintenance Of Hydraulics System___static conditions might not have been reached yet___483', 'Predictive Maintenance Of Hydraulics System___static conditions might not have been reached yet___484', 'Predictive Maintenance Of Hydraulics System___static conditions might not have been reached yet___485', 'Predictive Maintenance Of Hydraulics System___static conditions might not have been reached yet___486', 'Predictive Maintenance Of Hydraulics System___static conditions might not have been reached yet___487', 'Predictive Maintenance Of Hydraulics System___static conditions might not have been reached yet___488', 'Predictive Maintenance Of Hydraulics System___static conditions might not have been reached yet___489', 'Predictive Maintenance Of Hydraulics System___static conditions might not have been reached yet___49', 'Predictive Maintenance Of Hydraulics System___static conditions might not have been reached yet___490', 'Predictive Maintenance Of Hydraulics System___static conditions might not have been reached yet___491', 'Predictive Maintenance Of Hydraulics System___static conditions might not have been reached yet___492', 'Predictive Maintenance Of Hydraulics System___static conditions might not have been reached yet___493', 'Predictive Maintenance Of Hydraulics System___static conditions might not have been reached yet___494', 'Predictive Maintenance Of Hydraulics System___static conditions might not have been reached yet___495', 'Predictive Maintenance Of Hydraulics System___static conditions might not have been reached yet___496', 'Predictive Maintenance Of Hydraulics System___static conditions might not have been reached yet___497', 'Predictive Maintenance Of Hydraulics System___static conditions might not have been reached yet___498', 'Predictive Maintenance Of Hydraulics System___static conditions might not have been reached yet___499', 'Predictive Maintenance Of Hydraulics System___static conditions might not have been reached yet___5', 'Predictive Maintenance Of Hydraulics System___static conditions might not have been reached yet___50', 'Predictive Maintenance Of Hydraulics System___static conditions might not have been reached yet___500', 'Predictive Maintenance Of Hydraulics System___static conditions might not have been reached yet___501', 'Predictive Maintenance Of Hydraulics System___static conditions might not have been reached yet___502', 'Predictive Maintenance Of Hydraulics System___static conditions might not have been reached yet___503', 'Predictive Maintenance Of Hydraulics System___static conditions might not have been reached yet___504', 'Predictive Maintenance Of Hydraulics System___static conditions might not have been reached yet___505', 'Predictive Maintenance Of Hydraulics System___static conditions might not have been reached yet___506', 'Predictive Maintenance Of Hydraulics System___static conditions might not have been reached yet___507', 'Predictive Maintenance Of Hydraulics System___static conditions might not have been reached yet___508', 'Predictive Maintenance Of Hydraulics System___static conditions might not have been reached yet___509', 'Predictive Maintenance Of Hydraulics System___static conditions might not have been reached yet___51', 'Predictive Maintenance Of Hydraulics System___static conditions might not have been reached yet___510', 'Predictive Maintenance Of Hydraulics System___static conditions might not have been reached yet___511', 'Predictive Maintenance Of Hydraulics System___static conditions might not have been reached yet___512', 'Predictive Maintenance Of Hydraulics System___static conditions might not have been reached yet___513', 'Predictive Maintenance Of Hydraulics System___static conditions might not have been reached yet___514', 'Predictive Maintenance Of Hydraulics System___static conditions might not have been reached yet___515', 'Predictive Maintenance Of Hydraulics System___static conditions might not have been reached yet___516', 'Predictive Maintenance Of Hydraulics System___static conditions might not have been reached yet___517', 'Predictive Maintenance Of Hydraulics System___static conditions might not have been reached yet___518', 'Predictive Maintenance Of Hydraulics System___static conditions might not have been reached yet___519', 'Predictive Maintenance Of Hydraulics System___static conditions might not have been reached yet___52', 'Predictive Maintenance Of Hydraulics System___static conditions might not have been reached yet___520', 'Predictive Maintenance Of Hydraulics System___static conditions might not have been reached yet___521', 'Predictive Maintenance Of Hydraulics System___static conditions might not have been reached yet___522', 'Predictive Maintenance Of Hydraulics System___static conditions might not have been reached yet___523', 'Predictive Maintenance Of Hydraulics System___static conditions might not have been reached yet___524', 'Predictive Maintenance Of Hydraulics System___static conditions might not have been reached yet___525', 'Predictive Maintenance Of Hydraulics System___static conditions might not have been reached yet___526', 'Predictive Maintenance Of Hydraulics System___static conditions might not have been reached yet___527', 'Predictive Maintenance Of Hydraulics System___static conditions might not have been reached yet___528', 'Predictive Maintenance Of Hydraulics System___static conditions might not have been reached yet___529', 'Predictive Maintenance Of Hydraulics System___static conditions might not have been reached yet___53', 'Predictive Maintenance Of Hydraulics System___static conditions might not have been reached yet___530', 'Predictive Maintenance Of Hydraulics System___static conditions might not have been reached yet___531', 'Predictive Maintenance Of Hydraulics System___static conditions might not have been reached yet___532', 'Predictive Maintenance Of Hydraulics System___static conditions might not have been reached yet___533', 'Predictive Maintenance Of Hydraulics System___static conditions might not have been reached yet___534', 'Predictive Maintenance Of Hydraulics System___static conditions might not have been reached yet___535', 'Predictive Maintenance Of Hydraulics System___static conditions might not have been reached yet___536', 'Predictive Maintenance Of Hydraulics System___static conditions might not have been reached yet___537', 'Predictive Maintenance Of Hydraulics System___static conditions might not have been reached yet___538', 'Predictive Maintenance Of Hydraulics System___static conditions might not have been reached yet___539', 'Predictive Maintenance Of Hydraulics System___static conditions might not have been reached yet___54', 'Predictive Maintenance Of Hydraulics System___static conditions might not have been reached yet___540', 'Predictive Maintenance Of Hydraulics System___static conditions might not have been reached yet___541', 'Predictive Maintenance Of Hydraulics System___static conditions might not have been reached yet___542', 'Predictive Maintenance Of Hydraulics System___static conditions might not have been reached yet___543', 'Predictive Maintenance Of Hydraulics System___static conditions might not have been reached yet___544', 'Predictive Maintenance Of Hydraulics System___static conditions might not have been reached yet___545', 'Predictive Maintenance Of Hydraulics System___static conditions might not have been reached yet___546', 'Predictive Maintenance Of Hydraulics System___static conditions might not have been reached yet___547', 'Predictive Maintenance Of Hydraulics System___static conditions might not have been reached yet___548', 'Predictive Maintenance Of Hydraulics System___static conditions might not have been reached yet___549', 'Predictive Maintenance Of Hydraulics System___static conditions might not have been reached yet___55', 'Predictive Maintenance Of Hydraulics System___static conditions might not have been reached yet___550', 'Predictive Maintenance Of Hydraulics System___static conditions might not have been reached yet___551', 'Predictive Maintenance Of Hydraulics System___static conditions might not have been reached yet___552', 'Predictive Maintenance Of Hydraulics System___static conditions might not have been reached yet___553', 'Predictive Maintenance Of Hydraulics System___static conditions might not have been reached yet___554', 'Predictive Maintenance Of Hydraulics System___static conditions might not have been reached yet___555', 'Predictive Maintenance Of Hydraulics System___static conditions might not have been reached yet___556', 'Predictive Maintenance Of Hydraulics System___static conditions might not have been reached yet___557', 'Predictive Maintenance Of Hydraulics System___static conditions might not have been reached yet___558', 'Predictive Maintenance Of Hydraulics System___static conditions might not have been reached yet___559', 'Predictive Maintenance Of Hydraulics System___static conditions might not have been reached yet___56', 'Predictive Maintenance Of Hydraulics System___static conditions might not have been reached yet___560', 'Predictive Maintenance Of Hydraulics System___static conditions might not have been reached yet___561', 'Predictive Maintenance Of Hydraulics System___static conditions might not have been reached yet___562', 'Predictive Maintenance Of Hydraulics System___static conditions might not have been reached yet___563', 'Predictive Maintenance Of Hydraulics System___static conditions might not have been reached yet___564', 'Predictive Maintenance Of Hydraulics System___static conditions might not have been reached yet___565', 'Predictive Maintenance Of Hydraulics System___static conditions might not have been reached yet___566', 'Predictive Maintenance Of Hydraulics System___static conditions might not have been reached yet___567', 'Predictive Maintenance Of Hydraulics System___static conditions might not have been reached yet___568', 'Predictive Maintenance Of Hydraulics System___static conditions might not have been reached yet___569', 'Predictive Maintenance Of Hydraulics System___static conditions might not have been reached yet___57', 'Predictive Maintenance Of Hydraulics System___static conditions might not have been reached yet___570', 'Predictive Maintenance Of Hydraulics System___static conditions might not have been reached yet___571', 'Predictive Maintenance Of Hydraulics System___static conditions might not have been reached yet___572', 'Predictive Maintenance Of Hydraulics System___static conditions might not have been reached yet___573', 'Predictive Maintenance Of Hydraulics System___static conditions might not have been reached yet___574', 'Predictive Maintenance Of Hydraulics System___static conditions might not have been reached yet___575', 'Predictive Maintenance Of Hydraulics System___static conditions might not have been reached yet___576', 'Predictive Maintenance Of Hydraulics System___static conditions might not have been reached yet___577', 'Predictive Maintenance Of Hydraulics System___static conditions might not have been reached yet___578', 'Predictive Maintenance Of Hydraulics System___static conditions might not have been reached yet___579', 'Predictive Maintenance Of Hydraulics System___static conditions might not have been reached yet___58', 'Predictive Maintenance Of Hydraulics System___static conditions might not have been reached yet___580', 'Predictive Maintenance Of Hydraulics System___static conditions might not have been reached yet___581', 'Predictive Maintenance Of Hydraulics System___static conditions might not have been reached yet___582', 'Predictive Maintenance Of Hydraulics System___static conditions might not have been reached yet___583', 'Predictive Maintenance Of Hydraulics System___static conditions might not have been reached yet___584', 'Predictive Maintenance Of Hydraulics System___static conditions might not have been reached yet___585', 'Predictive Maintenance Of Hydraulics System___static conditions might not have been reached yet___586', 'Predictive Maintenance Of Hydraulics System___static conditions might not have been reached yet___587', 'Predictive Maintenance Of Hydraulics System___static conditions might not have been reached yet___588', 'Predictive Maintenance Of Hydraulics System___static conditions might not have been reached yet___589', 'Predictive Maintenance Of Hydraulics System___static conditions might not have been reached yet___59', 'Predictive Maintenance Of Hydraulics System___static conditions might not have been reached yet___590', 'Predictive Maintenance Of Hydraulics System___static conditions might not have been reached yet___591', 'Predictive Maintenance Of Hydraulics System___static conditions might not have been reached yet___592', 'Predictive Maintenance Of Hydraulics System___static conditions might not have been reached yet___593', 'Predictive Maintenance Of Hydraulics System___static conditions might not have been reached yet___594', 'Predictive Maintenance Of Hydraulics System___static conditions might not have been reached yet___595', 'Predictive Maintenance Of Hydraulics System___static conditions might not have been reached yet___596', 'Predictive Maintenance Of Hydraulics System___static conditions might not have been reached yet___597', 'Predictive Maintenance Of Hydraulics System___static conditions might not have been reached yet___598', 'Predictive Maintenance Of Hydraulics System___static conditions might not have been reached yet___599', 'Predictive Maintenance Of Hydraulics System___static conditions might not have been reached yet___6', 'Predictive Maintenance Of Hydraulics System___static conditions might not have been reached yet___60', 'Predictive Maintenance Of Hydraulics System___static conditions might not have been reached yet___600', 'Predictive Maintenance Of Hydraulics System___static conditions might not have been reached yet___601', 'Predictive Maintenance Of Hydraulics System___static conditions might not have been reached yet___602', 'Predictive Maintenance Of Hydraulics System___static conditions might not have been reached yet___603', 'Predictive Maintenance Of Hydraulics System___static conditions might not have been reached yet___604', 'Predictive Maintenance Of Hydraulics System___static conditions might not have been reached yet___605', 'Predictive Maintenance Of Hydraulics System___static conditions might not have been reached yet___606', 'Predictive Maintenance Of Hydraulics System___static conditions might not have been reached yet___607', 'Predictive Maintenance Of Hydraulics System___static conditions might not have been reached yet___608', 'Predictive Maintenance Of Hydraulics System___static conditions might not have been reached yet___609', 'Predictive Maintenance Of Hydraulics System___static conditions might not have been reached yet___61', 'Predictive Maintenance Of Hydraulics System___static conditions might not have been reached yet___610', 'Predictive Maintenance Of Hydraulics System___static conditions might not have been reached yet___611', 'Predictive Maintenance Of Hydraulics System___static conditions might not have been reached yet___612', 'Predictive Maintenance Of Hydraulics System___static conditions might not have been reached yet___613', 'Predictive Maintenance Of Hydraulics System___static conditions might not have been reached yet___614', 'Predictive Maintenance Of Hydraulics System___static conditions might not have been reached yet___615', 'Predictive Maintenance Of Hydraulics System___static conditions might not have been reached yet___616', 'Predictive Maintenance Of Hydraulics System___static conditions might not have been reached yet___617', 'Predictive Maintenance Of Hydraulics System___static conditions might not have been reached yet___618', 'Predictive Maintenance Of Hydraulics System___static conditions might not have been reached yet___619', 'Predictive Maintenance Of Hydraulics System___static conditions might not have been reached yet___62', 'Predictive Maintenance Of Hydraulics System___static conditions might not have been reached yet___620', 'Predictive Maintenance Of Hydraulics System___static conditions might not have been reached yet___621', 'Predictive Maintenance Of Hydraulics System___static conditions might not have been reached yet___622', 'Predictive Maintenance Of Hydraulics System___static conditions might not have been reached yet___623', 'Predictive Maintenance Of Hydraulics System___static conditions might not have been reached yet___624', 'Predictive Maintenance Of Hydraulics System___static conditions might not have been reached yet___625', 'Predictive Maintenance Of Hydraulics System___static conditions might not have been reached yet___626', 'Predictive Maintenance Of Hydraulics System___static conditions might not have been reached yet___627', 'Predictive Maintenance Of Hydraulics System___static conditions might not have been reached yet___628', 'Predictive Maintenance Of Hydraulics System___static conditions might not have been reached yet___629', 'Predictive Maintenance Of Hydraulics System___static conditions might not have been reached yet___63', 'Predictive Maintenance Of Hydraulics System___static conditions might not have been reached yet___630', 'Predictive Maintenance Of Hydraulics System___static conditions might not have been reached yet___631', 'Predictive Maintenance Of Hydraulics System___static conditions might not have been reached yet___632', 'Predictive Maintenance Of Hydraulics System___static conditions might not have been reached yet___633', 'Predictive Maintenance Of Hydraulics System___static conditions might not have been reached yet___634', 'Predictive Maintenance Of Hydraulics System___static conditions might not have been reached yet___635', 'Predictive Maintenance Of Hydraulics System___static conditions might not have been reached yet___636', 'Predictive Maintenance Of Hydraulics System___static conditions might not have been reached yet___637', 'Predictive Maintenance Of Hydraulics System___static conditions might not have been reached yet___638', 'Predictive Maintenance Of Hydraulics System___static conditions might not have been reached yet___639', 'Predictive Maintenance Of Hydraulics System___static conditions might not have been reached yet___64', 'Predictive Maintenance Of Hydraulics System___static conditions might not have been reached yet___640', 'Predictive Maintenance Of Hydraulics System___static conditions might not have been reached yet___641', 'Predictive Maintenance Of Hydraulics System___static conditions might not have been reached yet___642', 'Predictive Maintenance Of Hydraulics System___static conditions might not have been reached yet___643', 'Predictive Maintenance Of Hydraulics System___static conditions might not have been reached yet___644', 'Predictive Maintenance Of Hydraulics System___static conditions might not have been reached yet___645', 'Predictive Maintenance Of Hydraulics System___static conditions might not have been reached yet___646', 'Predictive Maintenance Of Hydraulics System___static conditions might not have been reached yet___647', 'Predictive Maintenance Of Hydraulics System___static conditions might not have been reached yet___648', 'Predictive Maintenance Of Hydraulics System___static conditions might not have been reached yet___649', 'Predictive Maintenance Of Hydraulics System___static conditions might not have been reached yet___65', 'Predictive Maintenance Of Hydraulics System___static conditions might not have been reached yet___650', 'Predictive Maintenance Of Hydraulics System___static conditions might not have been reached yet___651', 'Predictive Maintenance Of Hydraulics System___static conditions might not have been reached yet___652', 'Predictive Maintenance Of Hydraulics System___static conditions might not have been reached yet___653', 'Predictive Maintenance Of Hydraulics System___static conditions might not have been reached yet___654', 'Predictive Maintenance Of Hydraulics System___static conditions might not have been reached yet___655', 'Predictive Maintenance Of Hydraulics System___static conditions might not have been reached yet___656', 'Predictive Maintenance Of Hydraulics System___static conditions might not have been reached yet___657', 'Predictive Maintenance Of Hydraulics System___static conditions might not have been reached yet___658', 'Predictive Maintenance Of Hydraulics System___static conditions might not have been reached yet___659', 'Predictive Maintenance Of Hydraulics System___static conditions might not have been reached yet___66', 'Predictive Maintenance Of Hydraulics System___static conditions might not have been reached yet___660', 'Predictive Maintenance Of Hydraulics System___static conditions might not have been reached yet___661', 'Predictive Maintenance Of Hydraulics System___static conditions might not have been reached yet___662', 'Predictive Maintenance Of Hydraulics System___static conditions might not have been reached yet___663', 'Predictive Maintenance Of Hydraulics System___static conditions might not have been reached yet___664', 'Predictive Maintenance Of Hydraulics System___static conditions might not have been reached yet___665', 'Predictive Maintenance Of Hydraulics System___static conditions might not have been reached yet___666', 'Predictive Maintenance Of Hydraulics System___static conditions might not have been reached yet___667', 'Predictive Maintenance Of Hydraulics System___static conditions might not have been reached yet___668', 'Predictive Maintenance Of Hydraulics System___static conditions might not have been reached yet___669', 'Predictive Maintenance Of Hydraulics System___static conditions might not have been reached yet___67', 'Predictive Maintenance Of Hydraulics System___static conditions might not have been reached yet___670', 'Predictive Maintenance Of Hydraulics System___static conditions might not have been reached yet___671', 'Predictive Maintenance Of Hydraulics System___static conditions might not have been reached yet___672', 'Predictive Maintenance Of Hydraulics System___static conditions might not have been reached yet___673', 'Predictive Maintenance Of Hydraulics System___static conditions might not have been reached yet___674', 'Predictive Maintenance Of Hydraulics System___static conditions might not have been reached yet___675', 'Predictive Maintenance Of Hydraulics System___static conditions might not have been reached yet___676', 'Predictive Maintenance Of Hydraulics System___static conditions might not have been reached yet___677', 'Predictive Maintenance Of Hydraulics System___static conditions might not have been reached yet___678', 'Predictive Maintenance Of Hydraulics System___static conditions might not have been reached yet___679', 'Predictive Maintenance Of Hydraulics System___static conditions might not have been reached yet___68', 'Predictive Maintenance Of Hydraulics System___static conditions might not have been reached yet___680', 'Predictive Maintenance Of Hydraulics System___static conditions might not have been reached yet___681', 'Predictive Maintenance Of Hydraulics System___static conditions might not have been reached yet___682', 'Predictive Maintenance Of Hydraulics System___static conditions might not have been reached yet___683', 'Predictive Maintenance Of Hydraulics System___static conditions might not have been reached yet___684', 'Predictive Maintenance Of Hydraulics System___static conditions might not have been reached yet___685', 'Predictive Maintenance Of Hydraulics System___static conditions might not have been reached yet___686', 'Predictive Maintenance Of Hydraulics System___static conditions might not have been reached yet___687', 'Predictive Maintenance Of Hydraulics System___static conditions might not have been reached yet___688', 'Predictive Maintenance Of Hydraulics System___static conditions might not have been reached yet___689', 'Predictive Maintenance Of Hydraulics System___static conditions might not have been reached yet___69', 'Predictive Maintenance Of Hydraulics System___static conditions might not have been reached yet___690', 'Predictive Maintenance Of Hydraulics System___static conditions might not have been reached yet___691', 'Predictive Maintenance Of Hydraulics System___static conditions might not have been reached yet___692', 'Predictive Maintenance Of Hydraulics System___static conditions might not have been reached yet___693', 'Predictive Maintenance Of Hydraulics System___static conditions might not have been reached yet___694', 'Predictive Maintenance Of Hydraulics System___static conditions might not have been reached yet___695', 'Predictive Maintenance Of Hydraulics System___static conditions might not have been reached yet___696', 'Predictive Maintenance Of Hydraulics System___static conditions might not have been reached yet___697', 'Predictive Maintenance Of Hydraulics System___static conditions might not have been reached yet___698', 'Predictive Maintenance Of Hydraulics System___static conditions might not have been reached yet___699', 'Predictive Maintenance Of Hydraulics System___static conditions might not have been reached yet___7', 'Predictive Maintenance Of Hydraulics System___static conditions might not have been reached yet___70', 'Predictive Maintenance Of Hydraulics System___static conditions might not have been reached yet___700', 'Predictive Maintenance Of Hydraulics System___static conditions might not have been reached yet___701', 'Predictive Maintenance Of Hydraulics System___static conditions might not have been reached yet___702', 'Predictive Maintenance Of Hydraulics System___static conditions might not have been reached yet___703', 'Predictive Maintenance Of Hydraulics System___static conditions might not have been reached yet___704', 'Predictive Maintenance Of Hydraulics System___static conditions might not have been reached yet___705', 'Predictive Maintenance Of Hydraulics System___static conditions might not have been reached yet___706', 'Predictive Maintenance Of Hydraulics System___static conditions might not have been reached yet___707', 'Predictive Maintenance Of Hydraulics System___static conditions might not have been reached yet___708', 'Predictive Maintenance Of Hydraulics System___static conditions might not have been reached yet___709', 'Predictive Maintenance Of Hydraulics System___static conditions might not have been reached yet___71', 'Predictive Maintenance Of Hydraulics System___static conditions might not have been reached yet___710', 'Predictive Maintenance Of Hydraulics System___static conditions might not have been reached yet___711', 'Predictive Maintenance Of Hydraulics System___static conditions might not have been reached yet___712', 'Predictive Maintenance Of Hydraulics System___static conditions might not have been reached yet___713', 'Predictive Maintenance Of Hydraulics System___static conditions might not have been reached yet___714', 'Predictive Maintenance Of Hydraulics System___static conditions might not have been reached yet___715', 'Predictive Maintenance Of Hydraulics System___static conditions might not have been reached yet___716', 'Predictive Maintenance Of Hydraulics System___static conditions might not have been reached yet___717', 'Predictive Maintenance Of Hydraulics System___static conditions might not have been reached yet___718', 'Predictive Maintenance Of Hydraulics System___static conditions might not have been reached yet___719', 'Predictive Maintenance Of Hydraulics System___static conditions might not have been reached yet___72', 'Predictive Maintenance Of Hydraulics System___static conditions might not have been reached yet___720', 'Predictive Maintenance Of Hydraulics System___static conditions might not have been reached yet___721', 'Predictive Maintenance Of Hydraulics System___static conditions might not have been reached yet___722', 'Predictive Maintenance Of Hydraulics System___static conditions might not have been reached yet___723', 'Predictive Maintenance Of Hydraulics System___static conditions might not have been reached yet___724', 'Predictive Maintenance Of Hydraulics System___static conditions might not have been reached yet___725', 'Predictive Maintenance Of Hydraulics System___static conditions might not have been reached yet___726', 'Predictive Maintenance Of Hydraulics System___static conditions might not have been reached yet___727', 'Predictive Maintenance Of Hydraulics System___static conditions might not have been reached yet___728', 'Predictive Maintenance Of Hydraulics System___static conditions might not have been reached yet___729', 'Predictive Maintenance Of Hydraulics System___static conditions might not have been reached yet___73', 'Predictive Maintenance Of Hydraulics System___static conditions might not have been reached yet___730', 'Predictive Maintenance Of Hydraulics System___static conditions might not have been reached yet___731', 'Predictive Maintenance Of Hydraulics System___static conditions might not have been reached yet___732', 'Predictive Maintenance Of Hydraulics System___static conditions might not have been reached yet___733', 'Predictive Maintenance Of Hydraulics System___static conditions might not have been reached yet___734', 'Predictive Maintenance Of Hydraulics System___static conditions might not have been reached yet___735', 'Predictive Maintenance Of Hydraulics System___static conditions might not have been reached yet___736', 'Predictive Maintenance Of Hydraulics System___static conditions might not have been reached yet___737', 'Predictive Maintenance Of Hydraulics System___static conditions might not have been reached yet___738', 'Predictive Maintenance Of Hydraulics System___static conditions might not have been reached yet___739', 'Predictive Maintenance Of Hydraulics System___static conditions might not have been reached yet___74', 'Predictive Maintenance Of Hydraulics System___static conditions might not have been reached yet___740', 'Predictive Maintenance Of Hydraulics System___static conditions might not have been reached yet___741', 'Predictive Maintenance Of Hydraulics System___static conditions might not have been reached yet___742', 'Predictive Maintenance Of Hydraulics System___static conditions might not have been reached yet___743', 'Predictive Maintenance Of Hydraulics System___static conditions might not have been reached yet___744', 'Predictive Maintenance Of Hydraulics System___static conditions might not have been reached yet___745', 'Predictive Maintenance Of Hydraulics System___static conditions might not have been reached yet___746', 'Predictive Maintenance Of Hydraulics System___static conditions might not have been reached yet___747', 'Predictive Maintenance Of Hydraulics System___static conditions might not have been reached yet___748', 'Predictive Maintenance Of Hydraulics System___static conditions might not have been reached yet___749', 'Predictive Maintenance Of Hydraulics System___static conditions might not have been reached yet___75', 'Predictive Maintenance Of Hydraulics System___static conditions might not have been reached yet___750', 'Predictive Maintenance Of Hydraulics System___static conditions might not have been reached yet___751', 'Predictive Maintenance Of Hydraulics System___static conditions might not have been reached yet___752', 'Predictive Maintenance Of Hydraulics System___static conditions might not have been reached yet___753', 'Predictive Maintenance Of Hydraulics System___static conditions might not have been reached yet___754', 'Predictive Maintenance Of Hydraulics System___static conditions might not have been reached yet___755', 'Predictive Maintenance Of Hydraulics System___static conditions might not have been reached yet___76', 'Predictive Maintenance Of Hydraulics System___static conditions might not have been reached yet___77', 'Predictive Maintenance Of Hydraulics System___static conditions might not have been reached yet___78', 'Predictive Maintenance Of Hydraulics System___static conditions might not have been reached yet___79', 'Predictive Maintenance Of Hydraulics System___static conditions might not have been reached yet___8', 'Predictive Maintenance Of Hydraulics System___static conditions might not have been reached yet___80', 'Predictive Maintenance Of Hydraulics System___static conditions might not have been reached yet___81', 'Predictive Maintenance Of Hydraulics System___static conditions might not have been reached yet___82', 'Predictive Maintenance Of Hydraulics System___static conditions might not have been reached yet___83', 'Predictive Maintenance Of Hydraulics System___static conditions might not have been reached yet___84', 'Predictive Maintenance Of Hydraulics System___static conditions might not have been reached yet___85', 'Predictive Maintenance Of Hydraulics System___static conditions might not have been reached yet___86', 'Predictive Maintenance Of Hydraulics System___static conditions might not have been reached yet___87', 'Predictive Maintenance Of Hydraulics System___static conditions might not have been reached yet___88', 'Predictive Maintenance Of Hydraulics System___static conditions might not have been reached yet___89', 'Predictive Maintenance Of Hydraulics System___static conditions might not have been reached yet___9', 'Predictive Maintenance Of Hydraulics System___static conditions might not have been reached yet___90', 'Predictive Maintenance Of Hydraulics System___static conditions might not have been reached yet___91', 'Predictive Maintenance Of Hydraulics System___static conditions might not have been reached yet___92', 'Predictive Maintenance Of Hydraulics System___static conditions might not have been reached yet___93', 'Predictive Maintenance Of Hydraulics System___static conditions might not have been reached yet___94', 'Predictive Maintenance Of Hydraulics System___static conditions might not have been reached yet___95', 'Predictive Maintenance Of Hydraulics System___static conditions might not have been reached yet___96', 'Predictive Maintenance Of Hydraulics System___static conditions might not have been reached yet___97', 'Predictive Maintenance Of Hydraulics System___static conditions might not have been reached yet___98', 'Predictive Maintenance Of Hydraulics System___static conditions might not have been reached yet___99', 'SKAB - Skoltech Anomaly Benchmark___Normal Operation___0', 'SKAB - Skoltech Anomaly Benchmark___Normal Operation___1', 'SKAB - Skoltech Anomaly Benchmark___Normal Operation___10', 'SKAB - Skoltech Anomaly Benchmark___Normal Operation___11', 'SKAB - Skoltech Anomaly Benchmark___Normal Operation___12', 'SKAB - Skoltech Anomaly Benchmark___Normal Operation___13', 'SKAB - Skoltech Anomaly Benchmark___Normal Operation___14', 'SKAB - Skoltech Anomaly Benchmark___Normal Operation___15', 'SKAB - Skoltech Anomaly Benchmark___Normal Operation___16', 'SKAB - Skoltech Anomaly Benchmark___Normal Operation___17', 'SKAB - Skoltech Anomaly Benchmark___Normal Operation___18', 'SKAB - Skoltech Anomaly Benchmark___Normal Operation___19', 'SKAB - Skoltech Anomaly Benchmark___Normal Operation___2', 'SKAB - Skoltech Anomaly Benchmark___Normal Operation___20', 'SKAB - Skoltech Anomaly Benchmark___Normal Operation___21', 'SKAB - Skoltech Anomaly Benchmark___Normal Operation___22', 'SKAB - Skoltech Anomaly Benchmark___Normal Operation___23', 'SKAB - Skoltech Anomaly Benchmark___Normal Operation___24', 'SKAB - Skoltech Anomaly Benchmark___Normal Operation___25', 'SKAB - Skoltech Anomaly Benchmark___Normal Operation___26', 'SKAB - Skoltech Anomaly Benchmark___Normal Operation___27', 'SKAB - Skoltech Anomaly Benchmark___Normal Operation___28', 'SKAB - Skoltech Anomaly Benchmark___Normal Operation___29', 'SKAB - Skoltech Anomaly Benchmark___Normal Operation___3', 'SKAB - Skoltech Anomaly Benchmark___Normal Operation___30', 'SKAB - Skoltech Anomaly Benchmark___Normal Operation___31', 'SKAB - Skoltech Anomaly Benchmark___Normal Operation___32', 'SKAB - Skoltech Anomaly Benchmark___Normal Operation___33', 'SKAB - Skoltech Anomaly Benchmark___Normal Operation___34', 'SKAB - Skoltech Anomaly Benchmark___Normal Operation___35', 'SKAB - Skoltech Anomaly Benchmark___Normal Operation___36', 'SKAB - Skoltech Anomaly Benchmark___Normal Operation___37', 'SKAB - Skoltech Anomaly Benchmark___Normal Operation___38', 'SKAB - Skoltech Anomaly Benchmark___Normal Operation___39', 'SKAB - Skoltech Anomaly Benchmark___Normal Operation___4', 'SKAB - Skoltech Anomaly Benchmark___Normal Operation___40', 'SKAB - Skoltech Anomaly Benchmark___Normal Operation___41', 'SKAB - Skoltech Anomaly Benchmark___Normal Operation___42', 'SKAB - Skoltech Anomaly Benchmark___Normal Operation___43', 'SKAB - Skoltech Anomaly Benchmark___Normal Operation___44', 'SKAB - Skoltech Anomaly Benchmark___Normal Operation___45', 'SKAB - Skoltech Anomaly Benchmark___Normal Operation___46', 'SKAB - Skoltech Anomaly Benchmark___Normal Operation___47', 'SKAB - Skoltech Anomaly Benchmark___Normal Operation___48', 'SKAB - Skoltech Anomaly Benchmark___Normal Operation___49', 'SKAB - Skoltech Anomaly Benchmark___Normal Operation___5', 'SKAB - Skoltech Anomaly Benchmark___Normal Operation___50', 'SKAB - Skoltech Anomaly Benchmark___Normal Operation___51', 'SKAB - Skoltech Anomaly Benchmark___Normal Operation___52', 'SKAB - Skoltech Anomaly Benchmark___Normal Operation___53', 'SKAB - Skoltech Anomaly Benchmark___Normal Operation___54', 'SKAB - Skoltech Anomaly Benchmark___Normal Operation___55', 'SKAB - Skoltech Anomaly Benchmark___Normal Operation___56', 'SKAB - Skoltech Anomaly Benchmark___Normal Operation___57', 'SKAB - Skoltech Anomaly Benchmark___Normal Operation___58', 'SKAB - Skoltech Anomaly Benchmark___Normal Operation___59', 'SKAB - Skoltech Anomaly Benchmark___Normal Operation___6', 'SKAB - Skoltech Anomaly Benchmark___Normal Operation___60', 'SKAB - Skoltech Anomaly Benchmark___Normal Operation___61', 'SKAB - Skoltech Anomaly Benchmark___Normal Operation___62', 'SKAB - Skoltech Anomaly Benchmark___Normal Operation___63', 'SKAB - Skoltech Anomaly Benchmark___Normal Operation___64', 'SKAB - Skoltech Anomaly Benchmark___Normal Operation___65', 'SKAB - Skoltech Anomaly Benchmark___Normal Operation___66', 'SKAB - Skoltech Anomaly Benchmark___Normal Operation___67', 'SKAB - Skoltech Anomaly Benchmark___Normal Operation___7', 'SKAB - Skoltech Anomaly Benchmark___Normal Operation___8', 'SKAB - Skoltech Anomaly Benchmark___Normal Operation___9', 'SKAB - Skoltech Anomaly Benchmark___other___0', 'SKAB - Skoltech Anomaly Benchmark___other___1', 'SKAB - Skoltech Anomaly Benchmark___other___10', 'SKAB - Skoltech Anomaly Benchmark___other___11', 'SKAB - Skoltech Anomaly Benchmark___other___12', 'SKAB - Skoltech Anomaly Benchmark___other___13', 'SKAB - Skoltech Anomaly Benchmark___other___2', 'SKAB - Skoltech Anomaly Benchmark___other___3', 'SKAB - Skoltech Anomaly Benchmark___other___4', 'SKAB - Skoltech Anomaly Benchmark___other___5', 'SKAB - Skoltech Anomaly Benchmark___other___6', 'SKAB - Skoltech Anomaly Benchmark___other___7', 'SKAB - Skoltech Anomaly Benchmark___other___8', 'SKAB - Skoltech Anomaly Benchmark___other___9', 'SKAB - Skoltech Anomaly Benchmark___valve1___0', 'SKAB - Skoltech Anomaly Benchmark___valve1___1', 'SKAB - Skoltech Anomaly Benchmark___valve1___10', 'SKAB - Skoltech Anomaly Benchmark___valve1___11', 'SKAB - Skoltech Anomaly Benchmark___valve1___12', 'SKAB - Skoltech Anomaly Benchmark___valve1___13', 'SKAB - Skoltech Anomaly Benchmark___valve1___14', 'SKAB - Skoltech Anomaly Benchmark___valve1___15', 'SKAB - Skoltech Anomaly Benchmark___valve1___2', 'SKAB - Skoltech Anomaly Benchmark___valve1___3', 'SKAB - Skoltech Anomaly Benchmark___valve1___4', 'SKAB - Skoltech Anomaly Benchmark___valve1___5', 'SKAB - Skoltech Anomaly Benchmark___valve1___6', 'SKAB - Skoltech Anomaly Benchmark___valve1___7', 'SKAB - Skoltech Anomaly Benchmark___valve1___8', 'SKAB - Skoltech Anomaly Benchmark___valve1___9', 'SKAB - Skoltech Anomaly Benchmark___valve2___0', 'SKAB - Skoltech Anomaly Benchmark___valve2___1', 'SKAB - Skoltech Anomaly Benchmark___valve2___2', 'SKAB - Skoltech Anomaly Benchmark___valve2___3']>"
      ]
     },
     "execution_count": 100,
     "metadata": {},
     "output_type": "execute_result"
    }
   ],
   "source": [
    "f.keys()"
   ]
  },
  {
   "cell_type": "code",
   "execution_count": null,
   "id": "d28eb016-1bcd-44c0-b566-b8e4fdb96d58",
   "metadata": {},
   "outputs": [],
   "source": [
    "###\n",
    "\n",
    "# constraints: multivariate and descriptions are present.\n",
    "\n",
    "# Download .mat files in the jupyter lab env (done)\n",
    "# Load into notebook, and create a new h5 file in the jupyter lab memory\n",
    "# Ensure h5 key structure follows : dsname_label_fileidx\n",
    "# Make sure .attrs['descriptions'] is included\n",
    "# Validate: run load_h5py_dataset, with h5_file = new_h5_file.h5"
   ]
  },
  {
   "cell_type": "code",
   "execution_count": 93,
   "id": "34e55962-856b-497a-8688-d3d3ec66dd20",
   "metadata": {},
   "outputs": [
    {
     "data": {
      "text/plain": [
       "<KeysViewHDF5 ['BCSV___Ball___0', 'BCSV___Ball___1', 'BCSV___Ball___2', 'BCSV___Ball___3', 'BCSV___Ball___4', 'BCSV___Ball___5', 'BCSV___Ball___6', 'BCSV___Ball___7', 'IBCSV___Inner_and_Ball___0', 'IBCSV___Inner_and_Ball___1', 'IBCSV___Inner_and_Ball___2', 'IBCSV___Inner_and_Ball___3', 'IOCSV___Inner_and_Outer___0', 'IOCSV___Inner_and_Outer___1', 'IOCSV___Inner_and_Outer___2', 'IOCSV___Inner_and_Outer___3', 'IOCSV___Inner_and_Outer___4', 'OCSV___Outer_and_Ball___0', 'OCSV___Outer_and_Ball___1', 'OCSV___Outer_and_Ball___2', 'OCSV___Outer_and_Ball___3', 'OCSV___Outer_and_Ball___4', 'OCSV___Outer_and_Ball___5', 'OCSV___Outer_and_Ball___6', 'OCSV___Outer_and_Ball___7', 'OCSV___Outer_and_Ball___8']>"
      ]
     },
     "execution_count": 93,
     "metadata": {},
     "output_type": "execute_result"
    }
   ],
   "source": [
    "f.keys()6"
   ]
  },
  {
   "cell_type": "code",
   "execution_count": 17,
   "id": "c2cd08f2-31ca-4ca8-a2b4-53a4af2c0807",
   "metadata": {
    "scrolled": true
   },
   "outputs": [
    {
     "data": {
      "text/plain": [
       "Data(data=tensor([[ 5.8270,  2.0090,  1.5990,  0.4620,  4.2030,  1.3400, 30.5310],\n",
       "        [ 5.6930,  2.0760,  1.4920,  0.4260,  4.1420,  1.3710, 27.7870],\n",
       "        [ 5.1570,  1.7410,  1.2790,  0.3550,  3.7770,  1.2180, 27.7870],\n",
       "        [ 5.0900,  1.9420,  1.2790,  0.3910,  3.8070,  1.2790, 25.0440],\n",
       "        [ 5.3580,  1.9420,  1.4920,  0.4620,  3.8680,  1.2790, 21.9480],\n",
       "        [ 5.6260,  2.1430,  1.5280,  0.5330,  4.0510,  1.3710, 21.1740],\n",
       "        [ 7.1670,  2.9470,  2.1320,  0.7820,  5.0260,  1.8580, 22.7920],\n",
       "        [ 7.4350,  3.2820,  2.3100,  1.0310,  5.0870,  2.2240, 23.1440],\n",
       "        [ 5.5590,  3.0140,  2.4520,  1.1730,  2.9550,  1.4320, 21.6670],\n",
       "        [ 4.5550,  2.5450,  1.9190,  0.8170,  2.6800,  1.3710, 17.4460],\n",
       "        [ 4.9570,  2.5450,  1.9900,  0.8530,  2.9550,  1.4920, 19.9790],\n",
       "        [ 5.7600,  2.5450,  2.2030,  0.8530,  3.4420,  1.4920, 20.1190],\n",
       "        [ 4.6890,  2.5450,  1.8120,  0.8530,  2.8330,  1.5230, 19.2050],\n",
       "        [ 4.6890,  2.6790,  1.7770,  1.2440,  3.1070,  1.6140, 18.5720],\n",
       "        [ 5.0900,  2.9470,  2.4520,  1.3500,  2.5590,  1.4320, 19.5560],\n",
       "        [ 5.0900,  3.1480,  2.4870,  1.3500,  2.5890,  1.5230, 17.3050],\n",
       "        [ 4.2200,  2.4110,  1.7060,  0.7820,  2.6190,  1.4920, 19.4860],\n",
       "        [ 4.7560,  2.3440,  1.6350,  0.7110,  3.0760,  1.4920, 19.1340],\n",
       "        [ 5.6260,  2.8800,  2.5230,  1.2080,  3.0760,  1.4920, 20.6820],\n",
       "        [ 5.4920,  3.0140,  2.4520,  1.2080,  3.0150,  1.5530, 18.7120],\n",
       "        [ 5.3580,  3.0140,  2.4520,  1.2080,  2.8630,  1.5230, 17.8680],\n",
       "        [ 5.0900,  2.9470,  2.3810,  1.2080,  2.6800,  1.5230, 18.0090],\n",
       "        [ 4.8230,  2.9470,  2.2030,  1.1730,  2.6190,  1.5230, 18.0090],\n",
       "        [ 4.6220,  2.8800,  2.1320,  1.1370,  2.4670,  1.4920, 19.7680],\n",
       "        [ 5.2240,  3.0810,  2.7010,  1.3150,  2.4370,  1.5230, 21.1040],\n",
       "        [ 5.1570,  3.0140,  2.8780,  1.3500,  2.3450,  1.4320, 19.6970],\n",
       "        [ 5.1570,  3.1480,  2.8780,  1.4920,  2.2840,  1.4320, 20.0490],\n",
       "        [ 5.1570,  3.0810,  2.9140,  1.4920,  2.1930,  1.4010, 20.7520],\n",
       "        [ 4.5550,  3.0810,  2.4520,  1.4920,  2.1930,  1.4010, 21.3850],\n",
       "        [ 5.4250,  3.2820,  3.0920,  1.7060,  2.4370,  1.4620, 22.2300],\n",
       "        [ 5.4920,  3.2820,  2.5230,  1.4920,  2.9850,  1.4620, 20.2600],\n",
       "        [ 5.6260,  3.2150,  2.4870,  1.4920,  3.0760,  1.5230, 21.1040],\n",
       "        [ 5.5590,  3.2820,  2.5940,  1.6700,  2.9240,  1.5230, 20.6120],\n",
       "        [ 5.2240,  3.2150,  2.5590,  1.5640,  2.6800,  1.4620, 18.3610],\n",
       "        [ 9.9130,  4.9570,  6.6450,  3.3050,  3.0460,  1.5530, 20.9630],\n",
       "        [11.7880,  5.4250,  8.1730,  2.5230,  3.6860,  1.6750, 19.4160],\n",
       "        [ 9.6450,  4.9570,  6.7520,  2.1320,  3.1070,  1.8280, 20.8230],\n",
       "        [10.3820,  5.7600,  7.4620,  2.5590,  2.9850,  1.7670, 20.1900],\n",
       "        [ 8.7740,  4.6890,  6.1120,  2.0250,  2.8940,  1.9190, 21.3150],\n",
       "        [10.4490,  5.1570,  6.9650,  2.4520,  2.7720,  1.7360, 22.0190],\n",
       "        [ 9.8460,  4.8230,  7.0360,  2.6650,  2.8940,  1.7670, 20.6820],\n",
       "        [ 9.9130,  4.8230,  6.8940,  2.4160,  3.2290,  1.7360, 25.4660],\n",
       "        [10.6500,  4.6890,  6.9290,  2.4520,  3.3810,  1.7970, 25.8880],\n",
       "        [10.1140,  4.3540,  6.6450,  1.8120,  3.1070,  1.7360, 27.8570],\n",
       "        [ 9.9800,  4.1530,  6.5740,  1.9540,  3.4110,  1.7670, 27.2950],\n",
       "        [ 9.3100,  4.2200,  6.0050,  2.1320,  3.2290,  1.8580, 22.2300],\n",
       "        [ 9.4440,  4.6220,  6.9650,  2.1680,  2.9550,  1.8580, 21.9480],\n",
       "        [ 9.4440,  4.2870,  6.8230,  2.5590,  2.5890,  1.7360, 27.2950],\n",
       "        [10.3820,  5.4250,  7.6040,  2.3100,  2.9550,  1.6750, 29.3350],\n",
       "        [ 9.7790,  5.2240,  6.7160,  2.8430,  2.6500,  1.6750, 26.0280],\n",
       "        [10.3820,  4.6890,  7.3200,  2.2030,  2.9850,  1.8580, 24.3400],\n",
       "        [ 9.7790,  4.1530,  6.8230,  1.9900,  2.5280,  1.6750, 26.4500],\n",
       "        [10.7170,  4.7560,  7.3560,  2.8070,  2.6500,  1.7970, 25.9580],\n",
       "        [10.3150,  4.6890,  7.3910,  2.4520,  2.9240,  1.8580, 24.0590],\n",
       "        [12.5920,  5.2240,  8.6710,  2.2030,  3.7160,  1.9490, 25.3250],\n",
       "        [11.1190,  4.6220,  7.8890,  2.8430,  3.6250,  1.9190, 23.6370],\n",
       "        [10.6500,  4.4210,  7.0360,  2.0250,  3.5940,  1.9190, 26.3800],\n",
       "        [10.0470,  4.2200,  6.4320,  1.6700,  3.6860,  1.9490, 27.3650],\n",
       "        [11.7210,  5.0900,  7.8890,  2.5590,  3.5640,  1.8580, 28.0680],\n",
       "        [12.1230,  5.3580,  8.0660,  2.4870,  4.0820,  1.9190, 29.4750],\n",
       "        [ 9.9800,  5.0230,  6.8580,  2.5590,  3.2900,  1.8580, 26.8020],\n",
       "        [ 9.2430,  4.9570,  6.2900,  2.6300,  3.1370,  1.8880, 29.9680],\n",
       "        [10.1810,  5.4250,  7.1780,  3.0200,  3.0760,  1.8880, 30.3900],\n",
       "        [ 9.6450,  5.4250,  7.1070,  2.6650,  3.0150,  1.8280, 31.1640],\n",
       "        [ 9.7790,  4.8900,  6.5030,  2.9850,  3.0760,  2.0100, 29.7570],\n",
       "        [11.1190,  5.1570,  7.3200,  2.9140,  3.8070,  1.9800, 32.2890],\n",
       "        [11.0520,  4.9570,  7.3910,  2.5230,  3.6860,  1.9800, 31.9380],\n",
       "        [10.7840,  4.8900,  7.2140,  2.4870,  3.5940,  1.8880, 28.5610],\n",
       "        [11.1860,  4.8900,  7.1780,  2.3450,  3.9600,  1.9190, 21.5260],\n",
       "        [10.4490,  4.8900,  6.6100,  2.3100,  3.8070,  2.0410, 22.2300],\n",
       "        [ 9.5780,  5.7600,  6.7870,  3.1270,  3.2590,  1.8880, 19.4160],\n",
       "        [ 9.3100,  5.7600,  6.6100,  3.0560,  3.1680,  1.8880, 18.5720],\n",
       "        [ 9.9130,  5.8940,  6.2540,  2.6300,  3.0150,  1.8580, 21.6670],\n",
       "        [ 8.9750,  4.9570,  6.2900,  2.6650,  2.8630,  1.8280, 25.5360],\n",
       "        [ 8.6400,  4.8230,  6.1480,  2.5940,  2.9240,  1.8280, 27.8570],\n",
       "        [ 9.1760,  5.4920,  5.5790,  2.3810,  2.8630,  1.8580, 27.9280],\n",
       "        [ 9.1090,  4.8230,  5.6500,  2.5230,  2.7720,  1.7970, 24.6210],\n",
       "        [ 9.8460,  5.5590,  5.9700,  2.9490,  3.1070,  1.8880, 23.8480],\n",
       "        [11.5880,  5.4250,  7.3910,  2.8070,  3.8070,  1.9800, 23.0740],\n",
       "        [11.7880,  6.0950,  7.2140,  2.9850,  3.8990,  2.0410, 22.5110],\n",
       "        [10.5830,  5.9610,  7.1430,  2.9140,  3.6550,  2.0710, 21.6670],\n",
       "        [11.5880,  6.2960,  7.5690,  3.0560,  3.4720,  2.0100, 25.3950],\n",
       "        [11.9220,  6.2290,  7.7110,  3.0560,  3.7460,  1.9490, 25.1840],\n",
       "        [12.3240,  5.5590,  8.4220,  3.2340,  4.2030,  1.9800, 29.5460],\n",
       "        [10.3820,  5.8940,  6.8580,  2.6300,  3.5640,  1.9490, 29.4750],\n",
       "        [10.0470,  5.4250,  6.7520,  3.0200,  3.3200,  1.9490, 29.2640],\n",
       "        [10.5160,  6.0280,  7.1070,  3.3760,  3.1370,  1.9190, 30.9530],\n",
       "        [10.7170,  6.0950,  6.7870,  3.0200,  3.1680,  2.0100, 31.7260],\n",
       "        [ 9.9800,  5.0230,  6.5030,  2.5590,  3.4420,  2.0410, 33.1330],\n",
       "        [11.3200,  5.0900,  7.3560,  2.4520,  3.8680,  2.0410, 28.9830],\n",
       "        [11.3870,  4.9570,  7.3560,  2.4520,  4.2950,  2.1930, 28.9830],\n",
       "        [ 9.3770,  3.8850,  6.8940,  2.2390,  2.4670,  1.1880, 31.7260],\n",
       "        [10.1140,  4.0860,  7.1430,  2.2390,  2.9550,  1.4620, 25.1840],\n",
       "        [10.3820,  4.8230,  6.8940,  2.3100,  3.5030,  2.0100, 30.5310],\n",
       "        [ 9.6450,  4.8900,  6.6100,  1.9190,  3.2590,  1.9190, 27.6460],\n",
       "        [12.7260,  6.4970,  9.3460,  3.4820,  3.1680,  1.9800, 25.4660],\n",
       "        [11.9890,  5.6260,  8.7770,  2.9490,  3.1980,  1.9800, 25.9580],\n",
       "        [12.5250,  6.2960,  8.9550,  3.1630,  3.1370,  2.0100, 25.9580],\n",
       "        [12.3240,  6.2960,  8.8130,  3.3760,  2.9850,  1.9190, 26.0280],\n",
       "        [10.7170,  5.4250,  8.0660,  2.8780,  2.8330,  1.8580, 28.9130],\n",
       "        [11.3200,  5.6260,  7.6760,  2.6300,  3.0460,  1.8880, 30.4600],\n",
       "        [10.8510,  4.6890,  6.8230,  1.8830,  3.3200,  2.0410, 31.3750],\n",
       "        [13.3290,  5.4250,  8.8840,  2.7360,  4.0820,  1.9490, 32.7820],\n",
       "        [11.4540,  5.2240,  7.8530,  2.7720,  3.6550,  2.0100, 31.7260],\n",
       "        [11.0520,  5.9610,  7.4620,  3.1270,  3.5640,  2.1020, 30.3200],\n",
       "        [10.9850,  6.0280,  7.5330,  2.7010,  3.4110,  2.0410, 30.4600],\n",
       "        [12.7930,  5.9610,  8.5640,  3.4470,  3.8380,  2.1630, 32.9220],\n",
       "        [13.3960,  6.4300,  8.7420,  3.4820,  4.5990,  2.2540, 31.0930],\n",
       "        [11.2530,  5.4250,  7.6760,  2.7360,  3.5940,  2.0100, 25.6770],\n",
       "        [ 9.9130,  4.5550,  6.6810,  2.3100,  3.3200,  1.9190, 27.1540],\n",
       "        [10.1810,  5.3580,  7.3200,  2.4870,  3.3200,  2.0710, 28.7720],\n",
       "        [10.8510,  5.2240,  7.2490,  2.4160,  3.3200,  1.9490, 30.6010],\n",
       "        [10.0470,  5.0230,  6.8940,  2.7360,  3.1680,  2.2540, 32.0080],\n",
       "        [11.9220,  5.4250,  7.9240,  2.8780,  4.3860,  2.1020, 33.1330],\n",
       "        [11.4540,  4.9570,  7.4620,  2.3450,  3.9900,  2.0410, 31.5150],\n",
       "        [10.8510,  4.6890,  7.0710,  2.3450,  3.8070,  1.9490, 31.0230],\n",
       "        [11.1860,  4.6220,  7.2850,  2.2030,  3.8990,  1.8880, 31.4450],\n",
       "        [10.6500,  4.6890,  6.8940,  2.1680,  3.8070,  2.0100, 31.7260],\n",
       "        [ 9.9800,  4.3540,  6.6450,  1.9190,  3.5640,  1.9800, 30.9530],\n",
       "        [11.8550,  5.7600,  7.8180,  2.7010,  3.2590,  1.9490, 30.4600],\n",
       "        [10.3820,  5.0900,  6.4670,  2.8430,  3.0150,  1.8280, 28.9130],\n",
       "        [10.7170,  5.4250,  7.4980,  2.3100,  2.8330,  1.9190, 30.3900],\n",
       "        [10.8510,  5.3580,  7.8180,  2.8780,  2.8330,  1.8580, 31.5150],\n",
       "        [ 9.7790,  5.1570,  5.9700,  2.3450,  3.1680,  2.1320, 31.2340],\n",
       "        [ 9.3770,  4.4880,  6.2540,  2.2740,  3.0150,  2.0410, 30.5310],\n",
       "        [11.3870,  5.5590,  7.8530,  2.8430,  3.2590,  2.3450, 30.1090],\n",
       "        [11.8550,  4.4880,  8.2090,  2.0970,  3.8680,  1.8580, 30.3200],\n",
       "        [12.5250,  6.1620,  9.1320,  3.6250,  3.5330,  1.8880, 29.6160]],\n",
       "       dtype=torch.float64), descriptions=['High Useful Load', 'High Useless Load', 'Middle Useful Load', 'Middle Useless Load', 'Low Useful Load', 'Low Useless Load', 'Oil Temperature'], label=None, dataset_name='ETTh1', positions=None)"
      ]
     },
     "execution_count": 17,
     "metadata": {},
     "output_type": "execute_result"
    }
   ],
   "source": [
    "datasets['ett'][0]"
   ]
  },
  {
   "cell_type": "code",
   "execution_count": 12,
   "id": "ec5651a7-3a74-49de-bf61-425f17c2c0f1",
   "metadata": {},
   "outputs": [
    {
     "data": {
      "text/html": [
       "<pre style=\"white-space:pre;overflow-x:auto;line-height:normal;font-family:Menlo,'DejaVu Sans Mono',consolas,'Courier New',monospace\"><span style=\"color: #800080; text-decoration-color: #800080; font-weight: bold\">dict_keys</span><span style=\"font-weight: bold\">([</span><span style=\"color: #008000; text-decoration-color: #008000\">'data'</span>, <span style=\"color: #008000; text-decoration-color: #008000\">'descriptions'</span>, <span style=\"color: #008000; text-decoration-color: #008000\">'label'</span>, <span style=\"color: #008000; text-decoration-color: #008000\">'dataset_name'</span>, <span style=\"color: #008000; text-decoration-color: #008000\">'positions'</span><span style=\"font-weight: bold\">])</span>\n",
       "</pre>\n"
      ],
      "text/plain": [
       "\u001b[1;35mdict_keys\u001b[0m\u001b[1m(\u001b[0m\u001b[1m[\u001b[0m\u001b[32m'data'\u001b[0m, \u001b[32m'descriptions'\u001b[0m, \u001b[32m'label'\u001b[0m, \u001b[32m'dataset_name'\u001b[0m, \u001b[32m'positions'\u001b[0m\u001b[1m]\u001b[0m\u001b[1m)\u001b[0m\n"
      ]
     },
     "metadata": {},
     "output_type": "display_data"
    }
   ],
   "source": [
    "pprint(datasets['ett'][0].__dict__.keys())"
   ]
  },
  {
   "cell_type": "code",
   "execution_count": 15,
   "id": "bf9f0d24-d60f-40d5-8fd8-8dd76a1a7fb4",
   "metadata": {},
   "outputs": [
    {
     "data": {
      "text/html": [
       "<pre style=\"white-space:pre;overflow-x:auto;line-height:normal;font-family:Menlo,'DejaVu Sans Mono',consolas,'Courier New',monospace\"><span style=\"font-weight: bold\">&lt;</span><span style=\"color: #ff00ff; text-decoration-color: #ff00ff; font-weight: bold\">class</span><span style=\"color: #000000; text-decoration-color: #000000\"> </span><span style=\"color: #008000; text-decoration-color: #008000\">'torch.Tensor'</span><span style=\"font-weight: bold\">&gt;</span>\n",
       "</pre>\n"
      ],
      "text/plain": [
       "\u001b[1m<\u001b[0m\u001b[1;95mclass\u001b[0m\u001b[39m \u001b[0m\u001b[32m'torch.Tensor'\u001b[0m\u001b[1m>\u001b[0m\n"
      ]
     },
     "metadata": {},
     "output_type": "display_data"
    },
    {
     "data": {
      "text/html": [
       "<pre style=\"white-space:pre;overflow-x:auto;line-height:normal;font-family:Menlo,'DejaVu Sans Mono',consolas,'Courier New',monospace\"><span style=\"font-weight: bold\">&lt;</span><span style=\"color: #ff00ff; text-decoration-color: #ff00ff; font-weight: bold\">class</span><span style=\"color: #000000; text-decoration-color: #000000\"> </span><span style=\"color: #008000; text-decoration-color: #008000\">'list'</span><span style=\"font-weight: bold\">&gt;</span>\n",
       "</pre>\n"
      ],
      "text/plain": [
       "\u001b[1m<\u001b[0m\u001b[1;95mclass\u001b[0m\u001b[39m \u001b[0m\u001b[32m'list'\u001b[0m\u001b[1m>\u001b[0m\n"
      ]
     },
     "metadata": {},
     "output_type": "display_data"
    },
    {
     "data": {
      "text/html": [
       "<pre style=\"white-space:pre;overflow-x:auto;line-height:normal;font-family:Menlo,'DejaVu Sans Mono',consolas,'Courier New',monospace\"><span style=\"font-weight: bold\">&lt;</span><span style=\"color: #ff00ff; text-decoration-color: #ff00ff; font-weight: bold\">class</span><span style=\"color: #000000; text-decoration-color: #000000\"> </span><span style=\"color: #008000; text-decoration-color: #008000\">'NoneType'</span><span style=\"font-weight: bold\">&gt;</span>\n",
       "</pre>\n"
      ],
      "text/plain": [
       "\u001b[1m<\u001b[0m\u001b[1;95mclass\u001b[0m\u001b[39m \u001b[0m\u001b[32m'NoneType'\u001b[0m\u001b[1m>\u001b[0m\n"
      ]
     },
     "metadata": {},
     "output_type": "display_data"
    },
    {
     "data": {
      "text/html": [
       "<pre style=\"white-space:pre;overflow-x:auto;line-height:normal;font-family:Menlo,'DejaVu Sans Mono',consolas,'Courier New',monospace\"><span style=\"font-weight: bold\">&lt;</span><span style=\"color: #ff00ff; text-decoration-color: #ff00ff; font-weight: bold\">class</span><span style=\"color: #000000; text-decoration-color: #000000\"> </span><span style=\"color: #008000; text-decoration-color: #008000\">'str'</span><span style=\"font-weight: bold\">&gt;</span>\n",
       "</pre>\n"
      ],
      "text/plain": [
       "\u001b[1m<\u001b[0m\u001b[1;95mclass\u001b[0m\u001b[39m \u001b[0m\u001b[32m'str'\u001b[0m\u001b[1m>\u001b[0m\n"
      ]
     },
     "metadata": {},
     "output_type": "display_data"
    }
   ],
   "source": [
    "# of these, the main ones are data, descriptions, label, dataset_name\n",
    "pprint(type(datasets['ett'][0].data))\n",
    "pprint(type(datasets['ett'][0].descriptions))\n",
    "pprint(type(datasets['ett'][0].label))\n",
    "pprint(type(datasets['ett'][0].dataset_name))"
   ]
  },
  {
   "cell_type": "code",
   "execution_count": 47,
   "id": "b8c107fb-5579-4151-83e5-87c46753ca65",
   "metadata": {},
   "outputs": [],
   "source": [
    "from collections import defaultdict\n",
    "from ftse.data.Dataset import UnwindowedDataset\n",
    "from tqdm.auto import tqdm\n",
    "import os\n",
    "import h5py\n",
    "import numpy as np\n",
    "import pandas as pd\n",
    "import torch"
   ]
  },
  {
   "cell_type": "code",
   "execution_count": 75,
   "id": "7470b47c-f5cc-4846-bbe2-2229fbb1b660",
   "metadata": {},
   "outputs": [],
   "source": [
    "ROOT_DIRS = [\n",
    "    '/workspace/research/ftse/ftse/notebooks/'\n",
    "]\n",
    "\n",
    "H5_FILE = '/workspace/research/ftse/ftse/notebooks/testing3.h5'\n",
    "\n",
    "root_dirs=ROOT_DIRS\n",
    "h5_file=H5_FILE"
   ]
  },
  {
   "cell_type": "code",
   "execution_count": 76,
   "id": "c4430e32-24bb-4af5-825b-63fc66b25ea2",
   "metadata": {
    "scrolled": true
   },
   "outputs": [
    {
     "name": "stdout",
     "output_type": "stream",
     "text": [
      "root_prefix notebooks\n"
     ]
    },
    {
     "data": {
      "application/vnd.jupyter.widget-view+json": {
       "model_id": "3bfe0683a19a495ab1cf50c80a6f84cb",
       "version_major": 2,
       "version_minor": 0
      },
      "text/plain": [
       "Datasets in /workspace/research/ftse/ftse/notebooks/:   0%|          | 0/20 [00:00<?, ?it/s]"
      ]
     },
     "metadata": {},
     "output_type": "display_data"
    },
    {
     "data": {
      "application/vnd.jupyter.widget-view+json": {
       "model_id": "7a7490f7c6474caeb870b274b57984a8",
       "version_major": 2,
       "version_minor": 0
      },
      "text/plain": [
       "NCSV: 0it [00:00, ?it/s]"
      ]
     },
     "metadata": {},
     "output_type": "display_data"
    },
    {
     "data": {
      "application/vnd.jupyter.widget-view+json": {
       "model_id": "0a9762b05d68467f888d240baf28212f",
       "version_major": 2,
       "version_minor": 0
      },
      "text/plain": [
       "OCSV:   0%|          | 0/9 [00:00<?, ?it/s]"
      ]
     },
     "metadata": {},
     "output_type": "display_data"
    },
    {
     "name": "stdout",
     "output_type": "stream",
     "text": [
      "[[-2.20713019e-02 -8.98239550e-03 -4.17898319e-05]\n",
      " [-1.07025068e+00 -9.83588730e-03 -8.32209034e-05]\n",
      " [-6.20899438e-01 -1.05613553e-02 -1.24823556e-04]\n",
      " ...\n",
      " [-1.06300209e+00 -8.30315844e-01  1.43189796e+03]\n",
      " [-2.46515500e+00 -1.04526166e+00  1.43190055e+03]\n",
      " [-2.03342837e+00 -6.12638857e-01  1.43190305e+03]]\n",
      "OCSV___Outer_and_Ball___0\n",
      "[[-4.04185677e-01 -7.53755581e-03  9.80253098e+00]\n",
      " [-3.43587759e-01 -1.06832827e-02  9.80446899e+00]\n",
      " [-8.64553058e-01 -1.06771864e-02  9.80660358e+00]\n",
      " ...\n",
      " [ 9.74297429e-02  2.45248426e-01  8.13963763e+02]\n",
      " [ 5.77970012e-01 -2.51928836e-01  8.13970530e+02]\n",
      " [-5.82705680e-01 -1.88240059e-01  8.13977309e+02]]\n",
      "OCSV___Outer_and_Ball___1\n",
      "[[ 2.41407713e-01  3.33227190e-03  8.41927304e+00]\n",
      " [ 1.10728734e+00 -1.05674517e-02  8.42212725e+00]\n",
      " [ 4.35235701e-01  3.78949965e-03  8.42470234e+00]\n",
      " ...\n",
      " [-7.73016062e-01 -7.05706041e-01  1.42156418e+03]\n",
      " [ 6.06259572e-02 -1.23313718e-01  1.42156466e+03]\n",
      " [-9.99416955e-01 -1.71974944e-01  1.42156517e+03]]\n",
      "OCSV___Outer_and_Ball___2\n",
      "[[-1.73014006e+00  4.06383630e-03 -4.15948201e+00]\n",
      " [-1.86069992e+00 -3.65416812e-03 -4.15951326e+00]\n",
      " [-1.57702972e+00  6.31579990e-04 -4.15968443e+00]\n",
      " ...\n",
      " [-1.08530021e-01 -1.46851803e-01  1.36571063e+03]\n",
      " [-9.63982449e-02 -7.23724508e-02  1.36571081e+03]\n",
      " [-3.71600579e-01 -7.36145216e-01  1.36571097e+03]]\n",
      "OCSV___Outer_and_Ball___3\n",
      "[[-8.74026817e-01 -4.83686390e-03 -1.22647318e-04]\n",
      " [ 2.11736680e-01 -1.98827051e-02 -2.17426266e-04]\n",
      " [ 5.20469050e-01 -1.85049254e-02 -1.75373202e-04]\n",
      " ...\n",
      " [-1.59846456e+00  4.49940145e-01  1.44826572e+03]\n",
      " [-1.15800183e+00  7.60409980e-01  1.44826668e+03]\n",
      " [-2.34612947e+00  4.21799301e-01  1.44826773e+03]]\n",
      "OCSV___Outer_and_Ball___4\n",
      "[[ 3.34188368e-01  1.00870499e-02 -4.48753897e-05]\n",
      " [-4.52590855e-01  1.09954090e-02  1.62466183e-04]\n",
      " [ 8.29569605e-02  1.26658144e-02 -1.50381906e-04]\n",
      " ...\n",
      " [ 5.85044204e-02 -1.23246658e-01  1.34234103e+03]\n",
      " [-3.82324094e-01  8.30591392e-01  1.34234177e+03]\n",
      " [-7.43540113e-01  5.59187096e-01  1.34234233e+03]]\n",
      "OCSV___Outer_and_Ball___5\n",
      "[[-4.39794574e-01  1.01784954e-02 -8.64157406e-01]\n",
      " [-7.34462618e-01  2.90183270e-04 -8.64429718e-01]\n",
      " [-1.28936031e+00  1.10441799e-02 -8.64367735e-01]\n",
      " ...\n",
      " [-1.76222525e+00 -7.68547423e-01  1.36344447e+03]\n",
      " [-7.90463873e-01 -1.41930444e+00  1.36344475e+03]\n",
      " [-8.07061886e-02 -4.05764637e-01  1.36344492e+03]]\n",
      "OCSV___Outer_and_Ball___6\n",
      "[[ 5.36106239e-01  3.33836827e-03 -9.11974378e+01]\n",
      " [ 1.83638511e-01  4.51496768e-03 -9.11953032e+01]\n",
      " [ 1.00066183e+00 -4.23332327e-03 -9.11932317e+01]\n",
      " ...\n",
      " [ 2.20808079e-01  1.53231406e+00  1.45134288e+03]\n",
      " [-3.02254371e-01 -1.12315867e-01  1.45134434e+03]\n",
      " [ 5.06118195e-01 -3.58700661e-01  1.45134582e+03]]\n",
      "OCSV___Outer_and_Ball___7\n",
      "[[-1.82920607e+00 -9.53740548e-02 -1.10650861e-01]\n",
      " [ 8.14088518e-01 -4.97244362e-02 -1.10224898e-01]\n",
      " [ 2.20699933e+00 -1.96998140e-02 -1.10430897e-01]\n",
      " ...\n",
      " [ 1.06890459e+00 -4.01829670e+00  1.42181518e+03]\n",
      " [-4.72919846e-02 -1.86624761e+00  1.42181590e+03]\n",
      " [-4.40117682e-01  1.05154823e+00  1.42181660e+03]]\n",
      "OCSV___Outer_and_Ball___8\n"
     ]
    },
    {
     "data": {
      "application/vnd.jupyter.widget-view+json": {
       "model_id": "af87725eaf4948e3ad28ddf3b1c8e103",
       "version_major": 2,
       "version_minor": 0
      },
      "text/plain": [
       ".ipynb_checkpoints:   0%|          | 0/6 [00:00<?, ?it/s]"
      ]
     },
     "metadata": {},
     "output_type": "display_data"
    },
    {
     "data": {
      "application/vnd.jupyter.widget-view+json": {
       "model_id": "bab76df47dad4507b73872cc195fe030",
       "version_major": 2,
       "version_minor": 0
      },
      "text/plain": [
       "IOCSV:   0%|          | 0/5 [00:00<?, ?it/s]"
      ]
     },
     "metadata": {},
     "output_type": "display_data"
    },
    {
     "name": "stdout",
     "output_type": "stream",
     "text": [
      "[[-2.17118564e-01  5.16118290e-03 -1.42960595e-04]\n",
      " [ 4.93730371e-01  6.96570842e-03 -2.89033190e-04]\n",
      " [ 5.95564136e-01  3.27130820e-03 -4.19739280e-04]\n",
      " ...\n",
      " [-2.03730935e-01 -8.21976010e-01  1.35620001e+03]\n",
      " [ 3.37559661e-01  1.16054153e-01  1.35620600e+03]\n",
      " [-7.14850596e-01  4.89450719e-01  1.35621198e+03]]\n",
      "IOCSV___Inner_and_Outer___0\n",
      "[[-2.92353866e-01  3.94190890e-03 -3.23510395e-04]\n",
      " [-5.66806347e-01 -9.71765320e-04 -5.20750889e-04]\n",
      " [ 1.99653675e-01 -5.08071870e-03 -8.34048393e-04]\n",
      " ...\n",
      " [ 2.96659114e-01 -2.28915040e-01  1.37517364e+03]\n",
      " [ 3.59506593e-01  1.16355278e-02  1.37517383e+03]\n",
      " [ 4.24481704e-01  4.64760421e-01  1.37517399e+03]]\n",
      "IOCSV___Inner_and_Outer___1\n",
      "[[ 1.17498993e-01 -5.98907783e-03 -7.12471975e-05]\n",
      " [ 6.57936097e-01 -3.81877011e-03 -1.38940243e-04]\n",
      " [-6.82667859e-01 -4.92830945e-03 -2.07768847e-04]\n",
      " ...\n",
      " [ 2.50320606e-01  1.88210789e-01  1.24572414e+03]\n",
      " [ 1.27131257e-01 -1.14400826e-01  1.24572984e+03]\n",
      " [-5.01751983e-01  8.47155229e-01  1.24573548e+03]]\n",
      "IOCSV___Inner_and_Outer___2\n",
      "[[ 4.65662684e-01 -2.00814822e-03 -6.50819143e-06]\n",
      " [-9.99585250e-02 -2.13617199e-03 -1.52065491e-05]\n",
      " [-6.77101873e-01 -1.78258253e-03 -2.45812817e-05]\n",
      " ...\n",
      " [ 6.77648064e-02  5.61680511e-01  1.30412755e+03]\n",
      " [ 2.65256713e-01  1.40335995e-01  1.30413375e+03]\n",
      " [-1.29574690e-01 -1.16638193e-01  1.30413991e+03]]\n",
      "IOCSV___Inner_and_Outer___3\n",
      "[[ 3.30788642e-03 -6.49507654e-03 -2.82516923e-05]\n",
      " [ 2.55819532e-01 -1.22781286e-03 -1.46387998e-04]\n",
      " [ 3.77576233e-01 -1.43508944e-03 -3.74765642e-04]\n",
      " ...\n",
      " [-9.01216627e-01  6.54156348e-01  1.49158668e+03]\n",
      " [ 6.20254434e-01 -1.45449638e-01  1.49159329e+03]\n",
      " [ 4.10350688e+00 -4.56053593e-01  1.49160000e+03]]\n",
      "IOCSV___Inner_and_Outer___4\n"
     ]
    },
    {
     "data": {
      "application/vnd.jupyter.widget-view+json": {
       "model_id": "7377c26ae7f741f79f79c6f2797e47d5",
       "version_major": 2,
       "version_minor": 0
      },
      "text/plain": [
       "test:   0%|          | 0/5 [00:00<?, ?it/s]"
      ]
     },
     "metadata": {},
     "output_type": "display_data"
    },
    {
     "data": {
      "application/vnd.jupyter.widget-view+json": {
       "model_id": "a71c24792de84d8bb21e77f13a0d0380",
       "version_major": 2,
       "version_minor": 0
      },
      "text/plain": [
       "ICSV: 0it [00:00, ?it/s]"
      ]
     },
     "metadata": {},
     "output_type": "display_data"
    },
    {
     "data": {
      "application/vnd.jupyter.widget-view+json": {
       "model_id": "f55af317790347b38bdbe093f6d6e018",
       "version_major": 2,
       "version_minor": 0
      },
      "text/plain": [
       "IBCSV:   0%|          | 0/4 [00:00<?, ?it/s]"
      ]
     },
     "metadata": {},
     "output_type": "display_data"
    },
    {
     "name": "stdout",
     "output_type": "stream",
     "text": [
      "[[-1.93415877e-01 -4.31867245e-03 -3.82638441e-06]\n",
      " [ 2.83375124e-01 -1.69723335e-03 -1.10891327e-04]\n",
      " [-1.48595365e-01  9.17259436e-03 -1.91446873e-04]\n",
      " ...\n",
      " [ 5.13415550e-01  6.59785700e-02  1.48979837e+03]\n",
      " [-1.83477205e+00  1.78255416e-01  1.48979926e+03]\n",
      " [-3.89810437e-01  1.38519277e-01  1.48980000e+03]]\n",
      "IBCSV___Inner_and_Ball___0\n",
      "[[-5.76469093e-01  1.74026939e-02  1.78756779e-05]\n",
      " [-5.05598792e-01  1.72929592e-02  3.98089804e-05]\n",
      " [ 1.07667137e+00  1.87926662e-02  5.58445728e-05]\n",
      " ...\n",
      " [-5.91191827e-01  3.57527676e-02  1.40183002e+03]\n",
      " [-8.32717814e-01 -6.67451319e-01  1.40183314e+03]\n",
      " [-2.62053928e+00 -3.04686822e-01  1.40183646e+03]]\n",
      "IBCSV___Inner_and_Ball___1\n",
      "[[ 4.81101096e-02  8.48370455e-03 -1.19462419e-03]\n",
      " [ 1.05476711e+00  8.16669331e-03 -7.49039204e-04]\n",
      " [ 1.63533052e+00  1.66711295e-02 -1.05612604e-03]\n",
      " ...\n",
      " [-6.14199527e-01 -1.18921524e+00  1.31676995e+03]\n",
      " [-1.96262882e-01  1.10781772e+00  1.31677119e+03]\n",
      " [-1.61352259e+00  6.81711940e-01  1.31677288e+03]]\n",
      "IBCSV___Inner_and_Ball___2\n",
      "[[ 2.17424353e+00 -2.52962816e-02 -1.05427953e-04]\n",
      " [ 1.37948416e+00 -4.74200084e-02  1.06884721e-03]\n",
      " [-6.60635578e-01 -1.53226203e-02  2.25089031e-04]\n",
      " ...\n",
      " [-1.45789446e+00  1.27574223e+00  1.39614462e+03]\n",
      " [ 2.09889480e-01  7.16223491e-01  1.39614567e+03]\n",
      " [ 2.83546192e+00  1.32092243e+00  1.39614640e+03]]\n",
      "IBCSV___Inner_and_Ball___3\n"
     ]
    },
    {
     "data": {
      "application/vnd.jupyter.widget-view+json": {
       "model_id": "8a67f38e5a204d528013d4b9fc3510ff",
       "version_major": 2,
       "version_minor": 0
      },
      "text/plain": [
       "BCSV:   0%|          | 0/8 [00:00<?, ?it/s]"
      ]
     },
     "metadata": {},
     "output_type": "display_data"
    },
    {
     "name": "stdout",
     "output_type": "stream",
     "text": [
      "[[-1.31655622e+00 -5.66263770e-01  1.56432739e-03]\n",
      " [ 4.35125966e-01 -1.18319203e+00  2.59454745e-03]\n",
      " [-1.86441630e-01 -9.77762649e-01  4.26894358e-03]\n",
      " ...\n",
      " [-7.29164873e-01  1.59883360e-02  1.44359639e+03]\n",
      " [ 3.08473880e-01  1.92803758e-02  1.44359773e+03]\n",
      " [ 5.37563271e-01  6.47799882e-03  1.44360000e+03]]\n",
      "BCSV___Ball___0\n",
      "[[-4.15116469e-01  2.00119402e-02 -1.22647318e-04]\n",
      " [ 8.70284857e-01  2.57364316e-02 -2.17426266e-04]\n",
      " [-7.25043727e-01  1.23853814e-02 -1.75373202e-04]\n",
      " ...\n",
      " [-1.30529013e+00 -1.00133121e+00  1.44826572e+03]\n",
      " [-3.11057529e-01  1.04831105e+00  1.44826668e+03]\n",
      " [-1.47094069e+00 -4.54383188e-01  1.44826773e+03]]\n",
      "BCSV___Ball___1\n",
      "[[-5.11298370e+01 -1.91694298e-02  1.48680000e+03]\n",
      " [ 2.71409332e+01 -2.45927960e-03  1.48679311e+03]\n",
      " [ 5.68805098e+00 -1.59078718e-02  1.48678698e+03]\n",
      " ...\n",
      " [-4.99935264e-01 -2.24019655e-01  5.81167977e-03]\n",
      " [ 1.20570713e+00  7.93586426e-01  5.07070134e-03]\n",
      " [ 2.91001683e-01 -1.25702517e+00  2.31389018e-03]]\n",
      "BCSV___Ball___2\n",
      "[[ 8.05132951e-01 -3.28618768e-02 -1.22746108e-04]\n",
      " [-1.67369781e-02 -3.37031759e-02 -2.17601398e-04]\n",
      " [-2.53794326e-01 -3.18254939e-02 -1.75514461e-04]\n",
      " ...\n",
      " [ 3.84288337e-01 -5.28246807e-01  1.44943227e+03]\n",
      " [ 1.41116330e-01 -1.74114770e-01  1.44943323e+03]\n",
      " [ 1.02807720e+00  1.01403117e+00  1.44943428e+03]]\n",
      "BCSV___Ball___3\n",
      "[[-3.43575567e-01 -3.14207304e-03 -1.23141266e-04]\n",
      " [-7.14031279e-02 -2.44708686e-03 -2.18301926e-04]\n",
      " [ 1.89978736e-01 -2.60559248e-03 -1.76079497e-04]\n",
      " ...\n",
      " [ 1.02379145e+00 -6.52667622e-01  1.45409845e+03]\n",
      " [ 4.32973948e-01  2.52753058e-01  1.45409941e+03]\n",
      " [-6.82247209e-01 -2.29232051e-01  1.45410047e+03]]\n",
      "BCSV___Ball___4\n",
      "[[ 6.13688644e-01  2.92662299e-02  1.37040000e+03]\n",
      " [ 2.61753703e-02  2.07983719e-02  1.37039817e+03]\n",
      " [ 2.69414437e-01  1.59273723e-02  1.37039606e+03]\n",
      " ...\n",
      " [ 1.14681010e+00 -1.87402808e-03  1.02577210e-02]\n",
      " [ 4.32598021e-03  5.27101900e-01  6.94641518e-03]\n",
      " [ 6.57777591e-01  1.91691816e-01  3.50479257e-03]]\n",
      "BCSV___Ball___5\n",
      "[[ 1.31938005e+00  2.54133240e-02 -5.05591581e+07]\n",
      " [ 8.72333237e-01  2.60351538e-02 -5.05591304e+07]\n",
      " [-2.05626906e-01  2.66265017e-02 -5.05591028e+07]\n",
      " ...\n",
      " [-1.72993038e-01 -4.74970629e-01  2.70788018e+00]\n",
      " [-4.79737991e-01  4.57325253e-02  4.01796527e+00]\n",
      " [-2.24726833e-01 -1.14211838e-01  2.11201111e+00]]\n",
      "BCSV___Ball___6\n",
      "[[-1.28812644e-01  2.14567799e-02  1.29641101e+01]\n",
      " [-1.36496749e+00  2.15787073e-02  1.29641869e+01]\n",
      " [ 1.67446552e-01  2.19810677e-02  1.29642592e+01]\n",
      " ...\n",
      " [ 6.16230830e-01 -3.07186334e-01  1.36198544e+03]\n",
      " [ 1.30179202e+00 -1.33768993e-01  1.36199270e+03]\n",
      " [-3.20787336e-01  6.70393384e-02  1.36200000e+03]]\n",
      "BCSV___Ball___7\n"
     ]
    }
   ],
   "source": [
    "with h5py.File(h5_file, \"w\") as h5f:\n",
    "    for root_dir in root_dirs:\n",
    "        root_prefix = os.path.basename(os.path.normpath(root_dir))\n",
    "        print(\"root_prefix\", root_prefix)\n",
    "        for dataset_folder in tqdm(os.listdir(root_dir), desc=f\"Datasets in {root_dir}\"):\n",
    "            #print(\"dataset_folder\", dataset_folder)\n",
    "            dataset_path = os.path.join(root_dir, dataset_folder)\n",
    "            if not os.path.isdir(dataset_path):\n",
    "                #print(\"skipping\", dataset_path)\n",
    "                continue  # Skip non-directory items\n",
    "            label_counts = {}\n",
    "\n",
    "            for csv_file in tqdm(os.listdir(dataset_path), desc=dataset_folder, leave=False):\n",
    "                if not csv_file.lower().endswith(\".csv\"):\n",
    "                    continue\n",
    "\n",
    "                # Example filename: \"file_5_Normal Operation.csv\"\n",
    "                # Extract label: take everything after the second underscore and strip \".csv\".\n",
    "                parts = csv_file.split('_')\n",
    "                if len(parts) >= 3:\n",
    "                    label = '_'.join(parts[2:]).replace('.csv', '')\n",
    "                else:\n",
    "                    label = \"Unknown\"\n",
    "\n",
    "                # Initialize or update the file index counter for this label.\n",
    "                if label not in label_counts:\n",
    "                    label_counts[label] = 0\n",
    "                file_idx = label_counts[label]\n",
    "                label_counts[label] += 1\n",
    "\n",
    "                # Read the CSV file.\n",
    "                csv_path = os.path.join(dataset_path, csv_file)\n",
    "                df = pd.read_csv(csv_path)\n",
    "                # Drop unwanted columns.\n",
    "                cols_to_drop = ['Unnamed: 0', 'time_sec', 'Time', 'Label']\n",
    "                df = df.drop([col for col in cols_to_drop if col in df.columns], axis=1)\n",
    "                # Save the column names as metadata.\n",
    "                column_names = df.columns.tolist()\n",
    "                data_array = df.to_numpy()\n",
    "                # Create a flat key in the format:\n",
    "                # \"root_prefix___dataset_folder___label___file_idx\"\n",
    "                key = f\"{dataset_folder}___{label}___{file_idx}\"\n",
    "                dset = h5f.create_dataset(key, data=data_array)\n",
    "                dset.attrs[\"descriptions\"] = list(column_names)"
   ]
  },
  {
   "cell_type": "code",
   "execution_count": 77,
   "id": "ec70799b-3bf5-45a6-a408-2db279a4206c",
   "metadata": {
    "scrolled": true
   },
   "outputs": [
    {
     "name": "stdout",
     "output_type": "stream",
     "text": [
      "<HDF5 dataset \"BCSV___Ball___0\": shape (222208, 3), type \"<f8\">\n",
      "<HDF5 dataset \"BCSV___Ball___1\": shape (256000, 3), type \"<f8\">\n",
      "<HDF5 dataset \"BCSV___Ball___2\": shape (205824, 3), type \"<f8\">\n",
      "<HDF5 dataset \"BCSV___Ball___3\": shape (256000, 3), type \"<f8\">\n",
      "<HDF5 dataset \"BCSV___Ball___4\": shape (256000, 3), type \"<f8\">\n",
      "<HDF5 dataset \"BCSV___Ball___5\": shape (180736, 3), type \"<f8\">\n",
      "<HDF5 dataset \"BCSV___Ball___6\": shape (256000, 3), type \"<f8\">\n",
      "<HDF5 dataset \"BCSV___Ball___7\": shape (218112, 3), type \"<f8\">\n",
      "<HDF5 dataset \"IBCSV___Inner_and_Ball___0\": shape (256000, 3), type \"<f8\">\n",
      "<HDF5 dataset \"IBCSV___Inner_and_Ball___1\": shape (256000, 3), type \"<f8\">\n",
      "<HDF5 dataset \"IBCSV___Inner_and_Ball___2\": shape (256000, 3), type \"<f8\">\n",
      "<HDF5 dataset \"IBCSV___Inner_and_Ball___3\": shape (256000, 3), type \"<f8\">\n",
      "<HDF5 dataset \"IOCSV___Inner_and_Outer___0\": shape (256000, 3), type \"<f8\">\n",
      "<HDF5 dataset \"IOCSV___Inner_and_Outer___1\": shape (256000, 3), type \"<f8\">\n",
      "<HDF5 dataset \"IOCSV___Inner_and_Outer___2\": shape (256000, 3), type \"<f8\">\n",
      "<HDF5 dataset \"IOCSV___Inner_and_Outer___3\": shape (256000, 3), type \"<f8\">\n",
      "<HDF5 dataset \"IOCSV___Inner_and_Outer___4\": shape (256000, 3), type \"<f8\">\n",
      "<HDF5 dataset \"OCSV___Outer_and_Ball___0\": shape (256000, 3), type \"<f8\">\n",
      "<HDF5 dataset \"OCSV___Outer_and_Ball___1\": shape (121082, 3), type \"<f8\">\n",
      "<HDF5 dataset \"OCSV___Outer_and_Ball___2\": shape (256000, 3), type \"<f8\">\n",
      "<HDF5 dataset \"OCSV___Outer_and_Ball___3\": shape (256000, 3), type \"<f8\">\n",
      "<HDF5 dataset \"OCSV___Outer_and_Ball___4\": shape (256000, 3), type \"<f8\">\n",
      "<HDF5 dataset \"OCSV___Outer_and_Ball___5\": shape (256000, 3), type \"<f8\">\n",
      "<HDF5 dataset \"OCSV___Outer_and_Ball___6\": shape (256000, 3), type \"<f8\">\n",
      "<HDF5 dataset \"OCSV___Outer_and_Ball___7\": shape (256000, 3), type \"<f8\">\n",
      "<HDF5 dataset \"OCSV___Outer_and_Ball___8\": shape (256000, 3), type \"<f8\">\n"
     ]
    }
   ],
   "source": [
    "h5_file=H5_FILE\n",
    "window_size=128\n",
    "stride=1\n",
    "concat=True\n",
    "datasets = defaultdict(list)\n",
    "f = h5py.File(h5_file, 'r')\n",
    "for key in f.keys():\n",
    "    dataset_name, label, file_idx = key.split('___')\n",
    "    datasets[dataset_name].append(\n",
    "        UnwindowedDataset(\n",
    "            data=f[key],\n",
    "            dataset_name=dataset_name,\n",
    "            descriptions=f[key].attrs[\"descriptions\"],\n",
    "            label=label\n",
    "        )\n",
    "    )\n",
    "\n",
    "if window_size and stride:\n",
    "    for dataset_name in datasets:\n",
    "        datasets[dataset_name] = [\n",
    "            dataset.window(window_size=window_size, stride=stride)\n",
    "            for dataset in datasets[dataset_name]\n",
    "        ]\n",
    "\n",
    "if concat:\n",
    "    for dataset_name in datasets:\n",
    "        datasets[dataset_name] = torch.utils.data.ConcatDataset(\n",
    "            datasets[dataset_name]\n",
    "        )\n",
    "\n"
   ]
  },
  {
   "cell_type": "code",
   "execution_count": 78,
   "id": "2e495e8a-f1ac-4530-be8d-feed8aeace57",
   "metadata": {},
   "outputs": [
    {
     "name": "stdout",
     "output_type": "stream",
     "text": [
      "['BCSV', 'IBCSV', 'IOCSV', 'OCSV']\n"
     ]
    }
   ],
   "source": [
    "print(list(datasets.keys()))"
   ]
  },
  {
   "cell_type": "code",
   "execution_count": 79,
   "id": "981d0c85-a8f7-4ebd-9587-8a015e28003a",
   "metadata": {},
   "outputs": [
    {
     "name": "stdout",
     "output_type": "stream",
     "text": [
      "<torch.utils.data.dataset.ConcatDataset object at 0x77feb6998e50>\n"
     ]
    }
   ],
   "source": [
    "pprint(datasets['BCSV'])"
   ]
  },
  {
   "cell_type": "code",
   "execution_count": 85,
   "id": "96662a51-979f-480e-8d44-a78cf93aed3c",
   "metadata": {
    "scrolled": true
   },
   "outputs": [
    {
     "data": {
      "text/plain": [
       "Data(data=tensor([[-1.9342e-01, -4.3187e-03, -3.8264e-06],\n",
       "        [ 2.8338e-01, -1.6972e-03, -1.1089e-04],\n",
       "        [-1.4860e-01,  9.1726e-03, -1.9145e-04],\n",
       "        [ 4.5684e-02,  1.4135e-02, -4.4621e-04],\n",
       "        [ 7.4934e-02, -7.4620e-04, -5.4794e-04],\n",
       "        [ 3.3499e-01, -3.2924e-05, -5.3409e-04],\n",
       "        [ 9.8289e-02, -1.3652e-02, -4.6163e-04],\n",
       "        [-3.5176e-01, -3.6822e-04, -5.8462e-04],\n",
       "        [-5.8498e-01, -3.2091e-03, -6.2347e-04],\n",
       "        [ 1.2883e-01,  1.5738e-02, -8.4377e-04],\n",
       "        [-1.2998e+00, -4.1541e-03, -9.9924e-04],\n",
       "        [ 9.7666e-01, -2.0447e-03, -1.0283e-03],\n",
       "        [-1.3347e+00, -2.0462e-02, -8.9044e-04],\n",
       "        [ 2.0381e-01, -7.3181e-03, -9.5609e-04],\n",
       "        [ 5.0050e-01, -1.2079e-02, -1.0130e-03],\n",
       "        [-5.9599e-01,  5.4782e-03, -1.1574e-03],\n",
       "        [ 6.4868e-01, -1.7460e-03, -1.3743e-03],\n",
       "        [-4.2621e-01, -8.3057e-03, -1.4342e-03],\n",
       "        [-9.8998e-01, -1.5865e-02, -1.3641e-03],\n",
       "        [ 4.6674e-03, -1.7944e-02, -1.3287e-03],\n",
       "        [ 3.0349e-01, -1.0092e-02, -1.4343e-03],\n",
       "        [-4.6506e-01, -4.5991e-03, -1.4882e-03],\n",
       "        [ 6.3641e-01,  6.8804e-03, -1.7414e-03],\n",
       "        [ 5.6188e-01, -1.0750e-02, -1.8414e-03],\n",
       "        [ 7.1582e-01, -8.7690e-03, -1.8433e-03],\n",
       "        [-6.6231e-03, -2.3278e-02, -1.7411e-03],\n",
       "        [-5.0730e-02, -9.5189e-03, -1.8577e-03],\n",
       "        [-6.6407e-01, -1.3030e-02, -1.8919e-03],\n",
       "        [-8.4510e-02,  8.4837e-03, -2.1029e-03],\n",
       "        [-1.1420e+00, -9.2141e-03, -2.2788e-03],\n",
       "        [ 1.5775e+00, -8.2996e-03, -2.3353e-03],\n",
       "        [-4.9512e-01, -2.3248e-02, -2.2154e-03],\n",
       "        [ 2.5383e-01, -1.4018e-02, -2.2751e-03],\n",
       "        [ 6.1088e-01, -1.6847e-02, -2.3596e-03],\n",
       "        [-3.6698e-01,  1.1339e-04, -2.5154e-03],\n",
       "        [-1.5263e-01, -3.5200e-03, -2.7762e-03],\n",
       "        [-4.4008e-01, -1.4140e-02, -2.8749e-03],\n",
       "        [ 9.1264e-01, -1.9273e-02, -2.8293e-03],\n",
       "        [ 1.8513e-01, -2.6302e-02, -2.7800e-03],\n",
       "        [ 1.9004e+00, -1.7182e-02, -2.9229e-03],\n",
       "        [-4.7371e-02, -1.5646e-02, -3.0006e-03],\n",
       "        [-9.7634e-01,  1.1437e-03, -3.2991e-03],\n",
       "        [-3.7114e-01, -1.8712e-02, -3.4439e-03],\n",
       "        [-4.4746e-01, -1.5536e-02, -3.4792e-03],\n",
       "        [ 5.6567e-01, -3.5130e-02, -3.3470e-03],\n",
       "        [ 6.2887e-01, -1.6926e-02, -3.4826e-03],\n",
       "        [-1.2420e-01, -2.2090e-02, -3.5446e-03],\n",
       "        [ 2.6074e-01, -6.3406e-05, -3.7913e-03],\n",
       "        [-5.3030e-01, -1.5402e-02, -4.0059e-03],\n",
       "        [-4.2490e-01, -1.6188e-02, -4.0875e-03],\n",
       "        [-2.1053e-02, -3.2185e-02, -3.9709e-03],\n",
       "        [-6.5886e-01, -2.4059e-02, -3.9949e-03],\n",
       "        [-4.1683e-02, -2.2285e-02, -4.0916e-03],\n",
       "        [-2.0189e-01, -1.0537e-02, -4.2094e-03],\n",
       "        [ 2.1663e-01, -7.9216e-03, -4.4599e-03],\n",
       "        [-3.1129e-01, -2.1480e-02, -4.5585e-03],\n",
       "        [ 9.2467e-01, -2.5028e-02, -4.4986e-03],\n",
       "        [ 4.6049e-01, -3.4599e-02, -4.3843e-03],\n",
       "        [-9.9705e-01, -1.9066e-02, -4.5148e-03],\n",
       "        [-3.8938e-01, -2.1730e-02, -4.5476e-03],\n",
       "        [-8.3600e-01,  5.2425e-05, -4.8086e-03],\n",
       "        [-1.4993e+00, -2.1596e-02, -4.9343e-03],\n",
       "        [-5.9486e-01, -1.6457e-02, -4.9618e-03],\n",
       "        [ 7.2611e-01, -3.3258e-02, -4.8011e-03],\n",
       "        [ 5.3808e-01, -1.8822e-02, -4.8763e-03],\n",
       "        [ 6.3058e-02, -2.1706e-02, -4.9117e-03],\n",
       "        [-1.5694e-01, -7.0962e-04, -5.1058e-03],\n",
       "        [-5.1962e-02, -1.0720e-02, -5.3243e-03],\n",
       "        [ 3.4399e-02, -1.3914e-02, -5.4109e-03],\n",
       "        [-4.7268e-01, -2.6284e-02, -5.3062e-03],\n",
       "        [ 2.7194e-01, -2.6217e-02, -5.2939e-03],\n",
       "        [-6.9294e-02, -1.8407e-02, -5.4004e-03],\n",
       "        [-1.2303e-01, -1.1031e-02, -5.5144e-03],\n",
       "        [ 3.2504e-01, -2.5995e-03, -5.7975e-03],\n",
       "        [ 1.6564e-01, -2.0584e-02, -5.9159e-03],\n",
       "        [-3.1804e-01, -2.0358e-02, -5.8978e-03],\n",
       "        [ 4.2406e-03, -3.5032e-02, -5.7714e-03],\n",
       "        [-1.9507e-01, -1.8011e-02, -5.9124e-03],\n",
       "        [-3.4282e-02, -2.2413e-02, -5.9695e-03],\n",
       "        [ 8.4804e-01,  1.9667e-03, -6.2716e-03],\n",
       "        [-2.7196e-01, -1.7450e-02, -6.4486e-03],\n",
       "        [ 3.3357e-01, -1.1823e-02, -6.5234e-03],\n",
       "        [ 7.6829e-01, -3.1015e-02, -6.3524e-03],\n",
       "        [-5.5007e-01, -1.5432e-02, -6.4439e-03],\n",
       "        [ 1.1254e-01, -1.6164e-02, -6.5268e-03],\n",
       "        [ 2.0267e-01,  3.4054e-03, -6.7408e-03],\n",
       "        [-1.1459e+00, -4.4748e-04, -7.0067e-03],\n",
       "        [ 8.9557e-01, -6.5987e-03, -7.1304e-03],\n",
       "        [-2.8731e-01, -1.2756e-02, -7.0626e-03],\n",
       "        [-4.0381e-01, -1.6950e-02, -7.0197e-03],\n",
       "        [ 5.7919e-01, -5.8123e-03, -7.1793e-03],\n",
       "        [ 7.2724e-01, -3.9224e-03, -7.2721e-03],\n",
       "        [-5.0854e-01,  1.1264e-02, -7.5948e-03],\n",
       "        [ 8.8914e-01, -8.0253e-03, -7.7595e-03],\n",
       "        [-1.0733e+00, -4.7698e-03, -7.8074e-03],\n",
       "        [-5.7340e-01, -2.5833e-02, -7.6916e-03],\n",
       "        [-3.2071e-01, -7.9704e-03, -7.8418e-03],\n",
       "        [ 7.9140e-01, -1.4256e-02, -7.9163e-03],\n",
       "        [ 4.7569e-01,  9.5262e-03, -8.1845e-03],\n",
       "        [ 6.7698e-02, -8.1350e-03, -8.4075e-03],\n",
       "        [ 7.5266e-03, -6.9584e-03, -8.5182e-03],\n",
       "        [-7.7836e-01, -2.3864e-02, -8.3978e-03],\n",
       "        [-9.8777e-01, -1.2037e-02, -8.4610e-03],\n",
       "        [ 3.9502e-01, -1.0086e-02, -8.5781e-03],\n",
       "        [-8.5623e-01,  6.3561e-03, -8.7571e-03],\n",
       "        [-9.3717e-01,  1.0642e-02, -9.0624e-03],\n",
       "        [ 2.2348e+00, -6.5475e-04, -9.2036e-03],\n",
       "        [-7.1264e-01, -1.8923e-03, -9.1838e-03],\n",
       "        [ 3.8436e-01, -8.8544e-03, -9.1200e-03],\n",
       "        [ 1.0187e+00,  7.4961e-03, -9.2956e-03],\n",
       "        [-8.3491e-01,  6.6670e-03, -9.3943e-03],\n",
       "        [-7.2831e-01,  2.9071e-02, -9.7398e-03],\n",
       "        [ 4.7509e-01,  8.7641e-03, -9.9272e-03],\n",
       "        [-8.4066e-01,  1.3044e-02, -1.0014e-02],\n",
       "        [ 1.9716e+00, -6.5438e-03, -9.9029e-03],\n",
       "        [-2.6556e-01,  9.3982e-03, -1.0037e-02],\n",
       "        [-7.6049e-01,  3.8078e-03, -1.0129e-02],\n",
       "        [ 1.2846e+00,  2.5346e-02, -1.0435e-02],\n",
       "        [-1.3889e+00,  1.2702e-02, -1.0715e-02],\n",
       "        [-3.8454e-01,  7.7826e-03, -1.0851e-02],\n",
       "        [ 4.2829e-01, -5.4953e-03, -1.0779e-02],\n",
       "        [-1.3236e+00, -3.4652e-03, -1.0826e-02],\n",
       "        [ 4.5549e-01,  1.4058e-03, -1.0971e-02],\n",
       "        [ 9.3169e-01,  9.5384e-03, -1.1152e-02],\n",
       "        [-4.7310e-01,  1.9543e-02, -1.1484e-02],\n",
       "        [ 6.8356e-02,  1.7960e-03, -1.1659e-02],\n",
       "        [ 1.3458e-02,  3.1555e-03, -1.1670e-02],\n",
       "        [-9.8641e-01, -1.0635e-02, -1.1580e-02]], dtype=torch.float64), descriptions=['Vibration signal', 'ru: Vibration signal during run-up time', 'rpm: Shaft Angular velocity in RPM during run-up time'], label='Inner_and_Ball', dataset_name='IBCSV', positions=None)"
      ]
     },
     "execution_count": 85,
     "metadata": {},
     "output_type": "execute_result"
    }
   ],
   "source": [
    "datasets['IBCSV'][0]"
   ]
  },
  {
   "cell_type": "code",
   "execution_count": 81,
   "id": "2d22f04f-fe3f-4da7-b1c5-bb9fda5d1f7f",
   "metadata": {},
   "outputs": [
    {
     "name": "stdout",
     "output_type": "stream",
     "text": [
      "dict_keys(['data', 'descriptions', 'label', 'dataset_name', 'positions'])\n"
     ]
    }
   ],
   "source": [
    "pprint(datasets['BCSV'][0].__dict__.keys())"
   ]
  },
  {
   "cell_type": "code",
   "execution_count": 83,
   "id": "7fcd2c47-2be6-42ff-bd02-ed4237ac9ed0",
   "metadata": {},
   "outputs": [
    {
     "name": "stdout",
     "output_type": "stream",
     "text": [
      "<class 'torch.Tensor'>\n",
      "<class 'list'>\n",
      "<class 'str'>\n",
      "<class 'str'>\n"
     ]
    }
   ],
   "source": [
    "pprint(type(datasets['BCSV'][0].data))\n",
    "pprint(type(datasets['BCSV'][0].descriptions))\n",
    "pprint(type(datasets['BCSV'][0].label))\n",
    "pprint(type(datasets['BCSV'][0].dataset_name))"
   ]
  },
  {
   "cell_type": "code",
   "execution_count": 162,
   "id": "c029563b-2a6d-496f-87d5-6f908574e7d7",
   "metadata": {},
   "outputs": [],
   "source": [
    "from collections import defaultdict\n",
    "from ftse.data.Dataset import UnwindowedDataset\n",
    "from tqdm.auto import tqdm\n",
    "import os\n",
    "import h5py\n",
    "import numpy as np\n",
    "import pandas as pd\n",
    "import torch\n",
    "\n",
    "os.environ[\"HDF5_USE_FILE_LOCKING\"] = \"FALSE\"\n",
    "\n",
    "\n",
    "ROOT_DIRS = [\n",
    "    '/data/TimeSeriesResearch/datasets/c3server_labelled_separated/',\n",
    "    '/data/TimeSeriesResearch/datasets/liu_ice_processed_labelled_separated/',\n",
    "    '/data/TimeSeriesResearch/datasets/kaggle/processed/processed_datasets_labelled_separated/',\n",
    "    '/data/TimeSeriesResearch/datasets/Satya/'\n",
    "]\n",
    "\n",
    "H5_FILE = '/data/TimeSeriesResearch/datasets/satya_data2.h5'\n",
    "\n",
    "\n",
    "def create_h5py_dataset_from_root_dirs(root_dirs=ROOT_DIRS, h5_file=H5_FILE):\n",
    "    with h5py.File(h5_file, \"w\") as h5f:\n",
    "        # Iterate over each root directory.\n",
    "        for root_dir in root_dirs:\n",
    "            print(\"root\", root_dir)\n",
    "            # Use the basename of the root directory as a prefix\n",
    "            root_prefix = os.path.basename(os.path.normpath(root_dir))\n",
    "            # Iterate over dataset folders in the current root directory.\n",
    "            for dataset_folder in tqdm(os.listdir(root_dir), desc=f\"Datasets in {root_dir}\"):\n",
    "                print(\"dataset_folder\", dataset_folder)\n",
    "                dataset_path = os.path.join(root_dir, dataset_folder)\n",
    "                if not os.path.isdir(dataset_path):\n",
    "                    print(\"skipping\", dataset_path)\n",
    "                    print(\"\\n\"*50)\n",
    "                    continue  # Skip non-directory items\n",
    "\n",
    "                # Dictionary to track file indices for each label within this dataset folder.\n",
    "                label_counts = {}\n",
    "\n",
    "                # Iterate over each CSV file in the current dataset folder.\n",
    "                for csv_file in tqdm(os.listdir(dataset_path), desc=dataset_folder, leave=False):\n",
    "                    # Process only CSV files.\n",
    "                    if not csv_file.lower().endswith(\".csv\"):\n",
    "                        continue\n",
    "\n",
    "                    # Example filename: \"file_5_Normal Operation.csv\"\n",
    "                    # Extract label: take everything after the second underscore and strip \".csv\".\n",
    "                    parts = csv_file.split('_')\n",
    "                    if len(parts) >= 3:\n",
    "                        label = '_'.join(parts[2:]).replace('.csv', '')\n",
    "                    else:\n",
    "                        label = \"Unknown\"\n",
    "\n",
    "                    # Initialize or update the file index counter for this label.\n",
    "                    if label not in label_counts:\n",
    "                        label_counts[label] = 0\n",
    "                    file_idx = label_counts[label]\n",
    "                    label_counts[label] += 1\n",
    "\n",
    "                    # Read the CSV file.\n",
    "                    csv_path = os.path.join(dataset_path, csv_file)\n",
    "                    df = pd.read_csv(csv_path)\n",
    "                    # Drop unwanted columns.\n",
    "                    cols_to_drop = ['Unnamed: 0', 'time_sec', 'Time', 'Label']\n",
    "                    df = df.drop([col for col in cols_to_drop if col in df.columns], axis=1)\n",
    "                    # Save the column names as metadata.\n",
    "                    column_names = df.columns.tolist()\n",
    "                    data_array = df.to_numpy()\n",
    "\n",
    "                    # Create a flat key in the format:\n",
    "                    # \"root_prefix___dataset_folder___label___file_idx\"\n",
    "                    key = f\"{dataset_folder}___{label}___{file_idx}\"\n",
    "                    dset = h5f.create_dataset(key, data=data_array)\n",
    "                    dset.attrs[\"descriptions\"] = list(column_names)\n",
    "\n",
    "    print(\"Flat HDF5 file created successfully:\", h5_file)\n",
    "\n",
    "\n",
    "def load_h5py_dataset(h5_file=H5_FILE, window_size=None, stride=None, concat=False):\n",
    "    datasets = defaultdict(list)\n",
    "    f = h5py.File(h5_file, 'r')\n",
    "    for key in f.keys():\n",
    "        dataset_name, label, file_idx = key.split('___')\n",
    "        datasets[dataset_name].append(\n",
    "            UnwindowedDataset(\n",
    "                data=f[key],\n",
    "                dataset_name=dataset_name,\n",
    "                descriptions=f[key].attrs[\"descriptions\"],\n",
    "                label=label\n",
    "            )\n",
    "        )\n",
    "\n",
    "    if window_size and stride:\n",
    "        for dataset_name in datasets:\n",
    "            datasets[dataset_name] = [\n",
    "                dataset.window(window_size=window_size, stride=stride)\n",
    "                for dataset in datasets[dataset_name]\n",
    "            ]\n",
    "\n",
    "    if concat:\n",
    "        for dataset_name in datasets:\n",
    "            datasets[dataset_name] = torch.utils.data.ConcatDataset(\n",
    "                datasets[dataset_name]\n",
    "            )\n",
    "\n",
    "    return datasets\n",
    "\n"
   ]
  },
  {
   "cell_type": "code",
   "execution_count": 163,
   "id": "00f8c810-d3dd-44b5-8be9-b8c60a6f8d57",
   "metadata": {
    "scrolled": true
   },
   "outputs": [
    {
     "name": "stdout",
     "output_type": "stream",
     "text": [
      "root /data/TimeSeriesResearch/datasets/c3server_labelled_separated/\n"
     ]
    },
    {
     "data": {
      "application/vnd.jupyter.widget-view+json": {
       "model_id": "80d166ecba2342b2be91da81d8764c4b",
       "version_major": 2,
       "version_minor": 0
      },
      "text/plain": [
       "Datasets in /data/TimeSeriesResearch/datasets/c3server_labelled_separated/:   0%|          | 0/1 [00:00<?, ?it…"
      ]
     },
     "metadata": {},
     "output_type": "display_data"
    },
    {
     "name": "stdout",
     "output_type": "stream",
     "text": [
      "dataset_folder c3server\n"
     ]
    },
    {
     "data": {
      "application/vnd.jupyter.widget-view+json": {
       "model_id": "b82322de6fcd4d04979495a351224f05",
       "version_major": 2,
       "version_minor": 0
      },
      "text/plain": [
       "c3server:   0%|          | 0/20 [00:00<?, ?it/s]"
      ]
     },
     "metadata": {},
     "output_type": "display_data"
    },
    {
     "name": "stdout",
     "output_type": "stream",
     "text": [
      "root /data/TimeSeriesResearch/datasets/liu_ice_processed_labelled_separated/\n"
     ]
    },
    {
     "data": {
      "application/vnd.jupyter.widget-view+json": {
       "model_id": "9fab7b7864bf458e948f3aef49df83d7",
       "version_major": 2,
       "version_minor": 0
      },
      "text/plain": [
       "Datasets in /data/TimeSeriesResearch/datasets/liu_ice_processed_labelled_separated/:   0%|          | 0/1 [00:…"
      ]
     },
     "metadata": {},
     "output_type": "display_data"
    },
    {
     "name": "stdout",
     "output_type": "stream",
     "text": [
      "dataset_folder liu\n"
     ]
    },
    {
     "data": {
      "application/vnd.jupyter.widget-view+json": {
       "model_id": "301d5760638a426aa82a6b96d11f99c8",
       "version_major": 2,
       "version_minor": 0
      },
      "text/plain": [
       "liu:   0%|          | 0/15 [00:00<?, ?it/s]"
      ]
     },
     "metadata": {},
     "output_type": "display_data"
    },
    {
     "name": "stdout",
     "output_type": "stream",
     "text": [
      "root /data/TimeSeriesResearch/datasets/kaggle/processed/processed_datasets_labelled_separated/\n"
     ]
    },
    {
     "data": {
      "application/vnd.jupyter.widget-view+json": {
       "model_id": "afe860e4654c4931928c1e2662d66ca9",
       "version_major": 2,
       "version_minor": 0
      },
      "text/plain": [
       "Datasets in /data/TimeSeriesResearch/datasets/kaggle/processed/processed_datasets_labelled_separated/:   0%|  …"
      ]
     },
     "metadata": {},
     "output_type": "display_data"
    },
    {
     "name": "stdout",
     "output_type": "stream",
     "text": [
      "dataset_folder MetroPT-3 Dataset\n"
     ]
    },
    {
     "data": {
      "application/vnd.jupyter.widget-view+json": {
       "model_id": "c910d236813d499fa027c63d69fd374a",
       "version_major": 2,
       "version_minor": 0
      },
      "text/plain": [
       "MetroPT-3 Dataset:   0%|          | 0/12 [00:00<?, ?it/s]"
      ]
     },
     "metadata": {},
     "output_type": "display_data"
    },
    {
     "name": "stdout",
     "output_type": "stream",
     "text": [
      "dataset_folder SKAB - Skoltech Anomaly Benchmark\n"
     ]
    },
    {
     "data": {
      "application/vnd.jupyter.widget-view+json": {
       "model_id": "b09e5e4c22124782bcc97a30d2a0d97f",
       "version_major": 2,
       "version_minor": 0
      },
      "text/plain": [
       "SKAB - Skoltech Anomaly Benchmark:   0%|          | 0/102 [00:00<?, ?it/s]"
      ]
     },
     "metadata": {},
     "output_type": "display_data"
    },
    {
     "name": "stdout",
     "output_type": "stream",
     "text": [
      "dataset_folder Household Electric Power Consumption\n"
     ]
    },
    {
     "data": {
      "application/vnd.jupyter.widget-view+json": {
       "model_id": "8eb59ceb8b0b45fe99534df3ab9fe572",
       "version_major": 2,
       "version_minor": 0
      },
      "text/plain": [
       "Household Electric Power Consumption:   0%|          | 0/1 [00:00<?, ?it/s]"
      ]
     },
     "metadata": {},
     "output_type": "display_data"
    },
    {
     "name": "stdout",
     "output_type": "stream",
     "text": [
      "dataset_folder Gas sensor array temperature modulation\n"
     ]
    },
    {
     "data": {
      "application/vnd.jupyter.widget-view+json": {
       "model_id": "7d1d078f06f94c67b7603646629fdf15",
       "version_major": 2,
       "version_minor": 0
      },
      "text/plain": [
       "Gas sensor array temperature modulation:   0%|          | 0/13 [00:00<?, ?it/s]"
      ]
     },
     "metadata": {},
     "output_type": "display_data"
    },
    {
     "name": "stdout",
     "output_type": "stream",
     "text": [
      "dataset_folder Appliances energy prediction Data Set\n"
     ]
    },
    {
     "data": {
      "application/vnd.jupyter.widget-view+json": {
       "model_id": "1872e816945e41e994a38c20213adf5c",
       "version_major": 2,
       "version_minor": 0
      },
      "text/plain": [
       "Appliances energy prediction Data Set:   0%|          | 0/1 [00:00<?, ?it/s]"
      ]
     },
     "metadata": {},
     "output_type": "display_data"
    },
    {
     "name": "stdout",
     "output_type": "stream",
     "text": [
      "dataset_folder Machinery Fault Diagnosis\n"
     ]
    },
    {
     "data": {
      "application/vnd.jupyter.widget-view+json": {
       "model_id": "8b7e8b9fb377454b830cff555e87012d",
       "version_major": 2,
       "version_minor": 0
      },
      "text/plain": [
       "Machinery Fault Diagnosis:   0%|          | 0/1951 [00:00<?, ?it/s]"
      ]
     },
     "metadata": {},
     "output_type": "display_data"
    },
    {
     "name": "stdout",
     "output_type": "stream",
     "text": [
      "dataset_folder Predictive Maintenance Of Hydraulics System\n"
     ]
    },
    {
     "data": {
      "application/vnd.jupyter.widget-view+json": {
       "model_id": "e88f81f970a14d9fb4c9974353792d0b",
       "version_major": 2,
       "version_minor": 0
      },
      "text/plain": [
       "Predictive Maintenance Of Hydraulics System:   0%|          | 0/2205 [00:00<?, ?it/s]"
      ]
     },
     "metadata": {},
     "output_type": "display_data"
    },
    {
     "name": "stdout",
     "output_type": "stream",
     "text": [
      "dataset_folder Unleashing the Power of Wearables\n"
     ]
    },
    {
     "data": {
      "application/vnd.jupyter.widget-view+json": {
       "model_id": "be162702fdaa48c4b2599760097390b1",
       "version_major": 2,
       "version_minor": 0
      },
      "text/plain": [
       "Unleashing the Power of Wearables:   0%|          | 0/6971 [00:00<?, ?it/s]"
      ]
     },
     "metadata": {},
     "output_type": "display_data"
    },
    {
     "name": "stdout",
     "output_type": "stream",
     "text": [
      "root /data/TimeSeriesResearch/datasets/Satya/\n"
     ]
    },
    {
     "data": {
      "application/vnd.jupyter.widget-view+json": {
       "model_id": "9f04b5a0333d49b6b8553986fc113d6b",
       "version_major": 2,
       "version_minor": 0
      },
      "text/plain": [
       "Datasets in /data/TimeSeriesResearch/datasets/Satya/:   0%|          | 0/19 [00:00<?, ?it/s]"
      ]
     },
     "metadata": {},
     "output_type": "display_data"
    },
    {
     "name": "stdout",
     "output_type": "stream",
     "text": [
      "dataset_folder Accelerometer\n"
     ]
    },
    {
     "data": {
      "application/vnd.jupyter.widget-view+json": {
       "model_id": "2c8ea3e1e39842a68d08e75c359b4eb4",
       "version_major": 2,
       "version_minor": 0
      },
      "text/plain": [
       "Accelerometer:   0%|          | 0/18 [00:00<?, ?it/s]"
      ]
     },
     "metadata": {},
     "output_type": "display_data"
    },
    {
     "name": "stdout",
     "output_type": "stream",
     "text": [
      "dataset_folder BCSV\n"
     ]
    },
    {
     "data": {
      "application/vnd.jupyter.widget-view+json": {
       "model_id": "65c71cc021ba456988f2ab58812caae5",
       "version_major": 2,
       "version_minor": 0
      },
      "text/plain": [
       "BCSV:   0%|          | 0/8 [00:00<?, ?it/s]"
      ]
     },
     "metadata": {},
     "output_type": "display_data"
    },
    {
     "name": "stdout",
     "output_type": "stream",
     "text": [
      "dataset_folder Wyoming\n"
     ]
    },
    {
     "data": {
      "application/vnd.jupyter.widget-view+json": {
       "model_id": "2762226fd10343bcbd56a93fed6ddc83",
       "version_major": 2,
       "version_minor": 0
      },
      "text/plain": [
       "Wyoming:   0%|          | 0/16 [00:00<?, ?it/s]"
      ]
     },
     "metadata": {},
     "output_type": "display_data"
    },
    {
     "name": "stdout",
     "output_type": "stream",
     "text": [
      "dataset_folder Maryland\n"
     ]
    },
    {
     "data": {
      "application/vnd.jupyter.widget-view+json": {
       "model_id": "9e9a27c9b4cc463fa52c9283bf357c60",
       "version_major": 2,
       "version_minor": 0
      },
      "text/plain": [
       "Maryland:   0%|          | 0/21 [00:00<?, ?it/s]"
      ]
     },
     "metadata": {},
     "output_type": "display_data"
    },
    {
     "name": "stdout",
     "output_type": "stream",
     "text": [
      "dataset_folder California\n"
     ]
    },
    {
     "data": {
      "application/vnd.jupyter.widget-view+json": {
       "model_id": "442f940a37ba4190904491eefae7c2d2",
       "version_major": 2,
       "version_minor": 0
      },
      "text/plain": [
       "California:   0%|          | 0/111 [00:00<?, ?it/s]"
      ]
     },
     "metadata": {},
     "output_type": "display_data"
    },
    {
     "name": "stdout",
     "output_type": "stream",
     "text": [
      "dataset_folder Delaware\n"
     ]
    },
    {
     "data": {
      "application/vnd.jupyter.widget-view+json": {
       "model_id": "a6c2c744bafd425882525d3cea495b94",
       "version_major": 2,
       "version_minor": 0
      },
      "text/plain": [
       "Delaware:   0%|          | 0/6 [00:00<?, ?it/s]"
      ]
     },
     "metadata": {},
     "output_type": "display_data"
    },
    {
     "name": "stdout",
     "output_type": "stream",
     "text": [
      "dataset_folder Airquality_pattern\n"
     ]
    },
    {
     "data": {
      "application/vnd.jupyter.widget-view+json": {
       "model_id": "17290747d87d4d5a99638ac1ea9435aa",
       "version_major": 2,
       "version_minor": 0
      },
      "text/plain": [
       "Airquality_pattern:   0%|          | 0/3 [00:00<?, ?it/s]"
      ]
     },
     "metadata": {},
     "output_type": "display_data"
    },
    {
     "name": "stdout",
     "output_type": "stream",
     "text": [
      "dataset_folder HAR\n"
     ]
    },
    {
     "data": {
      "application/vnd.jupyter.widget-view+json": {
       "model_id": "81f2f93957624c0b9c3f492964d7e971",
       "version_major": 2,
       "version_minor": 0
      },
      "text/plain": [
       "HAR:   0%|          | 0/4 [00:00<?, ?it/s]"
      ]
     },
     "metadata": {},
     "output_type": "display_data"
    },
    {
     "name": "stdout",
     "output_type": "stream",
     "text": [
      "dataset_folder Florida\n"
     ]
    },
    {
     "data": {
      "application/vnd.jupyter.widget-view+json": {
       "model_id": "ac813e20a51745bf99864fdd5cd26193",
       "version_major": 2,
       "version_minor": 0
      },
      "text/plain": [
       "Florida:   0%|          | 0/54 [00:00<?, ?it/s]"
      ]
     },
     "metadata": {},
     "output_type": "display_data"
    },
    {
     "name": "stdout",
     "output_type": "stream",
     "text": [
      "dataset_folder Texas\n"
     ]
    },
    {
     "data": {
      "application/vnd.jupyter.widget-view+json": {
       "model_id": "3a35c6c3dfb547b38f1d241d09d568b0",
       "version_major": 2,
       "version_minor": 0
      },
      "text/plain": [
       "Texas:   0%|          | 0/6 [00:00<?, ?it/s]"
      ]
     },
     "metadata": {},
     "output_type": "display_data"
    },
    {
     "name": "stdout",
     "output_type": "stream",
     "text": [
      "dataset_folder Michigan\n"
     ]
    },
    {
     "data": {
      "application/vnd.jupyter.widget-view+json": {
       "model_id": "9e93522b57d74087a99fd8ee590bacf5",
       "version_major": 2,
       "version_minor": 0
      },
      "text/plain": [
       "Michigan:   0%|          | 0/10 [00:00<?, ?it/s]"
      ]
     },
     "metadata": {},
     "output_type": "display_data"
    },
    {
     "name": "stdout",
     "output_type": "stream",
     "text": [
      "dataset_folder OCSV\n"
     ]
    },
    {
     "data": {
      "application/vnd.jupyter.widget-view+json": {
       "model_id": "78665369bd8049a09edd18138d181974",
       "version_major": 2,
       "version_minor": 0
      },
      "text/plain": [
       "OCSV:   0%|          | 0/9 [00:00<?, ?it/s]"
      ]
     },
     "metadata": {},
     "output_type": "display_data"
    },
    {
     "name": "stdout",
     "output_type": "stream",
     "text": [
      "dataset_folder turbofan\n"
     ]
    },
    {
     "data": {
      "application/vnd.jupyter.widget-view+json": {
       "model_id": "66443b70e5ef475ab8d0195d1eeddcd3",
       "version_major": 2,
       "version_minor": 0
      },
      "text/plain": [
       "turbofan:   0%|          | 0/5 [00:00<?, ?it/s]"
      ]
     },
     "metadata": {},
     "output_type": "display_data"
    },
    {
     "name": "stdout",
     "output_type": "stream",
     "text": [
      "dataset_folder NewYork\n"
     ]
    },
    {
     "data": {
      "application/vnd.jupyter.widget-view+json": {
       "model_id": "170e18cad5684abda917c105dcafc55c",
       "version_major": 2,
       "version_minor": 0
      },
      "text/plain": [
       "NewYork:   0%|          | 0/6 [00:00<?, ?it/s]"
      ]
     },
     "metadata": {},
     "output_type": "display_data"
    },
    {
     "name": "stdout",
     "output_type": "stream",
     "text": [
      "dataset_folder IOCSV\n"
     ]
    },
    {
     "data": {
      "application/vnd.jupyter.widget-view+json": {
       "model_id": "e55630e367e74dda93715f9472d0c7b2",
       "version_major": 2,
       "version_minor": 0
      },
      "text/plain": [
       "IOCSV:   0%|          | 0/5 [00:00<?, ?it/s]"
      ]
     },
     "metadata": {},
     "output_type": "display_data"
    },
    {
     "name": "stdout",
     "output_type": "stream",
     "text": [
      "dataset_folder Illinois\n"
     ]
    },
    {
     "data": {
      "application/vnd.jupyter.widget-view+json": {
       "model_id": "f03021f5d4e04a83b1647a3caacaecf0",
       "version_major": 2,
       "version_minor": 0
      },
      "text/plain": [
       "Illinois:   0%|          | 0/9 [00:00<?, ?it/s]"
      ]
     },
     "metadata": {},
     "output_type": "display_data"
    },
    {
     "name": "stdout",
     "output_type": "stream",
     "text": [
      "dataset_folder Gyrometer\n"
     ]
    },
    {
     "data": {
      "application/vnd.jupyter.widget-view+json": {
       "model_id": "03f0325389f6485b97210c911a46342d",
       "version_major": 2,
       "version_minor": 0
      },
      "text/plain": [
       "Gyrometer:   0%|          | 0/18 [00:00<?, ?it/s]"
      ]
     },
     "metadata": {},
     "output_type": "display_data"
    },
    {
     "name": "stdout",
     "output_type": "stream",
     "text": [
      "dataset_folder IBCSV\n"
     ]
    },
    {
     "data": {
      "application/vnd.jupyter.widget-view+json": {
       "model_id": "0e3486d7f2af4a6396a031fa3b1b2c14",
       "version_major": 2,
       "version_minor": 0
      },
      "text/plain": [
       "IBCSV:   0%|          | 0/4 [00:00<?, ?it/s]"
      ]
     },
     "metadata": {},
     "output_type": "display_data"
    },
    {
     "name": "stdout",
     "output_type": "stream",
     "text": [
      "dataset_folder sleepedf\n"
     ]
    },
    {
     "data": {
      "application/vnd.jupyter.widget-view+json": {
       "model_id": "f79931dcee264791aa98bb48d1a89071",
       "version_major": 2,
       "version_minor": 0
      },
      "text/plain": [
       "sleepedf:   0%|          | 0/28 [00:00<?, ?it/s]"
      ]
     },
     "metadata": {},
     "output_type": "display_data"
    },
    {
     "name": "stdout",
     "output_type": "stream",
     "text": [
      "Flat HDF5 file created successfully: /data/TimeSeriesResearch/datasets/satya_data2.h5\n"
     ]
    }
   ],
   "source": [
    "create_h5py_dataset_from_root_dirs()"
   ]
  },
  {
   "cell_type": "code",
   "execution_count": 164,
   "id": "86359251-e49c-4def-aeb3-0e139e41ffde",
   "metadata": {},
   "outputs": [],
   "source": [
    "h5_ds = load_h5py_dataset(window_size=128, stride=1, concat=True)"
   ]
  },
  {
   "cell_type": "code",
   "execution_count": 165,
   "id": "45d8ae37-84fa-4565-87d4-4034f550f2ef",
   "metadata": {},
   "outputs": [
    {
     "name": "stdout",
     "output_type": "stream",
     "text": [
      "dict_keys(['Accelerometer', 'Airquality_pattern', 'Appliances energy prediction Data Set', 'BCSV', 'California', 'Delaware', 'Florida', 'Gas sensor array temperature modulation', 'Gyrometer', 'HAR', 'Household Electric Power Consumption', 'IBCSV', 'IOCSV', 'Illinois', 'Machinery Fault Diagnosis', 'Maryland', 'MetroPT-3 Dataset', 'Michigan', 'NewYork', 'OCSV', 'Predictive Maintenance Of Hydraulics System', 'SKAB - Skoltech Anomaly Benchmark', 'Texas', 'Unleashing the Power of Wearables', 'Wyoming', 'c3server', 'liu', 'sleepedf', 'turbofan'])\n"
     ]
    }
   ],
   "source": [
    "print(h5_ds.keys())"
   ]
  },
  {
   "cell_type": "code",
   "execution_count": 170,
   "id": "5fd3d207-8ef8-4611-b58c-5f4110313a73",
   "metadata": {
    "scrolled": true
   },
   "outputs": [
    {
     "data": {
      "text/plain": [
       "Data(data=tensor([[-1.7312e-03,  5.4721e-03,  4.4153e-03],\n",
       "        [ 3.9997e-04,  1.4475e-04, -7.7101e-03],\n",
       "        [-5.9090e-02,  2.3032e-01,  1.8095e-02],\n",
       "        [ 9.0877e-03, -4.4330e-02, -3.6740e-02],\n",
       "        [ 6.5123e-03, -4.6307e-03,  1.2650e-02],\n",
       "        [ 2.8620e-04,  6.4749e-03,  4.2130e-03],\n",
       "        [ 2.6204e-03,  3.0584e-03, -1.7183e-03],\n",
       "        [-2.7738e-04,  1.5401e-04, -2.0406e-03],\n",
       "        [ 2.0981e-03,  2.6142e-03,  7.6258e-03],\n",
       "        [-4.8276e-04,  1.8593e-03, -4.9718e-03],\n",
       "        [ 8.2107e-04,  7.0453e-05,  2.4144e-04],\n",
       "        [-2.6471e-03,  4.1843e-03,  1.6769e-03],\n",
       "        [-3.5108e-03, -4.1480e-03, -2.2711e-03],\n",
       "        [ 4.5778e-04,  1.2255e-02, -5.3278e-02],\n",
       "        [ 2.8814e-02, -1.1116e-02,  9.3829e-03],\n",
       "        [ 5.2609e-03, -2.8241e-03, -5.0431e-04],\n",
       "        [-1.7224e-03,  3.0544e-03,  7.5523e-04],\n",
       "        [ 6.4456e-03,  3.3897e-03, -5.5996e-03],\n",
       "        [-2.8074e-03,  3.5505e-04, -1.2833e-03],\n",
       "        [-3.7072e-03, -1.3995e-03,  1.5702e-03],\n",
       "        [ 9.3043e-04,  3.6089e-03, -2.5553e-03],\n",
       "        [-2.3347e-03, -5.2029e-03,  4.6813e-04],\n",
       "        [-3.1458e-04,  3.0635e-03, -7.5261e-03],\n",
       "        [ 2.0347e-04, -2.4372e-03,  2.0373e-03],\n",
       "        [ 5.3365e-03, -3.2617e-03,  4.4647e-03],\n",
       "        [ 2.6508e-02,  1.0589e-02, -1.1712e-01],\n",
       "        [-5.7297e-03,  2.3264e-02, -1.6724e-02],\n",
       "        [ 2.7155e-03, -1.6772e-02,  9.3428e-03],\n",
       "        [-3.5893e-03,  6.1330e-03,  1.0239e-03],\n",
       "        [-6.6080e-04,  7.3619e-03, -6.7403e-03],\n",
       "        [-2.9623e-03, -1.8918e-03,  2.5161e-04],\n",
       "        [-1.5248e-03,  4.1430e-03, -1.8006e-03],\n",
       "        [-2.0818e-04,  3.7286e-03, -1.6318e-03],\n",
       "        [ 1.8962e-03, -5.0409e-03, -6.0316e-04],\n",
       "        [-8.2346e-04,  4.5857e-03,  1.0138e-02],\n",
       "        [ 6.5274e-03, -3.7604e-03,  2.1727e-03],\n",
       "        [-1.5873e-03, -4.7976e-04, -1.1522e-02],\n",
       "        [-7.4655e-02,  2.7937e-01, -2.9437e-01],\n",
       "        [-8.4169e-02,  3.4035e-02, -3.6508e-01],\n",
       "        [-1.9857e-02,  2.5611e-02,  2.0154e-02],\n",
       "        [-2.0443e-02,  3.4609e-03,  4.2005e-02],\n",
       "        [-6.2990e-04,  1.5202e-02,  6.5935e-02],\n",
       "        [ 1.2615e-02,  7.8509e-03,  2.9997e-02],\n",
       "        [-7.9256e-03, -2.8152e-03, -1.6587e-02],\n",
       "        [ 7.4614e-03, -1.8278e-03, -1.2457e-02],\n",
       "        [ 1.7815e-03, -1.8426e-03, -1.3037e-02],\n",
       "        [-3.7160e-03,  6.5033e-04,  1.1991e-02],\n",
       "        [-4.1759e-02, -3.3059e-02, -1.2953e-01],\n",
       "        [-2.5445e-01,  1.0097e-01,  2.2943e-01],\n",
       "        [-1.4023e-01,  8.8876e-02,  1.1415e-01],\n",
       "        [-1.3782e-01,  1.4033e-01,  2.0926e-01],\n",
       "        [ 4.1759e-01,  1.7697e-01,  7.8088e-02],\n",
       "        [ 4.3716e-01, -3.6138e-01, -7.1024e-02],\n",
       "        [-1.6705e-03,  5.6831e-03, -1.1603e-01],\n",
       "        [-2.2593e-01, -1.9349e-01,  4.6529e-03],\n",
       "        [ 6.7120e-03,  2.8906e-02, -1.2094e-01],\n",
       "        [-5.5723e-02,  4.0603e-02, -1.2431e-01],\n",
       "        [ 1.0337e-02, -6.2053e-02, -7.3618e-02],\n",
       "        [-8.6329e-02, -2.4872e-01, -6.2173e-02],\n",
       "        [ 2.5362e-01,  2.1307e-02, -1.4281e-01],\n",
       "        [-3.0343e-01,  8.9817e-03,  2.2978e-01],\n",
       "        [-1.7270e-01,  1.4065e-01,  1.8426e-01],\n",
       "        [ 2.3324e-01,  3.2368e-01,  3.2797e-01],\n",
       "        [-2.9902e-01, -2.2093e-01,  1.0041e-01],\n",
       "        [-2.6843e-01, -2.7854e-01,  3.8491e-02],\n",
       "        [-9.6299e-03,  2.6213e-01, -1.0851e-01],\n",
       "        [-1.0687e-02,  1.0609e-01, -6.5899e-02],\n",
       "        [ 2.5793e-01,  1.2903e-01, -1.0295e-01],\n",
       "        [ 7.1657e-02, -5.1708e-01, -1.9975e-01],\n",
       "        [-3.1954e-01, -5.3102e-02,  3.7995e-02],\n",
       "        [-1.2978e-01,  1.6536e-01,  5.0487e-02],\n",
       "        [-1.0261e-01,  2.3093e-01,  2.2436e-01],\n",
       "        [ 4.0059e-01,  1.9853e-01,  1.5973e-01],\n",
       "        [ 3.9186e-01, -6.3822e-01, -1.2798e-01],\n",
       "        [ 5.5686e-03, -7.0374e-02, -1.2743e-01],\n",
       "        [-1.2921e-01,  6.2912e-02, -1.0419e-01],\n",
       "        [ 3.5626e-02,  6.6113e-02, -6.6293e-02],\n",
       "        [ 1.6960e-03,  1.1024e-01,  2.0517e-02],\n",
       "        [ 1.2322e-01,  8.2788e-02, -6.7380e-02],\n",
       "        [ 9.2046e-02, -4.9769e-01, -1.0454e-01],\n",
       "        [-1.2066e-01,  1.5983e-01,  4.7194e-02],\n",
       "        [-3.0715e-01,  1.8998e-02,  1.4801e-01],\n",
       "        [-1.4889e-01, -4.8400e-02,  9.9876e-02],\n",
       "        [-4.4590e-01,  1.1018e-01,  8.7966e-02],\n",
       "        [-9.9210e-02, -1.3901e-01, -7.7694e-03],\n",
       "        [-1.5555e-01,  5.5620e-02, -7.6984e-02],\n",
       "        [-3.1682e-02,  2.1570e-01, -3.8143e-02],\n",
       "        [ 2.2030e-02,  1.4907e-01, -5.7238e-02],\n",
       "        [ 1.1058e-01, -6.9175e-02,  2.5831e-02],\n",
       "        [-1.3892e-01, -1.1614e-01, -1.2298e-01],\n",
       "        [ 1.5736e-01,  1.3563e-01, -2.2228e-02],\n",
       "        [-3.1275e-01, -5.4649e-02,  8.3549e-02],\n",
       "        [-1.1265e-01,  1.5471e-01,  1.6984e-01],\n",
       "        [ 3.4428e-01,  2.2902e-01,  1.5598e-01],\n",
       "        [-4.0017e-01, -1.0747e-01,  1.8559e-01],\n",
       "        [-8.5317e-02, -2.6648e-01,  1.4615e-02],\n",
       "        [ 6.1474e-02,  5.0633e-02, -1.0933e-01],\n",
       "        [ 4.5970e-02, -6.7752e-04, -1.1164e-01],\n",
       "        [ 8.9851e-02, -1.8777e-01, -7.4535e-02],\n",
       "        [-1.9586e-01,  1.9347e-02,  5.0035e-02],\n",
       "        [-2.0628e-01, -5.1621e-02,  9.5950e-02],\n",
       "        [ 1.0092e-01, -2.0707e-01, -2.1329e-02],\n",
       "        [ 1.5464e-01,  1.5804e-01, -2.9074e-02],\n",
       "        [ 3.0078e-03,  2.5069e-01, -5.8686e-02],\n",
       "        [-2.2855e-01,  6.0816e-02, -1.2279e-01],\n",
       "        [-1.3051e-01,  2.6567e-01, -9.7019e-02],\n",
       "        [ 2.3865e-01,  2.0912e-01, -1.8573e-01],\n",
       "        [-3.4442e-02,  2.3621e-01, -6.4005e-02],\n",
       "        [-3.1628e-01,  1.8741e-01, -1.0243e-01],\n",
       "        [-3.8307e-02,  2.3917e-01, -1.3061e-01],\n",
       "        [-2.0834e-02,  2.3048e-01, -1.2124e-01],\n",
       "        [ 2.1587e-01,  2.0423e-01, -2.4410e-01],\n",
       "        [ 5.7669e-01,  4.2921e-02, -3.2272e-01],\n",
       "        [ 3.3693e-01, -1.6434e-01, -2.1289e-01],\n",
       "        [-2.7866e-02, -3.1825e-01, -1.7100e-01],\n",
       "        [ 1.3498e-01, -4.1690e-01, -1.8442e-01],\n",
       "        [ 4.4154e-01,  9.4637e-02, -1.7959e-01],\n",
       "        [ 3.5315e-01, -1.8317e-01, -2.7780e-01],\n",
       "        [ 7.6465e-02,  1.7509e-01, -5.8143e-02],\n",
       "        [-2.3480e-02,  2.1261e-01, -2.3013e-01],\n",
       "        [ 3.1606e-01,  1.5093e-01, -2.1023e-01],\n",
       "        [-9.1199e-03,  1.6259e-02,  4.1569e-02],\n",
       "        [ 7.0069e-03, -1.9045e-02, -4.3679e-02],\n",
       "        [-4.8281e-02,  3.8579e-02, -2.2376e-02],\n",
       "        [ 1.2196e-01, -2.3343e-02, -4.6917e-02],\n",
       "        [ 2.1721e-01, -4.4863e-01, -1.9245e-01],\n",
       "        [ 1.5456e-01, -2.3427e-01, -1.6477e-01],\n",
       "        [ 3.0495e-01, -4.2142e-02, -2.0966e-01]], dtype=torch.float64), descriptions=['x-axis', 'y-axis', 'z-axis'], label='BodyAccelerometer', dataset_name='HAR', positions=None)"
      ]
     },
     "execution_count": 170,
     "metadata": {},
     "output_type": "execute_result"
    }
   ],
   "source": [
    "h5_ds[\"HAR\"][200]"
   ]
  },
  {
   "cell_type": "code",
   "execution_count": 4,
   "id": "5bd98a4b-910f-46cb-8bb7-9ca4f8b1068b",
   "metadata": {},
   "outputs": [],
   "source": [
    "import pandas as pd\n",
    "import mne"
   ]
  },
  {
   "cell_type": "code",
   "execution_count": 156,
   "id": "52cb6af5-74a6-427e-bed6-311c60b67669",
   "metadata": {},
   "outputs": [
    {
     "name": "stdout",
     "output_type": "stream",
     "text": [
      "Extracting EDF parameters from /workspace/research/ftse/ftse/notebooks/test/sleepedf/SC4101E0-PSG.edf...\n",
      "EDF file detected\n",
      "Setting channel info structure...\n",
      "Creating raw.info structure...\n",
      "Reading 0 ... 8159999  =      0.000 ... 81599.990 secs...\n"
     ]
    },
    {
     "name": "stderr",
     "output_type": "stream",
     "text": [
      "/tmp/ipykernel_704971/3814463732.py:1: RuntimeWarning: Channels contain different highpass filters. Highest filter setting will be stored.\n",
      "  raw = mne.io.read_raw_edf(\"test/sleepedf/SC4101E0-PSG.edf\", preload=True)\n",
      "/tmp/ipykernel_704971/3814463732.py:1: RuntimeWarning: Channels contain different lowpass filters. Lowest filter setting will be stored.\n",
      "  raw = mne.io.read_raw_edf(\"test/sleepedf/SC4101E0-PSG.edf\", preload=True)\n",
      "/tmp/ipykernel_704971/3814463732.py:1: RuntimeWarning: Highpass cutoff frequency 16.0 is greater than lowpass cutoff frequency 0.7, setting values to 0 and Nyquist.\n",
      "  raw = mne.io.read_raw_edf(\"test/sleepedf/SC4101E0-PSG.edf\", preload=True)\n"
     ]
    },
    {
     "name": "stdout",
     "output_type": "stream",
     "text": [
      "['EEG Fpz-Cz', 'EEG Pz-Oz', 'EOG horizontal', 'Resp oro-nasal', 'EMG submental', 'Temp rectal', 'Event marker']\n"
     ]
    }
   ],
   "source": [
    "raw = mne.io.read_raw_edf(\"test/sleepedf/SC4101E0-PSG.edf\", preload=True)\n",
    "print(raw.ch_names)"
   ]
  },
  {
   "cell_type": "code",
   "execution_count": 157,
   "id": "b6de57e6-3339-47d4-9cea-b3775b856953",
   "metadata": {},
   "outputs": [],
   "source": [
    "data, times = raw.get_data(return_times=True)\n",
    "df = pd.DataFrame(data.T, columns=raw.ch_names)\n",
    "df[\"timestamp\"] = times"
   ]
  },
  {
   "cell_type": "code",
   "execution_count": 158,
   "id": "fa22b05f-5cdc-4bb4-9aae-7785c8c36693",
   "metadata": {},
   "outputs": [
    {
     "data": {
      "text/html": [
       "<div>\n",
       "<style scoped>\n",
       "    .dataframe tbody tr th:only-of-type {\n",
       "        vertical-align: middle;\n",
       "    }\n",
       "\n",
       "    .dataframe tbody tr th {\n",
       "        vertical-align: top;\n",
       "    }\n",
       "\n",
       "    .dataframe thead th {\n",
       "        text-align: right;\n",
       "    }\n",
       "</style>\n",
       "<table border=\"1\" class=\"dataframe\">\n",
       "  <thead>\n",
       "    <tr style=\"text-align: right;\">\n",
       "      <th></th>\n",
       "      <th>EEG Fpz-Cz</th>\n",
       "      <th>EEG Pz-Oz</th>\n",
       "      <th>EOG horizontal</th>\n",
       "      <th>Resp oro-nasal</th>\n",
       "      <th>EMG submental</th>\n",
       "      <th>Temp rectal</th>\n",
       "      <th>Event marker</th>\n",
       "      <th>timestamp</th>\n",
       "    </tr>\n",
       "  </thead>\n",
       "  <tbody>\n",
       "    <tr>\n",
       "      <th>0</th>\n",
       "      <td>-2.893773e-07</td>\n",
       "      <td>0.000006</td>\n",
       "      <td>-0.000064</td>\n",
       "      <td>800.000000</td>\n",
       "      <td>0.000004</td>\n",
       "      <td>36.899636</td>\n",
       "      <td>1001.000000</td>\n",
       "      <td>0.00</td>\n",
       "    </tr>\n",
       "    <tr>\n",
       "      <th>1</th>\n",
       "      <td>1.510867e-06</td>\n",
       "      <td>0.000008</td>\n",
       "      <td>-0.000056</td>\n",
       "      <td>804.667024</td>\n",
       "      <td>0.000004</td>\n",
       "      <td>36.899330</td>\n",
       "      <td>1000.994589</td>\n",
       "      <td>0.01</td>\n",
       "    </tr>\n",
       "    <tr>\n",
       "      <th>2</th>\n",
       "      <td>-2.184371e-06</td>\n",
       "      <td>0.000008</td>\n",
       "      <td>-0.000074</td>\n",
       "      <td>809.223229</td>\n",
       "      <td>0.000004</td>\n",
       "      <td>36.899020</td>\n",
       "      <td>1000.988551</td>\n",
       "      <td>0.02</td>\n",
       "    </tr>\n",
       "    <tr>\n",
       "      <th>3</th>\n",
       "      <td>-9.987790e-08</td>\n",
       "      <td>0.000008</td>\n",
       "      <td>-0.000062</td>\n",
       "      <td>813.667591</td>\n",
       "      <td>0.000004</td>\n",
       "      <td>36.898708</td>\n",
       "      <td>1000.981640</td>\n",
       "      <td>0.03</td>\n",
       "    </tr>\n",
       "    <tr>\n",
       "      <th>4</th>\n",
       "      <td>-1.994872e-06</td>\n",
       "      <td>0.000010</td>\n",
       "      <td>-0.000053</td>\n",
       "      <td>817.999151</td>\n",
       "      <td>0.000004</td>\n",
       "      <td>36.898394</td>\n",
       "      <td>1000.973607</td>\n",
       "      <td>0.04</td>\n",
       "    </tr>\n",
       "  </tbody>\n",
       "</table>\n",
       "</div>"
      ],
      "text/plain": [
       "     EEG Fpz-Cz  EEG Pz-Oz  EOG horizontal  Resp oro-nasal  EMG submental  \\\n",
       "0 -2.893773e-07   0.000006       -0.000064      800.000000       0.000004   \n",
       "1  1.510867e-06   0.000008       -0.000056      804.667024       0.000004   \n",
       "2 -2.184371e-06   0.000008       -0.000074      809.223229       0.000004   \n",
       "3 -9.987790e-08   0.000008       -0.000062      813.667591       0.000004   \n",
       "4 -1.994872e-06   0.000010       -0.000053      817.999151       0.000004   \n",
       "\n",
       "   Temp rectal  Event marker  timestamp  \n",
       "0    36.899636   1001.000000       0.00  \n",
       "1    36.899330   1000.994589       0.01  \n",
       "2    36.899020   1000.988551       0.02  \n",
       "3    36.898708   1000.981640       0.03  \n",
       "4    36.898394   1000.973607       0.04  "
      ]
     },
     "execution_count": 158,
     "metadata": {},
     "output_type": "execute_result"
    }
   ],
   "source": [
    "df.head()"
   ]
  },
  {
   "cell_type": "code",
   "execution_count": 159,
   "id": "2cba5077-711f-454d-b7a8-4b0e11e82497",
   "metadata": {},
   "outputs": [],
   "source": [
    "columns_mapping={\n",
    "    'EEG Fpz-Cz' : 'EEG channel 1 (frontal to central)',\n",
    "    'EEG Pz-Oz' : 'EEG channel 2 (parietal to occipital)',\n",
    "    'EOG horizontal' : 'Electrooculogram (eye movements)',\n",
    "    'EMG submental' : 'Electromyogram (muscle activity)'\n",
    "}\n",
    "df.drop(columns=[\"Event marker\", \"timestamp\"], inplace=True)\n",
    "df.rename(columns = columns_mapping, inplace=True)\n",
    "df.reset_index(drop=True, inplace=True)"
   ]
  },
  {
   "cell_type": "code",
   "execution_count": 160,
   "id": "6f642330-fb93-4c01-a8de-aa1660fbdae9",
   "metadata": {},
   "outputs": [],
   "source": [
    "df.to_csv(\"sleepedf/file_14_Healthy.csv\")"
   ]
  },
  {
   "cell_type": "code",
   "execution_count": null,
   "id": "88237f86-be86-431a-8d78-5dbf6865d017",
   "metadata": {},
   "outputs": [],
   "source": []
  },
  {
   "cell_type": "code",
   "execution_count": 10,
   "id": "71ff2d5e-0090-40f4-9e41-c219af0c6cb4",
   "metadata": {
    "scrolled": true
   },
   "outputs": [
    {
     "name": "stderr",
     "output_type": "stream",
     "text": [
      "Processing Folders:   6%|█████████████▋                                                                                                                                                                                                                           | 1/17 [00:00<00:02,  5.52it/s]"
     ]
    },
    {
     "name": "stdout",
     "output_type": "stream",
     "text": [
      "Moved: /data/TimeSeriesResearch/datasets/Satya/Accelerometer/file_7_FloorMove.csv -> /data/TimeSeriesResearch/datasets/Satya_New/Accelerometer/FloorMove/file_7.csv\n",
      "Moved: /data/TimeSeriesResearch/datasets/Satya/Accelerometer/file_0_BuildingElevatorMove.csv -> /data/TimeSeriesResearch/datasets/Satya_New/Accelerometer/BuildingElevatorMove/file_0.csv\n",
      "Moved: /data/TimeSeriesResearch/datasets/Satya/Accelerometer/file_5_FloorMove.csv -> /data/TimeSeriesResearch/datasets/Satya_New/Accelerometer/FloorMove/file_5.csv\n",
      "Moved: /data/TimeSeriesResearch/datasets/Satya/Accelerometer/file_0_OutdoorMove.csv -> /data/TimeSeriesResearch/datasets/Satya_New/Accelerometer/OutdoorMove/file_0.csv\n",
      "Moved: /data/TimeSeriesResearch/datasets/Satya/Accelerometer/file_2_FloorMove.csv -> /data/TimeSeriesResearch/datasets/Satya_New/Accelerometer/FloorMove/file_2.csv\n",
      "Moved: /data/TimeSeriesResearch/datasets/Satya/Accelerometer/file_0_EscalatorMove.csv -> /data/TimeSeriesResearch/datasets/Satya_New/Accelerometer/EscalatorMove/file_0.csv\n",
      "Moved: /data/TimeSeriesResearch/datasets/Satya/Accelerometer/file_0_IndoorMove.csv -> /data/TimeSeriesResearch/datasets/Satya_New/Accelerometer/IndoorMove/file_0.csv\n",
      "Moved: /data/TimeSeriesResearch/datasets/Satya/Accelerometer/file_6_FloorMove.csv -> /data/TimeSeriesResearch/datasets/Satya_New/Accelerometer/FloorMove/file_6.csv\n",
      "Moved: /data/TimeSeriesResearch/datasets/Satya/Accelerometer/file_1_EscalatorMove.csv -> /data/TimeSeriesResearch/datasets/Satya_New/Accelerometer/EscalatorMove/file_1.csv\n",
      "Moved: /data/TimeSeriesResearch/datasets/Satya/Accelerometer/file_0_BuildingStairMove.csv -> /data/TimeSeriesResearch/datasets/Satya_New/Accelerometer/BuildingStairMove/file_0.csv\n",
      "Moved: /data/TimeSeriesResearch/datasets/Satya/Accelerometer/file_1_BuildingElevatorMove.csv -> /data/TimeSeriesResearch/datasets/Satya_New/Accelerometer/BuildingElevatorMove/file_1.csv\n",
      "Moved: /data/TimeSeriesResearch/datasets/Satya/Accelerometer/file_1_OutdoorMove.csv -> /data/TimeSeriesResearch/datasets/Satya_New/Accelerometer/OutdoorMove/file_1.csv\n",
      "Moved: /data/TimeSeriesResearch/datasets/Satya/Accelerometer/file_0_FloorMove.csv -> /data/TimeSeriesResearch/datasets/Satya_New/Accelerometer/FloorMove/file_0.csv\n",
      "Moved: /data/TimeSeriesResearch/datasets/Satya/Accelerometer/file_3_FloorMove.csv -> /data/TimeSeriesResearch/datasets/Satya_New/Accelerometer/FloorMove/file_3.csv\n",
      "Moved: /data/TimeSeriesResearch/datasets/Satya/Accelerometer/file_1_FloorMove.csv -> /data/TimeSeriesResearch/datasets/Satya_New/Accelerometer/FloorMove/file_1.csv\n",
      "Moved: /data/TimeSeriesResearch/datasets/Satya/Accelerometer/file_1_BuildingStairMove.csv -> /data/TimeSeriesResearch/datasets/Satya_New/Accelerometer/BuildingStairMove/file_1.csv\n",
      "Moved: /data/TimeSeriesResearch/datasets/Satya/Accelerometer/file_4_FloorMove.csv -> /data/TimeSeriesResearch/datasets/Satya_New/Accelerometer/FloorMove/file_4.csv\n",
      "Moved: /data/TimeSeriesResearch/datasets/Satya/BCSV/file_1_Ball.csv -> /data/TimeSeriesResearch/datasets/Satya_New/BCSV/Ball/file_1.csv\n",
      "Moved: /data/TimeSeriesResearch/datasets/Satya/BCSV/file_6_Ball.csv -> /data/TimeSeriesResearch/datasets/Satya_New/BCSV/Ball/file_6.csv\n",
      "Moved: /data/TimeSeriesResearch/datasets/Satya/BCSV/file_5_Ball.csv -> /data/TimeSeriesResearch/datasets/Satya_New/BCSV/Ball/file_5.csv\n",
      "Moved: /data/TimeSeriesResearch/datasets/Satya/BCSV/file_3_Ball.csv -> /data/TimeSeriesResearch/datasets/Satya_New/BCSV/Ball/file_3.csv\n"
     ]
    },
    {
     "name": "stderr",
     "output_type": "stream",
     "text": [
      "Processing Folders:  12%|███████████████████████████▍                                                                                                                                                                                                             | 2/17 [00:00<00:05,  2.66it/s]"
     ]
    },
    {
     "name": "stdout",
     "output_type": "stream",
     "text": [
      "Moved: /data/TimeSeriesResearch/datasets/Satya/BCSV/file_2_Ball.csv -> /data/TimeSeriesResearch/datasets/Satya_New/BCSV/Ball/file_2.csv\n",
      "Moved: /data/TimeSeriesResearch/datasets/Satya/BCSV/file_4_Ball.csv -> /data/TimeSeriesResearch/datasets/Satya_New/BCSV/Ball/file_4.csv\n",
      "Moved: /data/TimeSeriesResearch/datasets/Satya/BCSV/file_7_Ball.csv -> /data/TimeSeriesResearch/datasets/Satya_New/BCSV/Ball/file_7.csv\n",
      "Moved: /data/TimeSeriesResearch/datasets/Satya/BCSV/file_0_Ball.csv -> /data/TimeSeriesResearch/datasets/Satya_New/BCSV/Ball/file_0.csv\n"
     ]
    },
    {
     "name": "stderr",
     "output_type": "stream",
     "text": [
      "Processing Folders:  18%|█████████████████████████████████████████                                                                                                                                                                                                | 3/17 [00:00<00:03,  3.79it/s]"
     ]
    },
    {
     "name": "stdout",
     "output_type": "stream",
     "text": [
      "Moved: /data/TimeSeriesResearch/datasets/Satya/Wyoming/file_5_SO2.csv -> /data/TimeSeriesResearch/datasets/Satya_New/Wyoming/SO2/file_5.csv\n",
      "Moved: /data/TimeSeriesResearch/datasets/Satya/Wyoming/file_6_SO2.csv -> /data/TimeSeriesResearch/datasets/Satya_New/Wyoming/SO2/file_6.csv\n",
      "Moved: /data/TimeSeriesResearch/datasets/Satya/Wyoming/file_8_SO2.csv -> /data/TimeSeriesResearch/datasets/Satya_New/Wyoming/SO2/file_8.csv\n",
      "Moved: /data/TimeSeriesResearch/datasets/Satya/Wyoming/file_12_SO2.csv -> /data/TimeSeriesResearch/datasets/Satya_New/Wyoming/SO2/file_12.csv\n",
      "Moved: /data/TimeSeriesResearch/datasets/Satya/Wyoming/file_1_SO2.csv -> /data/TimeSeriesResearch/datasets/Satya_New/Wyoming/SO2/file_1.csv\n",
      "Moved: /data/TimeSeriesResearch/datasets/Satya/Wyoming/file_10_SO2.csv -> /data/TimeSeriesResearch/datasets/Satya_New/Wyoming/SO2/file_10.csv\n",
      "Moved: /data/TimeSeriesResearch/datasets/Satya/Wyoming/file_13_SO2.csv -> /data/TimeSeriesResearch/datasets/Satya_New/Wyoming/SO2/file_13.csv\n",
      "Moved: /data/TimeSeriesResearch/datasets/Satya/Wyoming/file_7_SO2.csv -> /data/TimeSeriesResearch/datasets/Satya_New/Wyoming/SO2/file_7.csv\n",
      "Moved: /data/TimeSeriesResearch/datasets/Satya/Wyoming/file_3_SO2.csv -> /data/TimeSeriesResearch/datasets/Satya_New/Wyoming/SO2/file_3.csv\n",
      "Moved: /data/TimeSeriesResearch/datasets/Satya/Wyoming/file_0_SO2.csv -> /data/TimeSeriesResearch/datasets/Satya_New/Wyoming/SO2/file_0.csv\n",
      "Moved: /data/TimeSeriesResearch/datasets/Satya/Wyoming/file_2_SO2.csv -> /data/TimeSeriesResearch/datasets/Satya_New/Wyoming/SO2/file_2.csv\n",
      "Moved: /data/TimeSeriesResearch/datasets/Satya/Wyoming/file_4_SO2.csv -> /data/TimeSeriesResearch/datasets/Satya_New/Wyoming/SO2/file_4.csv\n",
      "Moved: /data/TimeSeriesResearch/datasets/Satya/Wyoming/file_14_SO2.csv -> /data/TimeSeriesResearch/datasets/Satya_New/Wyoming/SO2/file_14.csv\n",
      "Moved: /data/TimeSeriesResearch/datasets/Satya/Wyoming/file_9_SO2.csv -> /data/TimeSeriesResearch/datasets/Satya_New/Wyoming/SO2/file_9.csv\n",
      "Moved: /data/TimeSeriesResearch/datasets/Satya/Wyoming/file_11_SO2.csv -> /data/TimeSeriesResearch/datasets/Satya_New/Wyoming/SO2/file_11.csv\n",
      "Moved: /data/TimeSeriesResearch/datasets/Satya/Maryland/file_0_Ozone.csv -> /data/TimeSeriesResearch/datasets/Satya_New/Maryland/Ozone/file_0.csv\n",
      "Moved: /data/TimeSeriesResearch/datasets/Satya/Maryland/file_10_Ozone.csv -> /data/TimeSeriesResearch/datasets/Satya_New/Maryland/Ozone/file_10.csv\n",
      "Moved: /data/TimeSeriesResearch/datasets/Satya/Maryland/file_4_Ozone.csv -> /data/TimeSeriesResearch/datasets/Satya_New/Maryland/Ozone/file_4.csv\n",
      "Moved: /data/TimeSeriesResearch/datasets/Satya/Maryland/file_9_Ozone.csv -> /data/TimeSeriesResearch/datasets/Satya_New/Maryland/Ozone/file_9.csv\n",
      "Moved: /data/TimeSeriesResearch/datasets/Satya/Maryland/file_5_Ozone.csv -> /data/TimeSeriesResearch/datasets/Satya_New/Maryland/Ozone/file_5.csv\n",
      "Moved: /data/TimeSeriesResearch/datasets/Satya/Maryland/file_13_Ozone.csv -> /data/TimeSeriesResearch/datasets/Satya_New/Maryland/Ozone/file_13.csv\n",
      "Moved: /data/TimeSeriesResearch/datasets/Satya/Maryland/file_17_Ozone.csv -> /data/TimeSeriesResearch/datasets/Satya_New/Maryland/Ozone/file_17.csv\n",
      "Moved: /data/TimeSeriesResearch/datasets/Satya/Maryland/file_14_Ozone.csv -> /data/TimeSeriesResearch/datasets/Satya_New/Maryland/Ozone/file_14.csv\n",
      "Moved: /data/TimeSeriesResearch/datasets/Satya/Maryland/file_15_Ozone.csv -> /data/TimeSeriesResearch/datasets/Satya_New/Maryland/Ozone/file_15.csv\n",
      "Moved: /data/TimeSeriesResearch/datasets/Satya/Maryland/file_8_Ozone.csv -> /data/TimeSeriesResearch/datasets/Satya_New/Maryland/Ozone/file_8.csv\n"
     ]
    },
    {
     "name": "stderr",
     "output_type": "stream",
     "text": [
      "Processing Folders:  24%|██████████████████████████████████████████████████████▊                                                                                                                                                                                  | 4/17 [00:00<00:02,  4.43it/s]"
     ]
    },
    {
     "name": "stdout",
     "output_type": "stream",
     "text": [
      "Moved: /data/TimeSeriesResearch/datasets/Satya/Maryland/file_19_Ozone.csv -> /data/TimeSeriesResearch/datasets/Satya_New/Maryland/Ozone/file_19.csv\n",
      "Moved: /data/TimeSeriesResearch/datasets/Satya/Maryland/file_18_Ozone.csv -> /data/TimeSeriesResearch/datasets/Satya_New/Maryland/Ozone/file_18.csv\n",
      "Moved: /data/TimeSeriesResearch/datasets/Satya/Maryland/file_16_Ozone.csv -> /data/TimeSeriesResearch/datasets/Satya_New/Maryland/Ozone/file_16.csv\n",
      "Moved: /data/TimeSeriesResearch/datasets/Satya/Maryland/file_11_Ozone.csv -> /data/TimeSeriesResearch/datasets/Satya_New/Maryland/Ozone/file_11.csv\n",
      "Moved: /data/TimeSeriesResearch/datasets/Satya/Maryland/file_1_Ozone.csv -> /data/TimeSeriesResearch/datasets/Satya_New/Maryland/Ozone/file_1.csv\n",
      "Moved: /data/TimeSeriesResearch/datasets/Satya/Maryland/file_7_Ozone.csv -> /data/TimeSeriesResearch/datasets/Satya_New/Maryland/Ozone/file_7.csv\n",
      "Moved: /data/TimeSeriesResearch/datasets/Satya/Maryland/file_6_Ozone.csv -> /data/TimeSeriesResearch/datasets/Satya_New/Maryland/Ozone/file_6.csv\n",
      "Moved: /data/TimeSeriesResearch/datasets/Satya/Maryland/file_3_Ozone.csv -> /data/TimeSeriesResearch/datasets/Satya_New/Maryland/Ozone/file_3.csv\n",
      "Moved: /data/TimeSeriesResearch/datasets/Satya/Maryland/file_2_Ozone.csv -> /data/TimeSeriesResearch/datasets/Satya_New/Maryland/Ozone/file_2.csv\n",
      "Moved: /data/TimeSeriesResearch/datasets/Satya/Maryland/file_12_Ozone.csv -> /data/TimeSeriesResearch/datasets/Satya_New/Maryland/Ozone/file_12.csv\n",
      "Moved: /data/TimeSeriesResearch/datasets/Satya/California/file_33_CO.csv -> /data/TimeSeriesResearch/datasets/Satya_New/California/CO/file_33.csv\n",
      "Moved: /data/TimeSeriesResearch/datasets/Satya/California/file_63_CO.csv -> /data/TimeSeriesResearch/datasets/Satya_New/California/CO/file_63.csv\n",
      "Moved: /data/TimeSeriesResearch/datasets/Satya/California/file_34_CO.csv -> /data/TimeSeriesResearch/datasets/Satya_New/California/CO/file_34.csv\n",
      "Moved: /data/TimeSeriesResearch/datasets/Satya/California/file_68_CO.csv -> /data/TimeSeriesResearch/datasets/Satya_New/California/CO/file_68.csv\n",
      "Moved: /data/TimeSeriesResearch/datasets/Satya/California/file_59_CO.csv -> /data/TimeSeriesResearch/datasets/Satya_New/California/CO/file_59.csv\n",
      "Moved: /data/TimeSeriesResearch/datasets/Satya/California/file_60_CO.csv -> /data/TimeSeriesResearch/datasets/Satya_New/California/CO/file_60.csv\n",
      "Moved: /data/TimeSeriesResearch/datasets/Satya/California/file_38_CO.csv -> /data/TimeSeriesResearch/datasets/Satya_New/California/CO/file_38.csv\n",
      "Moved: /data/TimeSeriesResearch/datasets/Satya/California/file_0_CO.csv -> /data/TimeSeriesResearch/datasets/Satya_New/California/CO/file_0.csv\n",
      "Moved: /data/TimeSeriesResearch/datasets/Satya/California/file_30_CO.csv -> /data/TimeSeriesResearch/datasets/Satya_New/California/CO/file_30.csv\n",
      "Moved: /data/TimeSeriesResearch/datasets/Satya/California/file_79_CO.csv -> /data/TimeSeriesResearch/datasets/Satya_New/California/CO/file_79.csv\n",
      "Moved: /data/TimeSeriesResearch/datasets/Satya/California/file_103_CO.csv -> /data/TimeSeriesResearch/datasets/Satya_New/California/CO/file_103.csv\n",
      "Moved: /data/TimeSeriesResearch/datasets/Satya/California/file_35_CO.csv -> /data/TimeSeriesResearch/datasets/Satya_New/California/CO/file_35.csv\n",
      "Moved: /data/TimeSeriesResearch/datasets/Satya/California/file_18_CO.csv -> /data/TimeSeriesResearch/datasets/Satya_New/California/CO/file_18.csv\n",
      "Moved: /data/TimeSeriesResearch/datasets/Satya/California/file_107_CO.csv -> /data/TimeSeriesResearch/datasets/Satya_New/California/CO/file_107.csv\n",
      "Moved: /data/TimeSeriesResearch/datasets/Satya/California/file_94_CO.csv -> /data/TimeSeriesResearch/datasets/Satya_New/California/CO/file_94.csv\n",
      "Moved: /data/TimeSeriesResearch/datasets/Satya/California/file_9_CO.csv -> /data/TimeSeriesResearch/datasets/Satya_New/California/CO/file_9.csv\n",
      "Moved: /data/TimeSeriesResearch/datasets/Satya/California/file_20_CO.csv -> /data/TimeSeriesResearch/datasets/Satya_New/California/CO/file_20.csv\n",
      "Moved: /data/TimeSeriesResearch/datasets/Satya/California/file_70_CO.csv -> /data/TimeSeriesResearch/datasets/Satya_New/California/CO/file_70.csv\n",
      "Moved: /data/TimeSeriesResearch/datasets/Satya/California/file_53_CO.csv -> /data/TimeSeriesResearch/datasets/Satya_New/California/CO/file_53.csv\n",
      "Moved: /data/TimeSeriesResearch/datasets/Satya/California/file_32_CO.csv -> /data/TimeSeriesResearch/datasets/Satya_New/California/CO/file_32.csv\n",
      "Moved: /data/TimeSeriesResearch/datasets/Satya/California/file_40_CO.csv -> /data/TimeSeriesResearch/datasets/Satya_New/California/CO/file_40.csv\n",
      "Moved: /data/TimeSeriesResearch/datasets/Satya/California/file_105_CO.csv -> /data/TimeSeriesResearch/datasets/Satya_New/California/CO/file_105.csv\n",
      "Moved: /data/TimeSeriesResearch/datasets/Satya/California/file_56_CO.csv -> /data/TimeSeriesResearch/datasets/Satya_New/California/CO/file_56.csv\n",
      "Moved: /data/TimeSeriesResearch/datasets/Satya/California/file_102_CO.csv -> /data/TimeSeriesResearch/datasets/Satya_New/California/CO/file_102.csv\n",
      "Moved: /data/TimeSeriesResearch/datasets/Satya/California/file_62_CO.csv -> /data/TimeSeriesResearch/datasets/Satya_New/California/CO/file_62.csv\n",
      "Moved: /data/TimeSeriesResearch/datasets/Satya/California/file_48_CO.csv -> /data/TimeSeriesResearch/datasets/Satya_New/California/CO/file_48.csv\n",
      "Moved: /data/TimeSeriesResearch/datasets/Satya/California/file_29_CO.csv -> /data/TimeSeriesResearch/datasets/Satya_New/California/CO/file_29.csv\n",
      "Moved: /data/TimeSeriesResearch/datasets/Satya/California/file_100_CO.csv -> /data/TimeSeriesResearch/datasets/Satya_New/California/CO/file_100.csv\n",
      "Moved: /data/TimeSeriesResearch/datasets/Satya/California/file_1_CO.csv -> /data/TimeSeriesResearch/datasets/Satya_New/California/CO/file_1.csv\n",
      "Moved: /data/TimeSeriesResearch/datasets/Satya/California/file_11_CO.csv -> /data/TimeSeriesResearch/datasets/Satya_New/California/CO/file_11.csv\n",
      "Moved: /data/TimeSeriesResearch/datasets/Satya/California/file_92_CO.csv -> /data/TimeSeriesResearch/datasets/Satya_New/California/CO/file_92.csv\n",
      "Moved: /data/TimeSeriesResearch/datasets/Satya/California/file_75_CO.csv -> /data/TimeSeriesResearch/datasets/Satya_New/California/CO/file_75.csv\n",
      "Moved: /data/TimeSeriesResearch/datasets/Satya/California/file_104_CO.csv -> /data/TimeSeriesResearch/datasets/Satya_New/California/CO/file_104.csv\n",
      "Moved: /data/TimeSeriesResearch/datasets/Satya/California/file_106_CO.csv -> /data/TimeSeriesResearch/datasets/Satya_New/California/CO/file_106.csv\n",
      "Moved: /data/TimeSeriesResearch/datasets/Satya/California/file_58_CO.csv -> /data/TimeSeriesResearch/datasets/Satya_New/California/CO/file_58.csv\n",
      "Moved: /data/TimeSeriesResearch/datasets/Satya/California/file_108_CO.csv -> /data/TimeSeriesResearch/datasets/Satya_New/California/CO/file_108.csv\n",
      "Moved: /data/TimeSeriesResearch/datasets/Satya/California/file_86_CO.csv -> /data/TimeSeriesResearch/datasets/Satya_New/California/CO/file_86.csv\n",
      "Moved: /data/TimeSeriesResearch/datasets/Satya/California/file_5_CO.csv -> /data/TimeSeriesResearch/datasets/Satya_New/California/CO/file_5.csv\n",
      "Moved: /data/TimeSeriesResearch/datasets/Satya/California/file_67_CO.csv -> /data/TimeSeriesResearch/datasets/Satya_New/California/CO/file_67.csv\n",
      "Moved: /data/TimeSeriesResearch/datasets/Satya/California/file_52_CO.csv -> /data/TimeSeriesResearch/datasets/Satya_New/California/CO/file_52.csv\n",
      "Moved: /data/TimeSeriesResearch/datasets/Satya/California/file_23_CO.csv -> /data/TimeSeriesResearch/datasets/Satya_New/California/CO/file_23.csv\n",
      "Moved: /data/TimeSeriesResearch/datasets/Satya/California/file_73_CO.csv -> /data/TimeSeriesResearch/datasets/Satya_New/California/CO/file_73.csv\n",
      "Moved: /data/TimeSeriesResearch/datasets/Satya/California/file_80_CO.csv -> /data/TimeSeriesResearch/datasets/Satya_New/California/CO/file_80.csv\n",
      "Moved: /data/TimeSeriesResearch/datasets/Satya/California/file_95_CO.csv -> /data/TimeSeriesResearch/datasets/Satya_New/California/CO/file_95.csv\n",
      "Moved: /data/TimeSeriesResearch/datasets/Satya/California/file_46_CO.csv -> /data/TimeSeriesResearch/datasets/Satya_New/California/CO/file_46.csv\n",
      "Moved: /data/TimeSeriesResearch/datasets/Satya/California/file_101_CO.csv -> /data/TimeSeriesResearch/datasets/Satya_New/California/CO/file_101.csv\n",
      "Moved: /data/TimeSeriesResearch/datasets/Satya/California/file_4_CO.csv -> /data/TimeSeriesResearch/datasets/Satya_New/California/CO/file_4.csv\n",
      "Moved: /data/TimeSeriesResearch/datasets/Satya/California/file_14_CO.csv -> /data/TimeSeriesResearch/datasets/Satya_New/California/CO/file_14.csv\n",
      "Moved: /data/TimeSeriesResearch/datasets/Satya/California/file_93_CO.csv -> /data/TimeSeriesResearch/datasets/Satya_New/California/CO/file_93.csv\n",
      "Moved: /data/TimeSeriesResearch/datasets/Satya/California/file_90_CO.csv -> /data/TimeSeriesResearch/datasets/Satya_New/California/CO/file_90.csv\n",
      "Moved: /data/TimeSeriesResearch/datasets/Satya/California/file_7_CO.csv -> /data/TimeSeriesResearch/datasets/Satya_New/California/CO/file_7.csv\n",
      "Moved: /data/TimeSeriesResearch/datasets/Satya/California/file_8_CO.csv -> /data/TimeSeriesResearch/datasets/Satya_New/California/CO/file_8.csv\n",
      "Moved: /data/TimeSeriesResearch/datasets/Satya/California/file_37_CO.csv -> /data/TimeSeriesResearch/datasets/Satya_New/California/CO/file_37.csv\n",
      "Moved: /data/TimeSeriesResearch/datasets/Satya/California/file_15_CO.csv -> /data/TimeSeriesResearch/datasets/Satya_New/California/CO/file_15.csv\n",
      "Moved: /data/TimeSeriesResearch/datasets/Satya/California/file_47_CO.csv -> /data/TimeSeriesResearch/datasets/Satya_New/California/CO/file_47.csv\n",
      "Moved: /data/TimeSeriesResearch/datasets/Satya/California/file_74_CO.csv -> /data/TimeSeriesResearch/datasets/Satya_New/California/CO/file_74.csv\n",
      "Moved: /data/TimeSeriesResearch/datasets/Satya/California/file_64_CO.csv -> /data/TimeSeriesResearch/datasets/Satya_New/California/CO/file_64.csv\n",
      "Moved: /data/TimeSeriesResearch/datasets/Satya/California/file_12_CO.csv -> /data/TimeSeriesResearch/datasets/Satya_New/California/CO/file_12.csv\n",
      "Moved: /data/TimeSeriesResearch/datasets/Satya/California/file_89_CO.csv -> /data/TimeSeriesResearch/datasets/Satya_New/California/CO/file_89.csv\n",
      "Moved: /data/TimeSeriesResearch/datasets/Satya/California/file_88_CO.csv -> /data/TimeSeriesResearch/datasets/Satya_New/California/CO/file_88.csv\n",
      "Moved: /data/TimeSeriesResearch/datasets/Satya/California/file_10_CO.csv -> /data/TimeSeriesResearch/datasets/Satya_New/California/CO/file_10.csv\n",
      "Moved: /data/TimeSeriesResearch/datasets/Satya/California/file_81_CO.csv -> /data/TimeSeriesResearch/datasets/Satya_New/California/CO/file_81.csv\n",
      "Moved: /data/TimeSeriesResearch/datasets/Satya/California/file_13_CO.csv -> /data/TimeSeriesResearch/datasets/Satya_New/California/CO/file_13.csv\n",
      "Moved: /data/TimeSeriesResearch/datasets/Satya/California/file_72_CO.csv -> /data/TimeSeriesResearch/datasets/Satya_New/California/CO/file_72.csv\n",
      "Moved: /data/TimeSeriesResearch/datasets/Satya/California/file_45_CO.csv -> /data/TimeSeriesResearch/datasets/Satya_New/California/CO/file_45.csv\n",
      "Moved: /data/TimeSeriesResearch/datasets/Satya/California/file_21_CO.csv -> /data/TimeSeriesResearch/datasets/Satya_New/California/CO/file_21.csv\n",
      "Moved: /data/TimeSeriesResearch/datasets/Satya/California/file_91_CO.csv -> /data/TimeSeriesResearch/datasets/Satya_New/California/CO/file_91.csv\n",
      "Moved: /data/TimeSeriesResearch/datasets/Satya/California/file_99_CO.csv -> /data/TimeSeriesResearch/datasets/Satya_New/California/CO/file_99.csv\n",
      "Moved: /data/TimeSeriesResearch/datasets/Satya/California/file_54_CO.csv -> /data/TimeSeriesResearch/datasets/Satya_New/California/CO/file_54.csv\n",
      "Moved: /data/TimeSeriesResearch/datasets/Satya/California/file_71_CO.csv -> /data/TimeSeriesResearch/datasets/Satya_New/California/CO/file_71.csv\n",
      "Moved: /data/TimeSeriesResearch/datasets/Satya/California/file_6_CO.csv -> /data/TimeSeriesResearch/datasets/Satya_New/California/CO/file_6.csv\n",
      "Moved: /data/TimeSeriesResearch/datasets/Satya/California/file_85_CO.csv -> /data/TimeSeriesResearch/datasets/Satya_New/California/CO/file_85.csv\n",
      "Moved: /data/TimeSeriesResearch/datasets/Satya/California/file_50_CO.csv -> /data/TimeSeriesResearch/datasets/Satya_New/California/CO/file_50.csv\n",
      "Moved: /data/TimeSeriesResearch/datasets/Satya/California/file_2_CO.csv -> /data/TimeSeriesResearch/datasets/Satya_New/California/CO/file_2.csv\n",
      "Moved: /data/TimeSeriesResearch/datasets/Satya/California/file_44_CO.csv -> /data/TimeSeriesResearch/datasets/Satya_New/California/CO/file_44.csv\n",
      "Moved: /data/TimeSeriesResearch/datasets/Satya/California/file_97_CO.csv -> /data/TimeSeriesResearch/datasets/Satya_New/California/CO/file_97.csv\n",
      "Moved: /data/TimeSeriesResearch/datasets/Satya/California/file_39_CO.csv -> /data/TimeSeriesResearch/datasets/Satya_New/California/CO/file_39.csv\n",
      "Moved: /data/TimeSeriesResearch/datasets/Satya/California/file_26_CO.csv -> /data/TimeSeriesResearch/datasets/Satya_New/California/CO/file_26.csv\n",
      "Moved: /data/TimeSeriesResearch/datasets/Satya/California/file_61_CO.csv -> /data/TimeSeriesResearch/datasets/Satya_New/California/CO/file_61.csv\n",
      "Moved: /data/TimeSeriesResearch/datasets/Satya/California/file_87_CO.csv -> /data/TimeSeriesResearch/datasets/Satya_New/California/CO/file_87.csv\n",
      "Moved: /data/TimeSeriesResearch/datasets/Satya/California/file_28_CO.csv -> /data/TimeSeriesResearch/datasets/Satya_New/California/CO/file_28.csv\n",
      "Moved: /data/TimeSeriesResearch/datasets/Satya/California/file_49_CO.csv -> /data/TimeSeriesResearch/datasets/Satya_New/California/CO/file_49.csv\n",
      "Moved: /data/TimeSeriesResearch/datasets/Satya/California/file_41_CO.csv -> /data/TimeSeriesResearch/datasets/Satya_New/California/CO/file_41.csv\n",
      "Moved: /data/TimeSeriesResearch/datasets/Satya/California/file_55_CO.csv -> /data/TimeSeriesResearch/datasets/Satya_New/California/CO/file_55.csv\n",
      "Moved: /data/TimeSeriesResearch/datasets/Satya/California/file_36_CO.csv -> /data/TimeSeriesResearch/datasets/Satya_New/California/CO/file_36.csv\n",
      "Moved: /data/TimeSeriesResearch/datasets/Satya/California/file_17_CO.csv -> /data/TimeSeriesResearch/datasets/Satya_New/California/CO/file_17.csv\n",
      "Moved: /data/TimeSeriesResearch/datasets/Satya/California/file_82_CO.csv -> /data/TimeSeriesResearch/datasets/Satya_New/California/CO/file_82.csv\n",
      "Moved: /data/TimeSeriesResearch/datasets/Satya/California/file_51_CO.csv -> /data/TimeSeriesResearch/datasets/Satya_New/California/CO/file_51.csv\n"
     ]
    },
    {
     "name": "stderr",
     "output_type": "stream",
     "text": [
      "Processing Folders:  29%|████████████████████████████████████████████████████████████████████▌                                                                                                                                                                    | 5/17 [00:01<00:05,  2.12it/s]"
     ]
    },
    {
     "name": "stdout",
     "output_type": "stream",
     "text": [
      "Moved: /data/TimeSeriesResearch/datasets/Satya/California/file_22_CO.csv -> /data/TimeSeriesResearch/datasets/Satya_New/California/CO/file_22.csv\n",
      "Moved: /data/TimeSeriesResearch/datasets/Satya/California/file_109_CO.csv -> /data/TimeSeriesResearch/datasets/Satya_New/California/CO/file_109.csv\n",
      "Moved: /data/TimeSeriesResearch/datasets/Satya/California/file_16_CO.csv -> /data/TimeSeriesResearch/datasets/Satya_New/California/CO/file_16.csv\n",
      "Moved: /data/TimeSeriesResearch/datasets/Satya/California/file_42_CO.csv -> /data/TimeSeriesResearch/datasets/Satya_New/California/CO/file_42.csv\n",
      "Moved: /data/TimeSeriesResearch/datasets/Satya/California/file_19_CO.csv -> /data/TimeSeriesResearch/datasets/Satya_New/California/CO/file_19.csv\n",
      "Moved: /data/TimeSeriesResearch/datasets/Satya/California/file_98_CO.csv -> /data/TimeSeriesResearch/datasets/Satya_New/California/CO/file_98.csv\n",
      "Moved: /data/TimeSeriesResearch/datasets/Satya/California/file_78_CO.csv -> /data/TimeSeriesResearch/datasets/Satya_New/California/CO/file_78.csv\n",
      "Moved: /data/TimeSeriesResearch/datasets/Satya/California/file_83_CO.csv -> /data/TimeSeriesResearch/datasets/Satya_New/California/CO/file_83.csv\n",
      "Moved: /data/TimeSeriesResearch/datasets/Satya/California/file_77_CO.csv -> /data/TimeSeriesResearch/datasets/Satya_New/California/CO/file_77.csv\n",
      "Moved: /data/TimeSeriesResearch/datasets/Satya/California/file_76_CO.csv -> /data/TimeSeriesResearch/datasets/Satya_New/California/CO/file_76.csv\n",
      "Moved: /data/TimeSeriesResearch/datasets/Satya/California/file_31_CO.csv -> /data/TimeSeriesResearch/datasets/Satya_New/California/CO/file_31.csv\n",
      "Moved: /data/TimeSeriesResearch/datasets/Satya/California/file_27_CO.csv -> /data/TimeSeriesResearch/datasets/Satya_New/California/CO/file_27.csv\n",
      "Moved: /data/TimeSeriesResearch/datasets/Satya/California/file_57_CO.csv -> /data/TimeSeriesResearch/datasets/Satya_New/California/CO/file_57.csv\n",
      "Moved: /data/TimeSeriesResearch/datasets/Satya/California/file_84_CO.csv -> /data/TimeSeriesResearch/datasets/Satya_New/California/CO/file_84.csv\n",
      "Moved: /data/TimeSeriesResearch/datasets/Satya/California/file_43_CO.csv -> /data/TimeSeriesResearch/datasets/Satya_New/California/CO/file_43.csv\n",
      "Moved: /data/TimeSeriesResearch/datasets/Satya/California/file_69_CO.csv -> /data/TimeSeriesResearch/datasets/Satya_New/California/CO/file_69.csv\n",
      "Moved: /data/TimeSeriesResearch/datasets/Satya/California/file_24_CO.csv -> /data/TimeSeriesResearch/datasets/Satya_New/California/CO/file_24.csv\n",
      "Moved: /data/TimeSeriesResearch/datasets/Satya/California/file_96_CO.csv -> /data/TimeSeriesResearch/datasets/Satya_New/California/CO/file_96.csv\n",
      "Moved: /data/TimeSeriesResearch/datasets/Satya/California/file_66_CO.csv -> /data/TimeSeriesResearch/datasets/Satya_New/California/CO/file_66.csv\n",
      "Moved: /data/TimeSeriesResearch/datasets/Satya/California/file_3_CO.csv -> /data/TimeSeriesResearch/datasets/Satya_New/California/CO/file_3.csv\n",
      "Moved: /data/TimeSeriesResearch/datasets/Satya/California/file_25_CO.csv -> /data/TimeSeriesResearch/datasets/Satya_New/California/CO/file_25.csv\n",
      "Moved: /data/TimeSeriesResearch/datasets/Satya/California/file_65_CO.csv -> /data/TimeSeriesResearch/datasets/Satya_New/California/CO/file_65.csv\n",
      "Moved: /data/TimeSeriesResearch/datasets/Satya/Delaware/file_1_SO2.csv -> /data/TimeSeriesResearch/datasets/Satya_New/Delaware/SO2/file_1.csv\n",
      "Moved: /data/TimeSeriesResearch/datasets/Satya/Delaware/file_3_SO2.csv -> /data/TimeSeriesResearch/datasets/Satya_New/Delaware/SO2/file_3.csv\n",
      "Moved: /data/TimeSeriesResearch/datasets/Satya/Delaware/file_0_SO2.csv -> /data/TimeSeriesResearch/datasets/Satya_New/Delaware/SO2/file_0.csv\n",
      "Moved: /data/TimeSeriesResearch/datasets/Satya/Delaware/file_2_SO2.csv -> /data/TimeSeriesResearch/datasets/Satya_New/Delaware/SO2/file_2.csv\n",
      "Moved: /data/TimeSeriesResearch/datasets/Satya/Delaware/file_4_SO2.csv -> /data/TimeSeriesResearch/datasets/Satya_New/Delaware/SO2/file_4.csv\n",
      "Moved: /data/TimeSeriesResearch/datasets/Satya/Airquality_pattern/file_0_Unknown.csv -> /data/TimeSeriesResearch/datasets/Satya_New/Airquality_pattern/Unknown/file_0.csv\n",
      "Moved: /data/TimeSeriesResearch/datasets/Satya/Airquality_pattern/file_1_Unknown.csv -> /data/TimeSeriesResearch/datasets/Satya_New/Airquality_pattern/Unknown/file_1.csv\n",
      "Moved: /data/TimeSeriesResearch/datasets/Satya/Florida/file_11_PM25.csv -> /data/TimeSeriesResearch/datasets/Satya_New/Florida/PM25/file_11.csv\n",
      "Moved: /data/TimeSeriesResearch/datasets/Satya/Florida/file_28_PM25.csv -> /data/TimeSeriesResearch/datasets/Satya_New/Florida/PM25/file_28.csv\n",
      "Moved: /data/TimeSeriesResearch/datasets/Satya/Florida/file_41_PM25.csv -> /data/TimeSeriesResearch/datasets/Satya_New/Florida/PM25/file_41.csv\n",
      "Moved: /data/TimeSeriesResearch/datasets/Satya/Florida/file_19_PM25.csv -> /data/TimeSeriesResearch/datasets/Satya_New/Florida/PM25/file_19.csv\n",
      "Moved: /data/TimeSeriesResearch/datasets/Satya/Florida/file_32_PM25.csv -> /data/TimeSeriesResearch/datasets/Satya_New/Florida/PM25/file_32.csv\n",
      "Moved: /data/TimeSeriesResearch/datasets/Satya/Florida/file_42_PM25.csv -> /data/TimeSeriesResearch/datasets/Satya_New/Florida/PM25/file_42.csv\n",
      "Moved: /data/TimeSeriesResearch/datasets/Satya/Florida/file_21_PM25.csv -> /data/TimeSeriesResearch/datasets/Satya_New/Florida/PM25/file_21.csv\n",
      "Moved: /data/TimeSeriesResearch/datasets/Satya/Florida/file_51_PM25.csv -> /data/TimeSeriesResearch/datasets/Satya_New/Florida/PM25/file_51.csv\n",
      "Moved: /data/TimeSeriesResearch/datasets/Satya/Florida/file_6_PM25.csv -> /data/TimeSeriesResearch/datasets/Satya_New/Florida/PM25/file_6.csv\n",
      "Moved: /data/TimeSeriesResearch/datasets/Satya/Florida/file_34_PM25.csv -> /data/TimeSeriesResearch/datasets/Satya_New/Florida/PM25/file_34.csv\n",
      "Moved: /data/TimeSeriesResearch/datasets/Satya/Florida/file_31_PM25.csv -> /data/TimeSeriesResearch/datasets/Satya_New/Florida/PM25/file_31.csv\n",
      "Moved: /data/TimeSeriesResearch/datasets/Satya/Florida/file_48_PM25.csv -> /data/TimeSeriesResearch/datasets/Satya_New/Florida/PM25/file_48.csv\n",
      "Moved: /data/TimeSeriesResearch/datasets/Satya/Florida/file_29_PM25.csv -> /data/TimeSeriesResearch/datasets/Satya_New/Florida/PM25/file_29.csv\n",
      "Moved: /data/TimeSeriesResearch/datasets/Satya/Florida/file_43_PM25.csv -> /data/TimeSeriesResearch/datasets/Satya_New/Florida/PM25/file_43.csv\n",
      "Moved: /data/TimeSeriesResearch/datasets/Satya/Florida/file_4_PM25.csv -> /data/TimeSeriesResearch/datasets/Satya_New/Florida/PM25/file_4.csv\n",
      "Moved: /data/TimeSeriesResearch/datasets/Satya/Florida/file_20_PM25.csv -> /data/TimeSeriesResearch/datasets/Satya_New/Florida/PM25/file_20.csv\n",
      "Moved: /data/TimeSeriesResearch/datasets/Satya/Florida/file_25_PM25.csv -> /data/TimeSeriesResearch/datasets/Satya_New/Florida/PM25/file_25.csv\n",
      "Moved: /data/TimeSeriesResearch/datasets/Satya/Florida/file_12_PM25.csv -> /data/TimeSeriesResearch/datasets/Satya_New/Florida/PM25/file_12.csv\n",
      "Moved: /data/TimeSeriesResearch/datasets/Satya/Florida/file_9_PM25.csv -> /data/TimeSeriesResearch/datasets/Satya_New/Florida/PM25/file_9.csv\n",
      "Moved: /data/TimeSeriesResearch/datasets/Satya/Florida/file_15_PM25.csv -> /data/TimeSeriesResearch/datasets/Satya_New/Florida/PM25/file_15.csv\n",
      "Moved: /data/TimeSeriesResearch/datasets/Satya/Florida/file_35_PM25.csv -> /data/TimeSeriesResearch/datasets/Satya_New/Florida/PM25/file_35.csv\n",
      "Moved: /data/TimeSeriesResearch/datasets/Satya/Florida/file_2_PM25.csv -> /data/TimeSeriesResearch/datasets/Satya_New/Florida/PM25/file_2.csv\n",
      "Moved: /data/TimeSeriesResearch/datasets/Satya/Florida/file_30_PM25.csv -> /data/TimeSeriesResearch/datasets/Satya_New/Florida/PM25/file_30.csv\n",
      "Moved: /data/TimeSeriesResearch/datasets/Satya/Florida/file_52_PM25.csv -> /data/TimeSeriesResearch/datasets/Satya_New/Florida/PM25/file_52.csv\n",
      "Moved: /data/TimeSeriesResearch/datasets/Satya/Florida/file_46_PM25.csv -> /data/TimeSeriesResearch/datasets/Satya_New/Florida/PM25/file_46.csv\n",
      "Moved: /data/TimeSeriesResearch/datasets/Satya/Florida/file_36_PM25.csv -> /data/TimeSeriesResearch/datasets/Satya_New/Florida/PM25/file_36.csv\n",
      "Moved: /data/TimeSeriesResearch/datasets/Satya/Florida/file_1_PM25.csv -> /data/TimeSeriesResearch/datasets/Satya_New/Florida/PM25/file_1.csv\n",
      "Moved: /data/TimeSeriesResearch/datasets/Satya/Florida/file_23_PM25.csv -> /data/TimeSeriesResearch/datasets/Satya_New/Florida/PM25/file_23.csv\n",
      "Moved: /data/TimeSeriesResearch/datasets/Satya/Florida/file_24_PM25.csv -> /data/TimeSeriesResearch/datasets/Satya_New/Florida/PM25/file_24.csv\n",
      "Moved: /data/TimeSeriesResearch/datasets/Satya/Florida/file_0_PM25.csv -> /data/TimeSeriesResearch/datasets/Satya_New/Florida/PM25/file_0.csv\n",
      "Moved: /data/TimeSeriesResearch/datasets/Satya/Florida/file_45_PM25.csv -> /data/TimeSeriesResearch/datasets/Satya_New/Florida/PM25/file_45.csv\n",
      "Moved: /data/TimeSeriesResearch/datasets/Satya/Florida/file_8_PM25.csv -> /data/TimeSeriesResearch/datasets/Satya_New/Florida/PM25/file_8.csv\n",
      "Moved: /data/TimeSeriesResearch/datasets/Satya/Florida/file_3_PM25.csv -> /data/TimeSeriesResearch/datasets/Satya_New/Florida/PM25/file_3.csv\n",
      "Moved: /data/TimeSeriesResearch/datasets/Satya/Florida/file_14_PM25.csv -> /data/TimeSeriesResearch/datasets/Satya_New/Florida/PM25/file_14.csv\n",
      "Moved: /data/TimeSeriesResearch/datasets/Satya/Florida/file_5_PM25.csv -> /data/TimeSeriesResearch/datasets/Satya_New/Florida/PM25/file_5.csv\n",
      "Moved: /data/TimeSeriesResearch/datasets/Satya/Florida/file_39_PM25.csv -> /data/TimeSeriesResearch/datasets/Satya_New/Florida/PM25/file_39.csv\n",
      "Moved: /data/TimeSeriesResearch/datasets/Satya/Florida/file_7_PM25.csv -> /data/TimeSeriesResearch/datasets/Satya_New/Florida/PM25/file_7.csv\n",
      "Moved: /data/TimeSeriesResearch/datasets/Satya/Florida/file_26_PM25.csv -> /data/TimeSeriesResearch/datasets/Satya_New/Florida/PM25/file_26.csv\n"
     ]
    },
    {
     "name": "stderr",
     "output_type": "stream",
     "text": [
      "Processing Folders:  47%|█████████████████████████████████████████████████████████████████████████████████████████████████████████████▋                                                                                                                           | 8/17 [00:02<00:02,  3.34it/s]"
     ]
    },
    {
     "name": "stdout",
     "output_type": "stream",
     "text": [
      "Moved: /data/TimeSeriesResearch/datasets/Satya/Florida/file_10_PM25.csv -> /data/TimeSeriesResearch/datasets/Satya_New/Florida/PM25/file_10.csv\n",
      "Moved: /data/TimeSeriesResearch/datasets/Satya/Florida/file_16_PM25.csv -> /data/TimeSeriesResearch/datasets/Satya_New/Florida/PM25/file_16.csv\n",
      "Moved: /data/TimeSeriesResearch/datasets/Satya/Florida/file_47_PM25.csv -> /data/TimeSeriesResearch/datasets/Satya_New/Florida/PM25/file_47.csv\n",
      "Moved: /data/TimeSeriesResearch/datasets/Satya/Florida/file_44_PM25.csv -> /data/TimeSeriesResearch/datasets/Satya_New/Florida/PM25/file_44.csv\n",
      "Moved: /data/TimeSeriesResearch/datasets/Satya/Florida/file_38_PM25.csv -> /data/TimeSeriesResearch/datasets/Satya_New/Florida/PM25/file_38.csv\n",
      "Moved: /data/TimeSeriesResearch/datasets/Satya/Florida/file_18_PM25.csv -> /data/TimeSeriesResearch/datasets/Satya_New/Florida/PM25/file_18.csv\n",
      "Moved: /data/TimeSeriesResearch/datasets/Satya/Florida/file_13_PM25.csv -> /data/TimeSeriesResearch/datasets/Satya_New/Florida/PM25/file_13.csv\n",
      "Moved: /data/TimeSeriesResearch/datasets/Satya/Florida/file_17_PM25.csv -> /data/TimeSeriesResearch/datasets/Satya_New/Florida/PM25/file_17.csv\n",
      "Moved: /data/TimeSeriesResearch/datasets/Satya/Florida/file_50_PM25.csv -> /data/TimeSeriesResearch/datasets/Satya_New/Florida/PM25/file_50.csv\n",
      "Moved: /data/TimeSeriesResearch/datasets/Satya/Florida/file_22_PM25.csv -> /data/TimeSeriesResearch/datasets/Satya_New/Florida/PM25/file_22.csv\n",
      "Moved: /data/TimeSeriesResearch/datasets/Satya/Florida/file_40_PM25.csv -> /data/TimeSeriesResearch/datasets/Satya_New/Florida/PM25/file_40.csv\n",
      "Moved: /data/TimeSeriesResearch/datasets/Satya/Florida/file_37_PM25.csv -> /data/TimeSeriesResearch/datasets/Satya_New/Florida/PM25/file_37.csv\n",
      "Moved: /data/TimeSeriesResearch/datasets/Satya/Florida/file_27_PM25.csv -> /data/TimeSeriesResearch/datasets/Satya_New/Florida/PM25/file_27.csv\n",
      "Moved: /data/TimeSeriesResearch/datasets/Satya/Florida/file_49_PM25.csv -> /data/TimeSeriesResearch/datasets/Satya_New/Florida/PM25/file_49.csv\n",
      "Moved: /data/TimeSeriesResearch/datasets/Satya/Florida/file_33_PM25.csv -> /data/TimeSeriesResearch/datasets/Satya_New/Florida/PM25/file_33.csv\n",
      "Moved: /data/TimeSeriesResearch/datasets/Satya/Texas/file_3_Pb.csv -> /data/TimeSeriesResearch/datasets/Satya_New/Texas/Pb/file_3.csv\n",
      "Moved: /data/TimeSeriesResearch/datasets/Satya/Texas/file_4_Pb.csv -> /data/TimeSeriesResearch/datasets/Satya_New/Texas/Pb/file_4.csv\n",
      "Moved: /data/TimeSeriesResearch/datasets/Satya/Texas/file_1_Pb.csv -> /data/TimeSeriesResearch/datasets/Satya_New/Texas/Pb/file_1.csv\n",
      "Moved: /data/TimeSeriesResearch/datasets/Satya/Texas/file_2_Pb.csv -> /data/TimeSeriesResearch/datasets/Satya_New/Texas/Pb/file_2.csv\n",
      "Moved: /data/TimeSeriesResearch/datasets/Satya/Texas/file_0_Pb.csv -> /data/TimeSeriesResearch/datasets/Satya_New/Texas/Pb/file_0.csv\n",
      "Moved: /data/TimeSeriesResearch/datasets/Satya/Michigan/file_0_CO.csv -> /data/TimeSeriesResearch/datasets/Satya_New/Michigan/CO/file_0.csv\n"
     ]
    },
    {
     "name": "stderr",
     "output_type": "stream",
     "text": [
      "Processing Folders:  59%|████████████████████████████████████████████████████████████████████████████████████████████████████████████████████████████████████████▍                                                                                               | 10/17 [00:02<00:01,  4.63it/s]"
     ]
    },
    {
     "name": "stdout",
     "output_type": "stream",
     "text": [
      "Moved: /data/TimeSeriesResearch/datasets/Satya/Michigan/file_1_CO.csv -> /data/TimeSeriesResearch/datasets/Satya_New/Michigan/CO/file_1.csv\n",
      "Moved: /data/TimeSeriesResearch/datasets/Satya/Michigan/file_5_CO.csv -> /data/TimeSeriesResearch/datasets/Satya_New/Michigan/CO/file_5.csv\n",
      "Moved: /data/TimeSeriesResearch/datasets/Satya/Michigan/file_4_CO.csv -> /data/TimeSeriesResearch/datasets/Satya_New/Michigan/CO/file_4.csv\n",
      "Moved: /data/TimeSeriesResearch/datasets/Satya/Michigan/file_7_CO.csv -> /data/TimeSeriesResearch/datasets/Satya_New/Michigan/CO/file_7.csv\n",
      "Moved: /data/TimeSeriesResearch/datasets/Satya/Michigan/file_8_CO.csv -> /data/TimeSeriesResearch/datasets/Satya_New/Michigan/CO/file_8.csv\n",
      "Moved: /data/TimeSeriesResearch/datasets/Satya/Michigan/file_6_CO.csv -> /data/TimeSeriesResearch/datasets/Satya_New/Michigan/CO/file_6.csv\n",
      "Moved: /data/TimeSeriesResearch/datasets/Satya/Michigan/file_2_CO.csv -> /data/TimeSeriesResearch/datasets/Satya_New/Michigan/CO/file_2.csv\n",
      "Moved: /data/TimeSeriesResearch/datasets/Satya/Michigan/file_3_CO.csv -> /data/TimeSeriesResearch/datasets/Satya_New/Michigan/CO/file_3.csv\n",
      "Moved: /data/TimeSeriesResearch/datasets/Satya/OCSV/file_6_Outer_and_Ball.csv -> /data/TimeSeriesResearch/datasets/Satya_New/OCSV/Outer_and_Ball/file_6.csv\n",
      "Moved: /data/TimeSeriesResearch/datasets/Satya/OCSV/file_4_Outer_and_Ball.csv -> /data/TimeSeriesResearch/datasets/Satya_New/OCSV/Outer_and_Ball/file_4.csv\n",
      "Moved: /data/TimeSeriesResearch/datasets/Satya/OCSV/file_7_Outer_and_Ball.csv -> /data/TimeSeriesResearch/datasets/Satya_New/OCSV/Outer_and_Ball/file_7.csv\n",
      "Moved: /data/TimeSeriesResearch/datasets/Satya/OCSV/file_0_Outer_and_Ball.csv -> /data/TimeSeriesResearch/datasets/Satya_New/OCSV/Outer_and_Ball/file_0.csv\n",
      "Moved: /data/TimeSeriesResearch/datasets/Satya/OCSV/file_2_Outer_and_Ball.csv -> /data/TimeSeriesResearch/datasets/Satya_New/OCSV/Outer_and_Ball/file_2.csv\n",
      "Moved: /data/TimeSeriesResearch/datasets/Satya/OCSV/file_8_Outer_and_Ball.csv -> /data/TimeSeriesResearch/datasets/Satya_New/OCSV/Outer_and_Ball/file_8.csv\n"
     ]
    },
    {
     "name": "stderr",
     "output_type": "stream",
     "text": [
      "Processing Folders:  65%|██████████████████████████████████████████████████████████████████████████████████████████████████████████████████████████████████████████████████████                                                                                  | 11/17 [00:03<00:01,  3.47it/s]"
     ]
    },
    {
     "name": "stdout",
     "output_type": "stream",
     "text": [
      "Moved: /data/TimeSeriesResearch/datasets/Satya/OCSV/file_5_Outer_and_Ball.csv -> /data/TimeSeriesResearch/datasets/Satya_New/OCSV/Outer_and_Ball/file_5.csv\n",
      "Moved: /data/TimeSeriesResearch/datasets/Satya/OCSV/file_1_Outer_and_Ball.csv -> /data/TimeSeriesResearch/datasets/Satya_New/OCSV/Outer_and_Ball/file_1.csv\n",
      "Moved: /data/TimeSeriesResearch/datasets/Satya/OCSV/file_3_Outer_and_Ball.csv -> /data/TimeSeriesResearch/datasets/Satya_New/OCSV/Outer_and_Ball/file_3.csv\n",
      "Moved: /data/TimeSeriesResearch/datasets/Satya/turbofan/file_0_Unknown.csv -> /data/TimeSeriesResearch/datasets/Satya_New/turbofan/Unknown/file_0.csv\n"
     ]
    },
    {
     "name": "stderr",
     "output_type": "stream",
     "text": [
      "Processing Folders:  71%|███████████████████████████████████████████████████████████████████████████████████████████████████████████████████████████████████████████████████████████████████▊                                                                    | 12/17 [00:03<00:01,  3.84it/s]"
     ]
    },
    {
     "name": "stdout",
     "output_type": "stream",
     "text": [
      "Moved: /data/TimeSeriesResearch/datasets/Satya/turbofan/file_1_Unknown.csv -> /data/TimeSeriesResearch/datasets/Satya_New/turbofan/Unknown/file_1.csv\n",
      "Moved: /data/TimeSeriesResearch/datasets/Satya/turbofan/file_2_Unknown.csv -> /data/TimeSeriesResearch/datasets/Satya_New/turbofan/Unknown/file_2.csv\n",
      "Moved: /data/TimeSeriesResearch/datasets/Satya/turbofan/file_3_Unknown.csv -> /data/TimeSeriesResearch/datasets/Satya_New/turbofan/Unknown/file_3.csv\n",
      "Moved: /data/TimeSeriesResearch/datasets/Satya/NewYork/file_4_PM1.csv -> /data/TimeSeriesResearch/datasets/Satya_New/NewYork/PM1/file_4.csv\n",
      "Moved: /data/TimeSeriesResearch/datasets/Satya/NewYork/file_0_PM1.csv -> /data/TimeSeriesResearch/datasets/Satya_New/NewYork/PM1/file_0.csv\n",
      "Moved: /data/TimeSeriesResearch/datasets/Satya/NewYork/file_2_PM1.csv -> /data/TimeSeriesResearch/datasets/Satya_New/NewYork/PM1/file_2.csv\n",
      "Moved: /data/TimeSeriesResearch/datasets/Satya/NewYork/file_3_PM1.csv -> /data/TimeSeriesResearch/datasets/Satya_New/NewYork/PM1/file_3.csv\n",
      "Moved: /data/TimeSeriesResearch/datasets/Satya/NewYork/file_1_PM1.csv -> /data/TimeSeriesResearch/datasets/Satya_New/NewYork/PM1/file_1.csv\n",
      "Moved: /data/TimeSeriesResearch/datasets/Satya/IOCSV/file_2_Inner_and_Outer.csv -> /data/TimeSeriesResearch/datasets/Satya_New/IOCSV/Inner_and_Outer/file_2.csv\n",
      "Moved: /data/TimeSeriesResearch/datasets/Satya/IOCSV/file_3_Inner_and_Outer.csv -> /data/TimeSeriesResearch/datasets/Satya_New/IOCSV/Inner_and_Outer/file_3.csv\n",
      "Moved: /data/TimeSeriesResearch/datasets/Satya/IOCSV/file_4_Inner_and_Outer.csv -> /data/TimeSeriesResearch/datasets/Satya_New/IOCSV/Inner_and_Outer/file_4.csv\n",
      "Moved: /data/TimeSeriesResearch/datasets/Satya/IOCSV/file_0_Inner_and_Outer.csv -> /data/TimeSeriesResearch/datasets/Satya_New/IOCSV/Inner_and_Outer/file_0.csv\n"
     ]
    },
    {
     "name": "stderr",
     "output_type": "stream",
     "text": [
      "Processing Folders:  82%|███████████████████████████████████████████████████████████████████████████████████████████████████████████████████████████████████████████████████████████████████████████████████████████████                                         | 14/17 [00:03<00:00,  4.40it/s]"
     ]
    },
    {
     "name": "stdout",
     "output_type": "stream",
     "text": [
      "Moved: /data/TimeSeriesResearch/datasets/Satya/IOCSV/file_1_Inner_and_Outer.csv -> /data/TimeSeriesResearch/datasets/Satya_New/IOCSV/Inner_and_Outer/file_1.csv\n",
      "Moved: /data/TimeSeriesResearch/datasets/Satya/Illinois/file_7_NO.csv -> /data/TimeSeriesResearch/datasets/Satya_New/Illinois/NO/file_7.csv\n",
      "Moved: /data/TimeSeriesResearch/datasets/Satya/Illinois/file_4_NO.csv -> /data/TimeSeriesResearch/datasets/Satya_New/Illinois/NO/file_4.csv\n",
      "Moved: /data/TimeSeriesResearch/datasets/Satya/Illinois/file_1_NO.csv -> /data/TimeSeriesResearch/datasets/Satya_New/Illinois/NO/file_1.csv\n",
      "Moved: /data/TimeSeriesResearch/datasets/Satya/Illinois/file_5_NO.csv -> /data/TimeSeriesResearch/datasets/Satya_New/Illinois/NO/file_5.csv\n",
      "Moved: /data/TimeSeriesResearch/datasets/Satya/Illinois/file_6_NO.csv -> /data/TimeSeriesResearch/datasets/Satya_New/Illinois/NO/file_6.csv\n",
      "Moved: /data/TimeSeriesResearch/datasets/Satya/Illinois/file_2_NO.csv -> /data/TimeSeriesResearch/datasets/Satya_New/Illinois/NO/file_2.csv\n",
      "Moved: /data/TimeSeriesResearch/datasets/Satya/Illinois/file_3_NO.csv -> /data/TimeSeriesResearch/datasets/Satya_New/Illinois/NO/file_3.csv\n",
      "Moved: /data/TimeSeriesResearch/datasets/Satya/Illinois/file_0_NO.csv -> /data/TimeSeriesResearch/datasets/Satya_New/Illinois/NO/file_0.csv\n",
      "Moved: /data/TimeSeriesResearch/datasets/Satya/Gyrometer/file_7_FloorMove.csv -> /data/TimeSeriesResearch/datasets/Satya_New/Gyrometer/FloorMove/file_7.csv\n",
      "Moved: /data/TimeSeriesResearch/datasets/Satya/Gyrometer/file_0_BuildingElevatorMove.csv -> /data/TimeSeriesResearch/datasets/Satya_New/Gyrometer/BuildingElevatorMove/file_0.csv\n",
      "Moved: /data/TimeSeriesResearch/datasets/Satya/Gyrometer/file_5_FloorMove.csv -> /data/TimeSeriesResearch/datasets/Satya_New/Gyrometer/FloorMove/file_5.csv\n",
      "Moved: /data/TimeSeriesResearch/datasets/Satya/Gyrometer/file_0_OutdoorMove.csv -> /data/TimeSeriesResearch/datasets/Satya_New/Gyrometer/OutdoorMove/file_0.csv\n",
      "Moved: /data/TimeSeriesResearch/datasets/Satya/Gyrometer/file_2_FloorMove.csv -> /data/TimeSeriesResearch/datasets/Satya_New/Gyrometer/FloorMove/file_2.csv\n",
      "Moved: /data/TimeSeriesResearch/datasets/Satya/Gyrometer/file_0_EscalatorMove.csv -> /data/TimeSeriesResearch/datasets/Satya_New/Gyrometer/EscalatorMove/file_0.csv\n",
      "Moved: /data/TimeSeriesResearch/datasets/Satya/Gyrometer/file_0_IndoorMove.csv -> /data/TimeSeriesResearch/datasets/Satya_New/Gyrometer/IndoorMove/file_0.csv\n",
      "Moved: /data/TimeSeriesResearch/datasets/Satya/Gyrometer/file_6_FloorMove.csv -> /data/TimeSeriesResearch/datasets/Satya_New/Gyrometer/FloorMove/file_6.csv\n",
      "Moved: /data/TimeSeriesResearch/datasets/Satya/Gyrometer/file_1_EscalatorMove.csv -> /data/TimeSeriesResearch/datasets/Satya_New/Gyrometer/EscalatorMove/file_1.csv\n"
     ]
    },
    {
     "name": "stderr",
     "output_type": "stream",
     "text": [
      "Processing Folders:  94%|██████████████████████████████████████████████████████████████████████████████████████████████████████████████████████████████████████████████████████████████████████████████████████████████████████████████████████████▎             | 16/17 [00:03<00:00,  5.08it/s]"
     ]
    },
    {
     "name": "stdout",
     "output_type": "stream",
     "text": [
      "Moved: /data/TimeSeriesResearch/datasets/Satya/Gyrometer/file_0_BuildingStairMove.csv -> /data/TimeSeriesResearch/datasets/Satya_New/Gyrometer/BuildingStairMove/file_0.csv\n",
      "Moved: /data/TimeSeriesResearch/datasets/Satya/Gyrometer/file_1_BuildingElevatorMove.csv -> /data/TimeSeriesResearch/datasets/Satya_New/Gyrometer/BuildingElevatorMove/file_1.csv\n",
      "Moved: /data/TimeSeriesResearch/datasets/Satya/Gyrometer/file_1_OutdoorMove.csv -> /data/TimeSeriesResearch/datasets/Satya_New/Gyrometer/OutdoorMove/file_1.csv\n",
      "Moved: /data/TimeSeriesResearch/datasets/Satya/Gyrometer/file_0_FloorMove.csv -> /data/TimeSeriesResearch/datasets/Satya_New/Gyrometer/FloorMove/file_0.csv\n",
      "Moved: /data/TimeSeriesResearch/datasets/Satya/Gyrometer/file_3_FloorMove.csv -> /data/TimeSeriesResearch/datasets/Satya_New/Gyrometer/FloorMove/file_3.csv\n",
      "Moved: /data/TimeSeriesResearch/datasets/Satya/Gyrometer/file_1_FloorMove.csv -> /data/TimeSeriesResearch/datasets/Satya_New/Gyrometer/FloorMove/file_1.csv\n",
      "Moved: /data/TimeSeriesResearch/datasets/Satya/Gyrometer/file_1_BuildingStairMove.csv -> /data/TimeSeriesResearch/datasets/Satya_New/Gyrometer/BuildingStairMove/file_1.csv\n",
      "Moved: /data/TimeSeriesResearch/datasets/Satya/Gyrometer/file_4_FloorMove.csv -> /data/TimeSeriesResearch/datasets/Satya_New/Gyrometer/FloorMove/file_4.csv\n",
      "Moved: /data/TimeSeriesResearch/datasets/Satya/IBCSV/file_0_Inner_and_Ball.csv -> /data/TimeSeriesResearch/datasets/Satya_New/IBCSV/Inner_and_Ball/file_0.csv\n",
      "Moved: /data/TimeSeriesResearch/datasets/Satya/IBCSV/file_3_Inner_and_Ball.csv -> /data/TimeSeriesResearch/datasets/Satya_New/IBCSV/Inner_and_Ball/file_3.csv\n"
     ]
    },
    {
     "name": "stderr",
     "output_type": "stream",
     "text": [
      "Processing Folders: 100%|████████████████████████████████████████████████████████████████████████████████████████████████████████████████████████████████████████████████████████████████████████████████████████████████████████████████████████████████████████| 17/17 [00:04<00:00,  4.04it/s]"
     ]
    },
    {
     "name": "stdout",
     "output_type": "stream",
     "text": [
      "Moved: /data/TimeSeriesResearch/datasets/Satya/IBCSV/file_1_Inner_and_Ball.csv -> /data/TimeSeriesResearch/datasets/Satya_New/IBCSV/Inner_and_Ball/file_1.csv\n",
      "Moved: /data/TimeSeriesResearch/datasets/Satya/IBCSV/file_2_Inner_and_Ball.csv -> /data/TimeSeriesResearch/datasets/Satya_New/IBCSV/Inner_and_Ball/file_2.csv\n",
      "Restructuring complete.\n"
     ]
    },
    {
     "name": "stderr",
     "output_type": "stream",
     "text": [
      "\n"
     ]
    }
   ],
   "source": [
    "import os\n",
    "import shutil\n",
    "from tqdm import tqdm\n",
    "\n",
    "OLD_ROOT = \"/data/TimeSeriesResearch/datasets/Satya\"\n",
    "NEW_ROOT = \"/data/TimeSeriesResearch/datasets/Satya_New\"\n",
    "\n",
    "def restructure_dataset(old_root=OLD_ROOT, new_root=NEW_ROOT):\n",
    "    os.makedirs(new_root, exist_ok=True)\n",
    "\n",
    "    # Iterate over each folder in the old root directory\n",
    "    for folder in tqdm(os.listdir(old_root), desc=\"Processing Folders\"):\n",
    "        folder_path = os.path.join(old_root, folder)\n",
    "        \n",
    "        # Skip non-directory entries\n",
    "        if not os.path.isdir(folder_path):\n",
    "            continue\n",
    "\n",
    "        # Iterate over each file in the folder\n",
    "        for file_name in os.listdir(folder_path):\n",
    "            # Process only CSV files\n",
    "            if not file_name.lower().endswith(\".csv\"):\n",
    "                continue\n",
    "            \n",
    "            # Extract label and index from the file name\n",
    "            parts = file_name.split('_')\n",
    "            if len(parts) >= 3:\n",
    "                label = '_'.join(parts[2:]).replace('.csv', '')\n",
    "                index = parts[1]\n",
    "            else:\n",
    "                label = \"Unknown\"\n",
    "                index = parts[1] if len(parts) > 1 else \"0\"\n",
    "\n",
    "            # Create the destination folder structure\n",
    "            label_folder = os.path.join(new_root, folder, label)\n",
    "            os.makedirs(label_folder, exist_ok=True)\n",
    "\n",
    "            # Construct destination filename as \"file_{index}.csv\"\n",
    "            new_file_name = f\"file_{index}.csv\"\n",
    "            src_path = os.path.join(folder_path, file_name)\n",
    "            dst_path = os.path.join(label_folder, new_file_name)\n",
    "\n",
    "            # Move the file to the new location\n",
    "            try:\n",
    "                shutil.copy(src_path, dst_path)\n",
    "                print(f\"Moved: {src_path} -> {dst_path}\")\n",
    "            except Exception as e:\n",
    "                print(f\"Error moving {src_path} to {dst_path}: {e}\")\n",
    "\n",
    "    print(\"Restructuring complete.\")\n",
    "\n",
    "restructure_dataset()\n"
   ]
  },
  {
   "cell_type": "code",
   "execution_count": null,
   "id": "21f43553-e334-422e-aa7e-9c64656ce439",
   "metadata": {},
   "outputs": [],
   "source": []
  },
  {
   "cell_type": "code",
   "execution_count": 4,
   "id": "824e63ea-c96b-4877-81e2-96dbef2ae8e4",
   "metadata": {
    "scrolled": true
   },
   "outputs": [
    {
     "name": "stderr",
     "output_type": "stream",
     "text": [
      "Restoring datasets:   2%|████▉                                                                                                                                                                                                                             | 254/11587 [01:46<1:19:02,  2.39it/s]\n"
     ]
    },
    {
     "ename": "KeyboardInterrupt",
     "evalue": "",
     "output_type": "error",
     "traceback": [
      "\u001b[0;31m---------------------------------------------------------------------------\u001b[0m",
      "\u001b[0;31mKeyboardInterrupt\u001b[0m                         Traceback (most recent call last)",
      "Cell \u001b[0;32mIn[4], line 40\u001b[0m\n\u001b[1;32m     37\u001b[0m     \u001b[38;5;28mprint\u001b[39m(\u001b[38;5;124mf\u001b[39m\u001b[38;5;124m\"\u001b[39m\u001b[38;5;124mData restored with labels to \u001b[39m\u001b[38;5;132;01m{\u001b[39;00moutput_dir\u001b[38;5;132;01m}\u001b[39;00m\u001b[38;5;124m\"\u001b[39m)\n\u001b[1;32m     39\u001b[0m \u001b[38;5;66;03m# Run the restoration process\u001b[39;00m\n\u001b[0;32m---> 40\u001b[0m \u001b[43mrestore_csv_with_labels\u001b[49m\u001b[43m(\u001b[49m\u001b[43mH5_FILE\u001b[49m\u001b[43m,\u001b[49m\u001b[43m \u001b[49m\u001b[43mOUTPUT_DIR\u001b[49m\u001b[43m)\u001b[49m\n",
      "Cell \u001b[0;32mIn[4], line 35\u001b[0m, in \u001b[0;36mrestore_csv_with_labels\u001b[0;34m(h5_file, output_dir)\u001b[0m\n\u001b[1;32m     32\u001b[0m         df \u001b[38;5;241m=\u001b[39m pd\u001b[38;5;241m.\u001b[39mDataFrame(data_array, columns\u001b[38;5;241m=\u001b[39mcolumn_names)\n\u001b[1;32m     34\u001b[0m         \u001b[38;5;66;03m# Save the DataFrame to a CSV file\u001b[39;00m\n\u001b[0;32m---> 35\u001b[0m         \u001b[43mdf\u001b[49m\u001b[38;5;241;43m.\u001b[39;49m\u001b[43mto_csv\u001b[49m\u001b[43m(\u001b[49m\u001b[43mcsv_path\u001b[49m\u001b[43m,\u001b[49m\u001b[43m \u001b[49m\u001b[43mindex\u001b[49m\u001b[38;5;241;43m=\u001b[39;49m\u001b[38;5;28;43;01mFalse\u001b[39;49;00m\u001b[43m)\u001b[49m\n\u001b[1;32m     37\u001b[0m \u001b[38;5;28mprint\u001b[39m(\u001b[38;5;124mf\u001b[39m\u001b[38;5;124m\"\u001b[39m\u001b[38;5;124mData restored with labels to \u001b[39m\u001b[38;5;132;01m{\u001b[39;00moutput_dir\u001b[38;5;132;01m}\u001b[39;00m\u001b[38;5;124m\"\u001b[39m)\n",
      "File \u001b[0;32m~/.cache/pypoetry/virtualenvs/ftse--n0ujFjG-py3.11/lib/python3.11/site-packages/pandas/util/_decorators.py:333\u001b[0m, in \u001b[0;36mdeprecate_nonkeyword_arguments.<locals>.decorate.<locals>.wrapper\u001b[0;34m(*args, **kwargs)\u001b[0m\n\u001b[1;32m    327\u001b[0m \u001b[38;5;28;01mif\u001b[39;00m \u001b[38;5;28mlen\u001b[39m(args) \u001b[38;5;241m>\u001b[39m num_allow_args:\n\u001b[1;32m    328\u001b[0m     warnings\u001b[38;5;241m.\u001b[39mwarn(\n\u001b[1;32m    329\u001b[0m         msg\u001b[38;5;241m.\u001b[39mformat(arguments\u001b[38;5;241m=\u001b[39m_format_argument_list(allow_args)),\n\u001b[1;32m    330\u001b[0m         \u001b[38;5;167;01mFutureWarning\u001b[39;00m,\n\u001b[1;32m    331\u001b[0m         stacklevel\u001b[38;5;241m=\u001b[39mfind_stack_level(),\n\u001b[1;32m    332\u001b[0m     )\n\u001b[0;32m--> 333\u001b[0m \u001b[38;5;28;01mreturn\u001b[39;00m \u001b[43mfunc\u001b[49m\u001b[43m(\u001b[49m\u001b[38;5;241;43m*\u001b[39;49m\u001b[43margs\u001b[49m\u001b[43m,\u001b[49m\u001b[43m \u001b[49m\u001b[38;5;241;43m*\u001b[39;49m\u001b[38;5;241;43m*\u001b[39;49m\u001b[43mkwargs\u001b[49m\u001b[43m)\u001b[49m\n",
      "File \u001b[0;32m~/.cache/pypoetry/virtualenvs/ftse--n0ujFjG-py3.11/lib/python3.11/site-packages/pandas/core/generic.py:3967\u001b[0m, in \u001b[0;36mNDFrame.to_csv\u001b[0;34m(self, path_or_buf, sep, na_rep, float_format, columns, header, index, index_label, mode, encoding, compression, quoting, quotechar, lineterminator, chunksize, date_format, doublequote, escapechar, decimal, errors, storage_options)\u001b[0m\n\u001b[1;32m   3956\u001b[0m df \u001b[38;5;241m=\u001b[39m \u001b[38;5;28mself\u001b[39m \u001b[38;5;28;01mif\u001b[39;00m \u001b[38;5;28misinstance\u001b[39m(\u001b[38;5;28mself\u001b[39m, ABCDataFrame) \u001b[38;5;28;01melse\u001b[39;00m \u001b[38;5;28mself\u001b[39m\u001b[38;5;241m.\u001b[39mto_frame()\n\u001b[1;32m   3958\u001b[0m formatter \u001b[38;5;241m=\u001b[39m DataFrameFormatter(\n\u001b[1;32m   3959\u001b[0m     frame\u001b[38;5;241m=\u001b[39mdf,\n\u001b[1;32m   3960\u001b[0m     header\u001b[38;5;241m=\u001b[39mheader,\n\u001b[0;32m   (...)\u001b[0m\n\u001b[1;32m   3964\u001b[0m     decimal\u001b[38;5;241m=\u001b[39mdecimal,\n\u001b[1;32m   3965\u001b[0m )\n\u001b[0;32m-> 3967\u001b[0m \u001b[38;5;28;01mreturn\u001b[39;00m \u001b[43mDataFrameRenderer\u001b[49m\u001b[43m(\u001b[49m\u001b[43mformatter\u001b[49m\u001b[43m)\u001b[49m\u001b[38;5;241;43m.\u001b[39;49m\u001b[43mto_csv\u001b[49m\u001b[43m(\u001b[49m\n\u001b[1;32m   3968\u001b[0m \u001b[43m    \u001b[49m\u001b[43mpath_or_buf\u001b[49m\u001b[43m,\u001b[49m\n\u001b[1;32m   3969\u001b[0m \u001b[43m    \u001b[49m\u001b[43mlineterminator\u001b[49m\u001b[38;5;241;43m=\u001b[39;49m\u001b[43mlineterminator\u001b[49m\u001b[43m,\u001b[49m\n\u001b[1;32m   3970\u001b[0m \u001b[43m    \u001b[49m\u001b[43msep\u001b[49m\u001b[38;5;241;43m=\u001b[39;49m\u001b[43msep\u001b[49m\u001b[43m,\u001b[49m\n\u001b[1;32m   3971\u001b[0m \u001b[43m    \u001b[49m\u001b[43mencoding\u001b[49m\u001b[38;5;241;43m=\u001b[39;49m\u001b[43mencoding\u001b[49m\u001b[43m,\u001b[49m\n\u001b[1;32m   3972\u001b[0m \u001b[43m    \u001b[49m\u001b[43merrors\u001b[49m\u001b[38;5;241;43m=\u001b[39;49m\u001b[43merrors\u001b[49m\u001b[43m,\u001b[49m\n\u001b[1;32m   3973\u001b[0m \u001b[43m    \u001b[49m\u001b[43mcompression\u001b[49m\u001b[38;5;241;43m=\u001b[39;49m\u001b[43mcompression\u001b[49m\u001b[43m,\u001b[49m\n\u001b[1;32m   3974\u001b[0m \u001b[43m    \u001b[49m\u001b[43mquoting\u001b[49m\u001b[38;5;241;43m=\u001b[39;49m\u001b[43mquoting\u001b[49m\u001b[43m,\u001b[49m\n\u001b[1;32m   3975\u001b[0m \u001b[43m    \u001b[49m\u001b[43mcolumns\u001b[49m\u001b[38;5;241;43m=\u001b[39;49m\u001b[43mcolumns\u001b[49m\u001b[43m,\u001b[49m\n\u001b[1;32m   3976\u001b[0m \u001b[43m    \u001b[49m\u001b[43mindex_label\u001b[49m\u001b[38;5;241;43m=\u001b[39;49m\u001b[43mindex_label\u001b[49m\u001b[43m,\u001b[49m\n\u001b[1;32m   3977\u001b[0m \u001b[43m    \u001b[49m\u001b[43mmode\u001b[49m\u001b[38;5;241;43m=\u001b[39;49m\u001b[43mmode\u001b[49m\u001b[43m,\u001b[49m\n\u001b[1;32m   3978\u001b[0m \u001b[43m    \u001b[49m\u001b[43mchunksize\u001b[49m\u001b[38;5;241;43m=\u001b[39;49m\u001b[43mchunksize\u001b[49m\u001b[43m,\u001b[49m\n\u001b[1;32m   3979\u001b[0m \u001b[43m    \u001b[49m\u001b[43mquotechar\u001b[49m\u001b[38;5;241;43m=\u001b[39;49m\u001b[43mquotechar\u001b[49m\u001b[43m,\u001b[49m\n\u001b[1;32m   3980\u001b[0m \u001b[43m    \u001b[49m\u001b[43mdate_format\u001b[49m\u001b[38;5;241;43m=\u001b[39;49m\u001b[43mdate_format\u001b[49m\u001b[43m,\u001b[49m\n\u001b[1;32m   3981\u001b[0m \u001b[43m    \u001b[49m\u001b[43mdoublequote\u001b[49m\u001b[38;5;241;43m=\u001b[39;49m\u001b[43mdoublequote\u001b[49m\u001b[43m,\u001b[49m\n\u001b[1;32m   3982\u001b[0m \u001b[43m    \u001b[49m\u001b[43mescapechar\u001b[49m\u001b[38;5;241;43m=\u001b[39;49m\u001b[43mescapechar\u001b[49m\u001b[43m,\u001b[49m\n\u001b[1;32m   3983\u001b[0m \u001b[43m    \u001b[49m\u001b[43mstorage_options\u001b[49m\u001b[38;5;241;43m=\u001b[39;49m\u001b[43mstorage_options\u001b[49m\u001b[43m,\u001b[49m\n\u001b[1;32m   3984\u001b[0m \u001b[43m\u001b[49m\u001b[43m)\u001b[49m\n",
      "File \u001b[0;32m~/.cache/pypoetry/virtualenvs/ftse--n0ujFjG-py3.11/lib/python3.11/site-packages/pandas/io/formats/format.py:1014\u001b[0m, in \u001b[0;36mDataFrameRenderer.to_csv\u001b[0;34m(self, path_or_buf, encoding, sep, columns, index_label, mode, compression, quoting, quotechar, lineterminator, chunksize, date_format, doublequote, escapechar, errors, storage_options)\u001b[0m\n\u001b[1;32m    993\u001b[0m     created_buffer \u001b[38;5;241m=\u001b[39m \u001b[38;5;28;01mFalse\u001b[39;00m\n\u001b[1;32m    995\u001b[0m csv_formatter \u001b[38;5;241m=\u001b[39m CSVFormatter(\n\u001b[1;32m    996\u001b[0m     path_or_buf\u001b[38;5;241m=\u001b[39mpath_or_buf,\n\u001b[1;32m    997\u001b[0m     lineterminator\u001b[38;5;241m=\u001b[39mlineterminator,\n\u001b[0;32m   (...)\u001b[0m\n\u001b[1;32m   1012\u001b[0m     formatter\u001b[38;5;241m=\u001b[39m\u001b[38;5;28mself\u001b[39m\u001b[38;5;241m.\u001b[39mfmt,\n\u001b[1;32m   1013\u001b[0m )\n\u001b[0;32m-> 1014\u001b[0m \u001b[43mcsv_formatter\u001b[49m\u001b[38;5;241;43m.\u001b[39;49m\u001b[43msave\u001b[49m\u001b[43m(\u001b[49m\u001b[43m)\u001b[49m\n\u001b[1;32m   1016\u001b[0m \u001b[38;5;28;01mif\u001b[39;00m created_buffer:\n\u001b[1;32m   1017\u001b[0m     \u001b[38;5;28;01massert\u001b[39;00m \u001b[38;5;28misinstance\u001b[39m(path_or_buf, StringIO)\n",
      "File \u001b[0;32m~/.cache/pypoetry/virtualenvs/ftse--n0ujFjG-py3.11/lib/python3.11/site-packages/pandas/io/formats/csvs.py:270\u001b[0m, in \u001b[0;36mCSVFormatter.save\u001b[0;34m(self)\u001b[0m\n\u001b[1;32m    251\u001b[0m \u001b[38;5;28;01mwith\u001b[39;00m get_handle(\n\u001b[1;32m    252\u001b[0m     \u001b[38;5;28mself\u001b[39m\u001b[38;5;241m.\u001b[39mfilepath_or_buffer,\n\u001b[1;32m    253\u001b[0m     \u001b[38;5;28mself\u001b[39m\u001b[38;5;241m.\u001b[39mmode,\n\u001b[0;32m   (...)\u001b[0m\n\u001b[1;32m    258\u001b[0m ) \u001b[38;5;28;01mas\u001b[39;00m handles:\n\u001b[1;32m    259\u001b[0m     \u001b[38;5;66;03m# Note: self.encoding is irrelevant here\u001b[39;00m\n\u001b[1;32m    260\u001b[0m     \u001b[38;5;28mself\u001b[39m\u001b[38;5;241m.\u001b[39mwriter \u001b[38;5;241m=\u001b[39m csvlib\u001b[38;5;241m.\u001b[39mwriter(\n\u001b[1;32m    261\u001b[0m         handles\u001b[38;5;241m.\u001b[39mhandle,\n\u001b[1;32m    262\u001b[0m         lineterminator\u001b[38;5;241m=\u001b[39m\u001b[38;5;28mself\u001b[39m\u001b[38;5;241m.\u001b[39mlineterminator,\n\u001b[0;32m   (...)\u001b[0m\n\u001b[1;32m    267\u001b[0m         quotechar\u001b[38;5;241m=\u001b[39m\u001b[38;5;28mself\u001b[39m\u001b[38;5;241m.\u001b[39mquotechar,\n\u001b[1;32m    268\u001b[0m     )\n\u001b[0;32m--> 270\u001b[0m     \u001b[38;5;28;43mself\u001b[39;49m\u001b[38;5;241;43m.\u001b[39;49m\u001b[43m_save\u001b[49m\u001b[43m(\u001b[49m\u001b[43m)\u001b[49m\n",
      "File \u001b[0;32m~/.cache/pypoetry/virtualenvs/ftse--n0ujFjG-py3.11/lib/python3.11/site-packages/pandas/io/formats/csvs.py:275\u001b[0m, in \u001b[0;36mCSVFormatter._save\u001b[0;34m(self)\u001b[0m\n\u001b[1;32m    273\u001b[0m \u001b[38;5;28;01mif\u001b[39;00m \u001b[38;5;28mself\u001b[39m\u001b[38;5;241m.\u001b[39m_need_to_save_header:\n\u001b[1;32m    274\u001b[0m     \u001b[38;5;28mself\u001b[39m\u001b[38;5;241m.\u001b[39m_save_header()\n\u001b[0;32m--> 275\u001b[0m \u001b[38;5;28;43mself\u001b[39;49m\u001b[38;5;241;43m.\u001b[39;49m\u001b[43m_save_body\u001b[49m\u001b[43m(\u001b[49m\u001b[43m)\u001b[49m\n",
      "File \u001b[0;32m~/.cache/pypoetry/virtualenvs/ftse--n0ujFjG-py3.11/lib/python3.11/site-packages/pandas/io/formats/csvs.py:313\u001b[0m, in \u001b[0;36mCSVFormatter._save_body\u001b[0;34m(self)\u001b[0m\n\u001b[1;32m    311\u001b[0m \u001b[38;5;28;01mif\u001b[39;00m start_i \u001b[38;5;241m>\u001b[39m\u001b[38;5;241m=\u001b[39m end_i:\n\u001b[1;32m    312\u001b[0m     \u001b[38;5;28;01mbreak\u001b[39;00m\n\u001b[0;32m--> 313\u001b[0m \u001b[38;5;28;43mself\u001b[39;49m\u001b[38;5;241;43m.\u001b[39;49m\u001b[43m_save_chunk\u001b[49m\u001b[43m(\u001b[49m\u001b[43mstart_i\u001b[49m\u001b[43m,\u001b[49m\u001b[43m \u001b[49m\u001b[43mend_i\u001b[49m\u001b[43m)\u001b[49m\n",
      "File \u001b[0;32m~/.cache/pypoetry/virtualenvs/ftse--n0ujFjG-py3.11/lib/python3.11/site-packages/pandas/io/formats/csvs.py:320\u001b[0m, in \u001b[0;36mCSVFormatter._save_chunk\u001b[0;34m(self, start_i, end_i)\u001b[0m\n\u001b[1;32m    317\u001b[0m slicer \u001b[38;5;241m=\u001b[39m \u001b[38;5;28mslice\u001b[39m(start_i, end_i)\n\u001b[1;32m    318\u001b[0m df \u001b[38;5;241m=\u001b[39m \u001b[38;5;28mself\u001b[39m\u001b[38;5;241m.\u001b[39mobj\u001b[38;5;241m.\u001b[39miloc[slicer]\n\u001b[0;32m--> 320\u001b[0m res \u001b[38;5;241m=\u001b[39m \u001b[43mdf\u001b[49m\u001b[38;5;241;43m.\u001b[39;49m\u001b[43m_get_values_for_csv\u001b[49m\u001b[43m(\u001b[49m\u001b[38;5;241;43m*\u001b[39;49m\u001b[38;5;241;43m*\u001b[39;49m\u001b[38;5;28;43mself\u001b[39;49m\u001b[38;5;241;43m.\u001b[39;49m\u001b[43m_number_format\u001b[49m\u001b[43m)\u001b[49m\n\u001b[1;32m    321\u001b[0m data \u001b[38;5;241m=\u001b[39m \u001b[38;5;28mlist\u001b[39m(res\u001b[38;5;241m.\u001b[39m_iter_column_arrays())\n\u001b[1;32m    323\u001b[0m ix \u001b[38;5;241m=\u001b[39m \u001b[38;5;28mself\u001b[39m\u001b[38;5;241m.\u001b[39mdata_index[slicer]\u001b[38;5;241m.\u001b[39m_get_values_for_csv(\u001b[38;5;241m*\u001b[39m\u001b[38;5;241m*\u001b[39m\u001b[38;5;28mself\u001b[39m\u001b[38;5;241m.\u001b[39m_number_format)\n",
      "File \u001b[0;32m~/.cache/pypoetry/virtualenvs/ftse--n0ujFjG-py3.11/lib/python3.11/site-packages/pandas/core/frame.py:1410\u001b[0m, in \u001b[0;36mDataFrame._get_values_for_csv\u001b[0;34m(self, float_format, date_format, decimal, na_rep, quoting)\u001b[0m\n\u001b[1;32m   1400\u001b[0m \u001b[38;5;28;01mdef\u001b[39;00m\u001b[38;5;250m \u001b[39m\u001b[38;5;21m_get_values_for_csv\u001b[39m(\n\u001b[1;32m   1401\u001b[0m     \u001b[38;5;28mself\u001b[39m,\n\u001b[1;32m   1402\u001b[0m     \u001b[38;5;241m*\u001b[39m,\n\u001b[0;32m   (...)\u001b[0m\n\u001b[1;32m   1408\u001b[0m ) \u001b[38;5;241m-\u001b[39m\u001b[38;5;241m>\u001b[39m Self:\n\u001b[1;32m   1409\u001b[0m     \u001b[38;5;66;03m# helper used by to_csv\u001b[39;00m\n\u001b[0;32m-> 1410\u001b[0m     mgr \u001b[38;5;241m=\u001b[39m \u001b[38;5;28;43mself\u001b[39;49m\u001b[38;5;241;43m.\u001b[39;49m\u001b[43m_mgr\u001b[49m\u001b[38;5;241;43m.\u001b[39;49m\u001b[43mget_values_for_csv\u001b[49m\u001b[43m(\u001b[49m\n\u001b[1;32m   1411\u001b[0m \u001b[43m        \u001b[49m\u001b[43mfloat_format\u001b[49m\u001b[38;5;241;43m=\u001b[39;49m\u001b[43mfloat_format\u001b[49m\u001b[43m,\u001b[49m\n\u001b[1;32m   1412\u001b[0m \u001b[43m        \u001b[49m\u001b[43mdate_format\u001b[49m\u001b[38;5;241;43m=\u001b[39;49m\u001b[43mdate_format\u001b[49m\u001b[43m,\u001b[49m\n\u001b[1;32m   1413\u001b[0m \u001b[43m        \u001b[49m\u001b[43mdecimal\u001b[49m\u001b[38;5;241;43m=\u001b[39;49m\u001b[43mdecimal\u001b[49m\u001b[43m,\u001b[49m\n\u001b[1;32m   1414\u001b[0m \u001b[43m        \u001b[49m\u001b[43mna_rep\u001b[49m\u001b[38;5;241;43m=\u001b[39;49m\u001b[43mna_rep\u001b[49m\u001b[43m,\u001b[49m\n\u001b[1;32m   1415\u001b[0m \u001b[43m        \u001b[49m\u001b[43mquoting\u001b[49m\u001b[38;5;241;43m=\u001b[39;49m\u001b[43mquoting\u001b[49m\u001b[43m,\u001b[49m\n\u001b[1;32m   1416\u001b[0m \u001b[43m    \u001b[49m\u001b[43m)\u001b[49m\n\u001b[1;32m   1417\u001b[0m     \u001b[38;5;66;03m# error: Incompatible return value type (got \"DataFrame\", expected \"Self\")\u001b[39;00m\n\u001b[1;32m   1418\u001b[0m     \u001b[38;5;28;01mreturn\u001b[39;00m \u001b[38;5;28mself\u001b[39m\u001b[38;5;241m.\u001b[39m_constructor_from_mgr(mgr, axes\u001b[38;5;241m=\u001b[39mmgr\u001b[38;5;241m.\u001b[39maxes)\n",
      "File \u001b[0;32m~/.cache/pypoetry/virtualenvs/ftse--n0ujFjG-py3.11/lib/python3.11/site-packages/pandas/core/internals/managers.py:466\u001b[0m, in \u001b[0;36mBaseBlockManager.get_values_for_csv\u001b[0;34m(self, float_format, date_format, decimal, na_rep, quoting)\u001b[0m\n\u001b[1;32m    459\u001b[0m \u001b[38;5;28;01mdef\u001b[39;00m\u001b[38;5;250m \u001b[39m\u001b[38;5;21mget_values_for_csv\u001b[39m(\n\u001b[1;32m    460\u001b[0m     \u001b[38;5;28mself\u001b[39m, \u001b[38;5;241m*\u001b[39m, float_format, date_format, decimal, na_rep: \u001b[38;5;28mstr\u001b[39m \u001b[38;5;241m=\u001b[39m \u001b[38;5;124m\"\u001b[39m\u001b[38;5;124mnan\u001b[39m\u001b[38;5;124m\"\u001b[39m, quoting\u001b[38;5;241m=\u001b[39m\u001b[38;5;28;01mNone\u001b[39;00m\n\u001b[1;32m    461\u001b[0m ) \u001b[38;5;241m-\u001b[39m\u001b[38;5;241m>\u001b[39m Self:\n\u001b[1;32m    462\u001b[0m \u001b[38;5;250m    \u001b[39m\u001b[38;5;124;03m\"\"\"\u001b[39;00m\n\u001b[1;32m    463\u001b[0m \u001b[38;5;124;03m    Convert values to native types (strings / python objects) that are used\u001b[39;00m\n\u001b[1;32m    464\u001b[0m \u001b[38;5;124;03m    in formatting (repr / csv).\u001b[39;00m\n\u001b[1;32m    465\u001b[0m \u001b[38;5;124;03m    \"\"\"\u001b[39;00m\n\u001b[0;32m--> 466\u001b[0m     \u001b[38;5;28;01mreturn\u001b[39;00m \u001b[38;5;28;43mself\u001b[39;49m\u001b[38;5;241;43m.\u001b[39;49m\u001b[43mapply\u001b[49m\u001b[43m(\u001b[49m\n\u001b[1;32m    467\u001b[0m \u001b[43m        \u001b[49m\u001b[38;5;124;43m\"\u001b[39;49m\u001b[38;5;124;43mget_values_for_csv\u001b[39;49m\u001b[38;5;124;43m\"\u001b[39;49m\u001b[43m,\u001b[49m\n\u001b[1;32m    468\u001b[0m \u001b[43m        \u001b[49m\u001b[43mna_rep\u001b[49m\u001b[38;5;241;43m=\u001b[39;49m\u001b[43mna_rep\u001b[49m\u001b[43m,\u001b[49m\n\u001b[1;32m    469\u001b[0m \u001b[43m        \u001b[49m\u001b[43mquoting\u001b[49m\u001b[38;5;241;43m=\u001b[39;49m\u001b[43mquoting\u001b[49m\u001b[43m,\u001b[49m\n\u001b[1;32m    470\u001b[0m \u001b[43m        \u001b[49m\u001b[43mfloat_format\u001b[49m\u001b[38;5;241;43m=\u001b[39;49m\u001b[43mfloat_format\u001b[49m\u001b[43m,\u001b[49m\n\u001b[1;32m    471\u001b[0m \u001b[43m        \u001b[49m\u001b[43mdate_format\u001b[49m\u001b[38;5;241;43m=\u001b[39;49m\u001b[43mdate_format\u001b[49m\u001b[43m,\u001b[49m\n\u001b[1;32m    472\u001b[0m \u001b[43m        \u001b[49m\u001b[43mdecimal\u001b[49m\u001b[38;5;241;43m=\u001b[39;49m\u001b[43mdecimal\u001b[49m\u001b[43m,\u001b[49m\n\u001b[1;32m    473\u001b[0m \u001b[43m    \u001b[49m\u001b[43m)\u001b[49m\n",
      "File \u001b[0;32m~/.cache/pypoetry/virtualenvs/ftse--n0ujFjG-py3.11/lib/python3.11/site-packages/pandas/core/internals/managers.py:363\u001b[0m, in \u001b[0;36mBaseBlockManager.apply\u001b[0;34m(self, f, align_keys, **kwargs)\u001b[0m\n\u001b[1;32m    361\u001b[0m         applied \u001b[38;5;241m=\u001b[39m b\u001b[38;5;241m.\u001b[39mapply(f, \u001b[38;5;241m*\u001b[39m\u001b[38;5;241m*\u001b[39mkwargs)\n\u001b[1;32m    362\u001b[0m     \u001b[38;5;28;01melse\u001b[39;00m:\n\u001b[0;32m--> 363\u001b[0m         applied \u001b[38;5;241m=\u001b[39m \u001b[38;5;28;43mgetattr\u001b[39;49m\u001b[43m(\u001b[49m\u001b[43mb\u001b[49m\u001b[43m,\u001b[49m\u001b[43m \u001b[49m\u001b[43mf\u001b[49m\u001b[43m)\u001b[49m\u001b[43m(\u001b[49m\u001b[38;5;241;43m*\u001b[39;49m\u001b[38;5;241;43m*\u001b[39;49m\u001b[43mkwargs\u001b[49m\u001b[43m)\u001b[49m\n\u001b[1;32m    364\u001b[0m     result_blocks \u001b[38;5;241m=\u001b[39m extend_blocks(applied, result_blocks)\n\u001b[1;32m    366\u001b[0m out \u001b[38;5;241m=\u001b[39m \u001b[38;5;28mtype\u001b[39m(\u001b[38;5;28mself\u001b[39m)\u001b[38;5;241m.\u001b[39mfrom_blocks(result_blocks, \u001b[38;5;28mself\u001b[39m\u001b[38;5;241m.\u001b[39maxes)\n",
      "File \u001b[0;32m~/.cache/pypoetry/virtualenvs/ftse--n0ujFjG-py3.11/lib/python3.11/site-packages/pandas/core/internals/blocks.py:780\u001b[0m, in \u001b[0;36mBlock.get_values_for_csv\u001b[0;34m(self, float_format, date_format, decimal, na_rep, quoting)\u001b[0m\n\u001b[1;32m    775\u001b[0m \u001b[38;5;129m@final\u001b[39m\n\u001b[1;32m    776\u001b[0m \u001b[38;5;28;01mdef\u001b[39;00m\u001b[38;5;250m \u001b[39m\u001b[38;5;21mget_values_for_csv\u001b[39m(\n\u001b[1;32m    777\u001b[0m     \u001b[38;5;28mself\u001b[39m, \u001b[38;5;241m*\u001b[39m, float_format, date_format, decimal, na_rep: \u001b[38;5;28mstr\u001b[39m \u001b[38;5;241m=\u001b[39m \u001b[38;5;124m\"\u001b[39m\u001b[38;5;124mnan\u001b[39m\u001b[38;5;124m\"\u001b[39m, quoting\u001b[38;5;241m=\u001b[39m\u001b[38;5;28;01mNone\u001b[39;00m\n\u001b[1;32m    778\u001b[0m ) \u001b[38;5;241m-\u001b[39m\u001b[38;5;241m>\u001b[39m Block:\n\u001b[1;32m    779\u001b[0m \u001b[38;5;250m    \u001b[39m\u001b[38;5;124;03m\"\"\"convert to our native types format\"\"\"\u001b[39;00m\n\u001b[0;32m--> 780\u001b[0m     result \u001b[38;5;241m=\u001b[39m \u001b[43mget_values_for_csv\u001b[49m\u001b[43m(\u001b[49m\n\u001b[1;32m    781\u001b[0m \u001b[43m        \u001b[49m\u001b[38;5;28;43mself\u001b[39;49m\u001b[38;5;241;43m.\u001b[39;49m\u001b[43mvalues\u001b[49m\u001b[43m,\u001b[49m\n\u001b[1;32m    782\u001b[0m \u001b[43m        \u001b[49m\u001b[43mna_rep\u001b[49m\u001b[38;5;241;43m=\u001b[39;49m\u001b[43mna_rep\u001b[49m\u001b[43m,\u001b[49m\n\u001b[1;32m    783\u001b[0m \u001b[43m        \u001b[49m\u001b[43mquoting\u001b[49m\u001b[38;5;241;43m=\u001b[39;49m\u001b[43mquoting\u001b[49m\u001b[43m,\u001b[49m\n\u001b[1;32m    784\u001b[0m \u001b[43m        \u001b[49m\u001b[43mfloat_format\u001b[49m\u001b[38;5;241;43m=\u001b[39;49m\u001b[43mfloat_format\u001b[49m\u001b[43m,\u001b[49m\n\u001b[1;32m    785\u001b[0m \u001b[43m        \u001b[49m\u001b[43mdate_format\u001b[49m\u001b[38;5;241;43m=\u001b[39;49m\u001b[43mdate_format\u001b[49m\u001b[43m,\u001b[49m\n\u001b[1;32m    786\u001b[0m \u001b[43m        \u001b[49m\u001b[43mdecimal\u001b[49m\u001b[38;5;241;43m=\u001b[39;49m\u001b[43mdecimal\u001b[49m\u001b[43m,\u001b[49m\n\u001b[1;32m    787\u001b[0m \u001b[43m    \u001b[49m\u001b[43m)\u001b[49m\n\u001b[1;32m    788\u001b[0m     \u001b[38;5;28;01mreturn\u001b[39;00m \u001b[38;5;28mself\u001b[39m\u001b[38;5;241m.\u001b[39mmake_block(result)\n",
      "File \u001b[0;32m~/.cache/pypoetry/virtualenvs/ftse--n0ujFjG-py3.11/lib/python3.11/site-packages/pandas/core/indexes/base.py:7834\u001b[0m, in \u001b[0;36mget_values_for_csv\u001b[0;34m(values, date_format, na_rep, quoting, float_format, decimal)\u001b[0m\n\u001b[1;32m   7831\u001b[0m mask \u001b[38;5;241m=\u001b[39m isna(values)\n\u001b[1;32m   7833\u001b[0m \u001b[38;5;28;01mif\u001b[39;00m \u001b[38;5;129;01mnot\u001b[39;00m quoting:\n\u001b[0;32m-> 7834\u001b[0m     values \u001b[38;5;241m=\u001b[39m values\u001b[38;5;241m.\u001b[39mastype(\u001b[38;5;28mstr\u001b[39m)\n\u001b[1;32m   7835\u001b[0m \u001b[38;5;28;01melse\u001b[39;00m:\n\u001b[1;32m   7836\u001b[0m     values \u001b[38;5;241m=\u001b[39m np\u001b[38;5;241m.\u001b[39marray(values, dtype\u001b[38;5;241m=\u001b[39m\u001b[38;5;124m\"\u001b[39m\u001b[38;5;124mobject\u001b[39m\u001b[38;5;124m\"\u001b[39m)\n",
      "\u001b[0;31mKeyboardInterrupt\u001b[0m: "
     ]
    }
   ],
   "source": [
    "import h5py\n",
    "import os\n",
    "import pandas as pd\n",
    "from tqdm import tqdm\n",
    "\n",
    "H5_FILE = '/data/TimeSeriesResearch/datasets/satya_data1.h5'\n",
    "OUTPUT_DIR = '/data/TimeSeriesResearch/datasets/Satya_Restored/'\n",
    "\n",
    "def restore_csv_with_labels(h5_file, output_dir):\n",
    "    os.makedirs(output_dir, exist_ok=True)\n",
    "    \n",
    "    with h5py.File(h5_file, \"r\") as h5f:\n",
    "        # Iterate over each dataset key in the HDF5 file\n",
    "        for key in tqdm(h5f.keys(), desc=\"Restoring datasets\"):\n",
    "            # Extract metadata and data\n",
    "            dset = h5f[key]\n",
    "            data_array = dset[()]\n",
    "            column_names = dset.attrs.get(\"descriptions\", [])\n",
    "            \n",
    "            # Split the key to reconstruct the original folder structure and filename\n",
    "            dataset_folder, label, file_idx = key.split('___')\n",
    "            \n",
    "            # Construct the output folder path\n",
    "            folder_path = os.path.join(output_dir, dataset_folder)\n",
    "            os.makedirs(folder_path, exist_ok=True)\n",
    "            \n",
    "            # Filename construction with label\n",
    "            csv_filename = f\"file_{file_idx}_{label}.csv\"\n",
    "            csv_path = os.path.join(folder_path, csv_filename)\n",
    "            \n",
    "            # Convert the data array to a DataFrame\n",
    "            df = pd.DataFrame(data_array, columns=column_names)\n",
    "            \n",
    "            # Save the DataFrame to a CSV file\n",
    "            df.to_csv(csv_path, index=False)\n",
    "    \n",
    "    print(f\"Data restored with labels to {output_dir}\")\n",
    "\n",
    "# Run the restoration process\n",
    "restore_csv_with_labels(H5_FILE, OUTPUT_DIR)\n"
   ]
  },
  {
   "cell_type": "code",
   "execution_count": 5,
   "id": "d18f3aa5-deed-443d-9531-2f988e618012",
   "metadata": {},
   "outputs": [
    {
     "name": "stderr",
     "output_type": "stream",
     "text": [
      "Restoring datasets: 100%|██████████████████████████████████████████████████████████████████████████████████████████████████████████████████████████████████████████████████████████████████████████████████████████████████████████████████████████████████| 11587/11587 [02:47<00:00, 69.17it/s]"
     ]
    },
    {
     "name": "stdout",
     "output_type": "stream",
     "text": [
      "Selected folders restored with labels to /data/TimeSeriesResearch/datasets/Satya_Restored/\n"
     ]
    },
    {
     "name": "stderr",
     "output_type": "stream",
     "text": [
      "\n"
     ]
    }
   ],
   "source": [
    "import h5py\n",
    "import os\n",
    "import pandas as pd\n",
    "from tqdm import tqdm\n",
    "\n",
    "H5_FILE = '/data/TimeSeriesResearch/datasets/satya_data1.h5'\n",
    "OUTPUT_DIR = '/data/TimeSeriesResearch/datasets/Satya_Restored/'\n",
    "\n",
    "# Specify the folders to be restored\n",
    "FOLDERS_TO_RESTORE = [\n",
    "    \"Accelerometer\", \"Airquality_pattern\", \"BCSV\", \"California\", \"Delaware\", \n",
    "    \"Florida\", \"Gyrometer\", \"HAR\", \"IBCSV\", \"IOCSV\", \"Illinois\", \"Maryland\", \n",
    "    \"Michigan\", \"NewYork\", \"OCSV\", \"Texas\", \"Wyoming\", \"sleepedf\", \"turbofan\"\n",
    "]\n",
    "\n",
    "def restore_selected_folders(h5_file, output_dir, folders_to_restore):\n",
    "    os.makedirs(output_dir, exist_ok=True)\n",
    "    \n",
    "    with h5py.File(h5_file, \"r\") as h5f:\n",
    "        # Iterate over each dataset key in the HDF5 file\n",
    "        for key in tqdm(h5f.keys(), desc=\"Restoring datasets\"):\n",
    "            # Extract metadata and data\n",
    "            dset = h5f[key]\n",
    "            data_array = dset[()]\n",
    "            column_names = dset.attrs.get(\"descriptions\", [])\n",
    "            \n",
    "            # Split the key to reconstruct the original folder structure and filename\n",
    "            dataset_folder, label, file_idx = key.split('___')\n",
    "            \n",
    "            # Only proceed if the folder is in the specified list\n",
    "            if dataset_folder not in folders_to_restore:\n",
    "                continue\n",
    "            \n",
    "            # Construct the output folder path\n",
    "            folder_path = os.path.join(output_dir, dataset_folder)\n",
    "            os.makedirs(folder_path, exist_ok=True)\n",
    "            \n",
    "            # Filename construction with label\n",
    "            csv_filename = f\"file_{file_idx}_{label}.csv\"\n",
    "            csv_path = os.path.join(folder_path, csv_filename)\n",
    "            \n",
    "            # Convert the data array to a DataFrame\n",
    "            df = pd.DataFrame(data_array, columns=column_names)\n",
    "            \n",
    "            # Save the DataFrame to a CSV file\n",
    "            df.to_csv(csv_path, index=False)\n",
    "    \n",
    "    print(f\"Selected folders restored with labels to {output_dir}\")\n",
    "\n",
    "# Run the selective restoration process\n",
    "restore_selected_folders(H5_FILE, OUTPUT_DIR, FOLDERS_TO_RESTORE)\n"
   ]
  },
  {
   "cell_type": "code",
   "execution_count": 17,
   "id": "d9deb83d-2d14-4c2d-b5e8-a22b1235a31d",
   "metadata": {
    "scrolled": true
   },
   "outputs": [],
   "source": [
    "import pandas as pd\n",
    "df=pd.read_csv(\"/data/TimeSeriesResearch/datasets/Satya_New/turbofan/Unknown/file_1.csv\")"
   ]
  },
  {
   "cell_type": "code",
   "execution_count": 18,
   "id": "faa56902-bb6d-4621-a1c7-dc0aaa39f3cc",
   "metadata": {},
   "outputs": [
    {
     "data": {
      "text/html": [
       "<div>\n",
       "<style scoped>\n",
       "    .dataframe tbody tr th:only-of-type {\n",
       "        vertical-align: middle;\n",
       "    }\n",
       "\n",
       "    .dataframe tbody tr th {\n",
       "        vertical-align: top;\n",
       "    }\n",
       "\n",
       "    .dataframe thead th {\n",
       "        text-align: right;\n",
       "    }\n",
       "</style>\n",
       "<table border=\"1\" class=\"dataframe\">\n",
       "  <thead>\n",
       "    <tr style=\"text-align: right;\">\n",
       "      <th></th>\n",
       "      <th>op_setting_1</th>\n",
       "      <th>op_setting_2</th>\n",
       "      <th>op_setting_3</th>\n",
       "      <th>(Fan inlet temperature) (◦R)</th>\n",
       "      <th>(LPC outlet temperature) (◦R)</th>\n",
       "      <th>(HPC outlet temperature) (◦R)</th>\n",
       "      <th>(LPT outlet temperature) (◦R)</th>\n",
       "      <th>(Fan inlet Pressure) (psia)</th>\n",
       "      <th>(bypass-duct pressure) (psia)</th>\n",
       "      <th>(HPC outlet pressure) (psia)</th>\n",
       "      <th>...</th>\n",
       "      <th>(Ratio of fuel flow to Ps30) (pps/psia)</th>\n",
       "      <th>(Corrected fan speed) (rpm)</th>\n",
       "      <th>(Corrected core speed) (rpm)</th>\n",
       "      <th>(Bypass Ratio)</th>\n",
       "      <th>(Burner fuel-air ratio)</th>\n",
       "      <th>(Bleed Enthalpy)</th>\n",
       "      <th>(Required fan speed)</th>\n",
       "      <th>(Required fan conversion speed)</th>\n",
       "      <th>(High-pressure turbines Cool air flow)</th>\n",
       "      <th>(Low-pressure turbines Cool air flow)</th>\n",
       "    </tr>\n",
       "  </thead>\n",
       "  <tbody>\n",
       "    <tr>\n",
       "      <th>0</th>\n",
       "      <td>-0.0007</td>\n",
       "      <td>-0.0004</td>\n",
       "      <td>100.0</td>\n",
       "      <td>518.67</td>\n",
       "      <td>641.82</td>\n",
       "      <td>1589.70</td>\n",
       "      <td>1400.60</td>\n",
       "      <td>14.62</td>\n",
       "      <td>21.61</td>\n",
       "      <td>554.36</td>\n",
       "      <td>...</td>\n",
       "      <td>521.66</td>\n",
       "      <td>2388.02</td>\n",
       "      <td>8138.62</td>\n",
       "      <td>8.4195</td>\n",
       "      <td>0.03</td>\n",
       "      <td>392.0</td>\n",
       "      <td>2388.0</td>\n",
       "      <td>100.0</td>\n",
       "      <td>39.06</td>\n",
       "      <td>23.4190</td>\n",
       "    </tr>\n",
       "    <tr>\n",
       "      <th>1</th>\n",
       "      <td>0.0019</td>\n",
       "      <td>-0.0003</td>\n",
       "      <td>100.0</td>\n",
       "      <td>518.67</td>\n",
       "      <td>642.15</td>\n",
       "      <td>1591.82</td>\n",
       "      <td>1403.14</td>\n",
       "      <td>14.62</td>\n",
       "      <td>21.61</td>\n",
       "      <td>553.75</td>\n",
       "      <td>...</td>\n",
       "      <td>522.28</td>\n",
       "      <td>2388.07</td>\n",
       "      <td>8131.49</td>\n",
       "      <td>8.4318</td>\n",
       "      <td>0.03</td>\n",
       "      <td>392.0</td>\n",
       "      <td>2388.0</td>\n",
       "      <td>100.0</td>\n",
       "      <td>39.00</td>\n",
       "      <td>23.4236</td>\n",
       "    </tr>\n",
       "    <tr>\n",
       "      <th>2</th>\n",
       "      <td>-0.0043</td>\n",
       "      <td>0.0003</td>\n",
       "      <td>100.0</td>\n",
       "      <td>518.67</td>\n",
       "      <td>642.35</td>\n",
       "      <td>1587.99</td>\n",
       "      <td>1404.20</td>\n",
       "      <td>14.62</td>\n",
       "      <td>21.61</td>\n",
       "      <td>554.26</td>\n",
       "      <td>...</td>\n",
       "      <td>522.42</td>\n",
       "      <td>2388.03</td>\n",
       "      <td>8133.23</td>\n",
       "      <td>8.4178</td>\n",
       "      <td>0.03</td>\n",
       "      <td>390.0</td>\n",
       "      <td>2388.0</td>\n",
       "      <td>100.0</td>\n",
       "      <td>38.95</td>\n",
       "      <td>23.3442</td>\n",
       "    </tr>\n",
       "    <tr>\n",
       "      <th>3</th>\n",
       "      <td>0.0007</td>\n",
       "      <td>0.0000</td>\n",
       "      <td>100.0</td>\n",
       "      <td>518.67</td>\n",
       "      <td>642.35</td>\n",
       "      <td>1582.79</td>\n",
       "      <td>1401.87</td>\n",
       "      <td>14.62</td>\n",
       "      <td>21.61</td>\n",
       "      <td>554.45</td>\n",
       "      <td>...</td>\n",
       "      <td>522.86</td>\n",
       "      <td>2388.08</td>\n",
       "      <td>8133.83</td>\n",
       "      <td>8.3682</td>\n",
       "      <td>0.03</td>\n",
       "      <td>392.0</td>\n",
       "      <td>2388.0</td>\n",
       "      <td>100.0</td>\n",
       "      <td>38.88</td>\n",
       "      <td>23.3739</td>\n",
       "    </tr>\n",
       "    <tr>\n",
       "      <th>4</th>\n",
       "      <td>-0.0019</td>\n",
       "      <td>-0.0002</td>\n",
       "      <td>100.0</td>\n",
       "      <td>518.67</td>\n",
       "      <td>642.37</td>\n",
       "      <td>1582.85</td>\n",
       "      <td>1406.22</td>\n",
       "      <td>14.62</td>\n",
       "      <td>21.61</td>\n",
       "      <td>554.00</td>\n",
       "      <td>...</td>\n",
       "      <td>522.19</td>\n",
       "      <td>2388.04</td>\n",
       "      <td>8133.80</td>\n",
       "      <td>8.4294</td>\n",
       "      <td>0.03</td>\n",
       "      <td>393.0</td>\n",
       "      <td>2388.0</td>\n",
       "      <td>100.0</td>\n",
       "      <td>38.90</td>\n",
       "      <td>23.4044</td>\n",
       "    </tr>\n",
       "  </tbody>\n",
       "</table>\n",
       "<p>5 rows × 24 columns</p>\n",
       "</div>"
      ],
      "text/plain": [
       "   op_setting_1  op_setting_2  op_setting_3  (Fan inlet temperature) (◦R)  \\\n",
       "0       -0.0007       -0.0004         100.0                        518.67   \n",
       "1        0.0019       -0.0003         100.0                        518.67   \n",
       "2       -0.0043        0.0003         100.0                        518.67   \n",
       "3        0.0007        0.0000         100.0                        518.67   \n",
       "4       -0.0019       -0.0002         100.0                        518.67   \n",
       "\n",
       "   (LPC outlet temperature) (◦R)  (HPC outlet temperature) (◦R)  \\\n",
       "0                         641.82                        1589.70   \n",
       "1                         642.15                        1591.82   \n",
       "2                         642.35                        1587.99   \n",
       "3                         642.35                        1582.79   \n",
       "4                         642.37                        1582.85   \n",
       "\n",
       "   (LPT outlet temperature) (◦R)  (Fan inlet Pressure) (psia)  \\\n",
       "0                        1400.60                        14.62   \n",
       "1                        1403.14                        14.62   \n",
       "2                        1404.20                        14.62   \n",
       "3                        1401.87                        14.62   \n",
       "4                        1406.22                        14.62   \n",
       "\n",
       "   (bypass-duct pressure) (psia)  (HPC outlet pressure) (psia)  ...  \\\n",
       "0                          21.61                        554.36  ...   \n",
       "1                          21.61                        553.75  ...   \n",
       "2                          21.61                        554.26  ...   \n",
       "3                          21.61                        554.45  ...   \n",
       "4                          21.61                        554.00  ...   \n",
       "\n",
       "   (Ratio of fuel flow to Ps30) (pps/psia)  (Corrected fan speed) (rpm)  \\\n",
       "0                                   521.66                      2388.02   \n",
       "1                                   522.28                      2388.07   \n",
       "2                                   522.42                      2388.03   \n",
       "3                                   522.86                      2388.08   \n",
       "4                                   522.19                      2388.04   \n",
       "\n",
       "   (Corrected core speed) (rpm)  (Bypass Ratio)   (Burner fuel-air ratio)  \\\n",
       "0                       8138.62           8.4195                     0.03   \n",
       "1                       8131.49           8.4318                     0.03   \n",
       "2                       8133.23           8.4178                     0.03   \n",
       "3                       8133.83           8.3682                     0.03   \n",
       "4                       8133.80           8.4294                     0.03   \n",
       "\n",
       "   (Bleed Enthalpy)  (Required fan speed)  (Required fan conversion speed)  \\\n",
       "0             392.0                2388.0                            100.0   \n",
       "1             392.0                2388.0                            100.0   \n",
       "2             390.0                2388.0                            100.0   \n",
       "3             392.0                2388.0                            100.0   \n",
       "4             393.0                2388.0                            100.0   \n",
       "\n",
       "   (High-pressure turbines Cool air flow)  \\\n",
       "0                                   39.06   \n",
       "1                                   39.00   \n",
       "2                                   38.95   \n",
       "3                                   38.88   \n",
       "4                                   38.90   \n",
       "\n",
       "   (Low-pressure turbines Cool air flow)  \n",
       "0                                23.4190  \n",
       "1                                23.4236  \n",
       "2                                23.3442  \n",
       "3                                23.3739  \n",
       "4                                23.4044  \n",
       "\n",
       "[5 rows x 24 columns]"
      ]
     },
     "execution_count": 18,
     "metadata": {},
     "output_type": "execute_result"
    }
   ],
   "source": [
    "df.head()"
   ]
  },
  {
   "cell_type": "code",
   "execution_count": 20,
   "id": "55feaced-1172-4494-86fd-984e875e943d",
   "metadata": {
    "scrolled": true
   },
   "outputs": [
    {
     "name": "stdout",
     "output_type": "stream",
     "text": [
      "Satya_New\n"
     ]
    },
    {
     "name": "stderr",
     "output_type": "stream",
     "text": [
      "Processing /data/TimeSeriesResearch/datasets/Satya_New: 100%|███████████████████████████████████████████████████████████████████████████████████████████████████████████████████████████████████████████████████████████████████████████████████████████████████| 17/17 [00:00<00:00, 886.93it/s]"
     ]
    },
    {
     "name": "stdout",
     "output_type": "stream",
     "text": [
      "BuildingStairMove\n",
      "OutdoorMove\n",
      "EscalatorMove\n",
      "BuildingElevatorMove\n",
      "FloorMove\n",
      "IndoorMove\n",
      "Ball\n",
      "SO2\n",
      "Ozone\n",
      "CO\n",
      "SO2\n",
      "Unknown\n",
      "PM25\n",
      "Pb\n",
      "CO\n",
      "Outer_and_Ball\n",
      "Unknown\n",
      "PM1\n",
      "Inner_and_Outer\n",
      "NO\n",
      "BuildingStairMove\n",
      "OutdoorMove\n",
      "EscalatorMove\n",
      "BuildingElevatorMove\n",
      "FloorMove\n",
      "IndoorMove\n",
      "Inner_and_Ball\n"
     ]
    },
    {
     "name": "stderr",
     "output_type": "stream",
     "text": [
      "\n"
     ]
    }
   ],
   "source": [
    "root_dirs = ['/data/TimeSeriesResearch/datasets/Satya_New']\n",
    "for root_dir in root_dirs:\n",
    "    root_prefix = os.path.basename(os.path.normpath(root_dir))\n",
    "    print(root_prefix)\n",
    "\n",
    "    for dataset_folder in tqdm(os.listdir(root_dir), desc=f\"Processing {root_dir}\"):\n",
    "        dataset_path = os.path.join(root_dir, dataset_folder)\n",
    "        if not os.path.isdir(dataset_path):\n",
    "            continue\n",
    "\n",
    "        for csv_file in os.listdir(dataset_path):\n",
    "            if not csv_file.lower().endswith(\".csv\"):\n",
    "                print(csv_file)"
   ]
  },
  {
   "cell_type": "code",
   "execution_count": 21,
   "id": "8ca1ba66-d65c-4902-8819-6130886eb77e",
   "metadata": {
    "scrolled": true
   },
   "outputs": [
    {
     "name": "stderr",
     "output_type": "stream",
     "text": [
      "Processing /data/TimeSeriesResearch/datasets/Satya_New:   0%|                                                                                                                                                                                                             | 0/17 [00:00<?, ?it/s]"
     ]
    },
    {
     "name": "stdout",
     "output_type": "stream",
     "text": [
      "Created dataset at: Satya_New/Accelerometer/BuildingStairMove/file_0\n",
      "Created dataset at: Satya_New/Accelerometer/BuildingStairMove/file_1\n",
      "Created dataset at: Satya_New/Accelerometer/OutdoorMove/file_0\n",
      "Created dataset at: Satya_New/Accelerometer/OutdoorMove/file_1\n",
      "Created dataset at: Satya_New/Accelerometer/EscalatorMove/file_0\n",
      "Created dataset at: Satya_New/Accelerometer/EscalatorMove/file_1\n",
      "Created dataset at: Satya_New/Accelerometer/BuildingElevatorMove/file_0\n",
      "Created dataset at: Satya_New/Accelerometer/BuildingElevatorMove/file_1\n",
      "Created dataset at: Satya_New/Accelerometer/FloorMove/file_0\n",
      "Created dataset at: Satya_New/Accelerometer/FloorMove/file_1\n",
      "Created dataset at: Satya_New/Accelerometer/FloorMove/file_2\n",
      "Created dataset at: Satya_New/Accelerometer/FloorMove/file_3\n",
      "Created dataset at: Satya_New/Accelerometer/FloorMove/file_4\n",
      "Created dataset at: Satya_New/Accelerometer/FloorMove/file_5\n",
      "Created dataset at: Satya_New/Accelerometer/FloorMove/file_6\n",
      "Created dataset at: Satya_New/Accelerometer/FloorMove/file_7\n",
      "Created dataset at: Satya_New/Accelerometer/IndoorMove/file_0\n",
      "Created dataset at: Satya_New/BCSV/Ball/file_0\n",
      "Created dataset at: Satya_New/BCSV/Ball/file_1\n",
      "Created dataset at: Satya_New/BCSV/Ball/file_2\n",
      "Created dataset at: Satya_New/BCSV/Ball/file_3\n",
      "Created dataset at: Satya_New/BCSV/Ball/file_4\n",
      "Created dataset at: Satya_New/BCSV/Ball/file_5\n"
     ]
    },
    {
     "name": "stderr",
     "output_type": "stream",
     "text": [
      "Processing /data/TimeSeriesResearch/datasets/Satya_New:  12%|███████████████████████▏                                                                                                                                                                             | 2/17 [00:01<00:09,  1.54it/s]"
     ]
    },
    {
     "name": "stdout",
     "output_type": "stream",
     "text": [
      "Created dataset at: Satya_New/BCSV/Ball/file_6\n",
      "Created dataset at: Satya_New/BCSV/Ball/file_7\n",
      "Created dataset at: Satya_New/Wyoming/SO2/file_0\n",
      "Created dataset at: Satya_New/Wyoming/SO2/file_1\n",
      "Created dataset at: Satya_New/Wyoming/SO2/file_2\n",
      "Created dataset at: Satya_New/Wyoming/SO2/file_3\n",
      "Created dataset at: Satya_New/Wyoming/SO2/file_4\n",
      "Created dataset at: Satya_New/Wyoming/SO2/file_5\n",
      "Created dataset at: Satya_New/Wyoming/SO2/file_6\n",
      "Created dataset at: Satya_New/Wyoming/SO2/file_7\n",
      "Created dataset at: Satya_New/Wyoming/SO2/file_8\n",
      "Created dataset at: Satya_New/Wyoming/SO2/file_9\n",
      "Created dataset at: Satya_New/Wyoming/SO2/file_10\n",
      "Created dataset at: Satya_New/Wyoming/SO2/file_11\n",
      "Created dataset at: Satya_New/Wyoming/SO2/file_12\n",
      "Created dataset at: Satya_New/Wyoming/SO2/file_13\n",
      "Created dataset at: Satya_New/Wyoming/SO2/file_14\n",
      "Created dataset at: Satya_New/Maryland/Ozone/file_0\n",
      "Created dataset at: Satya_New/Maryland/Ozone/file_1\n",
      "Created dataset at: Satya_New/Maryland/Ozone/file_2\n",
      "Created dataset at: Satya_New/Maryland/Ozone/file_3\n",
      "Created dataset at: Satya_New/Maryland/Ozone/file_4\n",
      "Created dataset at: Satya_New/Maryland/Ozone/file_5\n",
      "Created dataset at: Satya_New/Maryland/Ozone/file_6\n",
      "Created dataset at: Satya_New/Maryland/Ozone/file_7\n",
      "Created dataset at: Satya_New/Maryland/Ozone/file_8\n",
      "Created dataset at: Satya_New/Maryland/Ozone/file_9\n",
      "Created dataset at: Satya_New/Maryland/Ozone/file_10\n",
      "Created dataset at: Satya_New/Maryland/Ozone/file_11\n",
      "Created dataset at: Satya_New/Maryland/Ozone/file_12\n",
      "Created dataset at: Satya_New/Maryland/Ozone/file_13\n",
      "Created dataset at: Satya_New/Maryland/Ozone/file_14\n",
      "Created dataset at: Satya_New/Maryland/Ozone/file_15\n",
      "Created dataset at: Satya_New/Maryland/Ozone/file_16\n",
      "Created dataset at: Satya_New/Maryland/Ozone/file_17\n",
      "Created dataset at: Satya_New/Maryland/Ozone/file_18\n",
      "Created dataset at: Satya_New/Maryland/Ozone/file_19\n",
      "Created dataset at: Satya_New/California/CO/file_0\n",
      "Created dataset at: Satya_New/California/CO/file_1\n",
      "Created dataset at: Satya_New/California/CO/file_2\n",
      "Created dataset at: Satya_New/California/CO/file_3\n",
      "Created dataset at: Satya_New/California/CO/file_4\n",
      "Created dataset at: Satya_New/California/CO/file_5\n",
      "Created dataset at: Satya_New/California/CO/file_6\n",
      "Created dataset at: Satya_New/California/CO/file_7\n",
      "Created dataset at: Satya_New/California/CO/file_8\n",
      "Created dataset at: Satya_New/California/CO/file_9\n",
      "Created dataset at: Satya_New/California/CO/file_10\n",
      "Created dataset at: Satya_New/California/CO/file_11\n",
      "Created dataset at: Satya_New/California/CO/file_12\n",
      "Created dataset at: Satya_New/California/CO/file_13\n",
      "Created dataset at: Satya_New/California/CO/file_14\n",
      "Created dataset at: Satya_New/California/CO/file_15\n",
      "Created dataset at: Satya_New/California/CO/file_16\n",
      "Created dataset at: Satya_New/California/CO/file_17\n",
      "Created dataset at: Satya_New/California/CO/file_18\n",
      "Created dataset at: Satya_New/California/CO/file_19\n",
      "Created dataset at: Satya_New/California/CO/file_20\n",
      "Created dataset at: Satya_New/California/CO/file_21\n",
      "Created dataset at: Satya_New/California/CO/file_22\n",
      "Created dataset at: Satya_New/California/CO/file_23\n",
      "Created dataset at: Satya_New/California/CO/file_24\n",
      "Created dataset at: Satya_New/California/CO/file_25\n",
      "Created dataset at: Satya_New/California/CO/file_26\n",
      "Created dataset at: Satya_New/California/CO/file_27\n",
      "Created dataset at: Satya_New/California/CO/file_28\n",
      "Created dataset at: Satya_New/California/CO/file_29\n",
      "Created dataset at: Satya_New/California/CO/file_30\n",
      "Created dataset at: Satya_New/California/CO/file_31\n",
      "Created dataset at: Satya_New/California/CO/file_32\n",
      "Created dataset at: Satya_New/California/CO/file_33\n",
      "Created dataset at: Satya_New/California/CO/file_34\n",
      "Created dataset at: Satya_New/California/CO/file_35\n",
      "Created dataset at: Satya_New/California/CO/file_36\n",
      "Created dataset at: Satya_New/California/CO/file_37\n",
      "Created dataset at: Satya_New/California/CO/file_38\n",
      "Created dataset at: Satya_New/California/CO/file_39\n",
      "Created dataset at: Satya_New/California/CO/file_40\n",
      "Created dataset at: Satya_New/California/CO/file_41\n",
      "Created dataset at: Satya_New/California/CO/file_42\n",
      "Created dataset at: Satya_New/California/CO/file_43\n",
      "Created dataset at: Satya_New/California/CO/file_44\n",
      "Created dataset at: Satya_New/California/CO/file_45\n",
      "Created dataset at: Satya_New/California/CO/file_46\n",
      "Created dataset at: Satya_New/California/CO/file_47\n",
      "Created dataset at: Satya_New/California/CO/file_48\n",
      "Created dataset at: Satya_New/California/CO/file_49\n",
      "Created dataset at: Satya_New/California/CO/file_50\n",
      "Created dataset at: Satya_New/California/CO/file_51\n",
      "Created dataset at: Satya_New/California/CO/file_52\n",
      "Created dataset at: Satya_New/California/CO/file_53\n",
      "Created dataset at: Satya_New/California/CO/file_54\n",
      "Created dataset at: Satya_New/California/CO/file_55\n",
      "Created dataset at: Satya_New/California/CO/file_56\n",
      "Created dataset at: Satya_New/California/CO/file_57\n",
      "Created dataset at: Satya_New/California/CO/file_58\n",
      "Created dataset at: Satya_New/California/CO/file_59\n",
      "Created dataset at: Satya_New/California/CO/file_60\n",
      "Created dataset at: Satya_New/California/CO/file_61\n",
      "Created dataset at: Satya_New/California/CO/file_62\n",
      "Created dataset at: Satya_New/California/CO/file_63\n",
      "Created dataset at: Satya_New/California/CO/file_64\n"
     ]
    },
    {
     "name": "stderr",
     "output_type": "stream",
     "text": [
      "Processing /data/TimeSeriesResearch/datasets/Satya_New:  29%|█████████████████████████████████████████████████████████▉                                                                                                                                           | 5/17 [00:01<00:03,  3.47it/s]"
     ]
    },
    {
     "name": "stdout",
     "output_type": "stream",
     "text": [
      "Created dataset at: Satya_New/California/CO/file_65\n",
      "Created dataset at: Satya_New/California/CO/file_66\n",
      "Created dataset at: Satya_New/California/CO/file_67\n",
      "Created dataset at: Satya_New/California/CO/file_68\n",
      "Created dataset at: Satya_New/California/CO/file_69\n",
      "Created dataset at: Satya_New/California/CO/file_70\n",
      "Created dataset at: Satya_New/California/CO/file_71\n",
      "Created dataset at: Satya_New/California/CO/file_72\n",
      "Created dataset at: Satya_New/California/CO/file_73\n",
      "Created dataset at: Satya_New/California/CO/file_74\n",
      "Created dataset at: Satya_New/California/CO/file_75\n",
      "Created dataset at: Satya_New/California/CO/file_76\n",
      "Created dataset at: Satya_New/California/CO/file_77\n",
      "Created dataset at: Satya_New/California/CO/file_78\n",
      "Created dataset at: Satya_New/California/CO/file_79\n",
      "Created dataset at: Satya_New/California/CO/file_80\n",
      "Created dataset at: Satya_New/California/CO/file_81\n",
      "Created dataset at: Satya_New/California/CO/file_82\n",
      "Created dataset at: Satya_New/California/CO/file_83\n",
      "Created dataset at: Satya_New/California/CO/file_84\n",
      "Created dataset at: Satya_New/California/CO/file_85\n",
      "Created dataset at: Satya_New/California/CO/file_86\n",
      "Created dataset at: Satya_New/California/CO/file_87\n",
      "Created dataset at: Satya_New/California/CO/file_88\n",
      "Created dataset at: Satya_New/California/CO/file_89\n",
      "Created dataset at: Satya_New/California/CO/file_90\n",
      "Created dataset at: Satya_New/California/CO/file_91\n",
      "Created dataset at: Satya_New/California/CO/file_92\n",
      "Created dataset at: Satya_New/California/CO/file_93\n",
      "Created dataset at: Satya_New/California/CO/file_94\n",
      "Created dataset at: Satya_New/California/CO/file_95\n",
      "Created dataset at: Satya_New/California/CO/file_96\n",
      "Created dataset at: Satya_New/California/CO/file_97\n",
      "Created dataset at: Satya_New/California/CO/file_98\n",
      "Created dataset at: Satya_New/California/CO/file_99\n",
      "Created dataset at: Satya_New/California/CO/file_100\n",
      "Created dataset at: Satya_New/California/CO/file_101\n",
      "Created dataset at: Satya_New/California/CO/file_102\n",
      "Created dataset at: Satya_New/California/CO/file_103\n",
      "Created dataset at: Satya_New/California/CO/file_104\n",
      "Created dataset at: Satya_New/California/CO/file_105\n",
      "Created dataset at: Satya_New/California/CO/file_106\n",
      "Created dataset at: Satya_New/California/CO/file_107\n",
      "Created dataset at: Satya_New/California/CO/file_108\n",
      "Created dataset at: Satya_New/California/CO/file_109\n",
      "Created dataset at: Satya_New/Delaware/SO2/file_0\n",
      "Created dataset at: Satya_New/Delaware/SO2/file_1\n",
      "Created dataset at: Satya_New/Delaware/SO2/file_2\n",
      "Created dataset at: Satya_New/Delaware/SO2/file_3\n",
      "Created dataset at: Satya_New/Delaware/SO2/file_4\n",
      "Created dataset at: Satya_New/Airquality_pattern/Unknown/file_0\n",
      "Created dataset at: Satya_New/Airquality_pattern/Unknown/file_1\n",
      "Created dataset at: Satya_New/Florida/PM25/file_0\n",
      "Created dataset at: Satya_New/Florida/PM25/file_1\n",
      "Created dataset at: Satya_New/Florida/PM25/file_2\n",
      "Created dataset at: Satya_New/Florida/PM25/file_3\n",
      "Created dataset at: Satya_New/Florida/PM25/file_4\n",
      "Created dataset at: Satya_New/Florida/PM25/file_5\n",
      "Created dataset at: Satya_New/Florida/PM25/file_6\n",
      "Created dataset at: Satya_New/Florida/PM25/file_7\n",
      "Created dataset at: Satya_New/Florida/PM25/file_8\n",
      "Created dataset at: Satya_New/Florida/PM25/file_9\n",
      "Created dataset at: Satya_New/Florida/PM25/file_10\n",
      "Created dataset at: Satya_New/Florida/PM25/file_11\n",
      "Created dataset at: Satya_New/Florida/PM25/file_12\n",
      "Created dataset at: Satya_New/Florida/PM25/file_13\n",
      "Created dataset at: Satya_New/Florida/PM25/file_14\n",
      "Created dataset at: Satya_New/Florida/PM25/file_15\n",
      "Created dataset at: Satya_New/Florida/PM25/file_16\n",
      "Created dataset at: Satya_New/Florida/PM25/file_17\n",
      "Created dataset at: Satya_New/Florida/PM25/file_18\n",
      "Created dataset at: Satya_New/Florida/PM25/file_19\n",
      "Created dataset at: Satya_New/Florida/PM25/file_20\n",
      "Created dataset at: Satya_New/Florida/PM25/file_21\n",
      "Created dataset at: Satya_New/Florida/PM25/file_22\n",
      "Created dataset at: Satya_New/Florida/PM25/file_23\n",
      "Created dataset at: Satya_New/Florida/PM25/file_24\n",
      "Created dataset at: Satya_New/Florida/PM25/file_25\n",
      "Created dataset at: Satya_New/Florida/PM25/file_26\n"
     ]
    },
    {
     "name": "stderr",
     "output_type": "stream",
     "text": [
      "Processing /data/TimeSeriesResearch/datasets/Satya_New:  47%|████████████████████████████████████████████████████████████████████████████████████████████▋                                                                                                        | 8/17 [00:01<00:01,  5.80it/s]"
     ]
    },
    {
     "name": "stdout",
     "output_type": "stream",
     "text": [
      "Created dataset at: Satya_New/Florida/PM25/file_27\n",
      "Created dataset at: Satya_New/Florida/PM25/file_28\n",
      "Created dataset at: Satya_New/Florida/PM25/file_29\n",
      "Created dataset at: Satya_New/Florida/PM25/file_30\n",
      "Created dataset at: Satya_New/Florida/PM25/file_31\n",
      "Created dataset at: Satya_New/Florida/PM25/file_32\n",
      "Created dataset at: Satya_New/Florida/PM25/file_33\n",
      "Created dataset at: Satya_New/Florida/PM25/file_34\n",
      "Created dataset at: Satya_New/Florida/PM25/file_35\n",
      "Created dataset at: Satya_New/Florida/PM25/file_36\n",
      "Created dataset at: Satya_New/Florida/PM25/file_37\n",
      "Created dataset at: Satya_New/Florida/PM25/file_38\n",
      "Created dataset at: Satya_New/Florida/PM25/file_39\n",
      "Created dataset at: Satya_New/Florida/PM25/file_40\n",
      "Created dataset at: Satya_New/Florida/PM25/file_41\n",
      "Created dataset at: Satya_New/Florida/PM25/file_42\n",
      "Created dataset at: Satya_New/Florida/PM25/file_43\n",
      "Created dataset at: Satya_New/Florida/PM25/file_44\n",
      "Created dataset at: Satya_New/Florida/PM25/file_45\n",
      "Created dataset at: Satya_New/Florida/PM25/file_46\n",
      "Created dataset at: Satya_New/Florida/PM25/file_47\n",
      "Created dataset at: Satya_New/Florida/PM25/file_48\n",
      "Created dataset at: Satya_New/Florida/PM25/file_49\n",
      "Created dataset at: Satya_New/Florida/PM25/file_50\n",
      "Created dataset at: Satya_New/Florida/PM25/file_51\n",
      "Created dataset at: Satya_New/Florida/PM25/file_52\n",
      "Created dataset at: Satya_New/Texas/Pb/file_0\n",
      "Created dataset at: Satya_New/Texas/Pb/file_1\n",
      "Created dataset at: Satya_New/Texas/Pb/file_2\n",
      "Created dataset at: Satya_New/Texas/Pb/file_3\n",
      "Created dataset at: Satya_New/Texas/Pb/file_4\n",
      "Created dataset at: Satya_New/Michigan/CO/file_0\n",
      "Created dataset at: Satya_New/Michigan/CO/file_1\n",
      "Created dataset at: Satya_New/Michigan/CO/file_2\n",
      "Created dataset at: Satya_New/Michigan/CO/file_3\n",
      "Created dataset at: Satya_New/Michigan/CO/file_4\n",
      "Created dataset at: Satya_New/Michigan/CO/file_5\n",
      "Created dataset at: Satya_New/Michigan/CO/file_6\n",
      "Created dataset at: Satya_New/Michigan/CO/file_7\n",
      "Created dataset at: Satya_New/Michigan/CO/file_8\n",
      "Created dataset at: Satya_New/OCSV/Outer_and_Ball/file_0\n",
      "Created dataset at: Satya_New/OCSV/Outer_and_Ball/file_1\n",
      "Created dataset at: Satya_New/OCSV/Outer_and_Ball/file_2\n",
      "Created dataset at: Satya_New/OCSV/Outer_and_Ball/file_3\n",
      "Created dataset at: Satya_New/OCSV/Outer_and_Ball/file_4\n",
      "Created dataset at: Satya_New/OCSV/Outer_and_Ball/file_5\n",
      "Created dataset at: Satya_New/OCSV/Outer_and_Ball/file_6\n"
     ]
    },
    {
     "name": "stderr",
     "output_type": "stream",
     "text": [
      "Processing /data/TimeSeriesResearch/datasets/Satya_New:  65%|██████████████████████████████████████████████████████████████████████████████████████████████████████████████████████████████▊                                                                     | 11/17 [00:03<00:01,  3.52it/s]"
     ]
    },
    {
     "name": "stdout",
     "output_type": "stream",
     "text": [
      "Created dataset at: Satya_New/OCSV/Outer_and_Ball/file_7\n",
      "Created dataset at: Satya_New/OCSV/Outer_and_Ball/file_8\n",
      "Created dataset at: Satya_New/turbofan/Unknown/file_0\n",
      "Created dataset at: Satya_New/turbofan/Unknown/file_1\n",
      "Created dataset at: Satya_New/turbofan/Unknown/file_2\n"
     ]
    },
    {
     "name": "stderr",
     "output_type": "stream",
     "text": [
      "Processing /data/TimeSeriesResearch/datasets/Satya_New:  71%|██████████████████████████████████████████████████████████████████████████████████████████████████████████████████████████████████████████▎                                                         | 12/17 [00:03<00:01,  3.29it/s]"
     ]
    },
    {
     "name": "stdout",
     "output_type": "stream",
     "text": [
      "Created dataset at: Satya_New/turbofan/Unknown/file_3\n",
      "Created dataset at: Satya_New/NewYork/PM1/file_0\n",
      "Created dataset at: Satya_New/NewYork/PM1/file_1\n",
      "Created dataset at: Satya_New/NewYork/PM1/file_2\n",
      "Created dataset at: Satya_New/NewYork/PM1/file_3\n",
      "Created dataset at: Satya_New/NewYork/PM1/file_4\n",
      "Created dataset at: Satya_New/IOCSV/Inner_and_Outer/file_0\n",
      "Created dataset at: Satya_New/IOCSV/Inner_and_Outer/file_1\n",
      "Created dataset at: Satya_New/IOCSV/Inner_and_Outer/file_2\n"
     ]
    },
    {
     "name": "stderr",
     "output_type": "stream",
     "text": [
      "Processing /data/TimeSeriesResearch/datasets/Satya_New:  82%|█████████████████████████████████████████████████████████████████████████████████████████████████████████████████████████████████████████████████████████████████▍                                  | 14/17 [00:04<00:00,  3.03it/s]"
     ]
    },
    {
     "name": "stdout",
     "output_type": "stream",
     "text": [
      "Created dataset at: Satya_New/IOCSV/Inner_and_Outer/file_3\n",
      "Created dataset at: Satya_New/IOCSV/Inner_and_Outer/file_4\n",
      "Created dataset at: Satya_New/Illinois/NO/file_0\n",
      "Created dataset at: Satya_New/Illinois/NO/file_1\n",
      "Created dataset at: Satya_New/Illinois/NO/file_2\n",
      "Created dataset at: Satya_New/Illinois/NO/file_3\n",
      "Created dataset at: Satya_New/Illinois/NO/file_4\n",
      "Created dataset at: Satya_New/Illinois/NO/file_5\n",
      "Created dataset at: Satya_New/Illinois/NO/file_6\n",
      "Created dataset at: Satya_New/Illinois/NO/file_7\n",
      "Created dataset at: Satya_New/Gyrometer/BuildingStairMove/file_0\n",
      "Created dataset at: Satya_New/Gyrometer/BuildingStairMove/file_1\n",
      "Created dataset at: Satya_New/Gyrometer/OutdoorMove/file_0\n",
      "Created dataset at: Satya_New/Gyrometer/OutdoorMove/file_1\n",
      "Created dataset at: Satya_New/Gyrometer/EscalatorMove/file_0\n",
      "Created dataset at: Satya_New/Gyrometer/EscalatorMove/file_1\n",
      "Created dataset at: Satya_New/Gyrometer/BuildingElevatorMove/file_0\n",
      "Created dataset at: Satya_New/Gyrometer/BuildingElevatorMove/file_1\n",
      "Created dataset at: Satya_New/Gyrometer/FloorMove/file_0\n",
      "Created dataset at: Satya_New/Gyrometer/FloorMove/file_1\n",
      "Created dataset at: Satya_New/Gyrometer/FloorMove/file_2\n",
      "Created dataset at: Satya_New/Gyrometer/FloorMove/file_3\n",
      "Created dataset at: Satya_New/Gyrometer/FloorMove/file_4\n",
      "Created dataset at: Satya_New/Gyrometer/FloorMove/file_5\n",
      "Created dataset at: Satya_New/Gyrometer/FloorMove/file_6\n",
      "Created dataset at: Satya_New/Gyrometer/FloorMove/file_7\n",
      "Created dataset at: Satya_New/Gyrometer/IndoorMove/file_0\n",
      "Created dataset at: Satya_New/IBCSV/Inner_and_Ball/file_0\n",
      "Created dataset at: Satya_New/IBCSV/Inner_and_Ball/file_1\n"
     ]
    },
    {
     "name": "stderr",
     "output_type": "stream",
     "text": [
      "Processing /data/TimeSeriesResearch/datasets/Satya_New: 100%|████████████████████████████████████████████████████████████████████████████████████████████████████████████████████████████████████████████████████████████████████████████████████████████████████| 17/17 [00:05<00:00,  3.38it/s]"
     ]
    },
    {
     "name": "stdout",
     "output_type": "stream",
     "text": [
      "Created dataset at: Satya_New/IBCSV/Inner_and_Ball/file_2\n",
      "Created dataset at: Satya_New/IBCSV/Inner_and_Ball/file_3\n"
     ]
    },
    {
     "name": "stderr",
     "output_type": "stream",
     "text": [
      "\n"
     ]
    }
   ],
   "source": [
    "import os\n",
    "import h5py\n",
    "import pandas as pd\n",
    "from tqdm import tqdm\n",
    "\n",
    "ROOT_DIRS = [\n",
    "    '/data/TimeSeriesResearch/datasets/Satya_New'\n",
    "]\n",
    "\n",
    "H5_FILE = '/data/TimeSeriesResearch/datasets/satya_new_data1.h5'\n",
    "\n",
    "def create_h5py_dataset_from_root_dirs_v2(root_dirs=ROOT_DIRS, h5_file=H5_FILE):\n",
    "    with h5py.File(h5_file, \"w\") as h5f:\n",
    "        for root_dir in root_dirs:\n",
    "            root_prefix = os.path.basename(os.path.normpath(root_dir))\n",
    "\n",
    "            for folder in tqdm(os.listdir(root_dir), desc=f\"Processing {root_dir}\"):\n",
    "                folder_path = os.path.join(root_dir, folder)\n",
    "                if not os.path.isdir(folder_path):\n",
    "                    continue\n",
    "                #For labels\n",
    "                for subfolder in os.listdir(folder_path):\n",
    "                    subfolder_path = os.path.join(folder_path, subfolder)\n",
    "                    if not os.path.isdir(subfolder_path):\n",
    "                        continue\n",
    "\n",
    "                    for csv_file in os.listdir(subfolder_path):\n",
    "                        if not csv_file.lower().endswith(\".csv\"):\n",
    "                            continue\n",
    "\n",
    "                        try:\n",
    "                            group_path = f\"{root_prefix}/{folder}/{subfolder}\"\n",
    "                            group = h5f.require_group(group_path)\n",
    "\n",
    "                            csv_path = os.path.join(subfolder_path, csv_file)\n",
    "                            df = pd.read_csv(csv_path)\n",
    "\n",
    "                            drop_columns = ['Unnamed: 0', 'time_sec', 'Time', 'Label']\n",
    "                            df = df.drop(columns=[col for col in drop_columns if col in df.columns], errors='ignore')\n",
    "\n",
    "                            column_names = df.columns.tolist()\n",
    "                            data_array = df.to_numpy()\n",
    "                            dataset_name = f\"file_{len(group)}\"\n",
    "                            dset = group.create_dataset(dataset_name, data=data_array)\n",
    "                            dset.attrs[\"descriptions\"] = list(column_names)\n",
    "\n",
    "                            print(f\"Created dataset at: {group_path}/{dataset_name}\")\n",
    "\n",
    "                        except Exception as e:\n",
    "                            print(f\"Error processing {csv_path}: {e}\")\n",
    "                            continue\n",
    "\n",
    "create_h5py_dataset_from_root_dirs_v2()\n"
   ]
  },
  {
   "cell_type": "code",
   "execution_count": 44,
   "id": "4cce8aa1-e34a-407f-8bfd-2db6da1f4b6c",
   "metadata": {},
   "outputs": [],
   "source": [
    "from collections import defaultdict\n",
    "from ftse.data.Dataset import UnwindowedDataset\n",
    "from tqdm.auto import tqdm\n",
    "import os\n",
    "import h5py\n",
    "import numpy as np\n",
    "import pandas as pd\n",
    "import torch\n",
    "\n",
    "def load_h5py_dataset(h5_file=H5_FILE, window_size=None, stride=None, concat=False):\n",
    "    datasets = defaultdict(list)\n",
    "    def recursive_group_traversal(group, path=\"\"):\n",
    "        for key in group.keys():\n",
    "            item = group[key]\n",
    "\n",
    "            if isinstance(item, h5py.Group):\n",
    "                print(\"item: \", item)\n",
    "                recursive_group_traversal(item, path + \"/\" + key)\n",
    "            elif isinstance(item, h5py.Dataset):\n",
    "                label = path.split(\"/\")[-1]\n",
    "                dataset_name = \"/\".join(path.split(\"/\")[1:-1])\n",
    "\n",
    "                datasets[dataset_name].append(\n",
    "                    UnwindowedDataset(\n",
    "                        data=item,\n",
    "                        dataset_name=dataset_name,\n",
    "                        descriptions=item.attrs.get(\"descriptions\", []),\n",
    "                        label=label\n",
    "                    )\n",
    "                )\n",
    "\n",
    "    f = h5py.File(h5_file, 'r')\n",
    "    recursive_group_traversal(f)\n",
    "\n",
    "    if window_size and stride:\n",
    "        for dataset_name in datasets:\n",
    "            datasets[dataset_name] = [\n",
    "                dataset.window(window_size=window_size, stride=stride)\n",
    "                for dataset in datasets[dataset_name]\n",
    "            ]\n",
    "\n",
    "    if concat:\n",
    "        for dataset_name in datasets:\n",
    "            datasets[dataset_name] = torch.utils.data.ConcatDataset(\n",
    "                datasets[dataset_name]\n",
    "            )\n",
    "\n",
    "    return datasets"
   ]
  },
  {
   "cell_type": "code",
   "execution_count": 45,
   "id": "cc546048-cff1-404c-8d0f-3264bbbb9814",
   "metadata": {
    "scrolled": true
   },
   "outputs": [
    {
     "name": "stdout",
     "output_type": "stream",
     "text": [
      "item:  <HDF5 group \"/Satya_New\" (17 members)>\n",
      "item:  <HDF5 group \"/Satya_New/Accelerometer\" (6 members)>\n",
      "item:  <HDF5 group \"/Satya_New/Accelerometer/BuildingElevatorMove\" (2 members)>\n",
      "item:  <HDF5 group \"/Satya_New/Accelerometer/BuildingStairMove\" (2 members)>\n",
      "item:  <HDF5 group \"/Satya_New/Accelerometer/EscalatorMove\" (2 members)>\n",
      "item:  <HDF5 group \"/Satya_New/Accelerometer/FloorMove\" (8 members)>\n",
      "item:  <HDF5 group \"/Satya_New/Accelerometer/IndoorMove\" (1 members)>\n",
      "item:  <HDF5 group \"/Satya_New/Accelerometer/OutdoorMove\" (2 members)>\n",
      "item:  <HDF5 group \"/Satya_New/Airquality_pattern\" (1 members)>\n",
      "item:  <HDF5 group \"/Satya_New/Airquality_pattern/Unknown\" (2 members)>\n",
      "item:  <HDF5 group \"/Satya_New/BCSV\" (1 members)>\n",
      "item:  <HDF5 group \"/Satya_New/BCSV/Ball\" (8 members)>\n",
      "item:  <HDF5 group \"/Satya_New/California\" (1 members)>\n",
      "item:  <HDF5 group \"/Satya_New/California/CO\" (110 members)>\n",
      "item:  <HDF5 group \"/Satya_New/Delaware\" (1 members)>\n",
      "item:  <HDF5 group \"/Satya_New/Delaware/SO2\" (5 members)>\n",
      "item:  <HDF5 group \"/Satya_New/Florida\" (1 members)>\n",
      "item:  <HDF5 group \"/Satya_New/Florida/PM25\" (53 members)>\n",
      "item:  <HDF5 group \"/Satya_New/Gyrometer\" (6 members)>\n",
      "item:  <HDF5 group \"/Satya_New/Gyrometer/BuildingElevatorMove\" (2 members)>\n",
      "item:  <HDF5 group \"/Satya_New/Gyrometer/BuildingStairMove\" (2 members)>\n",
      "item:  <HDF5 group \"/Satya_New/Gyrometer/EscalatorMove\" (2 members)>\n",
      "item:  <HDF5 group \"/Satya_New/Gyrometer/FloorMove\" (8 members)>\n",
      "item:  <HDF5 group \"/Satya_New/Gyrometer/IndoorMove\" (1 members)>\n",
      "item:  <HDF5 group \"/Satya_New/Gyrometer/OutdoorMove\" (2 members)>\n",
      "item:  <HDF5 group \"/Satya_New/IBCSV\" (1 members)>\n",
      "item:  <HDF5 group \"/Satya_New/IBCSV/Inner_and_Ball\" (4 members)>\n",
      "item:  <HDF5 group \"/Satya_New/IOCSV\" (1 members)>\n",
      "item:  <HDF5 group \"/Satya_New/IOCSV/Inner_and_Outer\" (5 members)>\n",
      "item:  <HDF5 group \"/Satya_New/Illinois\" (1 members)>\n",
      "item:  <HDF5 group \"/Satya_New/Illinois/NO\" (8 members)>\n",
      "item:  <HDF5 group \"/Satya_New/Maryland\" (1 members)>\n",
      "item:  <HDF5 group \"/Satya_New/Maryland/Ozone\" (20 members)>\n",
      "item:  <HDF5 group \"/Satya_New/Michigan\" (1 members)>\n",
      "item:  <HDF5 group \"/Satya_New/Michigan/CO\" (9 members)>\n",
      "item:  <HDF5 group \"/Satya_New/NewYork\" (1 members)>\n",
      "item:  <HDF5 group \"/Satya_New/NewYork/PM1\" (5 members)>\n",
      "item:  <HDF5 group \"/Satya_New/OCSV\" (1 members)>\n",
      "item:  <HDF5 group \"/Satya_New/OCSV/Outer_and_Ball\" (9 members)>\n",
      "item:  <HDF5 group \"/Satya_New/Texas\" (1 members)>\n",
      "item:  <HDF5 group \"/Satya_New/Texas/Pb\" (5 members)>\n",
      "item:  <HDF5 group \"/Satya_New/Wyoming\" (1 members)>\n",
      "item:  <HDF5 group \"/Satya_New/Wyoming/SO2\" (15 members)>\n",
      "item:  <HDF5 group \"/Satya_New/turbofan\" (1 members)>\n",
      "item:  <HDF5 group \"/Satya_New/turbofan/Unknown\" (4 members)>\n"
     ]
    }
   ],
   "source": [
    "datasets = load_h5py_dataset(H5_FILE, window_size=128, stride=1, concat=True)"
   ]
  },
  {
   "cell_type": "code",
   "execution_count": 46,
   "id": "3b6aed0e-0e0d-4b65-82ee-fe9c2beb82ec",
   "metadata": {},
   "outputs": [
    {
     "data": {
      "text/plain": [
       "dict_keys(['Satya_New/Accelerometer', 'Satya_New/Airquality_pattern', 'Satya_New/BCSV', 'Satya_New/California', 'Satya_New/Delaware', 'Satya_New/Florida', 'Satya_New/Gyrometer', 'Satya_New/IBCSV', 'Satya_New/IOCSV', 'Satya_New/Illinois', 'Satya_New/Maryland', 'Satya_New/Michigan', 'Satya_New/NewYork', 'Satya_New/OCSV', 'Satya_New/Texas', 'Satya_New/Wyoming', 'Satya_New/turbofan'])"
      ]
     },
     "execution_count": 46,
     "metadata": {},
     "output_type": "execute_result"
    }
   ],
   "source": [
    "datasets.keys()"
   ]
  },
  {
   "cell_type": "code",
   "execution_count": 51,
   "id": "2f856bd1-69b4-4da0-a138-906e2726a0ac",
   "metadata": {},
   "outputs": [],
   "source": [
    "import pandas as pd\n",
    "df=pd.read_csv(\"/data/TimeSeriesResearch/datasets/liu_ice_industrial_fault_diagnosis/trainingdata/wltp_f_pic_090.csv\")"
   ]
  },
  {
   "cell_type": "code",
   "execution_count": 52,
   "id": "55e522c8-b014-4c48-b4a2-276b92dc3481",
   "metadata": {},
   "outputs": [
    {
     "data": {
      "text/html": [
       "<div>\n",
       "<style scoped>\n",
       "    .dataframe tbody tr th:only-of-type {\n",
       "        vertical-align: middle;\n",
       "    }\n",
       "\n",
       "    .dataframe tbody tr th {\n",
       "        vertical-align: top;\n",
       "    }\n",
       "\n",
       "    .dataframe thead th {\n",
       "        text-align: right;\n",
       "    }\n",
       "</style>\n",
       "<table border=\"1\" class=\"dataframe\">\n",
       "  <thead>\n",
       "    <tr style=\"text-align: right;\">\n",
       "      <th></th>\n",
       "      <th>time</th>\n",
       "      <th>Intercooler_pressure</th>\n",
       "      <th>intercooler_temperature</th>\n",
       "      <th>intake_manifold_pressure</th>\n",
       "      <th>air_mass_flow</th>\n",
       "      <th>engine_speed</th>\n",
       "      <th>throttle_position</th>\n",
       "      <th>wastegate_position</th>\n",
       "      <th>injected_fuel_mass</th>\n",
       "      <th>ambient_pressure</th>\n",
       "      <th>ambient_temperature</th>\n",
       "    </tr>\n",
       "  </thead>\n",
       "  <tbody>\n",
       "    <tr>\n",
       "      <th>0</th>\n",
       "      <td>0.000000</td>\n",
       "      <td>99976.371765</td>\n",
       "      <td>299.4</td>\n",
       "      <td>33854.923248</td>\n",
       "      <td>0.002900</td>\n",
       "      <td>84.994047</td>\n",
       "      <td>2.614823</td>\n",
       "      <td>0.622331</td>\n",
       "      <td>0.000624</td>\n",
       "      <td>99985.351562</td>\n",
       "      <td>299.087330</td>\n",
       "    </tr>\n",
       "    <tr>\n",
       "      <th>1</th>\n",
       "      <td>0.050024</td>\n",
       "      <td>100011.047363</td>\n",
       "      <td>299.4</td>\n",
       "      <td>31608.995438</td>\n",
       "      <td>0.002726</td>\n",
       "      <td>85.933891</td>\n",
       "      <td>2.508366</td>\n",
       "      <td>0.622331</td>\n",
       "      <td>0.000624</td>\n",
       "      <td>99985.351562</td>\n",
       "      <td>299.087330</td>\n",
       "    </tr>\n",
       "    <tr>\n",
       "      <th>2</th>\n",
       "      <td>0.100392</td>\n",
       "      <td>99978.507996</td>\n",
       "      <td>299.4</td>\n",
       "      <td>31901.941299</td>\n",
       "      <td>0.002565</td>\n",
       "      <td>86.467237</td>\n",
       "      <td>2.259968</td>\n",
       "      <td>0.622331</td>\n",
       "      <td>0.000598</td>\n",
       "      <td>99985.351562</td>\n",
       "      <td>299.086726</td>\n",
       "    </tr>\n",
       "    <tr>\n",
       "      <th>3</th>\n",
       "      <td>0.149982</td>\n",
       "      <td>100001.274109</td>\n",
       "      <td>299.4</td>\n",
       "      <td>29753.658295</td>\n",
       "      <td>0.002396</td>\n",
       "      <td>87.119441</td>\n",
       "      <td>2.118025</td>\n",
       "      <td>0.622331</td>\n",
       "      <td>0.000598</td>\n",
       "      <td>99985.351562</td>\n",
       "      <td>299.086726</td>\n",
       "    </tr>\n",
       "    <tr>\n",
       "      <th>4</th>\n",
       "      <td>0.200166</td>\n",
       "      <td>99977.363586</td>\n",
       "      <td>299.4</td>\n",
       "      <td>28386.569977</td>\n",
       "      <td>0.002300</td>\n",
       "      <td>88.033694</td>\n",
       "      <td>2.118025</td>\n",
       "      <td>0.622331</td>\n",
       "      <td>0.000572</td>\n",
       "      <td>99985.351562</td>\n",
       "      <td>299.087885</td>\n",
       "    </tr>\n",
       "  </tbody>\n",
       "</table>\n",
       "</div>"
      ],
      "text/plain": [
       "       time  Intercooler_pressure  intercooler_temperature  \\\n",
       "0  0.000000          99976.371765                    299.4   \n",
       "1  0.050024         100011.047363                    299.4   \n",
       "2  0.100392          99978.507996                    299.4   \n",
       "3  0.149982         100001.274109                    299.4   \n",
       "4  0.200166          99977.363586                    299.4   \n",
       "\n",
       "   intake_manifold_pressure  air_mass_flow  engine_speed  throttle_position  \\\n",
       "0              33854.923248       0.002900     84.994047           2.614823   \n",
       "1              31608.995438       0.002726     85.933891           2.508366   \n",
       "2              31901.941299       0.002565     86.467237           2.259968   \n",
       "3              29753.658295       0.002396     87.119441           2.118025   \n",
       "4              28386.569977       0.002300     88.033694           2.118025   \n",
       "\n",
       "   wastegate_position  injected_fuel_mass  ambient_pressure  \\\n",
       "0            0.622331            0.000624      99985.351562   \n",
       "1            0.622331            0.000624      99985.351562   \n",
       "2            0.622331            0.000598      99985.351562   \n",
       "3            0.622331            0.000598      99985.351562   \n",
       "4            0.622331            0.000572      99985.351562   \n",
       "\n",
       "   ambient_temperature  \n",
       "0           299.087330  \n",
       "1           299.087330  \n",
       "2           299.086726  \n",
       "3           299.086726  \n",
       "4           299.087885  "
      ]
     },
     "execution_count": 52,
     "metadata": {},
     "output_type": "execute_result"
    }
   ],
   "source": [
    "df.head()"
   ]
  },
  {
   "cell_type": "code",
   "execution_count": 53,
   "id": "f6a614b3-e721-44e8-ae16-cbda9d0da28a",
   "metadata": {},
   "outputs": [],
   "source": [
    "import pandas as pd\n",
    "df=pd.read_csv(\"/data/TimeSeriesResearch/datasets/liu_ice_processed/wltp_f_pic_090.csv\")"
   ]
  },
  {
   "cell_type": "code",
   "execution_count": 54,
   "id": "3509283e-13a4-42ba-8027-14a7b9940a4d",
   "metadata": {},
   "outputs": [
    {
     "data": {
      "text/html": [
       "<div>\n",
       "<style scoped>\n",
       "    .dataframe tbody tr th:only-of-type {\n",
       "        vertical-align: middle;\n",
       "    }\n",
       "\n",
       "    .dataframe tbody tr th {\n",
       "        vertical-align: top;\n",
       "    }\n",
       "\n",
       "    .dataframe thead th {\n",
       "        text-align: right;\n",
       "    }\n",
       "</style>\n",
       "<table border=\"1\" class=\"dataframe\">\n",
       "  <thead>\n",
       "    <tr style=\"text-align: right;\">\n",
       "      <th></th>\n",
       "      <th>Time</th>\n",
       "      <th>The sensor measuring the intercooler pressure of a combustion engine.</th>\n",
       "      <th>The sensor measuring intercooler temperature of a combustion engine.</th>\n",
       "      <th>The sensor measuring intake manifold pressure of a combustion engine.</th>\n",
       "      <th>The sensor measuring mass flow through the air filter of a combustion engine.</th>\n",
       "      <th>The sensor measuring rotational engine speed of a combustion engine.</th>\n",
       "      <th>The sensor measuring throttle actuator position for a vehicle.</th>\n",
       "      <th>The actuator value for the requested wastegate actuator position for a combustion engine</th>\n",
       "      <th>The actuator value for the requested injected fuel mass for a combustion engine</th>\n",
       "      <th>The ambient pressure</th>\n",
       "      <th>The ambient temperature</th>\n",
       "    </tr>\n",
       "  </thead>\n",
       "  <tbody>\n",
       "    <tr>\n",
       "      <th>0</th>\n",
       "      <td>0.000000</td>\n",
       "      <td>99976.371765</td>\n",
       "      <td>299.4</td>\n",
       "      <td>33854.923248</td>\n",
       "      <td>0.002900</td>\n",
       "      <td>84.994047</td>\n",
       "      <td>2.614823</td>\n",
       "      <td>0.622331</td>\n",
       "      <td>0.000624</td>\n",
       "      <td>99985.351562</td>\n",
       "      <td>299.087330</td>\n",
       "    </tr>\n",
       "    <tr>\n",
       "      <th>1</th>\n",
       "      <td>0.050024</td>\n",
       "      <td>100011.047363</td>\n",
       "      <td>299.4</td>\n",
       "      <td>31608.995438</td>\n",
       "      <td>0.002726</td>\n",
       "      <td>85.933891</td>\n",
       "      <td>2.508366</td>\n",
       "      <td>0.622331</td>\n",
       "      <td>0.000624</td>\n",
       "      <td>99985.351562</td>\n",
       "      <td>299.087330</td>\n",
       "    </tr>\n",
       "    <tr>\n",
       "      <th>2</th>\n",
       "      <td>0.100392</td>\n",
       "      <td>99978.507996</td>\n",
       "      <td>299.4</td>\n",
       "      <td>31901.941299</td>\n",
       "      <td>0.002565</td>\n",
       "      <td>86.467237</td>\n",
       "      <td>2.259968</td>\n",
       "      <td>0.622331</td>\n",
       "      <td>0.000598</td>\n",
       "      <td>99985.351562</td>\n",
       "      <td>299.086726</td>\n",
       "    </tr>\n",
       "    <tr>\n",
       "      <th>3</th>\n",
       "      <td>0.149982</td>\n",
       "      <td>100001.274109</td>\n",
       "      <td>299.4</td>\n",
       "      <td>29753.658295</td>\n",
       "      <td>0.002396</td>\n",
       "      <td>87.119441</td>\n",
       "      <td>2.118025</td>\n",
       "      <td>0.622331</td>\n",
       "      <td>0.000598</td>\n",
       "      <td>99985.351562</td>\n",
       "      <td>299.086726</td>\n",
       "    </tr>\n",
       "    <tr>\n",
       "      <th>4</th>\n",
       "      <td>0.200166</td>\n",
       "      <td>99977.363586</td>\n",
       "      <td>299.4</td>\n",
       "      <td>28386.569977</td>\n",
       "      <td>0.002300</td>\n",
       "      <td>88.033694</td>\n",
       "      <td>2.118025</td>\n",
       "      <td>0.622331</td>\n",
       "      <td>0.000572</td>\n",
       "      <td>99985.351562</td>\n",
       "      <td>299.087885</td>\n",
       "    </tr>\n",
       "  </tbody>\n",
       "</table>\n",
       "</div>"
      ],
      "text/plain": [
       "       Time  \\\n",
       "0  0.000000   \n",
       "1  0.050024   \n",
       "2  0.100392   \n",
       "3  0.149982   \n",
       "4  0.200166   \n",
       "\n",
       "   The sensor measuring the intercooler pressure of a combustion engine.  \\\n",
       "0                                       99976.371765                       \n",
       "1                                      100011.047363                       \n",
       "2                                       99978.507996                       \n",
       "3                                      100001.274109                       \n",
       "4                                       99977.363586                       \n",
       "\n",
       "   The sensor measuring intercooler temperature of a combustion engine.  \\\n",
       "0                                              299.4                      \n",
       "1                                              299.4                      \n",
       "2                                              299.4                      \n",
       "3                                              299.4                      \n",
       "4                                              299.4                      \n",
       "\n",
       "   The sensor measuring intake manifold pressure of a combustion engine.  \\\n",
       "0                                       33854.923248                       \n",
       "1                                       31608.995438                       \n",
       "2                                       31901.941299                       \n",
       "3                                       29753.658295                       \n",
       "4                                       28386.569977                       \n",
       "\n",
       "   The sensor measuring mass flow through the air filter of a combustion engine.  \\\n",
       "0                                           0.002900                               \n",
       "1                                           0.002726                               \n",
       "2                                           0.002565                               \n",
       "3                                           0.002396                               \n",
       "4                                           0.002300                               \n",
       "\n",
       "   The sensor measuring rotational engine speed of a combustion engine.  \\\n",
       "0                                          84.994047                      \n",
       "1                                          85.933891                      \n",
       "2                                          86.467237                      \n",
       "3                                          87.119441                      \n",
       "4                                          88.033694                      \n",
       "\n",
       "   The sensor measuring throttle actuator position for a vehicle.  \\\n",
       "0                                           2.614823                \n",
       "1                                           2.508366                \n",
       "2                                           2.259968                \n",
       "3                                           2.118025                \n",
       "4                                           2.118025                \n",
       "\n",
       "   The actuator value for the requested wastegate actuator position for a combustion engine  \\\n",
       "0                                           0.622331                                          \n",
       "1                                           0.622331                                          \n",
       "2                                           0.622331                                          \n",
       "3                                           0.622331                                          \n",
       "4                                           0.622331                                          \n",
       "\n",
       "   The actuator value for the requested injected fuel mass for a combustion engine  \\\n",
       "0                                           0.000624                                 \n",
       "1                                           0.000624                                 \n",
       "2                                           0.000598                                 \n",
       "3                                           0.000598                                 \n",
       "4                                           0.000572                                 \n",
       "\n",
       "   The ambient pressure  The ambient temperature  \n",
       "0          99985.351562               299.087330  \n",
       "1          99985.351562               299.087330  \n",
       "2          99985.351562               299.086726  \n",
       "3          99985.351562               299.086726  \n",
       "4          99985.351562               299.087885  "
      ]
     },
     "execution_count": 54,
     "metadata": {},
     "output_type": "execute_result"
    }
   ],
   "source": [
    "df.head()"
   ]
  },
  {
   "cell_type": "code",
   "execution_count": 55,
   "id": "3a9bcf60-5bc7-4c50-915e-469e37e6bfd2",
   "metadata": {},
   "outputs": [],
   "source": [
    "df=pd.read_csv(\"/data/TimeSeriesResearch/datasets/liu_ice_processed_labelled/file_1.csv\")"
   ]
  },
  {
   "cell_type": "code",
   "execution_count": 56,
   "id": "dfb2dc43-f71e-4355-97d9-cd7d0ed3f125",
   "metadata": {},
   "outputs": [
    {
     "data": {
      "text/html": [
       "<div>\n",
       "<style scoped>\n",
       "    .dataframe tbody tr th:only-of-type {\n",
       "        vertical-align: middle;\n",
       "    }\n",
       "\n",
       "    .dataframe tbody tr th {\n",
       "        vertical-align: top;\n",
       "    }\n",
       "\n",
       "    .dataframe thead th {\n",
       "        text-align: right;\n",
       "    }\n",
       "</style>\n",
       "<table border=\"1\" class=\"dataframe\">\n",
       "  <thead>\n",
       "    <tr style=\"text-align: right;\">\n",
       "      <th></th>\n",
       "      <th>Time</th>\n",
       "      <th>The sensor measuring the intercooler pressure of a combustion engine.</th>\n",
       "      <th>The sensor measuring intercooler temperature of a combustion engine.</th>\n",
       "      <th>The sensor measuring intake manifold pressure of a combustion engine.</th>\n",
       "      <th>The sensor measuring mass flow through the air filter of a combustion engine.</th>\n",
       "      <th>The sensor measuring rotational engine speed of a combustion engine.</th>\n",
       "      <th>The sensor measuring throttle actuator position for a vehicle.</th>\n",
       "      <th>The actuator value for the requested wastegate actuator position for a combustion engine</th>\n",
       "      <th>The actuator value for the requested injected fuel mass for a combustion engine</th>\n",
       "      <th>The ambient pressure</th>\n",
       "      <th>The ambient temperature</th>\n",
       "      <th>Label</th>\n",
       "    </tr>\n",
       "  </thead>\n",
       "  <tbody>\n",
       "    <tr>\n",
       "      <th>0</th>\n",
       "      <td>0.000000</td>\n",
       "      <td>99991.592407</td>\n",
       "      <td>298.775</td>\n",
       "      <td>28581.869125</td>\n",
       "      <td>0.002484</td>\n",
       "      <td>89.965423</td>\n",
       "      <td>2.401910</td>\n",
       "      <td>0.624306</td>\n",
       "      <td>0.000575</td>\n",
       "      <td>99985.351562</td>\n",
       "      <td>298.493302</td>\n",
       "      <td>NF: Normal Operation</td>\n",
       "    </tr>\n",
       "    <tr>\n",
       "      <th>1</th>\n",
       "      <td>0.049996</td>\n",
       "      <td>99975.547791</td>\n",
       "      <td>298.775</td>\n",
       "      <td>29656.009674</td>\n",
       "      <td>0.002457</td>\n",
       "      <td>90.619372</td>\n",
       "      <td>2.508366</td>\n",
       "      <td>0.624306</td>\n",
       "      <td>0.000575</td>\n",
       "      <td>99912.109375</td>\n",
       "      <td>298.493302</td>\n",
       "      <td>NF: Normal Operation</td>\n",
       "    </tr>\n",
       "    <tr>\n",
       "      <th>2</th>\n",
       "      <td>0.099896</td>\n",
       "      <td>99975.502014</td>\n",
       "      <td>298.775</td>\n",
       "      <td>27703.025818</td>\n",
       "      <td>0.002473</td>\n",
       "      <td>90.868382</td>\n",
       "      <td>2.508366</td>\n",
       "      <td>0.624306</td>\n",
       "      <td>0.000555</td>\n",
       "      <td>99912.109375</td>\n",
       "      <td>298.493222</td>\n",
       "      <td>NF: Normal Operation</td>\n",
       "    </tr>\n",
       "    <tr>\n",
       "      <th>3</th>\n",
       "      <td>0.150361</td>\n",
       "      <td>99975.502014</td>\n",
       "      <td>298.775</td>\n",
       "      <td>28288.921356</td>\n",
       "      <td>0.002489</td>\n",
       "      <td>92.093029</td>\n",
       "      <td>2.366424</td>\n",
       "      <td>0.624306</td>\n",
       "      <td>0.000523</td>\n",
       "      <td>99912.109375</td>\n",
       "      <td>298.494826</td>\n",
       "      <td>NF: Normal Operation</td>\n",
       "    </tr>\n",
       "    <tr>\n",
       "      <th>4</th>\n",
       "      <td>0.199847</td>\n",
       "      <td>99975.502014</td>\n",
       "      <td>298.775</td>\n",
       "      <td>26726.533890</td>\n",
       "      <td>0.002440</td>\n",
       "      <td>92.670982</td>\n",
       "      <td>2.224482</td>\n",
       "      <td>0.624306</td>\n",
       "      <td>0.000523</td>\n",
       "      <td>99912.109375</td>\n",
       "      <td>298.494826</td>\n",
       "      <td>NF: Normal Operation</td>\n",
       "    </tr>\n",
       "  </tbody>\n",
       "</table>\n",
       "</div>"
      ],
      "text/plain": [
       "       Time  \\\n",
       "0  0.000000   \n",
       "1  0.049996   \n",
       "2  0.099896   \n",
       "3  0.150361   \n",
       "4  0.199847   \n",
       "\n",
       "   The sensor measuring the intercooler pressure of a combustion engine.  \\\n",
       "0                                       99991.592407                       \n",
       "1                                       99975.547791                       \n",
       "2                                       99975.502014                       \n",
       "3                                       99975.502014                       \n",
       "4                                       99975.502014                       \n",
       "\n",
       "   The sensor measuring intercooler temperature of a combustion engine.  \\\n",
       "0                                            298.775                      \n",
       "1                                            298.775                      \n",
       "2                                            298.775                      \n",
       "3                                            298.775                      \n",
       "4                                            298.775                      \n",
       "\n",
       "   The sensor measuring intake manifold pressure of a combustion engine.  \\\n",
       "0                                       28581.869125                       \n",
       "1                                       29656.009674                       \n",
       "2                                       27703.025818                       \n",
       "3                                       28288.921356                       \n",
       "4                                       26726.533890                       \n",
       "\n",
       "   The sensor measuring mass flow through the air filter of a combustion engine.  \\\n",
       "0                                           0.002484                               \n",
       "1                                           0.002457                               \n",
       "2                                           0.002473                               \n",
       "3                                           0.002489                               \n",
       "4                                           0.002440                               \n",
       "\n",
       "   The sensor measuring rotational engine speed of a combustion engine.  \\\n",
       "0                                          89.965423                      \n",
       "1                                          90.619372                      \n",
       "2                                          90.868382                      \n",
       "3                                          92.093029                      \n",
       "4                                          92.670982                      \n",
       "\n",
       "   The sensor measuring throttle actuator position for a vehicle.  \\\n",
       "0                                           2.401910                \n",
       "1                                           2.508366                \n",
       "2                                           2.508366                \n",
       "3                                           2.366424                \n",
       "4                                           2.224482                \n",
       "\n",
       "   The actuator value for the requested wastegate actuator position for a combustion engine  \\\n",
       "0                                           0.624306                                          \n",
       "1                                           0.624306                                          \n",
       "2                                           0.624306                                          \n",
       "3                                           0.624306                                          \n",
       "4                                           0.624306                                          \n",
       "\n",
       "   The actuator value for the requested injected fuel mass for a combustion engine  \\\n",
       "0                                           0.000575                                 \n",
       "1                                           0.000575                                 \n",
       "2                                           0.000555                                 \n",
       "3                                           0.000523                                 \n",
       "4                                           0.000523                                 \n",
       "\n",
       "   The ambient pressure  The ambient temperature                 Label  \n",
       "0          99985.351562               298.493302  NF: Normal Operation  \n",
       "1          99912.109375               298.493302  NF: Normal Operation  \n",
       "2          99912.109375               298.493222  NF: Normal Operation  \n",
       "3          99912.109375               298.494826  NF: Normal Operation  \n",
       "4          99912.109375               298.494826  NF: Normal Operation  "
      ]
     },
     "execution_count": 56,
     "metadata": {},
     "output_type": "execute_result"
    }
   ],
   "source": [
    "df.head()"
   ]
  },
  {
   "cell_type": "code",
   "execution_count": null,
   "id": "595df17b-b013-4ab0-88d3-b7d475cf2efa",
   "metadata": {},
   "outputs": [],
   "source": []
  }
 ],
 "metadata": {
  "kernelspec": {
   "display_name": "ftse",
   "language": "python",
   "name": "ftse"
  },
  "language_info": {
   "codemirror_mode": {
    "name": "ipython",
    "version": 3
   },
   "file_extension": ".py",
   "mimetype": "text/x-python",
   "name": "python",
   "nbconvert_exporter": "python",
   "pygments_lexer": "ipython3",
   "version": "3.11.4"
  }
 },
 "nbformat": 4,
 "nbformat_minor": 5
}
