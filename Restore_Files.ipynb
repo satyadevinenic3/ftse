{
 "cells": [
  {
   "cell_type": "code",
   "execution_count": null,
   "id": "d67869e0-8686-4245-8d3d-72e83d8a47b2",
   "metadata": {},
   "outputs": [],
   "source": [
    "import h5py\n",
    "import os\n",
    "import pandas as pd\n",
    "from tqdm import tqdm\n",
    "\n",
    "H5_FILE = '/data/TimeSeriesResearch/datasets/satya_data1.h5'\n",
    "OUTPUT_DIR = '/data/TimeSeriesResearch/datasets/Satya_Restored/'\n",
    "\n",
    "# Specify the folders to be restored\n",
    "FOLDERS_TO_RESTORE = [\n",
    "    \"Accelerometer\", \"Airquality_pattern\", \"BCSV\", \"California\", \"Delaware\", \n",
    "    \"Florida\", \"Gyrometer\", \"HAR\", \"IBCSV\", \"IOCSV\", \"Illinois\", \"Maryland\", \n",
    "    \"Michigan\", \"NewYork\", \"OCSV\", \"Texas\", \"Wyoming\", \"sleepedf\", \"turbofan\"\n",
    "]\n",
    "\n",
    "def restore_selected_folders(h5_file, output_dir, folders_to_restore):\n",
    "    os.makedirs(output_dir, exist_ok=True)\n",
    "    \n",
    "    with h5py.File(h5_file, \"r\") as h5f:\n",
    "        # Iterate over each dataset key in the HDF5 file\n",
    "        for key in tqdm(h5f.keys(), desc=\"Restoring datasets\"):\n",
    "            # Extract metadata and data\n",
    "            dset = h5f[key]\n",
    "            data_array = dset[()]\n",
    "            column_names = dset.attrs.get(\"descriptions\", [])\n",
    "            \n",
    "            # Split the key to reconstruct the original folder structure and filename\n",
    "            dataset_folder, label, file_idx = key.split('___')\n",
    "            \n",
    "            # Only proceed if the folder is in the specified list\n",
    "            if dataset_folder not in folders_to_restore:\n",
    "                continue\n",
    "            \n",
    "            # Construct the output folder path\n",
    "            folder_path = os.path.join(output_dir, dataset_folder)\n",
    "            os.makedirs(folder_path, exist_ok=True)\n",
    "            \n",
    "            # Filename construction with label\n",
    "            csv_filename = f\"file_{file_idx}_{label}.csv\"\n",
    "            csv_path = os.path.join(folder_path, csv_filename)\n",
    "            \n",
    "            # Convert the data array to a DataFrame\n",
    "            df = pd.DataFrame(data_array, columns=column_names)\n",
    "            \n",
    "            # Save the DataFrame to a CSV file\n",
    "            df.to_csv(csv_path, index=False)\n",
    "    \n",
    "    print(f\"Selected folders restored with labels to {output_dir}\")\n",
    "\n",
    "restore_selected_folders(H5_FILE, OUTPUT_DIR, FOLDERS_TO_RESTORE)\n"
   ]
  }
 ],
 "metadata": {
  "kernelspec": {
   "display_name": "ftse",
   "language": "python",
   "name": "ftse"
  },
  "language_info": {
   "codemirror_mode": {
    "name": "ipython",
    "version": 3
   },
   "file_extension": ".py",
   "mimetype": "text/x-python",
   "name": "python",
   "nbconvert_exporter": "python",
   "pygments_lexer": "ipython3",
   "version": "3.11.4"
  }
 },
 "nbformat": 4,
 "nbformat_minor": 5
}
